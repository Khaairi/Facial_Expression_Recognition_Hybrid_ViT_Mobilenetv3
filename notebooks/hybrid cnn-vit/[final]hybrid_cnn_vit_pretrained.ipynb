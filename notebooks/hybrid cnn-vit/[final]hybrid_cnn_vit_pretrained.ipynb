{
  "nbformat": 4,
  "nbformat_minor": 0,
  "metadata": {
    "colab": {
      "provenance": [],
      "machine_shape": "hm",
      "gpuType": "A100"
    },
    "kernelspec": {
      "name": "python3",
      "display_name": "Python 3"
    },
    "language_info": {
      "name": "python"
    },
    "accelerator": "GPU",
    "widgets": {
      "application/vnd.jupyter.widget-state+json": {
        "035fc47b05b341ee98aa144be8a5c9c7": {
          "model_module": "@jupyter-widgets/controls",
          "model_name": "HBoxModel",
          "model_module_version": "1.5.0",
          "state": {
            "_dom_classes": [],
            "_model_module": "@jupyter-widgets/controls",
            "_model_module_version": "1.5.0",
            "_model_name": "HBoxModel",
            "_view_count": null,
            "_view_module": "@jupyter-widgets/controls",
            "_view_module_version": "1.5.0",
            "_view_name": "HBoxView",
            "box_style": "",
            "children": [
              "IPY_MODEL_05f45856e8184c3080f6cb7ce7b1df1c",
              "IPY_MODEL_f390d79f40c741879ff575ecdc6c683f",
              "IPY_MODEL_8e9881de0b3b4ddf8db30b9314d4408f"
            ],
            "layout": "IPY_MODEL_70476df32cd24e85a95b1fcc205c05d3"
          }
        },
        "05f45856e8184c3080f6cb7ce7b1df1c": {
          "model_module": "@jupyter-widgets/controls",
          "model_name": "HTMLModel",
          "model_module_version": "1.5.0",
          "state": {
            "_dom_classes": [],
            "_model_module": "@jupyter-widgets/controls",
            "_model_module_version": "1.5.0",
            "_model_name": "HTMLModel",
            "_view_count": null,
            "_view_module": "@jupyter-widgets/controls",
            "_view_module_version": "1.5.0",
            "_view_name": "HTMLView",
            "description": "",
            "description_tooltip": null,
            "layout": "IPY_MODEL_f3124ae7f345409c9d4d4dcb3737e1c6",
            "placeholder": "​",
            "style": "IPY_MODEL_4412cb1286e543e5b5565e7d47137a77",
            "value": "config.json: 100%"
          }
        },
        "f390d79f40c741879ff575ecdc6c683f": {
          "model_module": "@jupyter-widgets/controls",
          "model_name": "FloatProgressModel",
          "model_module_version": "1.5.0",
          "state": {
            "_dom_classes": [],
            "_model_module": "@jupyter-widgets/controls",
            "_model_module_version": "1.5.0",
            "_model_name": "FloatProgressModel",
            "_view_count": null,
            "_view_module": "@jupyter-widgets/controls",
            "_view_module_version": "1.5.0",
            "_view_name": "ProgressView",
            "bar_style": "success",
            "description": "",
            "description_tooltip": null,
            "layout": "IPY_MODEL_4e559765c6d2443fa505ead41cf60f67",
            "max": 69665,
            "min": 0,
            "orientation": "horizontal",
            "style": "IPY_MODEL_5f2b1b7f20344e4cbf35e864c431af2a",
            "value": 69665
          }
        },
        "8e9881de0b3b4ddf8db30b9314d4408f": {
          "model_module": "@jupyter-widgets/controls",
          "model_name": "HTMLModel",
          "model_module_version": "1.5.0",
          "state": {
            "_dom_classes": [],
            "_model_module": "@jupyter-widgets/controls",
            "_model_module_version": "1.5.0",
            "_model_name": "HTMLModel",
            "_view_count": null,
            "_view_module": "@jupyter-widgets/controls",
            "_view_module_version": "1.5.0",
            "_view_name": "HTMLView",
            "description": "",
            "description_tooltip": null,
            "layout": "IPY_MODEL_a6d972ee2f524005b8d7eec1697995e1",
            "placeholder": "​",
            "style": "IPY_MODEL_3fc0c16ad484485d965618985a3a4ec5",
            "value": " 69.7k/69.7k [00:00&lt;00:00, 423kB/s]"
          }
        },
        "70476df32cd24e85a95b1fcc205c05d3": {
          "model_module": "@jupyter-widgets/base",
          "model_name": "LayoutModel",
          "model_module_version": "1.2.0",
          "state": {
            "_model_module": "@jupyter-widgets/base",
            "_model_module_version": "1.2.0",
            "_model_name": "LayoutModel",
            "_view_count": null,
            "_view_module": "@jupyter-widgets/base",
            "_view_module_version": "1.2.0",
            "_view_name": "LayoutView",
            "align_content": null,
            "align_items": null,
            "align_self": null,
            "border": null,
            "bottom": null,
            "display": null,
            "flex": null,
            "flex_flow": null,
            "grid_area": null,
            "grid_auto_columns": null,
            "grid_auto_flow": null,
            "grid_auto_rows": null,
            "grid_column": null,
            "grid_gap": null,
            "grid_row": null,
            "grid_template_areas": null,
            "grid_template_columns": null,
            "grid_template_rows": null,
            "height": null,
            "justify_content": null,
            "justify_items": null,
            "left": null,
            "margin": null,
            "max_height": null,
            "max_width": null,
            "min_height": null,
            "min_width": null,
            "object_fit": null,
            "object_position": null,
            "order": null,
            "overflow": null,
            "overflow_x": null,
            "overflow_y": null,
            "padding": null,
            "right": null,
            "top": null,
            "visibility": null,
            "width": null
          }
        },
        "f3124ae7f345409c9d4d4dcb3737e1c6": {
          "model_module": "@jupyter-widgets/base",
          "model_name": "LayoutModel",
          "model_module_version": "1.2.0",
          "state": {
            "_model_module": "@jupyter-widgets/base",
            "_model_module_version": "1.2.0",
            "_model_name": "LayoutModel",
            "_view_count": null,
            "_view_module": "@jupyter-widgets/base",
            "_view_module_version": "1.2.0",
            "_view_name": "LayoutView",
            "align_content": null,
            "align_items": null,
            "align_self": null,
            "border": null,
            "bottom": null,
            "display": null,
            "flex": null,
            "flex_flow": null,
            "grid_area": null,
            "grid_auto_columns": null,
            "grid_auto_flow": null,
            "grid_auto_rows": null,
            "grid_column": null,
            "grid_gap": null,
            "grid_row": null,
            "grid_template_areas": null,
            "grid_template_columns": null,
            "grid_template_rows": null,
            "height": null,
            "justify_content": null,
            "justify_items": null,
            "left": null,
            "margin": null,
            "max_height": null,
            "max_width": null,
            "min_height": null,
            "min_width": null,
            "object_fit": null,
            "object_position": null,
            "order": null,
            "overflow": null,
            "overflow_x": null,
            "overflow_y": null,
            "padding": null,
            "right": null,
            "top": null,
            "visibility": null,
            "width": null
          }
        },
        "4412cb1286e543e5b5565e7d47137a77": {
          "model_module": "@jupyter-widgets/controls",
          "model_name": "DescriptionStyleModel",
          "model_module_version": "1.5.0",
          "state": {
            "_model_module": "@jupyter-widgets/controls",
            "_model_module_version": "1.5.0",
            "_model_name": "DescriptionStyleModel",
            "_view_count": null,
            "_view_module": "@jupyter-widgets/base",
            "_view_module_version": "1.2.0",
            "_view_name": "StyleView",
            "description_width": ""
          }
        },
        "4e559765c6d2443fa505ead41cf60f67": {
          "model_module": "@jupyter-widgets/base",
          "model_name": "LayoutModel",
          "model_module_version": "1.2.0",
          "state": {
            "_model_module": "@jupyter-widgets/base",
            "_model_module_version": "1.2.0",
            "_model_name": "LayoutModel",
            "_view_count": null,
            "_view_module": "@jupyter-widgets/base",
            "_view_module_version": "1.2.0",
            "_view_name": "LayoutView",
            "align_content": null,
            "align_items": null,
            "align_self": null,
            "border": null,
            "bottom": null,
            "display": null,
            "flex": null,
            "flex_flow": null,
            "grid_area": null,
            "grid_auto_columns": null,
            "grid_auto_flow": null,
            "grid_auto_rows": null,
            "grid_column": null,
            "grid_gap": null,
            "grid_row": null,
            "grid_template_areas": null,
            "grid_template_columns": null,
            "grid_template_rows": null,
            "height": null,
            "justify_content": null,
            "justify_items": null,
            "left": null,
            "margin": null,
            "max_height": null,
            "max_width": null,
            "min_height": null,
            "min_width": null,
            "object_fit": null,
            "object_position": null,
            "order": null,
            "overflow": null,
            "overflow_x": null,
            "overflow_y": null,
            "padding": null,
            "right": null,
            "top": null,
            "visibility": null,
            "width": null
          }
        },
        "5f2b1b7f20344e4cbf35e864c431af2a": {
          "model_module": "@jupyter-widgets/controls",
          "model_name": "ProgressStyleModel",
          "model_module_version": "1.5.0",
          "state": {
            "_model_module": "@jupyter-widgets/controls",
            "_model_module_version": "1.5.0",
            "_model_name": "ProgressStyleModel",
            "_view_count": null,
            "_view_module": "@jupyter-widgets/base",
            "_view_module_version": "1.2.0",
            "_view_name": "StyleView",
            "bar_color": null,
            "description_width": ""
          }
        },
        "a6d972ee2f524005b8d7eec1697995e1": {
          "model_module": "@jupyter-widgets/base",
          "model_name": "LayoutModel",
          "model_module_version": "1.2.0",
          "state": {
            "_model_module": "@jupyter-widgets/base",
            "_model_module_version": "1.2.0",
            "_model_name": "LayoutModel",
            "_view_count": null,
            "_view_module": "@jupyter-widgets/base",
            "_view_module_version": "1.2.0",
            "_view_name": "LayoutView",
            "align_content": null,
            "align_items": null,
            "align_self": null,
            "border": null,
            "bottom": null,
            "display": null,
            "flex": null,
            "flex_flow": null,
            "grid_area": null,
            "grid_auto_columns": null,
            "grid_auto_flow": null,
            "grid_auto_rows": null,
            "grid_column": null,
            "grid_gap": null,
            "grid_row": null,
            "grid_template_areas": null,
            "grid_template_columns": null,
            "grid_template_rows": null,
            "height": null,
            "justify_content": null,
            "justify_items": null,
            "left": null,
            "margin": null,
            "max_height": null,
            "max_width": null,
            "min_height": null,
            "min_width": null,
            "object_fit": null,
            "object_position": null,
            "order": null,
            "overflow": null,
            "overflow_x": null,
            "overflow_y": null,
            "padding": null,
            "right": null,
            "top": null,
            "visibility": null,
            "width": null
          }
        },
        "3fc0c16ad484485d965618985a3a4ec5": {
          "model_module": "@jupyter-widgets/controls",
          "model_name": "DescriptionStyleModel",
          "model_module_version": "1.5.0",
          "state": {
            "_model_module": "@jupyter-widgets/controls",
            "_model_module_version": "1.5.0",
            "_model_name": "DescriptionStyleModel",
            "_view_count": null,
            "_view_module": "@jupyter-widgets/base",
            "_view_module_version": "1.2.0",
            "_view_name": "StyleView",
            "description_width": ""
          }
        },
        "37dfb6ab8c5f414b92c7b767ec855c47": {
          "model_module": "@jupyter-widgets/controls",
          "model_name": "HBoxModel",
          "model_module_version": "1.5.0",
          "state": {
            "_dom_classes": [],
            "_model_module": "@jupyter-widgets/controls",
            "_model_module_version": "1.5.0",
            "_model_name": "HBoxModel",
            "_view_count": null,
            "_view_module": "@jupyter-widgets/controls",
            "_view_module_version": "1.5.0",
            "_view_name": "HBoxView",
            "box_style": "",
            "children": [
              "IPY_MODEL_811e0501232a43c0ac27344b19a59984",
              "IPY_MODEL_4ecc1479f0434484a1f03b01fb4ce729",
              "IPY_MODEL_d50fb3c76dd946f887cb76c4376868bf"
            ],
            "layout": "IPY_MODEL_83e247b927c646f2ab7952bed7e843f5"
          }
        },
        "811e0501232a43c0ac27344b19a59984": {
          "model_module": "@jupyter-widgets/controls",
          "model_name": "HTMLModel",
          "model_module_version": "1.5.0",
          "state": {
            "_dom_classes": [],
            "_model_module": "@jupyter-widgets/controls",
            "_model_module_version": "1.5.0",
            "_model_name": "HTMLModel",
            "_view_count": null,
            "_view_module": "@jupyter-widgets/controls",
            "_view_module_version": "1.5.0",
            "_view_name": "HTMLView",
            "description": "",
            "description_tooltip": null,
            "layout": "IPY_MODEL_4bc6e96dfd0649a0af171669b0e4b82c",
            "placeholder": "​",
            "style": "IPY_MODEL_09c42fbeff514a5898e7c725d659b2f9",
            "value": "model.safetensors: 100%"
          }
        },
        "4ecc1479f0434484a1f03b01fb4ce729": {
          "model_module": "@jupyter-widgets/controls",
          "model_name": "FloatProgressModel",
          "model_module_version": "1.5.0",
          "state": {
            "_dom_classes": [],
            "_model_module": "@jupyter-widgets/controls",
            "_model_module_version": "1.5.0",
            "_model_name": "FloatProgressModel",
            "_view_count": null,
            "_view_module": "@jupyter-widgets/controls",
            "_view_module_version": "1.5.0",
            "_view_name": "ProgressView",
            "bar_style": "success",
            "description": "",
            "description_tooltip": null,
            "layout": "IPY_MODEL_1ebc5df2d9c9426d859cc696fa9ba516",
            "max": 346293852,
            "min": 0,
            "orientation": "horizontal",
            "style": "IPY_MODEL_21561fed40984cf2af7233eb755244f1",
            "value": 346293852
          }
        },
        "d50fb3c76dd946f887cb76c4376868bf": {
          "model_module": "@jupyter-widgets/controls",
          "model_name": "HTMLModel",
          "model_module_version": "1.5.0",
          "state": {
            "_dom_classes": [],
            "_model_module": "@jupyter-widgets/controls",
            "_model_module_version": "1.5.0",
            "_model_name": "HTMLModel",
            "_view_count": null,
            "_view_module": "@jupyter-widgets/controls",
            "_view_module_version": "1.5.0",
            "_view_name": "HTMLView",
            "description": "",
            "description_tooltip": null,
            "layout": "IPY_MODEL_eff300731eae4a898893cc1b6a07a1d0",
            "placeholder": "​",
            "style": "IPY_MODEL_c2f5b10daa01417f92b44cd05706ab3a",
            "value": " 346M/346M [00:01&lt;00:00, 221MB/s]"
          }
        },
        "83e247b927c646f2ab7952bed7e843f5": {
          "model_module": "@jupyter-widgets/base",
          "model_name": "LayoutModel",
          "model_module_version": "1.2.0",
          "state": {
            "_model_module": "@jupyter-widgets/base",
            "_model_module_version": "1.2.0",
            "_model_name": "LayoutModel",
            "_view_count": null,
            "_view_module": "@jupyter-widgets/base",
            "_view_module_version": "1.2.0",
            "_view_name": "LayoutView",
            "align_content": null,
            "align_items": null,
            "align_self": null,
            "border": null,
            "bottom": null,
            "display": null,
            "flex": null,
            "flex_flow": null,
            "grid_area": null,
            "grid_auto_columns": null,
            "grid_auto_flow": null,
            "grid_auto_rows": null,
            "grid_column": null,
            "grid_gap": null,
            "grid_row": null,
            "grid_template_areas": null,
            "grid_template_columns": null,
            "grid_template_rows": null,
            "height": null,
            "justify_content": null,
            "justify_items": null,
            "left": null,
            "margin": null,
            "max_height": null,
            "max_width": null,
            "min_height": null,
            "min_width": null,
            "object_fit": null,
            "object_position": null,
            "order": null,
            "overflow": null,
            "overflow_x": null,
            "overflow_y": null,
            "padding": null,
            "right": null,
            "top": null,
            "visibility": null,
            "width": null
          }
        },
        "4bc6e96dfd0649a0af171669b0e4b82c": {
          "model_module": "@jupyter-widgets/base",
          "model_name": "LayoutModel",
          "model_module_version": "1.2.0",
          "state": {
            "_model_module": "@jupyter-widgets/base",
            "_model_module_version": "1.2.0",
            "_model_name": "LayoutModel",
            "_view_count": null,
            "_view_module": "@jupyter-widgets/base",
            "_view_module_version": "1.2.0",
            "_view_name": "LayoutView",
            "align_content": null,
            "align_items": null,
            "align_self": null,
            "border": null,
            "bottom": null,
            "display": null,
            "flex": null,
            "flex_flow": null,
            "grid_area": null,
            "grid_auto_columns": null,
            "grid_auto_flow": null,
            "grid_auto_rows": null,
            "grid_column": null,
            "grid_gap": null,
            "grid_row": null,
            "grid_template_areas": null,
            "grid_template_columns": null,
            "grid_template_rows": null,
            "height": null,
            "justify_content": null,
            "justify_items": null,
            "left": null,
            "margin": null,
            "max_height": null,
            "max_width": null,
            "min_height": null,
            "min_width": null,
            "object_fit": null,
            "object_position": null,
            "order": null,
            "overflow": null,
            "overflow_x": null,
            "overflow_y": null,
            "padding": null,
            "right": null,
            "top": null,
            "visibility": null,
            "width": null
          }
        },
        "09c42fbeff514a5898e7c725d659b2f9": {
          "model_module": "@jupyter-widgets/controls",
          "model_name": "DescriptionStyleModel",
          "model_module_version": "1.5.0",
          "state": {
            "_model_module": "@jupyter-widgets/controls",
            "_model_module_version": "1.5.0",
            "_model_name": "DescriptionStyleModel",
            "_view_count": null,
            "_view_module": "@jupyter-widgets/base",
            "_view_module_version": "1.2.0",
            "_view_name": "StyleView",
            "description_width": ""
          }
        },
        "1ebc5df2d9c9426d859cc696fa9ba516": {
          "model_module": "@jupyter-widgets/base",
          "model_name": "LayoutModel",
          "model_module_version": "1.2.0",
          "state": {
            "_model_module": "@jupyter-widgets/base",
            "_model_module_version": "1.2.0",
            "_model_name": "LayoutModel",
            "_view_count": null,
            "_view_module": "@jupyter-widgets/base",
            "_view_module_version": "1.2.0",
            "_view_name": "LayoutView",
            "align_content": null,
            "align_items": null,
            "align_self": null,
            "border": null,
            "bottom": null,
            "display": null,
            "flex": null,
            "flex_flow": null,
            "grid_area": null,
            "grid_auto_columns": null,
            "grid_auto_flow": null,
            "grid_auto_rows": null,
            "grid_column": null,
            "grid_gap": null,
            "grid_row": null,
            "grid_template_areas": null,
            "grid_template_columns": null,
            "grid_template_rows": null,
            "height": null,
            "justify_content": null,
            "justify_items": null,
            "left": null,
            "margin": null,
            "max_height": null,
            "max_width": null,
            "min_height": null,
            "min_width": null,
            "object_fit": null,
            "object_position": null,
            "order": null,
            "overflow": null,
            "overflow_x": null,
            "overflow_y": null,
            "padding": null,
            "right": null,
            "top": null,
            "visibility": null,
            "width": null
          }
        },
        "21561fed40984cf2af7233eb755244f1": {
          "model_module": "@jupyter-widgets/controls",
          "model_name": "ProgressStyleModel",
          "model_module_version": "1.5.0",
          "state": {
            "_model_module": "@jupyter-widgets/controls",
            "_model_module_version": "1.5.0",
            "_model_name": "ProgressStyleModel",
            "_view_count": null,
            "_view_module": "@jupyter-widgets/base",
            "_view_module_version": "1.2.0",
            "_view_name": "StyleView",
            "bar_color": null,
            "description_width": ""
          }
        },
        "eff300731eae4a898893cc1b6a07a1d0": {
          "model_module": "@jupyter-widgets/base",
          "model_name": "LayoutModel",
          "model_module_version": "1.2.0",
          "state": {
            "_model_module": "@jupyter-widgets/base",
            "_model_module_version": "1.2.0",
            "_model_name": "LayoutModel",
            "_view_count": null,
            "_view_module": "@jupyter-widgets/base",
            "_view_module_version": "1.2.0",
            "_view_name": "LayoutView",
            "align_content": null,
            "align_items": null,
            "align_self": null,
            "border": null,
            "bottom": null,
            "display": null,
            "flex": null,
            "flex_flow": null,
            "grid_area": null,
            "grid_auto_columns": null,
            "grid_auto_flow": null,
            "grid_auto_rows": null,
            "grid_column": null,
            "grid_gap": null,
            "grid_row": null,
            "grid_template_areas": null,
            "grid_template_columns": null,
            "grid_template_rows": null,
            "height": null,
            "justify_content": null,
            "justify_items": null,
            "left": null,
            "margin": null,
            "max_height": null,
            "max_width": null,
            "min_height": null,
            "min_width": null,
            "object_fit": null,
            "object_position": null,
            "order": null,
            "overflow": null,
            "overflow_x": null,
            "overflow_y": null,
            "padding": null,
            "right": null,
            "top": null,
            "visibility": null,
            "width": null
          }
        },
        "c2f5b10daa01417f92b44cd05706ab3a": {
          "model_module": "@jupyter-widgets/controls",
          "model_name": "DescriptionStyleModel",
          "model_module_version": "1.5.0",
          "state": {
            "_model_module": "@jupyter-widgets/controls",
            "_model_module_version": "1.5.0",
            "_model_name": "DescriptionStyleModel",
            "_view_count": null,
            "_view_module": "@jupyter-widgets/base",
            "_view_module_version": "1.2.0",
            "_view_name": "StyleView",
            "description_width": ""
          }
        }
      }
    }
  },
  "cells": [
    {
      "cell_type": "code",
      "source": [
        "import numpy as np\n",
        "import pandas as pd\n",
        "import torch\n",
        "from torch.utils.data import Dataset, DataLoader\n",
        "from torchvision import transforms\n",
        "from PIL import Image\n",
        "import matplotlib.pyplot as plt\n",
        "from sklearn.model_selection import train_test_split\n",
        "from sklearn.metrics import classification_report, confusion_matrix\n",
        "import torch.optim as optim\n",
        "from torch.optim.lr_scheduler import ReduceLROnPlateau\n",
        "import os\n",
        "from tqdm import tqdm\n",
        "from sklearn.metrics import f1_score\n",
        "import random\n",
        "from torch import nn\n",
        "import seaborn as sns\n",
        "import torch.nn.functional as F\n",
        "from transformers import ViTModel, ViTConfig\n",
        "\n",
        "# Constants\n",
        "SEED = 123\n",
        "IMG_SIZE = 224\n",
        "BATCH_SIZE = 64\n",
        "LEARNING_RATE = 3e-5\n",
        "EPOCHS = 1000\n",
        "NUM_CLASSES = 7\n",
        "DEVICE = torch.device(\"cuda\" if torch.cuda.is_available() else \"cpu\")\n",
        "\n",
        "class FERDataset(Dataset):\n",
        "    def __init__(self, dataframe, transform=None):\n",
        "        self.dataframe = dataframe\n",
        "        self.transform = transform\n",
        "\n",
        "        # Ekstrak label dan piksel\n",
        "        self.labels = self.dataframe['emotion'].values\n",
        "        self.pixels = self.dataframe['pixels'].apply(self.string_to_image).values\n",
        "\n",
        "    def string_to_image(self, pixels_string):\n",
        "        # Konversi string piksel menjadi numpy array dan reshape ke 48x48\n",
        "        pixels = np.array(pixels_string.split(), dtype='float32')\n",
        "        image = pixels.reshape(48, 48)\n",
        "        image = np.expand_dims(image, axis=-1)  # Tambahkan channel dimensi\n",
        "        return image\n",
        "\n",
        "    def __len__(self):\n",
        "        return len(self.dataframe)\n",
        "\n",
        "    def __getitem__(self, idx):\n",
        "        image = self.pixels[idx]\n",
        "        label = self.labels[idx]\n",
        "\n",
        "        image = Image.fromarray(image.squeeze().astype('uint8'), mode='L')\n",
        "\n",
        "        # Jika ada transformasi, terapkan ke image\n",
        "        if self.transform:\n",
        "            image = self.transform(image)\n",
        "\n",
        "        return image, label\n",
        "\n",
        "def create_transforms():\n",
        "    # Create transform pipeline manually\n",
        "    train_transforms = transforms.Compose([\n",
        "        transforms.Grayscale(num_output_channels=3),\n",
        "        transforms.Resize((IMG_SIZE, IMG_SIZE)),\n",
        "        transforms.RandomHorizontalFlip(),  # Randomly flip horizontally\n",
        "        transforms.RandomRotation(10),     # Randomly rotate by 10 degrees\n",
        "        transforms.RandomResizedCrop(\n",
        "            size=IMG_SIZE,  # Output size\n",
        "            scale=(0.8, 1.0)  # Range of the random crop size relative to the input size\n",
        "        ),\n",
        "        transforms.ColorJitter(brightness=0.2, contrast=0.2),  # Adjust brightness\n",
        "        transforms.ToTensor(),\n",
        "        transforms.RandomErasing(p=0.3, scale=(0.02, 0.1)),\n",
        "        transforms.Normalize(mean=[0.5, 0.5, 0.5], std=[0.5, 0.5, 0.5]),\n",
        "    ])\n",
        "\n",
        "    # Create transform pipeline manually\n",
        "    test_transforms = transforms.Compose([\n",
        "        transforms.Grayscale(num_output_channels=3),\n",
        "        transforms.Resize((IMG_SIZE, IMG_SIZE)),\n",
        "        transforms.ToTensor(),\n",
        "        transforms.Normalize(mean=[0.5, 0.5, 0.5], std=[0.5, 0.5, 0.5]),\n",
        "    ])\n",
        "    return train_transforms, test_transforms\n",
        "\n",
        "def load_and_split_data(data_path):\n",
        "    data = pd.read_csv(data_path)\n",
        "    data_train, data_test = train_test_split(data, test_size=0.1, stratify=data['emotion'], random_state=SEED)\n",
        "    data_train, data_val = train_test_split(data_train, test_size=0.1, stratify=data_train['emotion'], random_state=SEED)\n",
        "    return data_train, data_val, data_test\n",
        "\n",
        "def create_datasets(data_train, data_val, data_test, train_transforms, test_transforms):\n",
        "    train_dataset = FERDataset(data_train, transform=train_transforms)\n",
        "    val_dataset = FERDataset(data_val, transform=test_transforms)\n",
        "    test_dataset = FERDataset(data_test, transform=test_transforms)\n",
        "    return train_dataset, val_dataset, test_dataset\n",
        "\n",
        "def create_dataloaders(train_dataset, val_dataset, test_dataset):\n",
        "    train_loader = DataLoader(train_dataset, batch_size=BATCH_SIZE, shuffle=True,\n",
        "                             generator=torch.Generator().manual_seed(SEED))\n",
        "    val_loader = DataLoader(val_dataset, batch_size=BATCH_SIZE, shuffle=False,\n",
        "                           generator=torch.Generator().manual_seed(SEED))\n",
        "    test_loader = DataLoader(test_dataset, batch_size=BATCH_SIZE, shuffle=False,\n",
        "                            generator=torch.Generator().manual_seed(SEED))\n",
        "    return train_loader, val_loader, test_loader\n",
        "\n",
        "class CNNBackbone(nn.Module):\n",
        "    def __init__(self, in_channels=3, embedding_dim=768):\n",
        "        super().__init__()\n",
        "        # Output channels for each convolution layer\n",
        "        channels = [24, 48, 96, 192]\n",
        "\n",
        "        # First conv: 3×3, stride 2, 3->24 channels\n",
        "        # Input: 224×224 -> Output: 112×112\n",
        "        self.conv1 = nn.Conv2d(in_channels, channels[0], kernel_size=3, stride=2, padding=1)\n",
        "        self.bn1 = nn.BatchNorm2d(channels[0])\n",
        "\n",
        "        # Second conv: 3×3, stride 2, 24->48 channels\n",
        "        # Input: 112×112 -> Output: 56×56\n",
        "        self.conv2 = nn.Conv2d(channels[0], channels[1], kernel_size=3, stride=2, padding=1)\n",
        "        self.bn2 = nn.BatchNorm2d(channels[1])\n",
        "\n",
        "        # Third conv: 3×3, stride 2, 48->96 channels\n",
        "        # Input: 56×56 -> Output: 28×28\n",
        "        self.conv3 = nn.Conv2d(channels[1], channels[2], kernel_size=3, stride=2, padding=1)\n",
        "        self.bn3 = nn.BatchNorm2d(channels[2])\n",
        "\n",
        "        # Fourth conv: 3×3, stride 2, 96->192 channels\n",
        "        # Input: 28×28 -> Output: 14×14\n",
        "        self.conv4 = nn.Conv2d(channels[2], channels[3], kernel_size=3, stride=2, padding=1)\n",
        "        self.bn4 = nn.BatchNorm2d(channels[3])\n",
        "\n",
        "        # Final 1×1 conv to match transformer dimension\n",
        "        self.final_conv = nn.Conv2d(channels[3], embedding_dim, kernel_size=1)\n",
        "\n",
        "    def forward(self, x):\n",
        "        # Apply convolutions with BN and ReLU\n",
        "        x = F.relu(self.bn1(self.conv1(x)))\n",
        "        x = F.relu(self.bn2(self.conv2(x)))\n",
        "        x = F.relu(self.bn3(self.conv3(x)))\n",
        "        x = F.relu(self.bn4(self.conv4(x)))\n",
        "\n",
        "        # Final 1×1 conv without activation\n",
        "        x = self.final_conv(x)\n",
        "        return x\n",
        "\n",
        "class ViTCNN(nn.Module):\n",
        "    def __init__(self, num_classes, in_channels, vit_model_name='google/vit-base-patch16-224'):\n",
        "        super(ViTCNN, self).__init__()\n",
        "\n",
        "        vit_config = ViTConfig.from_pretrained(vit_model_name)\n",
        "\n",
        "        self.cnn_backbone = CNNBackbone(in_channels, vit_config.hidden_size)\n",
        "\n",
        "        # Initialize ViT transformer layers (using the pretrained weights)\n",
        "        self.vit_encoder = ViTModel.from_pretrained(vit_model_name).encoder\n",
        "\n",
        "        # Learnable CLS token\n",
        "        self.cls_token = nn.Parameter(torch.zeros(1, 1, vit_config.hidden_size))\n",
        "\n",
        "        # Position embeddings\n",
        "        num_patches = (vit_config.image_size // vit_config.patch_size) ** 2\n",
        "        self.position_embeddings = nn.Parameter(\n",
        "            torch.zeros(1, num_patches + 1, vit_config.hidden_size))\n",
        "\n",
        "        # Classification head\n",
        "        self.classifier = nn.Linear(vit_config.hidden_size, num_classes)\n",
        "\n",
        "        # Initialize CLS token and position embeddings\n",
        "        nn.init.trunc_normal_(self.cls_token, std=0.02)\n",
        "        nn.init.trunc_normal_(self.position_embeddings, std=0.02)\n",
        "\n",
        "    def forward(self, x):\n",
        "        # Extract features with MobileNetV3\n",
        "        features = self.cnn_backbone(x)\n",
        "\n",
        "        # Reshape for ViT (batch_size, num_patches, hidden_size)\n",
        "        batch_size = features.shape[0]\n",
        "        features = features.flatten(2).transpose(1, 2)\n",
        "\n",
        "        # Add CLS token\n",
        "        cls_tokens = self.cls_token.expand(batch_size, -1, -1)\n",
        "        features = torch.cat((cls_tokens, features), dim=1)\n",
        "\n",
        "        # Add position embeddings\n",
        "        features = features + self.position_embeddings\n",
        "\n",
        "        # Pass through ViT encoder\n",
        "        encoder_outputs = self.vit_encoder(features)\n",
        "\n",
        "        # Get the CLS token output\n",
        "        cls_output = encoder_outputs.last_hidden_state[:, 0, :]\n",
        "\n",
        "        # Classification\n",
        "        logits = self.classifier(cls_output)\n",
        "\n",
        "        return logits\n",
        "\n",
        "class EarlyStopping:\n",
        "    def __init__(self, patience=10, min_delta=0):\n",
        "        self.patience = patience\n",
        "        self.min_delta = min_delta\n",
        "        self.best_loss = float('inf')\n",
        "        self.epochs_no_improve = 0\n",
        "        self.early_stop = False\n",
        "\n",
        "    def __call__(self, val_loss):\n",
        "        if val_loss < self.best_loss - self.min_delta:\n",
        "            self.best_loss = val_loss\n",
        "            self.epochs_no_improve = 0\n",
        "        else:\n",
        "            self.epochs_no_improve += 1\n",
        "\n",
        "        if self.epochs_no_improve >= self.patience:\n",
        "            self.early_stop = True\n",
        "\n",
        "        return self.early_stop\n",
        "\n",
        "\n",
        "def train_model(model, train_loader, val_loader):\n",
        "    # Initialize training utilities\n",
        "    optimizer = optim.AdamW(model.parameters(), lr=LEARNING_RATE)\n",
        "    criterion = nn.CrossEntropyLoss()\n",
        "    scheduler = ReduceLROnPlateau(optimizer, mode='min', factor=0.1, patience=5)\n",
        "    early_stopping = EarlyStopping(patience=10, min_delta=0)\n",
        "\n",
        "    # Define path\n",
        "    SAVE_PATH = \"/content/drive/MyDrive/Hasil Eksperimen\"\n",
        "    os.makedirs(SAVE_PATH, exist_ok=True)\n",
        "\n",
        "    # Initialize lists to store training and validation metrics\n",
        "    train_losses = []\n",
        "    val_losses = []\n",
        "    train_accuracies = []\n",
        "    val_accuracies = []\n",
        "\n",
        "    # Initialize the best metric for model saving\n",
        "    best_val_accuracy = -float('inf')\n",
        "\n",
        "    for epoch in range(EPOCHS):\n",
        "        model.train()\n",
        "        train_loss = 0.0\n",
        "        correct = 0\n",
        "        total = 0\n",
        "\n",
        "        # Training\n",
        "        pbar = tqdm(train_loader, desc=f\"Epoch {epoch + 1}/{EPOCHS}\")\n",
        "        for batch_idx, (inputs, targets) in enumerate(pbar):\n",
        "            inputs, targets = inputs.to(DEVICE), targets.to(DEVICE)\n",
        "\n",
        "            # Zero the gradients\n",
        "            optimizer.zero_grad()\n",
        "\n",
        "            # Forward pass\n",
        "            outputs = model(inputs)\n",
        "            loss = criterion(outputs, targets)\n",
        "\n",
        "            # Backward pass and optimize\n",
        "            loss.backward()\n",
        "            optimizer.step()\n",
        "\n",
        "            # Update statistics\n",
        "            train_loss += loss.item()\n",
        "            _, predicted = outputs.max(1)\n",
        "            total += targets.size(0)\n",
        "            correct += predicted.eq(targets).sum().item()\n",
        "\n",
        "            # Update progress bar\n",
        "            pbar.set_postfix({\n",
        "                \"Loss\": f\"{train_loss / (batch_idx + 1):.4f}\",\n",
        "                \"Acc\": f\"{correct / total:.4f}\"\n",
        "            })\n",
        "\n",
        "        # Calculate training accuracy and loss\n",
        "        train_accuracy = correct / total\n",
        "        avg_train_loss = train_loss / len(train_loader)\n",
        "        train_losses.append(avg_train_loss)\n",
        "        train_accuracies.append(train_accuracy)\n",
        "\n",
        "        # Print training summary\n",
        "        print(f\"Epoch {epoch + 1}/{EPOCHS}: \"\n",
        "              f\"Train Loss: {avg_train_loss:.4f}, \"\n",
        "              f\"Train Acc: {train_accuracy:.4f}\")\n",
        "\n",
        "        # Validation\n",
        "        model.eval()\n",
        "        val_loss = 0.0\n",
        "        val_correct = 0\n",
        "        val_total = 0\n",
        "        all_targets = []\n",
        "        all_predicted = []\n",
        "\n",
        "        with torch.no_grad():  # Disable gradient computation\n",
        "            pbar = tqdm(val_loader, desc=f\"Epoch {epoch + 1}/{EPOCHS} (Validation)\")\n",
        "            for batch_idx, (inputs, targets) in enumerate(pbar):\n",
        "                inputs, targets = inputs.to(DEVICE), targets.to(DEVICE)\n",
        "\n",
        "                # Forward pass\n",
        "                outputs = model(inputs)\n",
        "                loss = criterion(outputs, targets)\n",
        "\n",
        "                # Update statistics\n",
        "                val_loss += loss.item()\n",
        "                _, predicted = outputs.max(1)\n",
        "                val_total += targets.size(0)\n",
        "                val_correct += predicted.eq(targets).sum().item()\n",
        "\n",
        "                # Collect all targets and predictions for F1-score\n",
        "                all_targets.extend(targets.cpu().numpy())\n",
        "                all_predicted.extend(predicted.cpu().numpy())\n",
        "\n",
        "                # Update progress bar\n",
        "                pbar.set_postfix({\n",
        "                    \"Loss\": f\"{val_loss / (batch_idx + 1):.4f}\",\n",
        "                    \"Acc\": f\"{val_correct / val_total:.4f}\"\n",
        "                })\n",
        "\n",
        "        # Calculate validation accuracy, loss, and F1-score\n",
        "        val_accuracy = val_correct / val_total\n",
        "        avg_val_loss = val_loss / len(val_loader)\n",
        "        val_f1 = f1_score(all_targets, all_predicted, average=\"weighted\")\n",
        "        val_losses.append(avg_val_loss)\n",
        "        val_accuracies.append(val_accuracy)\n",
        "\n",
        "        # Print validation summary\n",
        "        print(f\"Epoch {epoch + 1}/{EPOCHS}: \"\n",
        "              f\"Val Loss: {avg_val_loss:.4f}, \"\n",
        "              f\"Val Acc: {val_accuracy:.4f}, \"\n",
        "              f\"Val F1: {val_f1:.4f}\")\n",
        "\n",
        "        # Step the learning rate scheduler based on validation loss\n",
        "        scheduler.step(avg_val_loss)\n",
        "\n",
        "        # Print the current learning rate\n",
        "        current_lr = optimizer.param_groups[0]['lr']\n",
        "        print(f\"Current Learning Rate: {current_lr}\")\n",
        "\n",
        "        # Save the best model based on validation accuracy\n",
        "        if val_accuracy > best_val_accuracy:\n",
        "            best_val_accuracy = val_accuracy\n",
        "            model_path = os.path.join(SAVE_PATH, \"hybrid_cnn_vit_pretrained_best.pt\")\n",
        "            torch.save({\n",
        "                \"model_state_dict\": model.state_dict()\n",
        "            }, model_path)\n",
        "    #         torch.save(model.state_dict(), model_path)\n",
        "            print(f\"Best model saved at {model_path} with val accuracy: {best_val_accuracy:.4f}\")\n",
        "\n",
        "        # Save loss and accuracy plots\n",
        "        plt.figure(figsize=(10, 5))\n",
        "        plt.plot(range(1, len(train_losses) + 1), train_losses, label=\"Training Loss\", marker='o')\n",
        "        plt.plot(range(1, len(val_losses) + 1), val_losses, label=\"Validation Loss\", marker='o')\n",
        "        plt.title(\"Loss per Epoch\")\n",
        "        plt.xlabel(\"Epoch\")\n",
        "        plt.ylabel(\"Loss\")\n",
        "        plt.legend()\n",
        "        plt.grid(True)\n",
        "        loss_plot_path = os.path.join(SAVE_PATH, \"hybrid_cnn_vit_pretrained_loss.png\")\n",
        "        plt.savefig(loss_plot_path)\n",
        "        plt.close()\n",
        "\n",
        "        plt.figure(figsize=(10, 5))\n",
        "        plt.plot(range(1, len(train_accuracies) + 1), train_accuracies, label=\"Training Accuracy\", marker='o')\n",
        "        plt.plot(range(1, len(val_accuracies) + 1), val_accuracies, label=\"Validation Accuracy\", marker='o')\n",
        "        plt.title(\"Accuracy per Epoch\")\n",
        "        plt.xlabel(\"Epoch\")\n",
        "        plt.ylabel(\"Accuracy\")\n",
        "        plt.legend()\n",
        "        plt.grid(True)\n",
        "        accuracy_plot_path = os.path.join(SAVE_PATH, \"hybrid_cnn_vit_pretrained_accuracy.png\")\n",
        "        plt.savefig(accuracy_plot_path)\n",
        "        plt.close()\n",
        "\n",
        "        if early_stopping(avg_val_loss):\n",
        "            print(f\"Early stopping triggered at epoch {epoch + 1}!\")\n",
        "            break\n",
        "\n",
        "def evaluate_model(best_model, test_loader):\n",
        "    criterion = nn.CrossEntropyLoss()\n",
        "    best_model.eval()\n",
        "    test_loss = 0.0\n",
        "    test_correct = 0\n",
        "    test_total = 0\n",
        "    all_targets = []\n",
        "    all_predicted = []\n",
        "\n",
        "    with torch.no_grad():  # Disable gradient computation\n",
        "        pbar = tqdm(test_loader, desc=\"Testing\")\n",
        "        for batch_idx, (inputs, targets) in enumerate(pbar):\n",
        "            inputs, targets = inputs.to(DEVICE), targets.to(DEVICE)\n",
        "\n",
        "            # Forward pass\n",
        "            outputs = best_model(inputs)\n",
        "            loss = criterion(outputs, targets)\n",
        "\n",
        "            # Update statistics\n",
        "            test_loss += loss.item()\n",
        "            _, predicted = outputs.max(1)\n",
        "            test_total += targets.size(0)\n",
        "            test_correct += predicted.eq(targets).sum().item()\n",
        "\n",
        "            # Collect all targets and predictions\n",
        "            all_targets.extend(targets.cpu().numpy())\n",
        "            all_predicted.extend(predicted.cpu().numpy())\n",
        "\n",
        "            # Update progress bar\n",
        "            pbar.set_postfix({\n",
        "                \"Loss\": f\"{test_loss / (batch_idx + 1):.4f}\",\n",
        "                \"Acc\": f\"{test_correct / test_total:.4f}\"\n",
        "            })\n",
        "\n",
        "    # Calculate test accuracy, loss, and F1-score\n",
        "    test_accuracy = test_correct / test_total\n",
        "    avg_test_loss = test_loss / len(test_loader)\n",
        "    test_f1 = f1_score(all_targets, all_predicted, average=\"weighted\")\n",
        "\n",
        "    # Calculate per-class accuracy\n",
        "    conf_matrix = confusion_matrix(all_targets, all_predicted)\n",
        "    per_class_accuracy = conf_matrix.diagonal() / conf_matrix.sum(axis=1)\n",
        "\n",
        "    # Calculate classification report (includes precision, recall, F1-score, and support)\n",
        "    class_report = classification_report(all_targets, all_predicted, target_names=[f\"Class {i}\" for i in range(NUM_CLASSES)])\n",
        "\n",
        "    # Print test summary\n",
        "    print(f\"Test Loss: {avg_test_loss:.4f}, \"\n",
        "          f\"Test Acc: {test_accuracy:.4f},\"\n",
        "          f\"Test F1: {test_f1:.4f}\")\n",
        "\n",
        "    # Print per-class accuracy\n",
        "    print(\"\\nPer-Class Accuracy:\")\n",
        "    for i, acc in enumerate(per_class_accuracy):\n",
        "        print(f\"Class {i}: {acc:.4f}\")\n",
        "\n",
        "    # Print classification report\n",
        "    print(\"\\nClassification Report:\")\n",
        "    print(class_report)\n",
        "\n",
        "    normalized_conf_matrix = conf_matrix / conf_matrix.sum(axis=1, keepdims=True)\n",
        "    emotion_dict = {\n",
        "        0: \"Angry\", 1: \"Disgust\", 2: \"Fear\",\n",
        "        3: \"Happy\", 4: \"Neutral\", 5: \"Sad\", 6: \"Surprise\"\n",
        "    }\n",
        "    emotion_labels = [emotion_dict[i] for i in range(len(emotion_dict))]\n",
        "\n",
        "    plt.figure(figsize=(10, 8))\n",
        "    sns.heatmap(normalized_conf_matrix, annot=True, fmt='.2f', cmap='Blues',\n",
        "                xticklabels=emotion_labels,\n",
        "                yticklabels=emotion_labels)\n",
        "    plt.title(\"Confusion Matrix\")\n",
        "    plt.xlabel(\"Predicted Label\")\n",
        "    plt.ylabel(\"True Label\")\n",
        "    plt.tight_layout()\n",
        "    plt.show()\n",
        "\n",
        "def main():\n",
        "    # Set random seeds for reproducibility\n",
        "    torch.manual_seed(SEED)\n",
        "    torch.cuda.manual_seed(SEED)\n",
        "    torch.cuda.manual_seed_all(SEED)\n",
        "    random.seed(SEED)\n",
        "    np.random.seed(SEED)\n",
        "    torch.backends.cudnn.deterministic = True\n",
        "    torch.backends.cudnn.benchmark = False\n",
        "\n",
        "    print(f\"Using device: {DEVICE}\")\n",
        "    print(f\"PyTorch version: {torch.__version__}\")\n",
        "\n",
        "    # Data preparation\n",
        "    train_transforms, test_transforms = create_transforms()\n",
        "    data_train, data_val, data_test = load_and_split_data(\"/content/drive/MyDrive/Dataset/fer2013v2_clean.csv\")\n",
        "    train_dataset, val_dataset, test_dataset = create_datasets(data_train, data_val, data_test, train_transforms, test_transforms)\n",
        "\n",
        "    train_loader, val_loader, test_loader = create_dataloaders(train_dataset, val_dataset, test_dataset)\n",
        "\n",
        "    class_names = ['Angry', 'Disgust', 'Fear', 'Happy', 'Sad', 'Surprise', 'Neutral']\n",
        "\n",
        "    model = ViTCNN(num_classes=len(class_names), in_channels=3)\n",
        "    model.to(DEVICE)\n",
        "\n",
        "    train_model(model, train_loader, val_loader)\n",
        "\n",
        "    best_model = ViTCNN(num_classes=len(class_names), in_channels=3)\n",
        "    best_model = best_model.to(DEVICE)\n",
        "\n",
        "    checkpoint = torch.load(\"/content/drive/MyDrive/Hasil Eksperimen/hybrid_cnn_vit_pretrained_best.pt\")\n",
        "    best_model.load_state_dict(checkpoint[\"model_state_dict\"])\n",
        "\n",
        "    evaluate_model(best_model, test_loader)\n",
        "\n",
        "if __name__ == \"__main__\":\n",
        "    main()"
      ],
      "metadata": {
        "colab": {
          "base_uri": "https://localhost:8080/",
          "height": 1000,
          "referenced_widgets": [
            "035fc47b05b341ee98aa144be8a5c9c7",
            "05f45856e8184c3080f6cb7ce7b1df1c",
            "f390d79f40c741879ff575ecdc6c683f",
            "8e9881de0b3b4ddf8db30b9314d4408f",
            "70476df32cd24e85a95b1fcc205c05d3",
            "f3124ae7f345409c9d4d4dcb3737e1c6",
            "4412cb1286e543e5b5565e7d47137a77",
            "4e559765c6d2443fa505ead41cf60f67",
            "5f2b1b7f20344e4cbf35e864c431af2a",
            "a6d972ee2f524005b8d7eec1697995e1",
            "3fc0c16ad484485d965618985a3a4ec5",
            "37dfb6ab8c5f414b92c7b767ec855c47",
            "811e0501232a43c0ac27344b19a59984",
            "4ecc1479f0434484a1f03b01fb4ce729",
            "d50fb3c76dd946f887cb76c4376868bf",
            "83e247b927c646f2ab7952bed7e843f5",
            "4bc6e96dfd0649a0af171669b0e4b82c",
            "09c42fbeff514a5898e7c725d659b2f9",
            "1ebc5df2d9c9426d859cc696fa9ba516",
            "21561fed40984cf2af7233eb755244f1",
            "eff300731eae4a898893cc1b6a07a1d0",
            "c2f5b10daa01417f92b44cd05706ab3a"
          ]
        },
        "id": "sD_WmyjE9yo8",
        "outputId": "257c1d6c-cd6f-42fe-b55a-0f120fbc4da2"
      },
      "execution_count": null,
      "outputs": [
        {
          "output_type": "stream",
          "name": "stdout",
          "text": [
            "Using device: cuda\n",
            "PyTorch version: 2.6.0+cu124\n"
          ]
        },
        {
          "output_type": "stream",
          "name": "stderr",
          "text": [
            "/usr/local/lib/python3.11/dist-packages/huggingface_hub/utils/_auth.py:94: UserWarning: \n",
            "The secret `HF_TOKEN` does not exist in your Colab secrets.\n",
            "To authenticate with the Hugging Face Hub, create a token in your settings tab (https://huggingface.co/settings/tokens), set it as secret in your Google Colab and restart your session.\n",
            "You will be able to reuse this secret in all of your notebooks.\n",
            "Please note that authentication is recommended but still optional to access public models or datasets.\n",
            "  warnings.warn(\n"
          ]
        },
        {
          "output_type": "display_data",
          "data": {
            "text/plain": [
              "config.json:   0%|          | 0.00/69.7k [00:00<?, ?B/s]"
            ],
            "application/vnd.jupyter.widget-view+json": {
              "version_major": 2,
              "version_minor": 0,
              "model_id": "035fc47b05b341ee98aa144be8a5c9c7"
            }
          },
          "metadata": {}
        },
        {
          "output_type": "stream",
          "name": "stderr",
          "text": [
            "Xet Storage is enabled for this repo, but the 'hf_xet' package is not installed. Falling back to regular HTTP download. For better performance, install the package with: `pip install huggingface_hub[hf_xet]` or `pip install hf_xet`\n",
            "WARNING:huggingface_hub.file_download:Xet Storage is enabled for this repo, but the 'hf_xet' package is not installed. Falling back to regular HTTP download. For better performance, install the package with: `pip install huggingface_hub[hf_xet]` or `pip install hf_xet`\n"
          ]
        },
        {
          "output_type": "display_data",
          "data": {
            "text/plain": [
              "model.safetensors:   0%|          | 0.00/346M [00:00<?, ?B/s]"
            ],
            "application/vnd.jupyter.widget-view+json": {
              "version_major": 2,
              "version_minor": 0,
              "model_id": "37dfb6ab8c5f414b92c7b767ec855c47"
            }
          },
          "metadata": {}
        },
        {
          "output_type": "stream",
          "name": "stderr",
          "text": [
            "Some weights of ViTModel were not initialized from the model checkpoint at google/vit-base-patch16-224 and are newly initialized: ['pooler.dense.bias', 'pooler.dense.weight']\n",
            "You should probably TRAIN this model on a down-stream task to be able to use it for predictions and inference.\n",
            "Epoch 1/1000: 100%|██████████| 422/422 [04:47<00:00,  1.47it/s, Loss=1.9273, Acc=0.2315]\n"
          ]
        },
        {
          "output_type": "stream",
          "name": "stdout",
          "text": [
            "Epoch 1/1000: Train Loss: 1.9273, Train Acc: 0.2315\n"
          ]
        },
        {
          "output_type": "stream",
          "name": "stderr",
          "text": [
            "Epoch 1/1000 (Validation): 100%|██████████| 47/47 [00:10<00:00,  4.54it/s, Loss=1.8426, Acc=0.2622]\n"
          ]
        },
        {
          "output_type": "stream",
          "name": "stdout",
          "text": [
            "Epoch 1/1000: Val Loss: 1.8426, Val Acc: 0.2622, Val F1: 0.1105\n",
            "Current Learning Rate: 3e-05\n",
            "Best model saved at /content/drive/MyDrive/Hasil Eksperimen/hybrid_cnn_vit_pretrained_best.pt with val accuracy: 0.2622\n"
          ]
        },
        {
          "output_type": "stream",
          "name": "stderr",
          "text": [
            "Epoch 2/1000: 100%|██████████| 422/422 [04:44<00:00,  1.48it/s, Loss=1.8177, Acc=0.2458]\n"
          ]
        },
        {
          "output_type": "stream",
          "name": "stdout",
          "text": [
            "Epoch 2/1000: Train Loss: 1.8177, Train Acc: 0.2458\n"
          ]
        },
        {
          "output_type": "stream",
          "name": "stderr",
          "text": [
            "Epoch 2/1000 (Validation): 100%|██████████| 47/47 [00:10<00:00,  4.52it/s, Loss=1.7531, Acc=0.2815]\n"
          ]
        },
        {
          "output_type": "stream",
          "name": "stdout",
          "text": [
            "Epoch 2/1000: Val Loss: 1.7531, Val Acc: 0.2815, Val F1: 0.2296\n",
            "Current Learning Rate: 3e-05\n",
            "Best model saved at /content/drive/MyDrive/Hasil Eksperimen/hybrid_cnn_vit_pretrained_best.pt with val accuracy: 0.2815\n"
          ]
        },
        {
          "output_type": "stream",
          "name": "stderr",
          "text": [
            "Epoch 3/1000: 100%|██████████| 422/422 [04:45<00:00,  1.48it/s, Loss=1.7923, Acc=0.2604]\n"
          ]
        },
        {
          "output_type": "stream",
          "name": "stdout",
          "text": [
            "Epoch 3/1000: Train Loss: 1.7923, Train Acc: 0.2604\n"
          ]
        },
        {
          "output_type": "stream",
          "name": "stderr",
          "text": [
            "Epoch 3/1000 (Validation): 100%|██████████| 47/47 [00:10<00:00,  4.52it/s, Loss=1.8159, Acc=0.2195]\n"
          ]
        },
        {
          "output_type": "stream",
          "name": "stdout",
          "text": [
            "Epoch 3/1000: Val Loss: 1.8159, Val Acc: 0.2195, Val F1: 0.1559\n",
            "Current Learning Rate: 3e-05\n"
          ]
        },
        {
          "output_type": "stream",
          "name": "stderr",
          "text": [
            "Epoch 4/1000: 100%|██████████| 422/422 [04:44<00:00,  1.48it/s, Loss=1.7733, Acc=0.2752]\n"
          ]
        },
        {
          "output_type": "stream",
          "name": "stdout",
          "text": [
            "Epoch 4/1000: Train Loss: 1.7733, Train Acc: 0.2752\n"
          ]
        },
        {
          "output_type": "stream",
          "name": "stderr",
          "text": [
            "Epoch 4/1000 (Validation): 100%|██████████| 47/47 [00:10<00:00,  4.54it/s, Loss=1.7522, Acc=0.2925]\n"
          ]
        },
        {
          "output_type": "stream",
          "name": "stdout",
          "text": [
            "Epoch 4/1000: Val Loss: 1.7522, Val Acc: 0.2925, Val F1: 0.1861\n",
            "Current Learning Rate: 3e-05\n",
            "Best model saved at /content/drive/MyDrive/Hasil Eksperimen/hybrid_cnn_vit_pretrained_best.pt with val accuracy: 0.2925\n"
          ]
        },
        {
          "output_type": "stream",
          "name": "stderr",
          "text": [
            "Epoch 5/1000: 100%|██████████| 422/422 [04:45<00:00,  1.48it/s, Loss=1.7317, Acc=0.2945]\n"
          ]
        },
        {
          "output_type": "stream",
          "name": "stdout",
          "text": [
            "Epoch 5/1000: Train Loss: 1.7317, Train Acc: 0.2945\n"
          ]
        },
        {
          "output_type": "stream",
          "name": "stderr",
          "text": [
            "Epoch 5/1000 (Validation): 100%|██████████| 47/47 [00:10<00:00,  4.56it/s, Loss=1.6676, Acc=0.3229]\n"
          ]
        },
        {
          "output_type": "stream",
          "name": "stdout",
          "text": [
            "Epoch 5/1000: Val Loss: 1.6676, Val Acc: 0.3229, Val F1: 0.2861\n",
            "Current Learning Rate: 3e-05\n",
            "Best model saved at /content/drive/MyDrive/Hasil Eksperimen/hybrid_cnn_vit_pretrained_best.pt with val accuracy: 0.3229\n"
          ]
        },
        {
          "output_type": "stream",
          "name": "stderr",
          "text": [
            "Epoch 6/1000: 100%|██████████| 422/422 [04:45<00:00,  1.48it/s, Loss=1.6723, Acc=0.3274]\n"
          ]
        },
        {
          "output_type": "stream",
          "name": "stdout",
          "text": [
            "Epoch 6/1000: Train Loss: 1.6723, Train Acc: 0.3274\n"
          ]
        },
        {
          "output_type": "stream",
          "name": "stderr",
          "text": [
            "Epoch 6/1000 (Validation): 100%|██████████| 47/47 [00:10<00:00,  4.56it/s, Loss=1.5989, Acc=0.3766]\n"
          ]
        },
        {
          "output_type": "stream",
          "name": "stdout",
          "text": [
            "Epoch 6/1000: Val Loss: 1.5989, Val Acc: 0.3766, Val F1: 0.3174\n",
            "Current Learning Rate: 3e-05\n",
            "Best model saved at /content/drive/MyDrive/Hasil Eksperimen/hybrid_cnn_vit_pretrained_best.pt with val accuracy: 0.3766\n"
          ]
        },
        {
          "output_type": "stream",
          "name": "stderr",
          "text": [
            "Epoch 7/1000: 100%|██████████| 422/422 [04:45<00:00,  1.48it/s, Loss=1.6254, Acc=0.3496]\n"
          ]
        },
        {
          "output_type": "stream",
          "name": "stdout",
          "text": [
            "Epoch 7/1000: Train Loss: 1.6254, Train Acc: 0.3496\n"
          ]
        },
        {
          "output_type": "stream",
          "name": "stderr",
          "text": [
            "Epoch 7/1000 (Validation): 100%|██████████| 47/47 [00:10<00:00,  4.55it/s, Loss=1.5371, Acc=0.4013]\n"
          ]
        },
        {
          "output_type": "stream",
          "name": "stdout",
          "text": [
            "Epoch 7/1000: Val Loss: 1.5371, Val Acc: 0.4013, Val F1: 0.3500\n",
            "Current Learning Rate: 3e-05\n",
            "Best model saved at /content/drive/MyDrive/Hasil Eksperimen/hybrid_cnn_vit_pretrained_best.pt with val accuracy: 0.4013\n"
          ]
        },
        {
          "output_type": "stream",
          "name": "stderr",
          "text": [
            "Epoch 8/1000: 100%|██████████| 422/422 [04:45<00:00,  1.48it/s, Loss=1.5823, Acc=0.3703]\n"
          ]
        },
        {
          "output_type": "stream",
          "name": "stdout",
          "text": [
            "Epoch 8/1000: Train Loss: 1.5823, Train Acc: 0.3703\n"
          ]
        },
        {
          "output_type": "stream",
          "name": "stderr",
          "text": [
            "Epoch 8/1000 (Validation): 100%|██████████| 47/47 [00:10<00:00,  4.54it/s, Loss=1.5304, Acc=0.3999]\n"
          ]
        },
        {
          "output_type": "stream",
          "name": "stdout",
          "text": [
            "Epoch 8/1000: Val Loss: 1.5304, Val Acc: 0.3999, Val F1: 0.3564\n",
            "Current Learning Rate: 3e-05\n"
          ]
        },
        {
          "output_type": "stream",
          "name": "stderr",
          "text": [
            "Epoch 9/1000: 100%|██████████| 422/422 [04:45<00:00,  1.48it/s, Loss=1.5397, Acc=0.3918]\n"
          ]
        },
        {
          "output_type": "stream",
          "name": "stdout",
          "text": [
            "Epoch 9/1000: Train Loss: 1.5397, Train Acc: 0.3918\n"
          ]
        },
        {
          "output_type": "stream",
          "name": "stderr",
          "text": [
            "Epoch 9/1000 (Validation): 100%|██████████| 47/47 [00:10<00:00,  4.55it/s, Loss=1.4923, Acc=0.4073]\n"
          ]
        },
        {
          "output_type": "stream",
          "name": "stdout",
          "text": [
            "Epoch 9/1000: Val Loss: 1.4923, Val Acc: 0.4073, Val F1: 0.3775\n",
            "Current Learning Rate: 3e-05\n",
            "Best model saved at /content/drive/MyDrive/Hasil Eksperimen/hybrid_cnn_vit_pretrained_best.pt with val accuracy: 0.4073\n"
          ]
        },
        {
          "output_type": "stream",
          "name": "stderr",
          "text": [
            "Epoch 10/1000: 100%|██████████| 422/422 [04:45<00:00,  1.48it/s, Loss=1.5087, Acc=0.4066]\n"
          ]
        },
        {
          "output_type": "stream",
          "name": "stdout",
          "text": [
            "Epoch 10/1000: Train Loss: 1.5087, Train Acc: 0.4066\n"
          ]
        },
        {
          "output_type": "stream",
          "name": "stderr",
          "text": [
            "Epoch 10/1000 (Validation): 100%|██████████| 47/47 [00:10<00:00,  4.55it/s, Loss=1.4988, Acc=0.4173]\n"
          ]
        },
        {
          "output_type": "stream",
          "name": "stdout",
          "text": [
            "Epoch 10/1000: Val Loss: 1.4988, Val Acc: 0.4173, Val F1: 0.3493\n",
            "Current Learning Rate: 3e-05\n",
            "Best model saved at /content/drive/MyDrive/Hasil Eksperimen/hybrid_cnn_vit_pretrained_best.pt with val accuracy: 0.4173\n"
          ]
        },
        {
          "output_type": "stream",
          "name": "stderr",
          "text": [
            "Epoch 11/1000: 100%|██████████| 422/422 [04:45<00:00,  1.48it/s, Loss=1.4881, Acc=0.4196]\n"
          ]
        },
        {
          "output_type": "stream",
          "name": "stdout",
          "text": [
            "Epoch 11/1000: Train Loss: 1.4881, Train Acc: 0.4196\n"
          ]
        },
        {
          "output_type": "stream",
          "name": "stderr",
          "text": [
            "Epoch 11/1000 (Validation): 100%|██████████| 47/47 [00:10<00:00,  4.52it/s, Loss=1.4309, Acc=0.4543]\n"
          ]
        },
        {
          "output_type": "stream",
          "name": "stdout",
          "text": [
            "Epoch 11/1000: Val Loss: 1.4309, Val Acc: 0.4543, Val F1: 0.4186\n",
            "Current Learning Rate: 3e-05\n",
            "Best model saved at /content/drive/MyDrive/Hasil Eksperimen/hybrid_cnn_vit_pretrained_best.pt with val accuracy: 0.4543\n"
          ]
        },
        {
          "output_type": "stream",
          "name": "stderr",
          "text": [
            "Epoch 12/1000: 100%|██████████| 422/422 [04:46<00:00,  1.47it/s, Loss=1.5029, Acc=0.4089]\n"
          ]
        },
        {
          "output_type": "stream",
          "name": "stdout",
          "text": [
            "Epoch 12/1000: Train Loss: 1.5029, Train Acc: 0.4089\n"
          ]
        },
        {
          "output_type": "stream",
          "name": "stderr",
          "text": [
            "Epoch 12/1000 (Validation): 100%|██████████| 47/47 [00:10<00:00,  4.51it/s, Loss=1.4047, Acc=0.4516]\n"
          ]
        },
        {
          "output_type": "stream",
          "name": "stdout",
          "text": [
            "Epoch 12/1000: Val Loss: 1.4047, Val Acc: 0.4516, Val F1: 0.4247\n",
            "Current Learning Rate: 3e-05\n"
          ]
        },
        {
          "output_type": "stream",
          "name": "stderr",
          "text": [
            "Epoch 13/1000: 100%|██████████| 422/422 [04:45<00:00,  1.48it/s, Loss=1.4517, Acc=0.4313]\n"
          ]
        },
        {
          "output_type": "stream",
          "name": "stdout",
          "text": [
            "Epoch 13/1000: Train Loss: 1.4517, Train Acc: 0.4313\n"
          ]
        },
        {
          "output_type": "stream",
          "name": "stderr",
          "text": [
            "Epoch 13/1000 (Validation): 100%|██████████| 47/47 [00:10<00:00,  4.54it/s, Loss=1.3999, Acc=0.4590]\n"
          ]
        },
        {
          "output_type": "stream",
          "name": "stdout",
          "text": [
            "Epoch 13/1000: Val Loss: 1.3999, Val Acc: 0.4590, Val F1: 0.4067\n",
            "Current Learning Rate: 3e-05\n",
            "Best model saved at /content/drive/MyDrive/Hasil Eksperimen/hybrid_cnn_vit_pretrained_best.pt with val accuracy: 0.4590\n"
          ]
        },
        {
          "output_type": "stream",
          "name": "stderr",
          "text": [
            "Epoch 14/1000: 100%|██████████| 422/422 [04:45<00:00,  1.48it/s, Loss=1.4121, Acc=0.4474]\n"
          ]
        },
        {
          "output_type": "stream",
          "name": "stdout",
          "text": [
            "Epoch 14/1000: Train Loss: 1.4121, Train Acc: 0.4474\n"
          ]
        },
        {
          "output_type": "stream",
          "name": "stderr",
          "text": [
            "Epoch 14/1000 (Validation): 100%|██████████| 47/47 [00:10<00:00,  4.53it/s, Loss=1.3556, Acc=0.4703]\n"
          ]
        },
        {
          "output_type": "stream",
          "name": "stdout",
          "text": [
            "Epoch 14/1000: Val Loss: 1.3556, Val Acc: 0.4703, Val F1: 0.4452\n",
            "Current Learning Rate: 3e-05\n",
            "Best model saved at /content/drive/MyDrive/Hasil Eksperimen/hybrid_cnn_vit_pretrained_best.pt with val accuracy: 0.4703\n"
          ]
        },
        {
          "output_type": "stream",
          "name": "stderr",
          "text": [
            "Epoch 15/1000: 100%|██████████| 422/422 [04:44<00:00,  1.48it/s, Loss=1.3982, Acc=0.4589]\n"
          ]
        },
        {
          "output_type": "stream",
          "name": "stdout",
          "text": [
            "Epoch 15/1000: Train Loss: 1.3982, Train Acc: 0.4589\n"
          ]
        },
        {
          "output_type": "stream",
          "name": "stderr",
          "text": [
            "Epoch 15/1000 (Validation): 100%|██████████| 47/47 [00:10<00:00,  4.54it/s, Loss=1.3760, Acc=0.4663]\n"
          ]
        },
        {
          "output_type": "stream",
          "name": "stdout",
          "text": [
            "Epoch 15/1000: Val Loss: 1.3760, Val Acc: 0.4663, Val F1: 0.4242\n",
            "Current Learning Rate: 3e-05\n"
          ]
        },
        {
          "output_type": "stream",
          "name": "stderr",
          "text": [
            "Epoch 16/1000: 100%|██████████| 422/422 [04:44<00:00,  1.48it/s, Loss=1.3752, Acc=0.4624]\n"
          ]
        },
        {
          "output_type": "stream",
          "name": "stdout",
          "text": [
            "Epoch 16/1000: Train Loss: 1.3752, Train Acc: 0.4624\n"
          ]
        },
        {
          "output_type": "stream",
          "name": "stderr",
          "text": [
            "Epoch 16/1000 (Validation): 100%|██████████| 47/47 [00:10<00:00,  4.53it/s, Loss=1.3538, Acc=0.4750]\n"
          ]
        },
        {
          "output_type": "stream",
          "name": "stdout",
          "text": [
            "Epoch 16/1000: Val Loss: 1.3538, Val Acc: 0.4750, Val F1: 0.4481\n",
            "Current Learning Rate: 3e-05\n",
            "Best model saved at /content/drive/MyDrive/Hasil Eksperimen/hybrid_cnn_vit_pretrained_best.pt with val accuracy: 0.4750\n"
          ]
        },
        {
          "output_type": "stream",
          "name": "stderr",
          "text": [
            "Epoch 17/1000: 100%|██████████| 422/422 [04:44<00:00,  1.48it/s, Loss=1.3491, Acc=0.4746]\n"
          ]
        },
        {
          "output_type": "stream",
          "name": "stdout",
          "text": [
            "Epoch 17/1000: Train Loss: 1.3491, Train Acc: 0.4746\n"
          ]
        },
        {
          "output_type": "stream",
          "name": "stderr",
          "text": [
            "Epoch 17/1000 (Validation): 100%|██████████| 47/47 [00:10<00:00,  4.54it/s, Loss=1.3118, Acc=0.4893]\n"
          ]
        },
        {
          "output_type": "stream",
          "name": "stdout",
          "text": [
            "Epoch 17/1000: Val Loss: 1.3118, Val Acc: 0.4893, Val F1: 0.4576\n",
            "Current Learning Rate: 3e-05\n",
            "Best model saved at /content/drive/MyDrive/Hasil Eksperimen/hybrid_cnn_vit_pretrained_best.pt with val accuracy: 0.4893\n"
          ]
        },
        {
          "output_type": "stream",
          "name": "stderr",
          "text": [
            "Epoch 18/1000: 100%|██████████| 422/422 [04:44<00:00,  1.48it/s, Loss=1.3271, Acc=0.4849]\n"
          ]
        },
        {
          "output_type": "stream",
          "name": "stdout",
          "text": [
            "Epoch 18/1000: Train Loss: 1.3271, Train Acc: 0.4849\n"
          ]
        },
        {
          "output_type": "stream",
          "name": "stderr",
          "text": [
            "Epoch 18/1000 (Validation): 100%|██████████| 47/47 [00:10<00:00,  4.56it/s, Loss=1.3276, Acc=0.4847]\n"
          ]
        },
        {
          "output_type": "stream",
          "name": "stdout",
          "text": [
            "Epoch 18/1000: Val Loss: 1.3276, Val Acc: 0.4847, Val F1: 0.4459\n",
            "Current Learning Rate: 3e-05\n"
          ]
        },
        {
          "output_type": "stream",
          "name": "stderr",
          "text": [
            "Epoch 19/1000: 100%|██████████| 422/422 [04:44<00:00,  1.48it/s, Loss=1.3098, Acc=0.4946]\n"
          ]
        },
        {
          "output_type": "stream",
          "name": "stdout",
          "text": [
            "Epoch 19/1000: Train Loss: 1.3098, Train Acc: 0.4946\n"
          ]
        },
        {
          "output_type": "stream",
          "name": "stderr",
          "text": [
            "Epoch 19/1000 (Validation): 100%|██████████| 47/47 [00:10<00:00,  4.53it/s, Loss=1.2735, Acc=0.5090]\n"
          ]
        },
        {
          "output_type": "stream",
          "name": "stdout",
          "text": [
            "Epoch 19/1000: Val Loss: 1.2735, Val Acc: 0.5090, Val F1: 0.4938\n",
            "Current Learning Rate: 3e-05\n",
            "Best model saved at /content/drive/MyDrive/Hasil Eksperimen/hybrid_cnn_vit_pretrained_best.pt with val accuracy: 0.5090\n"
          ]
        },
        {
          "output_type": "stream",
          "name": "stderr",
          "text": [
            "Epoch 20/1000: 100%|██████████| 422/422 [04:45<00:00,  1.48it/s, Loss=1.2788, Acc=0.5044]\n"
          ]
        },
        {
          "output_type": "stream",
          "name": "stdout",
          "text": [
            "Epoch 20/1000: Train Loss: 1.2788, Train Acc: 0.5044\n"
          ]
        },
        {
          "output_type": "stream",
          "name": "stderr",
          "text": [
            "Epoch 20/1000 (Validation): 100%|██████████| 47/47 [00:10<00:00,  4.50it/s, Loss=1.2688, Acc=0.5183]\n"
          ]
        },
        {
          "output_type": "stream",
          "name": "stdout",
          "text": [
            "Epoch 20/1000: Val Loss: 1.2688, Val Acc: 0.5183, Val F1: 0.4900\n",
            "Current Learning Rate: 3e-05\n",
            "Best model saved at /content/drive/MyDrive/Hasil Eksperimen/hybrid_cnn_vit_pretrained_best.pt with val accuracy: 0.5183\n"
          ]
        },
        {
          "output_type": "stream",
          "name": "stderr",
          "text": [
            "Epoch 21/1000: 100%|██████████| 422/422 [04:44<00:00,  1.48it/s, Loss=1.2646, Acc=0.5128]\n"
          ]
        },
        {
          "output_type": "stream",
          "name": "stdout",
          "text": [
            "Epoch 21/1000: Train Loss: 1.2646, Train Acc: 0.5128\n"
          ]
        },
        {
          "output_type": "stream",
          "name": "stderr",
          "text": [
            "Epoch 21/1000 (Validation): 100%|██████████| 47/47 [00:10<00:00,  4.52it/s, Loss=1.3232, Acc=0.4950]\n"
          ]
        },
        {
          "output_type": "stream",
          "name": "stdout",
          "text": [
            "Epoch 21/1000: Val Loss: 1.3232, Val Acc: 0.4950, Val F1: 0.4879\n",
            "Current Learning Rate: 3e-05\n"
          ]
        },
        {
          "output_type": "stream",
          "name": "stderr",
          "text": [
            "Epoch 22/1000: 100%|██████████| 422/422 [04:44<00:00,  1.49it/s, Loss=1.2399, Acc=0.5248]\n"
          ]
        },
        {
          "output_type": "stream",
          "name": "stdout",
          "text": [
            "Epoch 22/1000: Train Loss: 1.2399, Train Acc: 0.5248\n"
          ]
        },
        {
          "output_type": "stream",
          "name": "stderr",
          "text": [
            "Epoch 22/1000 (Validation): 100%|██████████| 47/47 [00:10<00:00,  4.61it/s, Loss=1.2483, Acc=0.5237]\n"
          ]
        },
        {
          "output_type": "stream",
          "name": "stdout",
          "text": [
            "Epoch 22/1000: Val Loss: 1.2483, Val Acc: 0.5237, Val F1: 0.5014\n",
            "Current Learning Rate: 3e-05\n",
            "Best model saved at /content/drive/MyDrive/Hasil Eksperimen/hybrid_cnn_vit_pretrained_best.pt with val accuracy: 0.5237\n"
          ]
        },
        {
          "output_type": "stream",
          "name": "stderr",
          "text": [
            "Epoch 23/1000: 100%|██████████| 422/422 [04:43<00:00,  1.49it/s, Loss=1.2195, Acc=0.5314]\n"
          ]
        },
        {
          "output_type": "stream",
          "name": "stdout",
          "text": [
            "Epoch 23/1000: Train Loss: 1.2195, Train Acc: 0.5314\n"
          ]
        },
        {
          "output_type": "stream",
          "name": "stderr",
          "text": [
            "Epoch 23/1000 (Validation): 100%|██████████| 47/47 [00:10<00:00,  4.58it/s, Loss=1.2872, Acc=0.5023]\n"
          ]
        },
        {
          "output_type": "stream",
          "name": "stdout",
          "text": [
            "Epoch 23/1000: Val Loss: 1.2872, Val Acc: 0.5023, Val F1: 0.4996\n",
            "Current Learning Rate: 3e-05\n"
          ]
        },
        {
          "output_type": "stream",
          "name": "stderr",
          "text": [
            "Epoch 24/1000: 100%|██████████| 422/422 [04:44<00:00,  1.48it/s, Loss=1.1972, Acc=0.5382]\n"
          ]
        },
        {
          "output_type": "stream",
          "name": "stdout",
          "text": [
            "Epoch 24/1000: Train Loss: 1.1972, Train Acc: 0.5382\n"
          ]
        },
        {
          "output_type": "stream",
          "name": "stderr",
          "text": [
            "Epoch 24/1000 (Validation): 100%|██████████| 47/47 [00:10<00:00,  4.54it/s, Loss=1.2631, Acc=0.5233]\n"
          ]
        },
        {
          "output_type": "stream",
          "name": "stdout",
          "text": [
            "Epoch 24/1000: Val Loss: 1.2631, Val Acc: 0.5233, Val F1: 0.4797\n",
            "Current Learning Rate: 3e-05\n"
          ]
        },
        {
          "output_type": "stream",
          "name": "stderr",
          "text": [
            "Epoch 25/1000: 100%|██████████| 422/422 [04:44<00:00,  1.48it/s, Loss=1.1739, Acc=0.5500]\n"
          ]
        },
        {
          "output_type": "stream",
          "name": "stdout",
          "text": [
            "Epoch 25/1000: Train Loss: 1.1739, Train Acc: 0.5500\n"
          ]
        },
        {
          "output_type": "stream",
          "name": "stderr",
          "text": [
            "Epoch 25/1000 (Validation): 100%|██████████| 47/47 [00:10<00:00,  4.52it/s, Loss=1.2134, Acc=0.5314]\n"
          ]
        },
        {
          "output_type": "stream",
          "name": "stdout",
          "text": [
            "Epoch 25/1000: Val Loss: 1.2134, Val Acc: 0.5314, Val F1: 0.5214\n",
            "Current Learning Rate: 3e-05\n",
            "Best model saved at /content/drive/MyDrive/Hasil Eksperimen/hybrid_cnn_vit_pretrained_best.pt with val accuracy: 0.5314\n"
          ]
        },
        {
          "output_type": "stream",
          "name": "stderr",
          "text": [
            "Epoch 26/1000: 100%|██████████| 422/422 [04:44<00:00,  1.48it/s, Loss=1.1602, Acc=0.5574]\n"
          ]
        },
        {
          "output_type": "stream",
          "name": "stdout",
          "text": [
            "Epoch 26/1000: Train Loss: 1.1602, Train Acc: 0.5574\n"
          ]
        },
        {
          "output_type": "stream",
          "name": "stderr",
          "text": [
            "Epoch 26/1000 (Validation): 100%|██████████| 47/47 [00:10<00:00,  4.51it/s, Loss=1.2031, Acc=0.5417]\n"
          ]
        },
        {
          "output_type": "stream",
          "name": "stdout",
          "text": [
            "Epoch 26/1000: Val Loss: 1.2031, Val Acc: 0.5417, Val F1: 0.5369\n",
            "Current Learning Rate: 3e-05\n",
            "Best model saved at /content/drive/MyDrive/Hasil Eksperimen/hybrid_cnn_vit_pretrained_best.pt with val accuracy: 0.5417\n"
          ]
        },
        {
          "output_type": "stream",
          "name": "stderr",
          "text": [
            "Epoch 27/1000: 100%|██████████| 422/422 [04:45<00:00,  1.48it/s, Loss=1.1280, Acc=0.5687]\n"
          ]
        },
        {
          "output_type": "stream",
          "name": "stdout",
          "text": [
            "Epoch 27/1000: Train Loss: 1.1280, Train Acc: 0.5687\n"
          ]
        },
        {
          "output_type": "stream",
          "name": "stderr",
          "text": [
            "Epoch 27/1000 (Validation): 100%|██████████| 47/47 [00:10<00:00,  4.54it/s, Loss=1.2314, Acc=0.5280]\n"
          ]
        },
        {
          "output_type": "stream",
          "name": "stdout",
          "text": [
            "Epoch 27/1000: Val Loss: 1.2314, Val Acc: 0.5280, Val F1: 0.5106\n",
            "Current Learning Rate: 3e-05\n"
          ]
        },
        {
          "output_type": "stream",
          "name": "stderr",
          "text": [
            "Epoch 28/1000: 100%|██████████| 422/422 [04:44<00:00,  1.48it/s, Loss=1.1103, Acc=0.5770]\n"
          ]
        },
        {
          "output_type": "stream",
          "name": "stdout",
          "text": [
            "Epoch 28/1000: Train Loss: 1.1103, Train Acc: 0.5770\n"
          ]
        },
        {
          "output_type": "stream",
          "name": "stderr",
          "text": [
            "Epoch 28/1000 (Validation): 100%|██████████| 47/47 [00:10<00:00,  4.56it/s, Loss=1.1821, Acc=0.5507]\n"
          ]
        },
        {
          "output_type": "stream",
          "name": "stdout",
          "text": [
            "Epoch 28/1000: Val Loss: 1.1821, Val Acc: 0.5507, Val F1: 0.5393\n",
            "Current Learning Rate: 3e-05\n",
            "Best model saved at /content/drive/MyDrive/Hasil Eksperimen/hybrid_cnn_vit_pretrained_best.pt with val accuracy: 0.5507\n"
          ]
        },
        {
          "output_type": "stream",
          "name": "stderr",
          "text": [
            "Epoch 29/1000: 100%|██████████| 422/422 [04:44<00:00,  1.48it/s, Loss=1.0863, Acc=0.5856]\n"
          ]
        },
        {
          "output_type": "stream",
          "name": "stdout",
          "text": [
            "Epoch 29/1000: Train Loss: 1.0863, Train Acc: 0.5856\n"
          ]
        },
        {
          "output_type": "stream",
          "name": "stderr",
          "text": [
            "Epoch 29/1000 (Validation): 100%|██████████| 47/47 [00:10<00:00,  4.54it/s, Loss=1.2003, Acc=0.5430]\n"
          ]
        },
        {
          "output_type": "stream",
          "name": "stdout",
          "text": [
            "Epoch 29/1000: Val Loss: 1.2003, Val Acc: 0.5430, Val F1: 0.5405\n",
            "Current Learning Rate: 3e-05\n"
          ]
        },
        {
          "output_type": "stream",
          "name": "stderr",
          "text": [
            "Epoch 30/1000: 100%|██████████| 422/422 [04:44<00:00,  1.48it/s, Loss=1.0615, Acc=0.5972]\n"
          ]
        },
        {
          "output_type": "stream",
          "name": "stdout",
          "text": [
            "Epoch 30/1000: Train Loss: 1.0615, Train Acc: 0.5972\n"
          ]
        },
        {
          "output_type": "stream",
          "name": "stderr",
          "text": [
            "Epoch 30/1000 (Validation): 100%|██████████| 47/47 [00:10<00:00,  4.54it/s, Loss=1.1851, Acc=0.5487]\n"
          ]
        },
        {
          "output_type": "stream",
          "name": "stdout",
          "text": [
            "Epoch 30/1000: Val Loss: 1.1851, Val Acc: 0.5487, Val F1: 0.5332\n",
            "Current Learning Rate: 3e-05\n"
          ]
        },
        {
          "output_type": "stream",
          "name": "stderr",
          "text": [
            "Epoch 31/1000: 100%|██████████| 422/422 [04:44<00:00,  1.48it/s, Loss=1.0267, Acc=0.6114]\n"
          ]
        },
        {
          "output_type": "stream",
          "name": "stdout",
          "text": [
            "Epoch 31/1000: Train Loss: 1.0267, Train Acc: 0.6114\n"
          ]
        },
        {
          "output_type": "stream",
          "name": "stderr",
          "text": [
            "Epoch 31/1000 (Validation): 100%|██████████| 47/47 [00:10<00:00,  4.54it/s, Loss=1.1743, Acc=0.5610]\n"
          ]
        },
        {
          "output_type": "stream",
          "name": "stdout",
          "text": [
            "Epoch 31/1000: Val Loss: 1.1743, Val Acc: 0.5610, Val F1: 0.5484\n",
            "Current Learning Rate: 3e-05\n",
            "Best model saved at /content/drive/MyDrive/Hasil Eksperimen/hybrid_cnn_vit_pretrained_best.pt with val accuracy: 0.5610\n"
          ]
        },
        {
          "output_type": "stream",
          "name": "stderr",
          "text": [
            "Epoch 32/1000: 100%|██████████| 422/422 [04:44<00:00,  1.48it/s, Loss=1.0121, Acc=0.6184]\n"
          ]
        },
        {
          "output_type": "stream",
          "name": "stdout",
          "text": [
            "Epoch 32/1000: Train Loss: 1.0121, Train Acc: 0.6184\n"
          ]
        },
        {
          "output_type": "stream",
          "name": "stderr",
          "text": [
            "Epoch 32/1000 (Validation): 100%|██████████| 47/47 [00:10<00:00,  4.51it/s, Loss=1.1769, Acc=0.5617]\n"
          ]
        },
        {
          "output_type": "stream",
          "name": "stdout",
          "text": [
            "Epoch 32/1000: Val Loss: 1.1769, Val Acc: 0.5617, Val F1: 0.5443\n",
            "Current Learning Rate: 3e-05\n",
            "Best model saved at /content/drive/MyDrive/Hasil Eksperimen/hybrid_cnn_vit_pretrained_best.pt with val accuracy: 0.5617\n"
          ]
        },
        {
          "output_type": "stream",
          "name": "stderr",
          "text": [
            "Epoch 33/1000: 100%|██████████| 422/422 [04:44<00:00,  1.48it/s, Loss=0.9812, Acc=0.6276]\n"
          ]
        },
        {
          "output_type": "stream",
          "name": "stdout",
          "text": [
            "Epoch 33/1000: Train Loss: 0.9812, Train Acc: 0.6276\n"
          ]
        },
        {
          "output_type": "stream",
          "name": "stderr",
          "text": [
            "Epoch 33/1000 (Validation): 100%|██████████| 47/47 [00:10<00:00,  4.54it/s, Loss=1.1903, Acc=0.5494]\n"
          ]
        },
        {
          "output_type": "stream",
          "name": "stdout",
          "text": [
            "Epoch 33/1000: Val Loss: 1.1903, Val Acc: 0.5494, Val F1: 0.5561\n",
            "Current Learning Rate: 3e-05\n"
          ]
        },
        {
          "output_type": "stream",
          "name": "stderr",
          "text": [
            "Epoch 34/1000: 100%|██████████| 422/422 [04:44<00:00,  1.48it/s, Loss=0.9570, Acc=0.6382]\n"
          ]
        },
        {
          "output_type": "stream",
          "name": "stdout",
          "text": [
            "Epoch 34/1000: Train Loss: 0.9570, Train Acc: 0.6382\n"
          ]
        },
        {
          "output_type": "stream",
          "name": "stderr",
          "text": [
            "Epoch 34/1000 (Validation): 100%|██████████| 47/47 [00:10<00:00,  4.52it/s, Loss=1.1440, Acc=0.5754]\n"
          ]
        },
        {
          "output_type": "stream",
          "name": "stdout",
          "text": [
            "Epoch 34/1000: Val Loss: 1.1440, Val Acc: 0.5754, Val F1: 0.5659\n",
            "Current Learning Rate: 3e-05\n",
            "Best model saved at /content/drive/MyDrive/Hasil Eksperimen/hybrid_cnn_vit_pretrained_best.pt with val accuracy: 0.5754\n"
          ]
        },
        {
          "output_type": "stream",
          "name": "stderr",
          "text": [
            "Epoch 35/1000: 100%|██████████| 422/422 [04:45<00:00,  1.48it/s, Loss=0.9312, Acc=0.6520]\n"
          ]
        },
        {
          "output_type": "stream",
          "name": "stdout",
          "text": [
            "Epoch 35/1000: Train Loss: 0.9312, Train Acc: 0.6520\n"
          ]
        },
        {
          "output_type": "stream",
          "name": "stderr",
          "text": [
            "Epoch 35/1000 (Validation): 100%|██████████| 47/47 [00:10<00:00,  4.51it/s, Loss=1.1526, Acc=0.5844]\n"
          ]
        },
        {
          "output_type": "stream",
          "name": "stdout",
          "text": [
            "Epoch 35/1000: Val Loss: 1.1526, Val Acc: 0.5844, Val F1: 0.5770\n",
            "Current Learning Rate: 3e-05\n",
            "Best model saved at /content/drive/MyDrive/Hasil Eksperimen/hybrid_cnn_vit_pretrained_best.pt with val accuracy: 0.5844\n"
          ]
        },
        {
          "output_type": "stream",
          "name": "stderr",
          "text": [
            "Epoch 36/1000: 100%|██████████| 422/422 [04:45<00:00,  1.48it/s, Loss=0.8953, Acc=0.6638]\n"
          ]
        },
        {
          "output_type": "stream",
          "name": "stdout",
          "text": [
            "Epoch 36/1000: Train Loss: 0.8953, Train Acc: 0.6638\n"
          ]
        },
        {
          "output_type": "stream",
          "name": "stderr",
          "text": [
            "Epoch 36/1000 (Validation): 100%|██████████| 47/47 [00:10<00:00,  4.52it/s, Loss=1.1916, Acc=0.5654]\n"
          ]
        },
        {
          "output_type": "stream",
          "name": "stdout",
          "text": [
            "Epoch 36/1000: Val Loss: 1.1916, Val Acc: 0.5654, Val F1: 0.5741\n",
            "Current Learning Rate: 3e-05\n"
          ]
        },
        {
          "output_type": "stream",
          "name": "stderr",
          "text": [
            "Epoch 37/1000: 100%|██████████| 422/422 [04:45<00:00,  1.48it/s, Loss=0.8694, Acc=0.6748]\n"
          ]
        },
        {
          "output_type": "stream",
          "name": "stdout",
          "text": [
            "Epoch 37/1000: Train Loss: 0.8694, Train Acc: 0.6748\n"
          ]
        },
        {
          "output_type": "stream",
          "name": "stderr",
          "text": [
            "Epoch 37/1000 (Validation): 100%|██████████| 47/47 [00:10<00:00,  4.49it/s, Loss=1.1703, Acc=0.5817]\n"
          ]
        },
        {
          "output_type": "stream",
          "name": "stdout",
          "text": [
            "Epoch 37/1000: Val Loss: 1.1703, Val Acc: 0.5817, Val F1: 0.5749\n",
            "Current Learning Rate: 3e-05\n"
          ]
        },
        {
          "output_type": "stream",
          "name": "stderr",
          "text": [
            "Epoch 38/1000: 100%|██████████| 422/422 [04:44<00:00,  1.48it/s, Loss=0.8465, Acc=0.6825]\n"
          ]
        },
        {
          "output_type": "stream",
          "name": "stdout",
          "text": [
            "Epoch 38/1000: Train Loss: 0.8465, Train Acc: 0.6825\n"
          ]
        },
        {
          "output_type": "stream",
          "name": "stderr",
          "text": [
            "Epoch 38/1000 (Validation): 100%|██████████| 47/47 [00:10<00:00,  4.52it/s, Loss=1.1551, Acc=0.5787]\n"
          ]
        },
        {
          "output_type": "stream",
          "name": "stdout",
          "text": [
            "Epoch 38/1000: Val Loss: 1.1551, Val Acc: 0.5787, Val F1: 0.5706\n",
            "Current Learning Rate: 3e-05\n"
          ]
        },
        {
          "output_type": "stream",
          "name": "stderr",
          "text": [
            "Epoch 39/1000: 100%|██████████| 422/422 [04:45<00:00,  1.48it/s, Loss=0.8050, Acc=0.6991]\n"
          ]
        },
        {
          "output_type": "stream",
          "name": "stdout",
          "text": [
            "Epoch 39/1000: Train Loss: 0.8050, Train Acc: 0.6991\n"
          ]
        },
        {
          "output_type": "stream",
          "name": "stderr",
          "text": [
            "Epoch 39/1000 (Validation): 100%|██████████| 47/47 [00:10<00:00,  4.52it/s, Loss=1.1706, Acc=0.5724]\n"
          ]
        },
        {
          "output_type": "stream",
          "name": "stdout",
          "text": [
            "Epoch 39/1000: Val Loss: 1.1706, Val Acc: 0.5724, Val F1: 0.5714\n",
            "Current Learning Rate: 3e-05\n"
          ]
        },
        {
          "output_type": "stream",
          "name": "stderr",
          "text": [
            "Epoch 40/1000: 100%|██████████| 422/422 [04:44<00:00,  1.48it/s, Loss=0.7775, Acc=0.7139]\n"
          ]
        },
        {
          "output_type": "stream",
          "name": "stdout",
          "text": [
            "Epoch 40/1000: Train Loss: 0.7775, Train Acc: 0.7139\n"
          ]
        },
        {
          "output_type": "stream",
          "name": "stderr",
          "text": [
            "Epoch 40/1000 (Validation): 100%|██████████| 47/47 [00:10<00:00,  4.52it/s, Loss=1.1443, Acc=0.5871]\n"
          ]
        },
        {
          "output_type": "stream",
          "name": "stdout",
          "text": [
            "Epoch 40/1000: Val Loss: 1.1443, Val Acc: 0.5871, Val F1: 0.5814\n",
            "Current Learning Rate: 3e-06\n",
            "Best model saved at /content/drive/MyDrive/Hasil Eksperimen/hybrid_cnn_vit_pretrained_best.pt with val accuracy: 0.5871\n"
          ]
        },
        {
          "output_type": "stream",
          "name": "stderr",
          "text": [
            "Epoch 41/1000: 100%|██████████| 422/422 [04:45<00:00,  1.48it/s, Loss=0.6477, Acc=0.7710]\n"
          ]
        },
        {
          "output_type": "stream",
          "name": "stdout",
          "text": [
            "Epoch 41/1000: Train Loss: 0.6477, Train Acc: 0.7710\n"
          ]
        },
        {
          "output_type": "stream",
          "name": "stderr",
          "text": [
            "Epoch 41/1000 (Validation): 100%|██████████| 47/47 [00:10<00:00,  4.53it/s, Loss=1.1490, Acc=0.5977]\n"
          ]
        },
        {
          "output_type": "stream",
          "name": "stdout",
          "text": [
            "Epoch 41/1000: Val Loss: 1.1490, Val Acc: 0.5977, Val F1: 0.5966\n",
            "Current Learning Rate: 3e-06\n",
            "Best model saved at /content/drive/MyDrive/Hasil Eksperimen/hybrid_cnn_vit_pretrained_best.pt with val accuracy: 0.5977\n"
          ]
        },
        {
          "output_type": "stream",
          "name": "stderr",
          "text": [
            "Epoch 42/1000: 100%|██████████| 422/422 [04:45<00:00,  1.48it/s, Loss=0.6117, Acc=0.7845]\n"
          ]
        },
        {
          "output_type": "stream",
          "name": "stdout",
          "text": [
            "Epoch 42/1000: Train Loss: 0.6117, Train Acc: 0.7845\n"
          ]
        },
        {
          "output_type": "stream",
          "name": "stderr",
          "text": [
            "Epoch 42/1000 (Validation): 100%|██████████| 47/47 [00:10<00:00,  4.49it/s, Loss=1.1535, Acc=0.5971]\n"
          ]
        },
        {
          "output_type": "stream",
          "name": "stdout",
          "text": [
            "Epoch 42/1000: Val Loss: 1.1535, Val Acc: 0.5971, Val F1: 0.5938\n",
            "Current Learning Rate: 3e-06\n"
          ]
        },
        {
          "output_type": "stream",
          "name": "stderr",
          "text": [
            "Epoch 43/1000: 100%|██████████| 422/422 [04:45<00:00,  1.48it/s, Loss=0.6018, Acc=0.7885]\n"
          ]
        },
        {
          "output_type": "stream",
          "name": "stdout",
          "text": [
            "Epoch 43/1000: Train Loss: 0.6018, Train Acc: 0.7885\n"
          ]
        },
        {
          "output_type": "stream",
          "name": "stderr",
          "text": [
            "Epoch 43/1000 (Validation): 100%|██████████| 47/47 [00:10<00:00,  4.52it/s, Loss=1.1637, Acc=0.5977]\n"
          ]
        },
        {
          "output_type": "stream",
          "name": "stdout",
          "text": [
            "Epoch 43/1000: Val Loss: 1.1637, Val Acc: 0.5977, Val F1: 0.5952\n",
            "Current Learning Rate: 3e-06\n"
          ]
        },
        {
          "output_type": "stream",
          "name": "stderr",
          "text": [
            "Epoch 44/1000: 100%|██████████| 422/422 [04:44<00:00,  1.48it/s, Loss=0.5837, Acc=0.7942]\n"
          ]
        },
        {
          "output_type": "stream",
          "name": "stdout",
          "text": [
            "Epoch 44/1000: Train Loss: 0.5837, Train Acc: 0.7942\n"
          ]
        },
        {
          "output_type": "stream",
          "name": "stderr",
          "text": [
            "Epoch 44/1000 (Validation): 100%|██████████| 47/47 [00:10<00:00,  4.54it/s, Loss=1.1702, Acc=0.5917]\n"
          ]
        },
        {
          "output_type": "stream",
          "name": "stdout",
          "text": [
            "Epoch 44/1000: Val Loss: 1.1702, Val Acc: 0.5917, Val F1: 0.5901\n",
            "Current Learning Rate: 3e-06\n",
            "Early stopping triggered at epoch 44!\n"
          ]
        },
        {
          "output_type": "stream",
          "name": "stderr",
          "text": [
            "Some weights of ViTModel were not initialized from the model checkpoint at google/vit-base-patch16-224 and are newly initialized: ['pooler.dense.bias', 'pooler.dense.weight']\n",
            "You should probably TRAIN this model on a down-stream task to be able to use it for predictions and inference.\n",
            "Testing: 100%|██████████| 53/53 [00:11<00:00,  4.56it/s, Loss=1.1157, Acc=0.5911]\n"
          ]
        },
        {
          "output_type": "stream",
          "name": "stdout",
          "text": [
            "Test Loss: 1.1157, Test Acc: 0.5911,Test F1: 0.5854\n",
            "\n",
            "Per-Class Accuracy:\n",
            "Class 0: 0.4934\n",
            "Class 1: 0.3333\n",
            "Class 2: 0.3291\n",
            "Class 3: 0.8108\n",
            "Class 4: 0.4365\n",
            "Class 5: 0.7016\n",
            "Class 6: 0.6622\n",
            "\n",
            "Classification Report:\n",
            "              precision    recall  f1-score   support\n",
            "\n",
            "     Class 0       0.51      0.49      0.50       458\n",
            "     Class 1       0.71      0.33      0.45        45\n",
            "     Class 2       0.46      0.33      0.38       471\n",
            "     Class 3       0.79      0.81      0.80       872\n",
            "     Class 4       0.46      0.44      0.45       575\n",
            "     Class 5       0.72      0.70      0.71       315\n",
            "     Class 6       0.51      0.66      0.58       595\n",
            "\n",
            "    accuracy                           0.59      3331\n",
            "   macro avg       0.59      0.54      0.55      3331\n",
            "weighted avg       0.59      0.59      0.59      3331\n",
            "\n"
          ]
        },
        {
          "output_type": "display_data",
          "data": {
            "text/plain": [
              "<Figure size 1000x800 with 2 Axes>"
            ],
            "image/png": "[encoded data removed]"
          },
          "metadata": {}
        }
      ]
    }
  ]
}
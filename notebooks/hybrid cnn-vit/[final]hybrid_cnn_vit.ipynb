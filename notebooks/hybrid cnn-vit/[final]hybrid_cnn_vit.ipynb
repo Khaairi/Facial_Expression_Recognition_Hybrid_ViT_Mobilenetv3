{
  "nbformat": 4,
  "nbformat_minor": 0,
  "metadata": {
    "colab": {
      "provenance": [],
      "machine_shape": "hm"
    },
    "kernelspec": {
      "name": "python3",
      "display_name": "Python 3"
    },
    "language_info": {
      "name": "python"
    }
  },
  "cells": [
    {
      "cell_type": "code",
      "execution_count": null,
      "metadata": {
        "colab": {
          "base_uri": "https://localhost:8080/",
          "height": 1000
        },
        "id": "LjVKyJi5eNSl",
        "outputId": "132c4ae9-dc0f-4396-cf24-09fc5c5a7b97"
      },
      "outputs": [
        {
          "metadata": {
            "tags": null
          },
          "name": "stdout",
          "output_type": "stream",
          "text": [
            "Using device: cuda\n",
            "PyTorch version: 2.6.0+cu124\n"
          ]
        },
        {
          "metadata": {
            "tags": null
          },
          "name": "stderr",
          "output_type": "stream",
          "text": [
            "Epoch 1/1000: 100%|██████████| 422/422 [04:55<00:00,  1.43it/s, Loss=1.8079, Acc=0.2460]\n"
          ]
        },
        {
          "metadata": {
            "tags": null
          },
          "name": "stdout",
          "output_type": "stream",
          "text": [
            "Epoch 1/1000: Train Loss: 1.8079, Train Acc: 0.2460\n"
          ]
        },
        {
          "metadata": {
            "tags": null
          },
          "name": "stderr",
          "output_type": "stream",
          "text": [
            "Epoch 1/1000 (Validation): 100%|██████████| 47/47 [00:10<00:00,  4.62it/s, Loss=1.7636, Acc=0.2789]\n"
          ]
        },
        {
          "metadata": {
            "tags": null
          },
          "name": "stdout",
          "output_type": "stream",
          "text": [
            "Epoch 1/1000: Val Loss: 1.7636, Val Acc: 0.2789, Val F1: 0.1832\n",
            "Current Learning Rate: 3e-05\n",
            "Best model saved at /content/drive/MyDrive/Hasil Eksperimen/hybrid_cnn_vit_best.pt with val accuracy: 0.2789\n"
          ]
        },
        {
          "metadata": {
            "tags": null
          },
          "name": "stderr",
          "output_type": "stream",
          "text": [
            "Epoch 2/1000: 100%|██████████| 422/422 [04:51<00:00,  1.45it/s, Loss=1.7139, Acc=0.3043]\n"
          ]
        },
        {
          "metadata": {
            "tags": null
          },
          "name": "stdout",
          "output_type": "stream",
          "text": [
            "Epoch 2/1000: Train Loss: 1.7139, Train Acc: 0.3043\n"
          ]
        },
        {
          "metadata": {
            "tags": null
          },
          "name": "stderr",
          "output_type": "stream",
          "text": [
            "Epoch 2/1000 (Validation): 100%|██████████| 47/47 [00:10<00:00,  4.58it/s, Loss=1.5970, Acc=0.3766]\n"
          ]
        },
        {
          "metadata": {
            "tags": null
          },
          "name": "stdout",
          "output_type": "stream",
          "text": [
            "Epoch 2/1000: Val Loss: 1.5970, Val Acc: 0.3766, Val F1: 0.3659\n",
            "Current Learning Rate: 3e-05\n",
            "Best model saved at /content/drive/MyDrive/Hasil Eksperimen/hybrid_cnn_vit_best.pt with val accuracy: 0.3766\n"
          ]
        },
        {
          "metadata": {
            "tags": null
          },
          "name": "stderr",
          "output_type": "stream",
          "text": [
            "Epoch 3/1000: 100%|██████████| 422/422 [04:52<00:00,  1.44it/s, Loss=1.5879, Acc=0.3776]\n"
          ]
        },
        {
          "metadata": {
            "tags": null
          },
          "name": "stdout",
          "output_type": "stream",
          "text": [
            "Epoch 3/1000: Train Loss: 1.5879, Train Acc: 0.3776\n"
          ]
        },
        {
          "metadata": {
            "tags": null
          },
          "name": "stderr",
          "output_type": "stream",
          "text": [
            "Epoch 3/1000 (Validation): 100%|██████████| 47/47 [00:10<00:00,  4.61it/s, Loss=1.5076, Acc=0.4066]\n"
          ]
        },
        {
          "metadata": {
            "tags": null
          },
          "name": "stdout",
          "output_type": "stream",
          "text": [
            "Epoch 3/1000: Val Loss: 1.5076, Val Acc: 0.4066, Val F1: 0.3779\n",
            "Current Learning Rate: 3e-05\n",
            "Best model saved at /content/drive/MyDrive/Hasil Eksperimen/hybrid_cnn_vit_best.pt with val accuracy: 0.4066\n"
          ]
        },
        {
          "metadata": {
            "tags": null
          },
          "name": "stderr",
          "output_type": "stream",
          "text": [
            "Epoch 4/1000: 100%|██████████| 422/422 [04:52<00:00,  1.44it/s, Loss=1.5159, Acc=0.4067]\n"
          ]
        },
        {
          "metadata": {
            "tags": null
          },
          "name": "stdout",
          "output_type": "stream",
          "text": [
            "Epoch 4/1000: Train Loss: 1.5159, Train Acc: 0.4067\n"
          ]
        },
        {
          "metadata": {
            "tags": null
          },
          "name": "stderr",
          "output_type": "stream",
          "text": [
            "Epoch 4/1000 (Validation): 100%|██████████| 47/47 [00:10<00:00,  4.63it/s, Loss=1.4059, Acc=0.4570]\n"
          ]
        },
        {
          "metadata": {
            "tags": null
          },
          "name": "stdout",
          "output_type": "stream",
          "text": [
            "Epoch 4/1000: Val Loss: 1.4059, Val Acc: 0.4570, Val F1: 0.4239\n",
            "Current Learning Rate: 3e-05\n",
            "Best model saved at /content/drive/MyDrive/Hasil Eksperimen/hybrid_cnn_vit_best.pt with val accuracy: 0.4570\n"
          ]
        },
        {
          "metadata": {
            "tags": null
          },
          "name": "stderr",
          "output_type": "stream",
          "text": [
            "Epoch 5/1000: 100%|██████████| 422/422 [04:51<00:00,  1.45it/s, Loss=1.4638, Acc=0.4306]\n"
          ]
        },
        {
          "metadata": {
            "tags": null
          },
          "name": "stdout",
          "output_type": "stream",
          "text": [
            "Epoch 5/1000: Train Loss: 1.4638, Train Acc: 0.4306\n"
          ]
        },
        {
          "metadata": {
            "tags": null
          },
          "name": "stderr",
          "output_type": "stream",
          "text": [
            "Epoch 5/1000 (Validation): 100%|██████████| 47/47 [00:10<00:00,  4.60it/s, Loss=1.4143, Acc=0.4383]\n"
          ]
        },
        {
          "metadata": {
            "tags": null
          },
          "name": "stdout",
          "output_type": "stream",
          "text": [
            "Epoch 5/1000: Val Loss: 1.4143, Val Acc: 0.4383, Val F1: 0.4273\n",
            "Current Learning Rate: 3e-05\n"
          ]
        },
        {
          "metadata": {
            "tags": null
          },
          "name": "stderr",
          "output_type": "stream",
          "text": [
            "Epoch 6/1000: 100%|██████████| 422/422 [04:51<00:00,  1.45it/s, Loss=1.4240, Acc=0.4458]\n"
          ]
        },
        {
          "metadata": {
            "tags": null
          },
          "name": "stdout",
          "output_type": "stream",
          "text": [
            "Epoch 6/1000: Train Loss: 1.4240, Train Acc: 0.4458\n"
          ]
        },
        {
          "metadata": {
            "tags": null
          },
          "name": "stderr",
          "output_type": "stream",
          "text": [
            "Epoch 6/1000 (Validation): 100%|██████████| 47/47 [00:10<00:00,  4.57it/s, Loss=1.3346, Acc=0.4847]\n"
          ]
        },
        {
          "metadata": {
            "tags": null
          },
          "name": "stdout",
          "output_type": "stream",
          "text": [
            "Epoch 6/1000: Val Loss: 1.3346, Val Acc: 0.4847, Val F1: 0.4653\n",
            "Current Learning Rate: 3e-05\n",
            "Best model saved at /content/drive/MyDrive/Hasil Eksperimen/hybrid_cnn_vit_best.pt with val accuracy: 0.4847\n"
          ]
        },
        {
          "metadata": {
            "tags": null
          },
          "name": "stderr",
          "output_type": "stream",
          "text": [
            "Epoch 7/1000: 100%|██████████| 422/422 [04:53<00:00,  1.44it/s, Loss=1.3839, Acc=0.4615]\n"
          ]
        },
        {
          "metadata": {
            "tags": null
          },
          "name": "stdout",
          "output_type": "stream",
          "text": [
            "Epoch 7/1000: Train Loss: 1.3839, Train Acc: 0.4615\n"
          ]
        },
        {
          "metadata": {
            "tags": null
          },
          "name": "stderr",
          "output_type": "stream",
          "text": [
            "Epoch 7/1000 (Validation): 100%|██████████| 47/47 [00:10<00:00,  4.60it/s, Loss=1.3131, Acc=0.4893]\n"
          ]
        },
        {
          "metadata": {
            "tags": null
          },
          "name": "stdout",
          "output_type": "stream",
          "text": [
            "Epoch 7/1000: Val Loss: 1.3131, Val Acc: 0.4893, Val F1: 0.4631\n",
            "Current Learning Rate: 3e-05\n",
            "Best model saved at /content/drive/MyDrive/Hasil Eksperimen/hybrid_cnn_vit_best.pt with val accuracy: 0.4893\n"
          ]
        },
        {
          "metadata": {
            "tags": null
          },
          "name": "stderr",
          "output_type": "stream",
          "text": [
            "Epoch 8/1000: 100%|██████████| 422/422 [04:52<00:00,  1.44it/s, Loss=1.3597, Acc=0.4700]\n"
          ]
        },
        {
          "metadata": {
            "tags": null
          },
          "name": "stdout",
          "output_type": "stream",
          "text": [
            "Epoch 8/1000: Train Loss: 1.3597, Train Acc: 0.4700\n"
          ]
        },
        {
          "metadata": {
            "tags": null
          },
          "name": "stderr",
          "output_type": "stream",
          "text": [
            "Epoch 8/1000 (Validation): 100%|██████████| 47/47 [00:10<00:00,  4.56it/s, Loss=1.3272, Acc=0.4807]\n"
          ]
        },
        {
          "metadata": {
            "tags": null
          },
          "name": "stdout",
          "output_type": "stream",
          "text": [
            "Epoch 8/1000: Val Loss: 1.3272, Val Acc: 0.4807, Val F1: 0.4601\n",
            "Current Learning Rate: 3e-05\n"
          ]
        },
        {
          "metadata": {
            "tags": null
          },
          "name": "stderr",
          "output_type": "stream",
          "text": [
            "Epoch 9/1000: 100%|██████████| 422/422 [04:52<00:00,  1.44it/s, Loss=1.3278, Acc=0.4844]\n"
          ]
        },
        {
          "metadata": {
            "tags": null
          },
          "name": "stdout",
          "output_type": "stream",
          "text": [
            "Epoch 9/1000: Train Loss: 1.3278, Train Acc: 0.4844\n"
          ]
        },
        {
          "metadata": {
            "tags": null
          },
          "name": "stderr",
          "output_type": "stream",
          "text": [
            "Epoch 9/1000 (Validation): 100%|██████████| 47/47 [00:10<00:00,  4.58it/s, Loss=1.2714, Acc=0.5187]\n"
          ]
        },
        {
          "metadata": {
            "tags": null
          },
          "name": "stdout",
          "output_type": "stream",
          "text": [
            "Epoch 9/1000: Val Loss: 1.2714, Val Acc: 0.5187, Val F1: 0.5114\n",
            "Current Learning Rate: 3e-05\n",
            "Best model saved at /content/drive/MyDrive/Hasil Eksperimen/hybrid_cnn_vit_best.pt with val accuracy: 0.5187\n"
          ]
        },
        {
          "metadata": {
            "tags": null
          },
          "name": "stderr",
          "output_type": "stream",
          "text": [
            "Epoch 10/1000: 100%|██████████| 422/422 [04:52<00:00,  1.44it/s, Loss=1.3125, Acc=0.4925]\n"
          ]
        },
        {
          "metadata": {
            "tags": null
          },
          "name": "stdout",
          "output_type": "stream",
          "text": [
            "Epoch 10/1000: Train Loss: 1.3125, Train Acc: 0.4925\n"
          ]
        },
        {
          "metadata": {
            "tags": null
          },
          "name": "stderr",
          "output_type": "stream",
          "text": [
            "Epoch 10/1000 (Validation): 100%|██████████| 47/47 [00:10<00:00,  4.62it/s, Loss=1.3140, Acc=0.4983]\n"
          ]
        },
        {
          "metadata": {
            "tags": null
          },
          "name": "stdout",
          "output_type": "stream",
          "text": [
            "Epoch 10/1000: Val Loss: 1.3140, Val Acc: 0.4983, Val F1: 0.4620\n",
            "Current Learning Rate: 3e-05\n"
          ]
        },
        {
          "metadata": {
            "tags": null
          },
          "name": "stderr",
          "output_type": "stream",
          "text": [
            "Epoch 11/1000: 100%|██████████| 422/422 [04:52<00:00,  1.44it/s, Loss=1.2819, Acc=0.5062]\n"
          ]
        },
        {
          "metadata": {
            "tags": null
          },
          "name": "stdout",
          "output_type": "stream",
          "text": [
            "Epoch 11/1000: Train Loss: 1.2819, Train Acc: 0.5062\n"
          ]
        },
        {
          "metadata": {
            "tags": null
          },
          "name": "stderr",
          "output_type": "stream",
          "text": [
            "Epoch 11/1000 (Validation): 100%|██████████| 47/47 [00:10<00:00,  4.58it/s, Loss=1.2227, Acc=0.5387]\n"
          ]
        },
        {
          "metadata": {
            "tags": null
          },
          "name": "stdout",
          "output_type": "stream",
          "text": [
            "Epoch 11/1000: Val Loss: 1.2227, Val Acc: 0.5387, Val F1: 0.5208\n",
            "Current Learning Rate: 3e-05\n",
            "Best model saved at /content/drive/MyDrive/Hasil Eksperimen/hybrid_cnn_vit_best.pt with val accuracy: 0.5387\n"
          ]
        },
        {
          "metadata": {
            "tags": null
          },
          "name": "stderr",
          "output_type": "stream",
          "text": [
            "Epoch 12/1000: 100%|██████████| 422/422 [04:53<00:00,  1.44it/s, Loss=1.2589, Acc=0.5145]\n"
          ]
        },
        {
          "metadata": {
            "tags": null
          },
          "name": "stdout",
          "output_type": "stream",
          "text": [
            "Epoch 12/1000: Train Loss: 1.2589, Train Acc: 0.5145\n"
          ]
        },
        {
          "metadata": {
            "tags": null
          },
          "name": "stderr",
          "output_type": "stream",
          "text": [
            "Epoch 12/1000 (Validation): 100%|██████████| 47/47 [00:10<00:00,  4.60it/s, Loss=1.2058, Acc=0.5384]\n"
          ]
        },
        {
          "metadata": {
            "tags": null
          },
          "name": "stdout",
          "output_type": "stream",
          "text": [
            "Epoch 12/1000: Val Loss: 1.2058, Val Acc: 0.5384, Val F1: 0.5348\n",
            "Current Learning Rate: 3e-05\n"
          ]
        },
        {
          "metadata": {
            "tags": null
          },
          "name": "stderr",
          "output_type": "stream",
          "text": [
            "Epoch 13/1000: 100%|██████████| 422/422 [04:54<00:00,  1.43it/s, Loss=1.2367, Acc=0.5198]\n"
          ]
        },
        {
          "metadata": {
            "tags": null
          },
          "name": "stdout",
          "output_type": "stream",
          "text": [
            "Epoch 13/1000: Train Loss: 1.2367, Train Acc: 0.5198\n"
          ]
        },
        {
          "metadata": {
            "tags": null
          },
          "name": "stderr",
          "output_type": "stream",
          "text": [
            "Epoch 13/1000 (Validation): 100%|██████████| 47/47 [00:10<00:00,  4.55it/s, Loss=1.2078, Acc=0.5437]\n"
          ]
        },
        {
          "metadata": {
            "tags": null
          },
          "name": "stdout",
          "output_type": "stream",
          "text": [
            "Epoch 13/1000: Val Loss: 1.2078, Val Acc: 0.5437, Val F1: 0.5115\n",
            "Current Learning Rate: 3e-05\n",
            "Best model saved at /content/drive/MyDrive/Hasil Eksperimen/hybrid_cnn_vit_best.pt with val accuracy: 0.5437\n"
          ]
        },
        {
          "metadata": {
            "tags": null
          },
          "name": "stderr",
          "output_type": "stream",
          "text": [
            "Epoch 14/1000: 100%|██████████| 422/422 [04:55<00:00,  1.43it/s, Loss=1.2162, Acc=0.5271]\n"
          ]
        },
        {
          "metadata": {
            "tags": null
          },
          "name": "stdout",
          "output_type": "stream",
          "text": [
            "Epoch 14/1000: Train Loss: 1.2162, Train Acc: 0.5271\n"
          ]
        },
        {
          "metadata": {
            "tags": null
          },
          "name": "stderr",
          "output_type": "stream",
          "text": [
            "Epoch 14/1000 (Validation): 100%|██████████| 47/47 [00:10<00:00,  4.53it/s, Loss=1.1808, Acc=0.5444]\n"
          ]
        },
        {
          "metadata": {
            "tags": null
          },
          "name": "stdout",
          "output_type": "stream",
          "text": [
            "Epoch 14/1000: Val Loss: 1.1808, Val Acc: 0.5444, Val F1: 0.5307\n",
            "Current Learning Rate: 3e-05\n",
            "Best model saved at /content/drive/MyDrive/Hasil Eksperimen/hybrid_cnn_vit_best.pt with val accuracy: 0.5444\n"
          ]
        },
        {
          "metadata": {
            "tags": null
          },
          "name": "stderr",
          "output_type": "stream",
          "text": [
            "Epoch 15/1000: 100%|██████████| 422/422 [04:58<00:00,  1.41it/s, Loss=1.1947, Acc=0.5401]\n"
          ]
        },
        {
          "metadata": {
            "tags": null
          },
          "name": "stdout",
          "output_type": "stream",
          "text": [
            "Epoch 15/1000: Train Loss: 1.1947, Train Acc: 0.5401\n"
          ]
        },
        {
          "metadata": {
            "tags": null
          },
          "name": "stderr",
          "output_type": "stream",
          "text": [
            "Epoch 15/1000 (Validation): 100%|██████████| 47/47 [00:10<00:00,  4.53it/s, Loss=1.1813, Acc=0.5534]\n"
          ]
        },
        {
          "metadata": {
            "tags": null
          },
          "name": "stdout",
          "output_type": "stream",
          "text": [
            "Epoch 15/1000: Val Loss: 1.1813, Val Acc: 0.5534, Val F1: 0.5276\n",
            "Current Learning Rate: 3e-05\n",
            "Best model saved at /content/drive/MyDrive/Hasil Eksperimen/hybrid_cnn_vit_best.pt with val accuracy: 0.5534\n"
          ]
        },
        {
          "metadata": {
            "tags": null
          },
          "name": "stderr",
          "output_type": "stream",
          "text": [
            "Epoch 16/1000: 100%|██████████| 422/422 [04:59<00:00,  1.41it/s, Loss=1.1742, Acc=0.5476]\n"
          ]
        },
        {
          "metadata": {
            "tags": null
          },
          "name": "stdout",
          "output_type": "stream",
          "text": [
            "Epoch 16/1000: Train Loss: 1.1742, Train Acc: 0.5476\n"
          ]
        },
        {
          "metadata": {
            "tags": null
          },
          "name": "stderr",
          "output_type": "stream",
          "text": [
            "Epoch 16/1000 (Validation): 100%|██████████| 47/47 [00:10<00:00,  4.54it/s, Loss=1.1626, Acc=0.5610]\n"
          ]
        },
        {
          "metadata": {
            "tags": null
          },
          "name": "stdout",
          "output_type": "stream",
          "text": [
            "Epoch 16/1000: Val Loss: 1.1626, Val Acc: 0.5610, Val F1: 0.5497\n",
            "Current Learning Rate: 3e-05\n",
            "Best model saved at /content/drive/MyDrive/Hasil Eksperimen/hybrid_cnn_vit_best.pt with val accuracy: 0.5610\n"
          ]
        },
        {
          "metadata": {
            "tags": null
          },
          "name": "stderr",
          "output_type": "stream",
          "text": [
            "Epoch 17/1000: 100%|██████████| 422/422 [04:59<00:00,  1.41it/s, Loss=1.1557, Acc=0.5558]\n"
          ]
        },
        {
          "metadata": {
            "tags": null
          },
          "name": "stdout",
          "output_type": "stream",
          "text": [
            "Epoch 17/1000: Train Loss: 1.1557, Train Acc: 0.5558\n"
          ]
        },
        {
          "metadata": {
            "tags": null
          },
          "name": "stderr",
          "output_type": "stream",
          "text": [
            "Epoch 17/1000 (Validation): 100%|██████████| 47/47 [00:10<00:00,  4.55it/s, Loss=1.1430, Acc=0.5734]\n"
          ]
        },
        {
          "metadata": {
            "tags": null
          },
          "name": "stdout",
          "output_type": "stream",
          "text": [
            "Epoch 17/1000: Val Loss: 1.1430, Val Acc: 0.5734, Val F1: 0.5544\n",
            "Current Learning Rate: 3e-05\n",
            "Best model saved at /content/drive/MyDrive/Hasil Eksperimen/hybrid_cnn_vit_best.pt with val accuracy: 0.5734\n"
          ]
        },
        {
          "metadata": {
            "tags": null
          },
          "name": "stderr",
          "output_type": "stream",
          "text": [
            "Epoch 18/1000: 100%|██████████| 422/422 [04:58<00:00,  1.41it/s, Loss=1.1284, Acc=0.5660]\n"
          ]
        },
        {
          "metadata": {
            "tags": null
          },
          "name": "stdout",
          "output_type": "stream",
          "text": [
            "Epoch 18/1000: Train Loss: 1.1284, Train Acc: 0.5660\n"
          ]
        },
        {
          "metadata": {
            "tags": null
          },
          "name": "stderr",
          "output_type": "stream",
          "text": [
            "Epoch 18/1000 (Validation): 100%|██████████| 47/47 [00:10<00:00,  4.54it/s, Loss=1.1479, Acc=0.5637]\n"
          ]
        },
        {
          "metadata": {
            "tags": null
          },
          "name": "stdout",
          "output_type": "stream",
          "text": [
            "Epoch 18/1000: Val Loss: 1.1479, Val Acc: 0.5637, Val F1: 0.5548\n",
            "Current Learning Rate: 3e-05\n"
          ]
        },
        {
          "metadata": {
            "tags": null
          },
          "name": "stderr",
          "output_type": "stream",
          "text": [
            "Epoch 19/1000: 100%|██████████| 422/422 [04:58<00:00,  1.41it/s, Loss=1.1114, Acc=0.5733]\n"
          ]
        },
        {
          "metadata": {
            "tags": null
          },
          "name": "stdout",
          "output_type": "stream",
          "text": [
            "Epoch 19/1000: Train Loss: 1.1114, Train Acc: 0.5733\n"
          ]
        },
        {
          "metadata": {
            "tags": null
          },
          "name": "stderr",
          "output_type": "stream",
          "text": [
            "Epoch 19/1000 (Validation): 100%|██████████| 47/47 [00:10<00:00,  4.56it/s, Loss=1.1335, Acc=0.5714]\n"
          ]
        },
        {
          "metadata": {
            "tags": null
          },
          "name": "stdout",
          "output_type": "stream",
          "text": [
            "Epoch 19/1000: Val Loss: 1.1335, Val Acc: 0.5714, Val F1: 0.5587\n",
            "Current Learning Rate: 3e-05\n"
          ]
        },
        {
          "metadata": {
            "tags": null
          },
          "name": "stderr",
          "output_type": "stream",
          "text": [
            "Epoch 20/1000: 100%|██████████| 422/422 [04:58<00:00,  1.41it/s, Loss=1.0922, Acc=0.5828]\n"
          ]
        },
        {
          "metadata": {
            "tags": null
          },
          "name": "stdout",
          "output_type": "stream",
          "text": [
            "Epoch 20/1000: Train Loss: 1.0922, Train Acc: 0.5828\n"
          ]
        },
        {
          "output_type": "stream",
          "name": "stderr",
          "text": [
            "Epoch 20/1000 (Validation): 100%|██████████| 47/47 [00:10<00:00,  4.55it/s, Loss=1.1191, Acc=0.5771]\n"
          ]
        },
        {
          "output_type": "stream",
          "name": "stdout",
          "text": [
            "Epoch 20/1000: Val Loss: 1.1191, Val Acc: 0.5771, Val F1: 0.5660\n",
            "Current Learning Rate: 3e-05\n",
            "Best model saved at /content/drive/MyDrive/Hasil Eksperimen/hybrid_cnn_vit_best.pt with val accuracy: 0.5771\n"
          ]
        },
        {
          "output_type": "stream",
          "name": "stderr",
          "text": [
            "Epoch 21/1000: 100%|██████████| 422/422 [04:59<00:00,  1.41it/s, Loss=1.0727, Acc=0.5903]\n"
          ]
        },
        {
          "output_type": "stream",
          "name": "stdout",
          "text": [
            "Epoch 21/1000: Train Loss: 1.0727, Train Acc: 0.5903\n"
          ]
        },
        {
          "output_type": "stream",
          "name": "stderr",
          "text": [
            "Epoch 21/1000 (Validation): 100%|██████████| 47/47 [00:10<00:00,  4.52it/s, Loss=1.1403, Acc=0.5667]\n"
          ]
        },
        {
          "output_type": "stream",
          "name": "stdout",
          "text": [
            "Epoch 21/1000: Val Loss: 1.1403, Val Acc: 0.5667, Val F1: 0.5563\n",
            "Current Learning Rate: 3e-05\n"
          ]
        },
        {
          "output_type": "stream",
          "name": "stderr",
          "text": [
            "Epoch 22/1000: 100%|██████████| 422/422 [04:57<00:00,  1.42it/s, Loss=1.0532, Acc=0.5969]\n"
          ]
        },
        {
          "output_type": "stream",
          "name": "stdout",
          "text": [
            "Epoch 22/1000: Train Loss: 1.0532, Train Acc: 0.5969\n"
          ]
        },
        {
          "output_type": "stream",
          "name": "stderr",
          "text": [
            "Epoch 22/1000 (Validation): 100%|██████████| 47/47 [00:10<00:00,  4.52it/s, Loss=1.1139, Acc=0.5814]\n"
          ]
        },
        {
          "output_type": "stream",
          "name": "stdout",
          "text": [
            "Epoch 22/1000: Val Loss: 1.1139, Val Acc: 0.5814, Val F1: 0.5676\n",
            "Current Learning Rate: 3e-05\n",
            "Best model saved at /content/drive/MyDrive/Hasil Eksperimen/hybrid_cnn_vit_best.pt with val accuracy: 0.5814\n"
          ]
        },
        {
          "output_type": "stream",
          "name": "stderr",
          "text": [
            "Epoch 23/1000: 100%|██████████| 422/422 [04:58<00:00,  1.41it/s, Loss=1.0348, Acc=0.6021]\n"
          ]
        },
        {
          "output_type": "stream",
          "name": "stdout",
          "text": [
            "Epoch 23/1000: Train Loss: 1.0348, Train Acc: 0.6021\n"
          ]
        },
        {
          "output_type": "stream",
          "name": "stderr",
          "text": [
            "Epoch 23/1000 (Validation): 100%|██████████| 47/47 [00:10<00:00,  4.51it/s, Loss=1.1206, Acc=0.5771]\n"
          ]
        },
        {
          "output_type": "stream",
          "name": "stdout",
          "text": [
            "Epoch 23/1000: Val Loss: 1.1206, Val Acc: 0.5771, Val F1: 0.5621\n",
            "Current Learning Rate: 3e-05\n"
          ]
        },
        {
          "output_type": "stream",
          "name": "stderr",
          "text": [
            "Epoch 24/1000: 100%|██████████| 422/422 [04:58<00:00,  1.41it/s, Loss=1.0185, Acc=0.6128]\n"
          ]
        },
        {
          "output_type": "stream",
          "name": "stdout",
          "text": [
            "Epoch 24/1000: Train Loss: 1.0185, Train Acc: 0.6128\n"
          ]
        },
        {
          "output_type": "stream",
          "name": "stderr",
          "text": [
            "Epoch 24/1000 (Validation): 100%|██████████| 47/47 [00:10<00:00,  4.51it/s, Loss=1.1979, Acc=0.5530]\n"
          ]
        },
        {
          "output_type": "stream",
          "name": "stdout",
          "text": [
            "Epoch 24/1000: Val Loss: 1.1979, Val Acc: 0.5530, Val F1: 0.5253\n",
            "Current Learning Rate: 3e-05\n"
          ]
        },
        {
          "output_type": "stream",
          "name": "stderr",
          "text": [
            "Epoch 25/1000: 100%|██████████| 422/422 [04:58<00:00,  1.42it/s, Loss=0.9945, Acc=0.6201]\n"
          ]
        },
        {
          "output_type": "stream",
          "name": "stdout",
          "text": [
            "Epoch 25/1000: Train Loss: 0.9945, Train Acc: 0.6201\n"
          ]
        },
        {
          "output_type": "stream",
          "name": "stderr",
          "text": [
            "Epoch 25/1000 (Validation): 100%|██████████| 47/47 [00:10<00:00,  4.53it/s, Loss=1.0995, Acc=0.5964]\n"
          ]
        },
        {
          "output_type": "stream",
          "name": "stdout",
          "text": [
            "Epoch 25/1000: Val Loss: 1.0995, Val Acc: 0.5964, Val F1: 0.5893\n",
            "Current Learning Rate: 3e-05\n",
            "Best model saved at /content/drive/MyDrive/Hasil Eksperimen/hybrid_cnn_vit_best.pt with val accuracy: 0.5964\n"
          ]
        },
        {
          "output_type": "stream",
          "name": "stderr",
          "text": [
            "Epoch 26/1000: 100%|██████████| 422/422 [04:58<00:00,  1.41it/s, Loss=0.9836, Acc=0.6242]\n"
          ]
        },
        {
          "output_type": "stream",
          "name": "stdout",
          "text": [
            "Epoch 26/1000: Train Loss: 0.9836, Train Acc: 0.6242\n"
          ]
        },
        {
          "output_type": "stream",
          "name": "stderr",
          "text": [
            "Epoch 26/1000 (Validation): 100%|██████████| 47/47 [00:10<00:00,  4.52it/s, Loss=1.0859, Acc=0.6007]\n"
          ]
        },
        {
          "output_type": "stream",
          "name": "stdout",
          "text": [
            "Epoch 26/1000: Val Loss: 1.0859, Val Acc: 0.6007, Val F1: 0.5979\n",
            "Current Learning Rate: 3e-05\n",
            "Best model saved at /content/drive/MyDrive/Hasil Eksperimen/hybrid_cnn_vit_best.pt with val accuracy: 0.6007\n"
          ]
        },
        {
          "output_type": "stream",
          "name": "stderr",
          "text": [
            "Epoch 27/1000: 100%|██████████| 422/422 [04:58<00:00,  1.41it/s, Loss=0.9527, Acc=0.6378]\n"
          ]
        },
        {
          "output_type": "stream",
          "name": "stdout",
          "text": [
            "Epoch 27/1000: Train Loss: 0.9527, Train Acc: 0.6378\n"
          ]
        },
        {
          "output_type": "stream",
          "name": "stderr",
          "text": [
            "Epoch 27/1000 (Validation): 100%|██████████| 47/47 [00:10<00:00,  4.53it/s, Loss=1.1072, Acc=0.5931]\n"
          ]
        },
        {
          "output_type": "stream",
          "name": "stdout",
          "text": [
            "Epoch 27/1000: Val Loss: 1.1072, Val Acc: 0.5931, Val F1: 0.5873\n",
            "Current Learning Rate: 3e-05\n"
          ]
        },
        {
          "output_type": "stream",
          "name": "stderr",
          "text": [
            "Epoch 28/1000: 100%|██████████| 422/422 [04:58<00:00,  1.41it/s, Loss=0.9344, Acc=0.6451]\n"
          ]
        },
        {
          "output_type": "stream",
          "name": "stdout",
          "text": [
            "Epoch 28/1000: Train Loss: 0.9344, Train Acc: 0.6451\n"
          ]
        },
        {
          "output_type": "stream",
          "name": "stderr",
          "text": [
            "Epoch 28/1000 (Validation): 100%|██████████| 47/47 [00:10<00:00,  4.51it/s, Loss=1.0982, Acc=0.6057]\n"
          ]
        },
        {
          "output_type": "stream",
          "name": "stdout",
          "text": [
            "Epoch 28/1000: Val Loss: 1.0982, Val Acc: 0.6057, Val F1: 0.6039\n",
            "Current Learning Rate: 3e-05\n",
            "Best model saved at /content/drive/MyDrive/Hasil Eksperimen/hybrid_cnn_vit_best.pt with val accuracy: 0.6057\n"
          ]
        },
        {
          "output_type": "stream",
          "name": "stderr",
          "text": [
            "Epoch 29/1000: 100%|██████████| 422/422 [04:58<00:00,  1.42it/s, Loss=0.9177, Acc=0.6520]\n"
          ]
        },
        {
          "output_type": "stream",
          "name": "stdout",
          "text": [
            "Epoch 29/1000: Train Loss: 0.9177, Train Acc: 0.6520\n"
          ]
        },
        {
          "output_type": "stream",
          "name": "stderr",
          "text": [
            "Epoch 29/1000 (Validation): 100%|██████████| 47/47 [00:10<00:00,  4.52it/s, Loss=1.0906, Acc=0.5994]\n"
          ]
        },
        {
          "output_type": "stream",
          "name": "stdout",
          "text": [
            "Epoch 29/1000: Val Loss: 1.0906, Val Acc: 0.5994, Val F1: 0.5912\n",
            "Current Learning Rate: 3e-05\n"
          ]
        },
        {
          "output_type": "stream",
          "name": "stderr",
          "text": [
            "Epoch 30/1000: 100%|██████████| 422/422 [04:57<00:00,  1.42it/s, Loss=0.9019, Acc=0.6588]\n"
          ]
        },
        {
          "output_type": "stream",
          "name": "stdout",
          "text": [
            "Epoch 30/1000: Train Loss: 0.9019, Train Acc: 0.6588\n"
          ]
        },
        {
          "output_type": "stream",
          "name": "stderr",
          "text": [
            "Epoch 30/1000 (Validation): 100%|██████████| 47/47 [00:10<00:00,  4.52it/s, Loss=1.0869, Acc=0.6047]\n"
          ]
        },
        {
          "output_type": "stream",
          "name": "stdout",
          "text": [
            "Epoch 30/1000: Val Loss: 1.0869, Val Acc: 0.6047, Val F1: 0.5921\n",
            "Current Learning Rate: 3e-05\n"
          ]
        },
        {
          "output_type": "stream",
          "name": "stderr",
          "text": [
            "Epoch 31/1000: 100%|██████████| 422/422 [04:58<00:00,  1.41it/s, Loss=0.8761, Acc=0.6708]\n"
          ]
        },
        {
          "output_type": "stream",
          "name": "stdout",
          "text": [
            "Epoch 31/1000: Train Loss: 0.8761, Train Acc: 0.6708\n"
          ]
        },
        {
          "output_type": "stream",
          "name": "stderr",
          "text": [
            "Epoch 31/1000 (Validation): 100%|██████████| 47/47 [00:10<00:00,  4.52it/s, Loss=1.0733, Acc=0.6041]\n"
          ]
        },
        {
          "output_type": "stream",
          "name": "stdout",
          "text": [
            "Epoch 31/1000: Val Loss: 1.0733, Val Acc: 0.6041, Val F1: 0.6009\n",
            "Current Learning Rate: 3e-05\n"
          ]
        },
        {
          "output_type": "stream",
          "name": "stderr",
          "text": [
            "Epoch 32/1000: 100%|██████████| 422/422 [04:57<00:00,  1.42it/s, Loss=0.8562, Acc=0.6755]\n"
          ]
        },
        {
          "output_type": "stream",
          "name": "stdout",
          "text": [
            "Epoch 32/1000: Train Loss: 0.8562, Train Acc: 0.6755\n"
          ]
        },
        {
          "output_type": "stream",
          "name": "stderr",
          "text": [
            "Epoch 32/1000 (Validation): 100%|██████████| 47/47 [00:10<00:00,  4.50it/s, Loss=1.1132, Acc=0.6021]\n"
          ]
        },
        {
          "output_type": "stream",
          "name": "stdout",
          "text": [
            "Epoch 32/1000: Val Loss: 1.1132, Val Acc: 0.6021, Val F1: 0.5946\n",
            "Current Learning Rate: 3e-05\n"
          ]
        },
        {
          "output_type": "stream",
          "name": "stderr",
          "text": [
            "Epoch 33/1000: 100%|██████████| 422/422 [04:58<00:00,  1.41it/s, Loss=0.8323, Acc=0.6835]\n"
          ]
        },
        {
          "output_type": "stream",
          "name": "stdout",
          "text": [
            "Epoch 33/1000: Train Loss: 0.8323, Train Acc: 0.6835\n"
          ]
        },
        {
          "output_type": "stream",
          "name": "stderr",
          "text": [
            "Epoch 33/1000 (Validation): 100%|██████████| 47/47 [00:10<00:00,  4.51it/s, Loss=1.0747, Acc=0.6104]\n"
          ]
        },
        {
          "output_type": "stream",
          "name": "stdout",
          "text": [
            "Epoch 33/1000: Val Loss: 1.0747, Val Acc: 0.6104, Val F1: 0.6074\n",
            "Current Learning Rate: 3e-05\n",
            "Best model saved at /content/drive/MyDrive/Hasil Eksperimen/hybrid_cnn_vit_best.pt with val accuracy: 0.6104\n"
          ]
        },
        {
          "output_type": "stream",
          "name": "stderr",
          "text": [
            "Epoch 34/1000: 100%|██████████| 422/422 [04:57<00:00,  1.42it/s, Loss=0.8169, Acc=0.6907]\n"
          ]
        },
        {
          "output_type": "stream",
          "name": "stdout",
          "text": [
            "Epoch 34/1000: Train Loss: 0.8169, Train Acc: 0.6907\n"
          ]
        },
        {
          "output_type": "stream",
          "name": "stderr",
          "text": [
            "Epoch 34/1000 (Validation): 100%|██████████| 47/47 [00:10<00:00,  4.54it/s, Loss=1.1125, Acc=0.6134]\n"
          ]
        },
        {
          "output_type": "stream",
          "name": "stdout",
          "text": [
            "Epoch 34/1000: Val Loss: 1.1125, Val Acc: 0.6134, Val F1: 0.6085\n",
            "Current Learning Rate: 3e-05\n",
            "Best model saved at /content/drive/MyDrive/Hasil Eksperimen/hybrid_cnn_vit_best.pt with val accuracy: 0.6134\n"
          ]
        },
        {
          "output_type": "stream",
          "name": "stderr",
          "text": [
            "Epoch 35/1000: 100%|██████████| 422/422 [04:58<00:00,  1.42it/s, Loss=0.7847, Acc=0.7064]\n"
          ]
        },
        {
          "output_type": "stream",
          "name": "stdout",
          "text": [
            "Epoch 35/1000: Train Loss: 0.7847, Train Acc: 0.7064\n"
          ]
        },
        {
          "output_type": "stream",
          "name": "stderr",
          "text": [
            "Epoch 35/1000 (Validation): 100%|██████████| 47/47 [00:10<00:00,  4.48it/s, Loss=1.1032, Acc=0.6157]\n"
          ]
        },
        {
          "output_type": "stream",
          "name": "stdout",
          "text": [
            "Epoch 35/1000: Val Loss: 1.1032, Val Acc: 0.6157, Val F1: 0.6134\n",
            "Current Learning Rate: 3e-05\n",
            "Best model saved at /content/drive/MyDrive/Hasil Eksperimen/hybrid_cnn_vit_best.pt with val accuracy: 0.6157\n"
          ]
        },
        {
          "output_type": "stream",
          "name": "stderr",
          "text": [
            "Epoch 36/1000: 100%|██████████| 422/422 [04:58<00:00,  1.41it/s, Loss=0.7725, Acc=0.7106]\n"
          ]
        },
        {
          "output_type": "stream",
          "name": "stdout",
          "text": [
            "Epoch 36/1000: Train Loss: 0.7725, Train Acc: 0.7106\n"
          ]
        },
        {
          "output_type": "stream",
          "name": "stderr",
          "text": [
            "Epoch 36/1000 (Validation): 100%|██████████| 47/47 [00:10<00:00,  4.51it/s, Loss=1.1177, Acc=0.6097]\n"
          ]
        },
        {
          "output_type": "stream",
          "name": "stdout",
          "text": [
            "Epoch 36/1000: Val Loss: 1.1177, Val Acc: 0.6097, Val F1: 0.6115\n",
            "Current Learning Rate: 3e-05\n"
          ]
        },
        {
          "output_type": "stream",
          "name": "stderr",
          "text": [
            "Epoch 37/1000: 100%|██████████| 422/422 [04:58<00:00,  1.42it/s, Loss=0.7475, Acc=0.7220]\n"
          ]
        },
        {
          "output_type": "stream",
          "name": "stdout",
          "text": [
            "Epoch 37/1000: Train Loss: 0.7475, Train Acc: 0.7220\n"
          ]
        },
        {
          "output_type": "stream",
          "name": "stderr",
          "text": [
            "Epoch 37/1000 (Validation): 100%|██████████| 47/47 [00:10<00:00,  4.52it/s, Loss=1.1227, Acc=0.6131]\n"
          ]
        },
        {
          "output_type": "stream",
          "name": "stdout",
          "text": [
            "Epoch 37/1000: Val Loss: 1.1227, Val Acc: 0.6131, Val F1: 0.6108\n",
            "Current Learning Rate: 3e-06\n"
          ]
        },
        {
          "output_type": "stream",
          "name": "stderr",
          "text": [
            "Epoch 38/1000: 100%|██████████| 422/422 [04:58<00:00,  1.41it/s, Loss=0.6395, Acc=0.7672]\n"
          ]
        },
        {
          "output_type": "stream",
          "name": "stdout",
          "text": [
            "Epoch 38/1000: Train Loss: 0.6395, Train Acc: 0.7672\n"
          ]
        },
        {
          "output_type": "stream",
          "name": "stderr",
          "text": [
            "Epoch 38/1000 (Validation): 100%|██████████| 47/47 [00:10<00:00,  4.53it/s, Loss=1.0909, Acc=0.6408]\n"
          ]
        },
        {
          "output_type": "stream",
          "name": "stdout",
          "text": [
            "Epoch 38/1000: Val Loss: 1.0909, Val Acc: 0.6408, Val F1: 0.6391\n",
            "Current Learning Rate: 3e-06\n",
            "Best model saved at /content/drive/MyDrive/Hasil Eksperimen/hybrid_cnn_vit_best.pt with val accuracy: 0.6408\n"
          ]
        },
        {
          "output_type": "stream",
          "name": "stderr",
          "text": [
            "Epoch 39/1000: 100%|██████████| 422/422 [04:58<00:00,  1.41it/s, Loss=0.6101, Acc=0.7768]\n"
          ]
        },
        {
          "output_type": "stream",
          "name": "stdout",
          "text": [
            "Epoch 39/1000: Train Loss: 0.6101, Train Acc: 0.7768\n"
          ]
        },
        {
          "output_type": "stream",
          "name": "stderr",
          "text": [
            "Epoch 39/1000 (Validation): 100%|██████████| 47/47 [00:10<00:00,  4.54it/s, Loss=1.1008, Acc=0.6371]\n"
          ]
        },
        {
          "output_type": "stream",
          "name": "stdout",
          "text": [
            "Epoch 39/1000: Val Loss: 1.1008, Val Acc: 0.6371, Val F1: 0.6353\n",
            "Current Learning Rate: 3e-06\n"
          ]
        },
        {
          "output_type": "stream",
          "name": "stderr",
          "text": [
            "Epoch 40/1000: 100%|██████████| 422/422 [04:58<00:00,  1.42it/s, Loss=0.5900, Acc=0.7848]\n"
          ]
        },
        {
          "output_type": "stream",
          "name": "stdout",
          "text": [
            "Epoch 40/1000: Train Loss: 0.5900, Train Acc: 0.7848\n"
          ]
        },
        {
          "output_type": "stream",
          "name": "stderr",
          "text": [
            "Epoch 40/1000 (Validation): 100%|██████████| 47/47 [00:10<00:00,  4.51it/s, Loss=1.1098, Acc=0.6334]\n"
          ]
        },
        {
          "output_type": "stream",
          "name": "stdout",
          "text": [
            "Epoch 40/1000: Val Loss: 1.1098, Val Acc: 0.6334, Val F1: 0.6335\n",
            "Current Learning Rate: 3e-06\n"
          ]
        },
        {
          "output_type": "stream",
          "name": "stderr",
          "text": [
            "Epoch 41/1000: 100%|██████████| 422/422 [04:58<00:00,  1.42it/s, Loss=0.5777, Acc=0.7886]\n"
          ]
        },
        {
          "output_type": "stream",
          "name": "stdout",
          "text": [
            "Epoch 41/1000: Train Loss: 0.5777, Train Acc: 0.7886\n"
          ]
        },
        {
          "output_type": "stream",
          "name": "stderr",
          "text": [
            "Epoch 41/1000 (Validation): 100%|██████████| 47/47 [00:10<00:00,  4.52it/s, Loss=1.1207, Acc=0.6324]\n"
          ]
        },
        {
          "output_type": "stream",
          "name": "stdout",
          "text": [
            "Epoch 41/1000: Val Loss: 1.1207, Val Acc: 0.6324, Val F1: 0.6310\n",
            "Current Learning Rate: 3e-06\n",
            "Early stopping triggered at epoch 41!\n"
          ]
        },
        {
          "output_type": "stream",
          "name": "stderr",
          "text": [
            "Testing: 100%|██████████| 53/53 [00:11<00:00,  4.56it/s, Loss=1.0667, Acc=0.6280]\n"
          ]
        },
        {
          "output_type": "stream",
          "name": "stdout",
          "text": [
            "Test Loss: 1.0667, Test Acc: 0.6280,Test F1: 0.6245\n",
            "\n",
            "Per-Class Accuracy:\n",
            "Class 0: 0.5022\n",
            "Class 1: 0.4667\n",
            "Class 2: 0.3843\n",
            "Class 3: 0.8509\n",
            "Class 4: 0.5078\n",
            "Class 5: 0.7333\n",
            "Class 6: 0.6639\n",
            "\n",
            "Classification Report:\n",
            "              precision    recall  f1-score   support\n",
            "\n",
            "     Class 0       0.56      0.50      0.53       458\n",
            "     Class 1       0.75      0.47      0.58        45\n",
            "     Class 2       0.46      0.38      0.42       471\n",
            "     Class 3       0.84      0.85      0.84       872\n",
            "     Class 4       0.51      0.51      0.51       575\n",
            "     Class 5       0.70      0.73      0.72       315\n",
            "     Class 6       0.56      0.66      0.61       595\n",
            "\n",
            "    accuracy                           0.63      3331\n",
            "   macro avg       0.62      0.59      0.60      3331\n",
            "weighted avg       0.62      0.63      0.62      3331\n",
            "\n"
          ]
        },
        {
          "output_type": "display_data",
          "data": {
            "text/plain": [
              "<Figure size 1000x800 with 2 Axes>"
            ],
            "image/png": "[encoded data removed]"
          },
          "metadata": {}
        }
      ],
      "source": [
        "import numpy as np\n",
        "import pandas as pd\n",
        "import torch\n",
        "from torch.utils.data import Dataset, DataLoader\n",
        "from torchvision import transforms\n",
        "from PIL import Image\n",
        "import matplotlib.pyplot as plt\n",
        "from sklearn.model_selection import train_test_split\n",
        "from sklearn.metrics import classification_report, confusion_matrix\n",
        "import torch.optim as optim\n",
        "from torch.optim.lr_scheduler import ReduceLROnPlateau\n",
        "import os\n",
        "from tqdm import tqdm\n",
        "from sklearn.metrics import f1_score\n",
        "import random\n",
        "from torch import nn\n",
        "import seaborn as sns\n",
        "import torch.nn.functional as F\n",
        "\n",
        "# Constants\n",
        "SEED = 123\n",
        "IMG_SIZE = 224\n",
        "BATCH_SIZE = 64\n",
        "LEARNING_RATE = 3e-5\n",
        "EPOCHS = 1000\n",
        "NUM_CLASSES = 7\n",
        "DEVICE = torch.device(\"cuda\" if torch.cuda.is_available() else \"cpu\")\n",
        "\n",
        "class FERDataset(Dataset):\n",
        "    def __init__(self, dataframe, transform=None):\n",
        "        self.dataframe = dataframe\n",
        "        self.transform = transform\n",
        "\n",
        "        # Ekstrak label dan piksel\n",
        "        self.labels = self.dataframe['emotion'].values\n",
        "        self.pixels = self.dataframe['pixels'].apply(self.string_to_image).values\n",
        "\n",
        "    def string_to_image(self, pixels_string):\n",
        "        # Konversi string piksel menjadi numpy array dan reshape ke 48x48\n",
        "        pixels = np.array(pixels_string.split(), dtype='float32')\n",
        "        image = pixels.reshape(48, 48)\n",
        "        image = np.expand_dims(image, axis=-1)  # Tambahkan channel dimensi\n",
        "        return image\n",
        "\n",
        "    def __len__(self):\n",
        "        return len(self.dataframe)\n",
        "\n",
        "    def __getitem__(self, idx):\n",
        "        image = self.pixels[idx]\n",
        "        label = self.labels[idx]\n",
        "\n",
        "        image = Image.fromarray(image.squeeze().astype('uint8'), mode='L')\n",
        "\n",
        "        # Jika ada transformasi, terapkan ke image\n",
        "        if self.transform:\n",
        "            image = self.transform(image)\n",
        "\n",
        "        return image, label\n",
        "\n",
        "def create_transforms():\n",
        "    # Create transform pipeline manually\n",
        "    train_transforms = transforms.Compose([\n",
        "        transforms.Grayscale(num_output_channels=3),\n",
        "        transforms.Resize((IMG_SIZE, IMG_SIZE)),\n",
        "        transforms.RandomHorizontalFlip(),  # Randomly flip horizontally\n",
        "        transforms.RandomRotation(10),     # Randomly rotate by 10 degrees\n",
        "        transforms.RandomResizedCrop(\n",
        "            size=IMG_SIZE,  # Output size\n",
        "            scale=(0.8, 1.0)  # Range of the random crop size relative to the input size\n",
        "        ),\n",
        "        transforms.ColorJitter(brightness=0.2, contrast=0.2),  # Adjust brightness\n",
        "        transforms.ToTensor(),\n",
        "        transforms.RandomErasing(p=0.3, scale=(0.02, 0.1)),\n",
        "        transforms.Normalize(mean=[0.5, 0.5, 0.5], std=[0.5, 0.5, 0.5]),\n",
        "    ])\n",
        "\n",
        "    # Create transform pipeline manually\n",
        "    test_transforms = transforms.Compose([\n",
        "        transforms.Grayscale(num_output_channels=3),\n",
        "        transforms.Resize((IMG_SIZE, IMG_SIZE)),\n",
        "        transforms.ToTensor(),\n",
        "        transforms.Normalize(mean=[0.5, 0.5, 0.5], std=[0.5, 0.5, 0.5]),\n",
        "    ])\n",
        "    return train_transforms, test_transforms\n",
        "\n",
        "def load_and_split_data(data_path):\n",
        "    data = pd.read_csv(data_path)\n",
        "    data_train, data_test = train_test_split(data, test_size=0.1, stratify=data['emotion'], random_state=SEED)\n",
        "    data_train, data_val = train_test_split(data_train, test_size=0.1, stratify=data_train['emotion'], random_state=SEED)\n",
        "    return data_train, data_val, data_test\n",
        "\n",
        "def create_datasets(data_train, data_val, data_test, train_transforms, test_transforms):\n",
        "    train_dataset = FERDataset(data_train, transform=train_transforms)\n",
        "    val_dataset = FERDataset(data_val, transform=test_transforms)\n",
        "    test_dataset = FERDataset(data_test, transform=test_transforms)\n",
        "    return train_dataset, val_dataset, test_dataset\n",
        "\n",
        "def create_dataloaders(train_dataset, val_dataset, test_dataset):\n",
        "    train_loader = DataLoader(train_dataset, batch_size=BATCH_SIZE, shuffle=True,\n",
        "                             generator=torch.Generator().manual_seed(SEED))\n",
        "    val_loader = DataLoader(val_dataset, batch_size=BATCH_SIZE, shuffle=False,\n",
        "                           generator=torch.Generator().manual_seed(SEED))\n",
        "    test_loader = DataLoader(test_dataset, batch_size=BATCH_SIZE, shuffle=False,\n",
        "                            generator=torch.Generator().manual_seed(SEED))\n",
        "    return train_loader, val_loader, test_loader\n",
        "\n",
        "class CNNBackbone(nn.Module):\n",
        "    def __init__(self, in_channels=3, embedding_dim=768):\n",
        "        super().__init__()\n",
        "        # Output channels for each convolution layer\n",
        "        channels = [24, 48, 96, 192]\n",
        "\n",
        "        # First conv: 3×3, stride 2, 3->24 channels\n",
        "        # Input: 224×224 -> Output: 112×112\n",
        "        self.conv1 = nn.Conv2d(in_channels, channels[0], kernel_size=3, stride=2, padding=1)\n",
        "        self.bn1 = nn.BatchNorm2d(channels[0])\n",
        "\n",
        "        # Second conv: 3×3, stride 2, 24->48 channels\n",
        "        # Input: 112×112 -> Output: 56×56\n",
        "        self.conv2 = nn.Conv2d(channels[0], channels[1], kernel_size=3, stride=2, padding=1)\n",
        "        self.bn2 = nn.BatchNorm2d(channels[1])\n",
        "\n",
        "        # Third conv: 3×3, stride 2, 48->96 channels\n",
        "        # Input: 56×56 -> Output: 28×28\n",
        "        self.conv3 = nn.Conv2d(channels[1], channels[2], kernel_size=3, stride=2, padding=1)\n",
        "        self.bn3 = nn.BatchNorm2d(channels[2])\n",
        "\n",
        "        # Fourth conv: 3×3, stride 2, 96->192 channels\n",
        "        # Input: 28×28 -> Output: 14×14\n",
        "        self.conv4 = nn.Conv2d(channels[2], channels[3], kernel_size=3, stride=2, padding=1)\n",
        "        self.bn4 = nn.BatchNorm2d(channels[3])\n",
        "\n",
        "        # Final 1×1 conv to match transformer dimension\n",
        "        self.final_conv = nn.Conv2d(channels[3], embedding_dim, kernel_size=1)\n",
        "\n",
        "    def forward(self, x):\n",
        "        # Apply convolutions with BN and ReLU\n",
        "        x = F.relu(self.bn1(self.conv1(x)))\n",
        "        x = F.relu(self.bn2(self.conv2(x)))\n",
        "        x = F.relu(self.bn3(self.conv3(x)))\n",
        "        x = F.relu(self.bn4(self.conv4(x)))\n",
        "\n",
        "        # Final 1×1 conv without activation\n",
        "        x = self.final_conv(x)\n",
        "        return x\n",
        "\n",
        "class MultiheadSelfAttentionBlock(nn.Module):\n",
        "    def __init__(self,\n",
        "                 embedding_dim:int=768,\n",
        "                 num_heads:int=12,\n",
        "                 attn_dropout:float=0.):\n",
        "        super().__init__()\n",
        "        self.multihead_attn = nn.MultiheadAttention(embed_dim=embedding_dim,\n",
        "                                                    num_heads=num_heads,\n",
        "                                                    dropout=attn_dropout,\n",
        "                                                    batch_first=True)\n",
        "    def forward(self, x):\n",
        "        attn_output, _ = self.multihead_attn(query=x,\n",
        "                                             key=x,\n",
        "                                             value=x,\n",
        "                                             need_weights=False)\n",
        "        return attn_output\n",
        "\n",
        "class MLPBlock(nn.Module):\n",
        "    def __init__(self,\n",
        "                 embedding_dim:int=768,\n",
        "                 mlp_size:int=3072,\n",
        "                 dropout:float=0.):\n",
        "        super().__init__()\n",
        "        self.mlp = nn.Sequential(\n",
        "            nn.Linear(in_features=embedding_dim,\n",
        "                      out_features=mlp_size),\n",
        "            nn.GELU(),\n",
        "            nn.Dropout(p=dropout),\n",
        "            nn.Linear(in_features=mlp_size,\n",
        "                      out_features=embedding_dim),\n",
        "            nn.Dropout(p=dropout)\n",
        "        )\n",
        "    def forward(self, x):\n",
        "        x = self.mlp(x)\n",
        "        return x\n",
        "\n",
        "class TransformerEncoderBlock(nn.Module):\n",
        "    def __init__(self,\n",
        "                 embedding_dim:int=768,\n",
        "                 num_heads:int=12,\n",
        "                 mlp_size:int=3072,\n",
        "                 mlp_dropout:float=0.,\n",
        "                 attn_dropout:float=0.):\n",
        "        super().__init__()\n",
        "        self.layer_norm1 = nn.LayerNorm(normalized_shape=embedding_dim, eps=1e-6)\n",
        "\n",
        "        self.msa_block = MultiheadSelfAttentionBlock(embedding_dim=embedding_dim,\n",
        "                                                     num_heads=num_heads,\n",
        "                                                     attn_dropout=attn_dropout)\n",
        "\n",
        "        self.layer_norm2 = nn.LayerNorm(normalized_shape=embedding_dim, eps=1e-6)\n",
        "\n",
        "        self.mlp_block =  MLPBlock(embedding_dim=embedding_dim,\n",
        "                                   mlp_size=mlp_size,\n",
        "                                   dropout=mlp_dropout)\n",
        "    def forward(self, x):\n",
        "        x = self.msa_block(self.layer_norm1(x)) + x\n",
        "\n",
        "        x = self.mlp_block(self.layer_norm2(x)) + x\n",
        "\n",
        "        return x\n",
        "\n",
        "class ViTCNN(nn.Module):\n",
        "    def __init__(self,\n",
        "                 img_size:int=224,\n",
        "                 in_channels:int=3,\n",
        "                 num_transformer_layers:int=12,\n",
        "                 embedding_dim:int=768,\n",
        "                 mlp_size:int=3072,\n",
        "                 num_heads:int=12,\n",
        "                 attn_dropout:float=0.,\n",
        "                 mlp_dropout:float=0.,\n",
        "                 embedding_dropout:float=0.,\n",
        "                 num_classes:int=1000):\n",
        "        super().__init__()\n",
        "        self.cnn_backbone = CNNBackbone(in_channels, embedding_dim)\n",
        "\n",
        "        self.seq_length = (img_size // 16) ** 2  # 14x14 = 196\n",
        "\n",
        "        self.class_embedding = nn.Parameter(data=torch.randn(1, 1, embedding_dim),\n",
        "                                            requires_grad=True)\n",
        "\n",
        "        self.position_embedding = nn.Parameter(data=torch.randn(1, self.seq_length + 1, embedding_dim),\n",
        "                                               requires_grad=True)\n",
        "\n",
        "        self.embedding_dropout = nn.Dropout(p=embedding_dropout)\n",
        "\n",
        "        self.transformer_encoder = nn.Sequential(*[TransformerEncoderBlock(embedding_dim=embedding_dim,\n",
        "                                                                            num_heads=num_heads,\n",
        "                                                                            mlp_size=mlp_size,\n",
        "                                                                            mlp_dropout=mlp_dropout) for _ in range(num_transformer_layers)])\n",
        "\n",
        "        self.norm = nn.LayerNorm(normalized_shape=embedding_dim, eps=1e-6)\n",
        "        self.head = nn.Linear(in_features=embedding_dim, out_features=num_classes)\n",
        "\n",
        "    def forward(self, pixel_values, labels=None):\n",
        "        batch_size = pixel_values.shape[0]\n",
        "\n",
        "        # CNN backbone menghasilkan [B, 1, embedding_dim]\n",
        "        cnn_features = self.cnn_backbone(pixel_values)\n",
        "\n",
        "        x = cnn_features.flatten(2).transpose(1, 2)  # [B, 196, embed_dim]\n",
        "\n",
        "        class_token = self.class_embedding.expand(batch_size, -1, -1) # (n_samples, 1, embed_dim)\n",
        "\n",
        "        x = torch.cat((class_token, x), dim=1) # (n_samples, 1 + n_patches, embed_dim)\n",
        "\n",
        "        x = self.position_embedding + x # add position embed\n",
        "\n",
        "        x = self.embedding_dropout(x)\n",
        "\n",
        "        x = self.transformer_encoder(x)\n",
        "\n",
        "        x = self.norm(x)\n",
        "\n",
        "        cls_token_final = x[:, 0]\n",
        "\n",
        "        logits = self.head(cls_token_final)\n",
        "\n",
        "        return logits\n",
        "\n",
        "class EarlyStopping:\n",
        "    def __init__(self, patience=10, min_delta=0):\n",
        "        self.patience = patience\n",
        "        self.min_delta = min_delta\n",
        "        self.best_loss = float('inf')\n",
        "        self.epochs_no_improve = 0\n",
        "        self.early_stop = False\n",
        "\n",
        "    def __call__(self, val_loss):\n",
        "        if val_loss < self.best_loss - self.min_delta:\n",
        "            self.best_loss = val_loss\n",
        "            self.epochs_no_improve = 0\n",
        "        else:\n",
        "            self.epochs_no_improve += 1\n",
        "\n",
        "        if self.epochs_no_improve >= self.patience:\n",
        "            self.early_stop = True\n",
        "\n",
        "        return self.early_stop\n",
        "\n",
        "\n",
        "def train_model(model, train_loader, val_loader):\n",
        "    # Initialize training utilities\n",
        "    optimizer = optim.AdamW(model.parameters(), lr=LEARNING_RATE)\n",
        "    criterion = nn.CrossEntropyLoss()\n",
        "    scheduler = ReduceLROnPlateau(optimizer, mode='min', factor=0.1, patience=5)\n",
        "    early_stopping = EarlyStopping(patience=10, min_delta=0)\n",
        "\n",
        "    # Define path\n",
        "    SAVE_PATH = \"/content/drive/MyDrive/Hasil Eksperimen\"\n",
        "    os.makedirs(SAVE_PATH, exist_ok=True)\n",
        "\n",
        "    # Initialize lists to store training and validation metrics\n",
        "    train_losses = []\n",
        "    val_losses = []\n",
        "    train_accuracies = []\n",
        "    val_accuracies = []\n",
        "\n",
        "    # Initialize the best metric for model saving\n",
        "    best_val_accuracy = -float('inf')\n",
        "\n",
        "    for epoch in range(EPOCHS):\n",
        "        model.train()\n",
        "        train_loss = 0.0\n",
        "        correct = 0\n",
        "        total = 0\n",
        "\n",
        "        # Training\n",
        "        pbar = tqdm(train_loader, desc=f\"Epoch {epoch + 1}/{EPOCHS}\")\n",
        "        for batch_idx, (inputs, targets) in enumerate(pbar):\n",
        "            inputs, targets = inputs.to(DEVICE), targets.to(DEVICE)\n",
        "\n",
        "            # Zero the gradients\n",
        "            optimizer.zero_grad()\n",
        "\n",
        "            # Forward pass\n",
        "            outputs = model(inputs)\n",
        "            loss = criterion(outputs, targets)\n",
        "\n",
        "            # Backward pass and optimize\n",
        "            loss.backward()\n",
        "            optimizer.step()\n",
        "\n",
        "            # Update statistics\n",
        "            train_loss += loss.item()\n",
        "            _, predicted = outputs.max(1)\n",
        "            total += targets.size(0)\n",
        "            correct += predicted.eq(targets).sum().item()\n",
        "\n",
        "            # Update progress bar\n",
        "            pbar.set_postfix({\n",
        "                \"Loss\": f\"{train_loss / (batch_idx + 1):.4f}\",\n",
        "                \"Acc\": f\"{correct / total:.4f}\"\n",
        "            })\n",
        "\n",
        "        # Calculate training accuracy and loss\n",
        "        train_accuracy = correct / total\n",
        "        avg_train_loss = train_loss / len(train_loader)\n",
        "        train_losses.append(avg_train_loss)\n",
        "        train_accuracies.append(train_accuracy)\n",
        "\n",
        "        # Print training summary\n",
        "        print(f\"Epoch {epoch + 1}/{EPOCHS}: \"\n",
        "              f\"Train Loss: {avg_train_loss:.4f}, \"\n",
        "              f\"Train Acc: {train_accuracy:.4f}\")\n",
        "\n",
        "        # Validation\n",
        "        model.eval()\n",
        "        val_loss = 0.0\n",
        "        val_correct = 0\n",
        "        val_total = 0\n",
        "        all_targets = []\n",
        "        all_predicted = []\n",
        "\n",
        "        with torch.no_grad():  # Disable gradient computation\n",
        "            pbar = tqdm(val_loader, desc=f\"Epoch {epoch + 1}/{EPOCHS} (Validation)\")\n",
        "            for batch_idx, (inputs, targets) in enumerate(pbar):\n",
        "                inputs, targets = inputs.to(DEVICE), targets.to(DEVICE)\n",
        "\n",
        "                # Forward pass\n",
        "                outputs = model(inputs)\n",
        "                loss = criterion(outputs, targets)\n",
        "\n",
        "                # Update statistics\n",
        "                val_loss += loss.item()\n",
        "                _, predicted = outputs.max(1)\n",
        "                val_total += targets.size(0)\n",
        "                val_correct += predicted.eq(targets).sum().item()\n",
        "\n",
        "                # Collect all targets and predictions for F1-score\n",
        "                all_targets.extend(targets.cpu().numpy())\n",
        "                all_predicted.extend(predicted.cpu().numpy())\n",
        "\n",
        "                # Update progress bar\n",
        "                pbar.set_postfix({\n",
        "                    \"Loss\": f\"{val_loss / (batch_idx + 1):.4f}\",\n",
        "                    \"Acc\": f\"{val_correct / val_total:.4f}\"\n",
        "                })\n",
        "\n",
        "        # Calculate validation accuracy, loss, and F1-score\n",
        "        val_accuracy = val_correct / val_total\n",
        "        avg_val_loss = val_loss / len(val_loader)\n",
        "        val_f1 = f1_score(all_targets, all_predicted, average=\"weighted\")\n",
        "        val_losses.append(avg_val_loss)\n",
        "        val_accuracies.append(val_accuracy)\n",
        "\n",
        "        # Print validation summary\n",
        "        print(f\"Epoch {epoch + 1}/{EPOCHS}: \"\n",
        "              f\"Val Loss: {avg_val_loss:.4f}, \"\n",
        "              f\"Val Acc: {val_accuracy:.4f}, \"\n",
        "              f\"Val F1: {val_f1:.4f}\")\n",
        "\n",
        "        # Step the learning rate scheduler based on validation loss\n",
        "        scheduler.step(avg_val_loss)\n",
        "\n",
        "        # Print the current learning rate\n",
        "        current_lr = optimizer.param_groups[0]['lr']\n",
        "        print(f\"Current Learning Rate: {current_lr}\")\n",
        "\n",
        "        # Save the best model based on validation accuracy\n",
        "        if val_accuracy > best_val_accuracy:\n",
        "            best_val_accuracy = val_accuracy\n",
        "            model_path = os.path.join(SAVE_PATH, \"hybrid_cnn_vit_best.pt\")\n",
        "            torch.save({\n",
        "                \"model_state_dict\": model.state_dict()\n",
        "            }, model_path)\n",
        "    #         torch.save(model.state_dict(), model_path)\n",
        "            print(f\"Best model saved at {model_path} with val accuracy: {best_val_accuracy:.4f}\")\n",
        "\n",
        "        # Save loss and accuracy plots\n",
        "        plt.figure(figsize=(10, 5))\n",
        "        plt.plot(range(1, len(train_losses) + 1), train_losses, label=\"Training Loss\", marker='o')\n",
        "        plt.plot(range(1, len(val_losses) + 1), val_losses, label=\"Validation Loss\", marker='o')\n",
        "        plt.title(\"Loss per Epoch\")\n",
        "        plt.xlabel(\"Epoch\")\n",
        "        plt.ylabel(\"Loss\")\n",
        "        plt.legend()\n",
        "        plt.grid(True)\n",
        "        loss_plot_path = os.path.join(SAVE_PATH, \"hybrid_cnn_vit_loss.png\")\n",
        "        plt.savefig(loss_plot_path)\n",
        "        plt.close()\n",
        "\n",
        "        plt.figure(figsize=(10, 5))\n",
        "        plt.plot(range(1, len(train_accuracies) + 1), train_accuracies, label=\"Training Accuracy\", marker='o')\n",
        "        plt.plot(range(1, len(val_accuracies) + 1), val_accuracies, label=\"Validation Accuracy\", marker='o')\n",
        "        plt.title(\"Accuracy per Epoch\")\n",
        "        plt.xlabel(\"Epoch\")\n",
        "        plt.ylabel(\"Accuracy\")\n",
        "        plt.legend()\n",
        "        plt.grid(True)\n",
        "        accuracy_plot_path = os.path.join(SAVE_PATH, \"hybrid_cnn_vit_accuracy.png\")\n",
        "        plt.savefig(accuracy_plot_path)\n",
        "        plt.close()\n",
        "\n",
        "        if early_stopping(avg_val_loss):\n",
        "            print(f\"Early stopping triggered at epoch {epoch + 1}!\")\n",
        "            break\n",
        "\n",
        "def evaluate_model(best_model, test_loader):\n",
        "    criterion = nn.CrossEntropyLoss()\n",
        "    best_model.eval()\n",
        "    test_loss = 0.0\n",
        "    test_correct = 0\n",
        "    test_total = 0\n",
        "    all_targets = []\n",
        "    all_predicted = []\n",
        "\n",
        "    with torch.no_grad():  # Disable gradient computation\n",
        "        pbar = tqdm(test_loader, desc=\"Testing\")\n",
        "        for batch_idx, (inputs, targets) in enumerate(pbar):\n",
        "            inputs, targets = inputs.to(DEVICE), targets.to(DEVICE)\n",
        "\n",
        "            # Forward pass\n",
        "            outputs = best_model(inputs)\n",
        "            loss = criterion(outputs, targets)\n",
        "\n",
        "            # Update statistics\n",
        "            test_loss += loss.item()\n",
        "            _, predicted = outputs.max(1)\n",
        "            test_total += targets.size(0)\n",
        "            test_correct += predicted.eq(targets).sum().item()\n",
        "\n",
        "            # Collect all targets and predictions\n",
        "            all_targets.extend(targets.cpu().numpy())\n",
        "            all_predicted.extend(predicted.cpu().numpy())\n",
        "\n",
        "            # Update progress bar\n",
        "            pbar.set_postfix({\n",
        "                \"Loss\": f\"{test_loss / (batch_idx + 1):.4f}\",\n",
        "                \"Acc\": f\"{test_correct / test_total:.4f}\"\n",
        "            })\n",
        "\n",
        "    # Calculate test accuracy, loss, and F1-score\n",
        "    test_accuracy = test_correct / test_total\n",
        "    avg_test_loss = test_loss / len(test_loader)\n",
        "    test_f1 = f1_score(all_targets, all_predicted, average=\"weighted\")\n",
        "\n",
        "    # Calculate per-class accuracy\n",
        "    conf_matrix = confusion_matrix(all_targets, all_predicted)\n",
        "    per_class_accuracy = conf_matrix.diagonal() / conf_matrix.sum(axis=1)\n",
        "\n",
        "    # Calculate classification report (includes precision, recall, F1-score, and support)\n",
        "    class_report = classification_report(all_targets, all_predicted, target_names=[f\"Class {i}\" for i in range(NUM_CLASSES)])\n",
        "\n",
        "    # Print test summary\n",
        "    print(f\"Test Loss: {avg_test_loss:.4f}, \"\n",
        "          f\"Test Acc: {test_accuracy:.4f},\"\n",
        "          f\"Test F1: {test_f1:.4f}\")\n",
        "\n",
        "    # Print per-class accuracy\n",
        "    print(\"\\nPer-Class Accuracy:\")\n",
        "    for i, acc in enumerate(per_class_accuracy):\n",
        "        print(f\"Class {i}: {acc:.4f}\")\n",
        "\n",
        "    # Print classification report\n",
        "    print(\"\\nClassification Report:\")\n",
        "    print(class_report)\n",
        "\n",
        "    normalized_conf_matrix = conf_matrix / conf_matrix.sum(axis=1, keepdims=True)\n",
        "    emotion_dict = {\n",
        "        0: \"Angry\", 1: \"Disgust\", 2: \"Fear\",\n",
        "        3: \"Happy\", 4: \"Neutral\", 5: \"Sad\", 6: \"Surprise\"\n",
        "    }\n",
        "    emotion_labels = [emotion_dict[i] for i in range(len(emotion_dict))]\n",
        "\n",
        "    plt.figure(figsize=(10, 8))\n",
        "    sns.heatmap(normalized_conf_matrix, annot=True, fmt='.2f', cmap='Blues',\n",
        "                xticklabels=emotion_labels,\n",
        "                yticklabels=emotion_labels)\n",
        "    plt.title(\"Confusion Matrix\")\n",
        "    plt.xlabel(\"Predicted Label\")\n",
        "    plt.ylabel(\"True Label\")\n",
        "    plt.tight_layout()\n",
        "    plt.show()\n",
        "\n",
        "def main():\n",
        "    # Set random seeds for reproducibility\n",
        "    torch.manual_seed(SEED)\n",
        "    torch.cuda.manual_seed(SEED)\n",
        "    torch.cuda.manual_seed_all(SEED)\n",
        "    random.seed(SEED)\n",
        "    np.random.seed(SEED)\n",
        "    torch.backends.cudnn.deterministic = True\n",
        "    torch.backends.cudnn.benchmark = False\n",
        "\n",
        "    print(f\"Using device: {DEVICE}\")\n",
        "    print(f\"PyTorch version: {torch.__version__}\")\n",
        "\n",
        "    # Data preparation\n",
        "    train_transforms, test_transforms = create_transforms()\n",
        "    data_train, data_val, data_test = load_and_split_data(\"/content/drive/MyDrive/Dataset/fer2013v2_clean.csv\")\n",
        "    train_dataset, val_dataset, test_dataset = create_datasets(data_train, data_val, data_test, train_transforms, test_transforms)\n",
        "\n",
        "    train_loader, val_loader, test_loader = create_dataloaders(train_dataset, val_dataset, test_dataset)\n",
        "\n",
        "    class_names = ['Angry', 'Disgust', 'Fear', 'Happy', 'Sad', 'Surprise', 'Neutral']\n",
        "\n",
        "    model = ViTCNN(num_classes=len(class_names),\n",
        "                in_channels=3,\n",
        "                num_heads=12,\n",
        "                embedding_dim=768,\n",
        "                num_transformer_layers=12,\n",
        "                mlp_size=3072)\n",
        "    model.to(DEVICE)\n",
        "\n",
        "    train_model(model, train_loader, val_loader)\n",
        "\n",
        "    best_model = ViTCNN(num_classes=len(class_names),\n",
        "                     in_channels=3,\n",
        "                     num_heads=12,\n",
        "                     embedding_dim=768,\n",
        "                     num_transformer_layers=12,\n",
        "                     mlp_size=3072)\n",
        "    best_model = best_model.to(DEVICE)\n",
        "\n",
        "    checkpoint = torch.load(\"/content/drive/MyDrive/Hasil Eksperimen/hybrid_cnn_vit_best.pt\")\n",
        "    best_model.load_state_dict(checkpoint[\"model_state_dict\"])\n",
        "\n",
        "    evaluate_model(best_model, test_loader)\n",
        "\n",
        "if __name__ == \"__main__\":\n",
        "    main()"
      ]
    }
  ]
}
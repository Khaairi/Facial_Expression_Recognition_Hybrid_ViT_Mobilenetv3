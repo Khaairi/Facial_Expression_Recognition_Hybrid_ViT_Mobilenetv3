{
 "cells": [
  {
   "cell_type": "code",
   "execution_count": 1,
   "id": "57771606",
   "metadata": {
    "scrolled": false
   },
   "outputs": [
    {
     "name": "stderr",
     "output_type": "stream",
     "text": [
      "C:\\Users\\MoKha\\anaconda3\\lib\\site-packages\\pandas\\core\\computation\\expressions.py:21: UserWarning: Pandas requires version '2.8.4' or newer of 'numexpr' (version '2.8.1' currently installed).\n",
      "  from pandas.core.computation.check import NUMEXPR_INSTALLED\n",
      "C:\\Users\\MoKha\\anaconda3\\lib\\site-packages\\pandas\\core\\arrays\\masked.py:60: UserWarning: Pandas requires version '1.3.6' or newer of 'bottleneck' (version '1.3.4' currently installed).\n",
      "  from pandas.core import (\n"
     ]
    },
    {
     "name": "stdout",
     "output_type": "stream",
     "text": [
      "Using device: cuda\n",
      "PyTorch version: 2.5.0+cu124\n"
     ]
    },
    {
     "name": "stderr",
     "output_type": "stream",
     "text": [
      "C:\\Users\\MoKha\\anaconda3\\lib\\site-packages\\torchvision\\models\\_utils.py:208: UserWarning: The parameter 'pretrained' is deprecated since 0.13 and may be removed in the future, please use 'weights' instead.\n",
      "  warnings.warn(\n",
      "C:\\Users\\MoKha\\anaconda3\\lib\\site-packages\\torchvision\\models\\_utils.py:223: UserWarning: Arguments other than a weight enum or `None` for 'weights' are deprecated since 0.13 and may be removed in the future. The current behavior is equivalent to passing `weights=ViT_B_32_Weights.IMAGENET1K_V1`. You can also use `weights=ViT_B_32_Weights.DEFAULT` to get the most up-to-date weights.\n",
      "  warnings.warn(msg)\n",
      "Epoch 1/1000: 100%|█████████████████████████████████████████| 422/422 [04:32<00:00,  1.55it/s, Loss=1.2490, Acc=0.5182]\n"
     ]
    },
    {
     "name": "stdout",
     "output_type": "stream",
     "text": [
      "Epoch 1/1000: Train Loss: 1.2490, Train Acc: 0.5182\n"
     ]
    },
    {
     "name": "stderr",
     "output_type": "stream",
     "text": [
      "Epoch 1/1000 (Validation): 100%|██████████████████████████████| 47/47 [00:10<00:00,  4.62it/s, Loss=1.0625, Acc=0.5894]\n"
     ]
    },
    {
     "name": "stdout",
     "output_type": "stream",
     "text": [
      "Epoch 1/1000: Val Loss: 1.0625, Val Acc: 0.5894, Val F1: 0.5645\n",
      "Current Learning Rate: 3e-05\n",
      "Best model saved at E://Kuliah//UPI//SEMESTER 8//coba coba\\vit_pretrained_best.pt with val accuracy: 0.5894\n"
     ]
    },
    {
     "name": "stderr",
     "output_type": "stream",
     "text": [
      "Epoch 2/1000: 100%|█████████████████████████████████████████| 422/422 [05:43<00:00,  1.23it/s, Loss=1.0282, Acc=0.6114]\n"
     ]
    },
    {
     "name": "stdout",
     "output_type": "stream",
     "text": [
      "Epoch 2/1000: Train Loss: 1.0282, Train Acc: 0.6114\n"
     ]
    },
    {
     "name": "stderr",
     "output_type": "stream",
     "text": [
      "Epoch 2/1000 (Validation): 100%|██████████████████████████████| 47/47 [00:12<00:00,  3.74it/s, Loss=0.9542, Acc=0.6451]\n"
     ]
    },
    {
     "name": "stdout",
     "output_type": "stream",
     "text": [
      "Epoch 2/1000: Val Loss: 0.9542, Val Acc: 0.6451, Val F1: 0.6416\n",
      "Current Learning Rate: 3e-05\n",
      "Best model saved at E://Kuliah//UPI//SEMESTER 8//coba coba\\vit_pretrained_best.pt with val accuracy: 0.6451\n"
     ]
    },
    {
     "name": "stderr",
     "output_type": "stream",
     "text": [
      "Epoch 3/1000: 100%|█████████████████████████████████████████| 422/422 [06:11<00:00,  1.14it/s, Loss=0.9489, Acc=0.6414]\n"
     ]
    },
    {
     "name": "stdout",
     "output_type": "stream",
     "text": [
      "Epoch 3/1000: Train Loss: 0.9489, Train Acc: 0.6414\n"
     ]
    },
    {
     "name": "stderr",
     "output_type": "stream",
     "text": [
      "Epoch 3/1000 (Validation): 100%|██████████████████████████████| 47/47 [00:14<00:00,  3.35it/s, Loss=0.9489, Acc=0.6474]\n"
     ]
    },
    {
     "name": "stdout",
     "output_type": "stream",
     "text": [
      "Epoch 3/1000: Val Loss: 0.9489, Val Acc: 0.6474, Val F1: 0.6374\n",
      "Current Learning Rate: 3e-05\n",
      "Best model saved at E://Kuliah//UPI//SEMESTER 8//coba coba\\vit_pretrained_best.pt with val accuracy: 0.6474\n"
     ]
    },
    {
     "name": "stderr",
     "output_type": "stream",
     "text": [
      "Epoch 4/1000: 100%|█████████████████████████████████████████| 422/422 [06:24<00:00,  1.10it/s, Loss=0.8960, Acc=0.6629]\n"
     ]
    },
    {
     "name": "stdout",
     "output_type": "stream",
     "text": [
      "Epoch 4/1000: Train Loss: 0.8960, Train Acc: 0.6629\n"
     ]
    },
    {
     "name": "stderr",
     "output_type": "stream",
     "text": [
      "Epoch 4/1000 (Validation): 100%|██████████████████████████████| 47/47 [00:13<00:00,  3.57it/s, Loss=0.9275, Acc=0.6624]\n"
     ]
    },
    {
     "name": "stdout",
     "output_type": "stream",
     "text": [
      "Epoch 4/1000: Val Loss: 0.9275, Val Acc: 0.6624, Val F1: 0.6578\n",
      "Current Learning Rate: 3e-05\n",
      "Best model saved at E://Kuliah//UPI//SEMESTER 8//coba coba\\vit_pretrained_best.pt with val accuracy: 0.6624\n"
     ]
    },
    {
     "name": "stderr",
     "output_type": "stream",
     "text": [
      "Epoch 5/1000: 100%|█████████████████████████████████████████| 422/422 [06:28<00:00,  1.09it/s, Loss=0.8467, Acc=0.6817]\n"
     ]
    },
    {
     "name": "stdout",
     "output_type": "stream",
     "text": [
      "Epoch 5/1000: Train Loss: 0.8467, Train Acc: 0.6817\n"
     ]
    },
    {
     "name": "stderr",
     "output_type": "stream",
     "text": [
      "Epoch 5/1000 (Validation): 100%|██████████████████████████████| 47/47 [00:13<00:00,  3.60it/s, Loss=0.9406, Acc=0.6458]\n"
     ]
    },
    {
     "name": "stdout",
     "output_type": "stream",
     "text": [
      "Epoch 5/1000: Val Loss: 0.9406, Val Acc: 0.6458, Val F1: 0.6492\n",
      "Current Learning Rate: 3e-05\n"
     ]
    },
    {
     "name": "stderr",
     "output_type": "stream",
     "text": [
      "Epoch 6/1000: 100%|█████████████████████████████████████████| 422/422 [06:28<00:00,  1.09it/s, Loss=0.7973, Acc=0.7031]\n"
     ]
    },
    {
     "name": "stdout",
     "output_type": "stream",
     "text": [
      "Epoch 6/1000: Train Loss: 0.7973, Train Acc: 0.7031\n"
     ]
    },
    {
     "name": "stderr",
     "output_type": "stream",
     "text": [
      "Epoch 6/1000 (Validation): 100%|██████████████████████████████| 47/47 [00:13<00:00,  3.56it/s, Loss=0.9079, Acc=0.6708]\n"
     ]
    },
    {
     "name": "stdout",
     "output_type": "stream",
     "text": [
      "Epoch 6/1000: Val Loss: 0.9079, Val Acc: 0.6708, Val F1: 0.6696\n",
      "Current Learning Rate: 3e-05\n",
      "Best model saved at E://Kuliah//UPI//SEMESTER 8//coba coba\\vit_pretrained_best.pt with val accuracy: 0.6708\n"
     ]
    },
    {
     "name": "stderr",
     "output_type": "stream",
     "text": [
      "Epoch 7/1000: 100%|█████████████████████████████████████████| 422/422 [06:32<00:00,  1.07it/s, Loss=0.7473, Acc=0.7230]\n"
     ]
    },
    {
     "name": "stdout",
     "output_type": "stream",
     "text": [
      "Epoch 7/1000: Train Loss: 0.7473, Train Acc: 0.7230\n"
     ]
    },
    {
     "name": "stderr",
     "output_type": "stream",
     "text": [
      "Epoch 7/1000 (Validation): 100%|██████████████████████████████| 47/47 [00:13<00:00,  3.50it/s, Loss=0.8918, Acc=0.6791]\n"
     ]
    },
    {
     "name": "stdout",
     "output_type": "stream",
     "text": [
      "Epoch 7/1000: Val Loss: 0.8918, Val Acc: 0.6791, Val F1: 0.6742\n",
      "Current Learning Rate: 3e-05\n",
      "Best model saved at E://Kuliah//UPI//SEMESTER 8//coba coba\\vit_pretrained_best.pt with val accuracy: 0.6791\n"
     ]
    },
    {
     "name": "stderr",
     "output_type": "stream",
     "text": [
      "Epoch 8/1000: 100%|█████████████████████████████████████████| 422/422 [06:33<00:00,  1.07it/s, Loss=0.6986, Acc=0.7431]\n"
     ]
    },
    {
     "name": "stdout",
     "output_type": "stream",
     "text": [
      "Epoch 8/1000: Train Loss: 0.6986, Train Acc: 0.7431\n"
     ]
    },
    {
     "name": "stderr",
     "output_type": "stream",
     "text": [
      "Epoch 8/1000 (Validation): 100%|██████████████████████████████| 47/47 [00:12<00:00,  3.64it/s, Loss=0.9274, Acc=0.6671]\n"
     ]
    },
    {
     "name": "stdout",
     "output_type": "stream",
     "text": [
      "Epoch 8/1000: Val Loss: 0.9274, Val Acc: 0.6671, Val F1: 0.6685\n",
      "Current Learning Rate: 3e-05\n"
     ]
    },
    {
     "name": "stderr",
     "output_type": "stream",
     "text": [
      "Epoch 9/1000: 100%|█████████████████████████████████████████| 422/422 [06:42<00:00,  1.05it/s, Loss=0.6501, Acc=0.7610]\n"
     ]
    },
    {
     "name": "stdout",
     "output_type": "stream",
     "text": [
      "Epoch 9/1000: Train Loss: 0.6501, Train Acc: 0.7610\n"
     ]
    },
    {
     "name": "stderr",
     "output_type": "stream",
     "text": [
      "Epoch 9/1000 (Validation): 100%|██████████████████████████████| 47/47 [00:13<00:00,  3.43it/s, Loss=0.9079, Acc=0.6771]\n"
     ]
    },
    {
     "name": "stdout",
     "output_type": "stream",
     "text": [
      "Epoch 9/1000: Val Loss: 0.9079, Val Acc: 0.6771, Val F1: 0.6763\n",
      "Current Learning Rate: 3e-05\n"
     ]
    },
    {
     "name": "stderr",
     "output_type": "stream",
     "text": [
      "Epoch 10/1000: 100%|████████████████████████████████████████| 422/422 [06:25<00:00,  1.09it/s, Loss=0.6010, Acc=0.7795]\n"
     ]
    },
    {
     "name": "stdout",
     "output_type": "stream",
     "text": [
      "Epoch 10/1000: Train Loss: 0.6010, Train Acc: 0.7795\n"
     ]
    },
    {
     "name": "stderr",
     "output_type": "stream",
     "text": [
      "Epoch 10/1000 (Validation): 100%|█████████████████████████████| 47/47 [00:13<00:00,  3.53it/s, Loss=0.9745, Acc=0.6631]\n"
     ]
    },
    {
     "name": "stdout",
     "output_type": "stream",
     "text": [
      "Epoch 10/1000: Val Loss: 0.9745, Val Acc: 0.6631, Val F1: 0.6532\n",
      "Current Learning Rate: 3e-05\n"
     ]
    },
    {
     "name": "stderr",
     "output_type": "stream",
     "text": [
      "Epoch 11/1000: 100%|████████████████████████████████████████| 422/422 [06:30<00:00,  1.08it/s, Loss=0.5451, Acc=0.7984]\n"
     ]
    },
    {
     "name": "stdout",
     "output_type": "stream",
     "text": [
      "Epoch 11/1000: Train Loss: 0.5451, Train Acc: 0.7984\n"
     ]
    },
    {
     "name": "stderr",
     "output_type": "stream",
     "text": [
      "Epoch 11/1000 (Validation): 100%|█████████████████████████████| 47/47 [00:13<00:00,  3.51it/s, Loss=0.9424, Acc=0.6808]\n"
     ]
    },
    {
     "name": "stdout",
     "output_type": "stream",
     "text": [
      "Epoch 11/1000: Val Loss: 0.9424, Val Acc: 0.6808, Val F1: 0.6791\n",
      "Current Learning Rate: 3e-05\n",
      "Best model saved at E://Kuliah//UPI//SEMESTER 8//coba coba\\vit_pretrained_best.pt with val accuracy: 0.6808\n"
     ]
    },
    {
     "name": "stderr",
     "output_type": "stream",
     "text": [
      "Epoch 12/1000: 100%|████████████████████████████████████████| 422/422 [06:33<00:00,  1.07it/s, Loss=0.4898, Acc=0.8227]\n"
     ]
    },
    {
     "name": "stdout",
     "output_type": "stream",
     "text": [
      "Epoch 12/1000: Train Loss: 0.4898, Train Acc: 0.8227\n"
     ]
    },
    {
     "name": "stderr",
     "output_type": "stream",
     "text": [
      "Epoch 12/1000 (Validation): 100%|█████████████████████████████| 47/47 [00:12<00:00,  3.68it/s, Loss=0.9823, Acc=0.6714]\n"
     ]
    },
    {
     "name": "stdout",
     "output_type": "stream",
     "text": [
      "Epoch 12/1000: Val Loss: 0.9823, Val Acc: 0.6714, Val F1: 0.6714\n",
      "Current Learning Rate: 3e-05\n"
     ]
    },
    {
     "name": "stderr",
     "output_type": "stream",
     "text": [
      "Epoch 13/1000: 100%|████████████████████████████████████████| 422/422 [06:37<00:00,  1.06it/s, Loss=0.4491, Acc=0.8375]\n"
     ]
    },
    {
     "name": "stdout",
     "output_type": "stream",
     "text": [
      "Epoch 13/1000: Train Loss: 0.4491, Train Acc: 0.8375\n"
     ]
    },
    {
     "name": "stderr",
     "output_type": "stream",
     "text": [
      "Epoch 13/1000 (Validation): 100%|█████████████████████████████| 47/47 [00:13<00:00,  3.59it/s, Loss=0.9979, Acc=0.6855]\n"
     ]
    },
    {
     "name": "stdout",
     "output_type": "stream",
     "text": [
      "Epoch 13/1000: Val Loss: 0.9979, Val Acc: 0.6855, Val F1: 0.6781\n",
      "Current Learning Rate: 3e-06\n",
      "Best model saved at E://Kuliah//UPI//SEMESTER 8//coba coba\\vit_pretrained_best.pt with val accuracy: 0.6855\n"
     ]
    },
    {
     "name": "stderr",
     "output_type": "stream",
     "text": [
      "Epoch 14/1000: 100%|████████████████████████████████████████| 422/422 [06:06<00:00,  1.15it/s, Loss=0.3034, Acc=0.8974]\n"
     ]
    },
    {
     "name": "stdout",
     "output_type": "stream",
     "text": [
      "Epoch 14/1000: Train Loss: 0.3034, Train Acc: 0.8974\n"
     ]
    },
    {
     "name": "stderr",
     "output_type": "stream",
     "text": [
      "Epoch 14/1000 (Validation): 100%|█████████████████████████████| 47/47 [00:12<00:00,  3.72it/s, Loss=1.0089, Acc=0.6868]\n"
     ]
    },
    {
     "name": "stdout",
     "output_type": "stream",
     "text": [
      "Epoch 14/1000: Val Loss: 1.0089, Val Acc: 0.6868, Val F1: 0.6859\n",
      "Current Learning Rate: 3e-06\n",
      "Best model saved at E://Kuliah//UPI//SEMESTER 8//coba coba\\vit_pretrained_best.pt with val accuracy: 0.6868\n"
     ]
    },
    {
     "name": "stderr",
     "output_type": "stream",
     "text": [
      "Epoch 15/1000: 100%|████████████████████████████████████████| 422/422 [05:59<00:00,  1.17it/s, Loss=0.2629, Acc=0.9113]\n"
     ]
    },
    {
     "name": "stdout",
     "output_type": "stream",
     "text": [
      "Epoch 15/1000: Train Loss: 0.2629, Train Acc: 0.9113\n"
     ]
    },
    {
     "name": "stderr",
     "output_type": "stream",
     "text": [
      "Epoch 15/1000 (Validation): 100%|█████████████████████████████| 47/47 [00:12<00:00,  3.69it/s, Loss=1.0341, Acc=0.6848]\n"
     ]
    },
    {
     "name": "stdout",
     "output_type": "stream",
     "text": [
      "Epoch 15/1000: Val Loss: 1.0341, Val Acc: 0.6848, Val F1: 0.6830\n",
      "Current Learning Rate: 3e-06\n"
     ]
    },
    {
     "name": "stderr",
     "output_type": "stream",
     "text": [
      "Epoch 16/1000: 100%|████████████████████████████████████████| 422/422 [06:22<00:00,  1.10it/s, Loss=0.2426, Acc=0.9190]\n"
     ]
    },
    {
     "name": "stdout",
     "output_type": "stream",
     "text": [
      "Epoch 16/1000: Train Loss: 0.2426, Train Acc: 0.9190\n"
     ]
    },
    {
     "name": "stderr",
     "output_type": "stream",
     "text": [
      "Epoch 16/1000 (Validation): 100%|█████████████████████████████| 47/47 [00:13<00:00,  3.55it/s, Loss=1.0383, Acc=0.6888]\n"
     ]
    },
    {
     "name": "stdout",
     "output_type": "stream",
     "text": [
      "Epoch 16/1000: Val Loss: 1.0383, Val Acc: 0.6888, Val F1: 0.6869\n",
      "Current Learning Rate: 3e-06\n",
      "Best model saved at E://Kuliah//UPI//SEMESTER 8//coba coba\\vit_pretrained_best.pt with val accuracy: 0.6888\n"
     ]
    },
    {
     "name": "stderr",
     "output_type": "stream",
     "text": [
      "Epoch 17/1000: 100%|████████████████████████████████████████| 422/422 [06:27<00:00,  1.09it/s, Loss=0.2227, Acc=0.9258]\n"
     ]
    },
    {
     "name": "stdout",
     "output_type": "stream",
     "text": [
      "Epoch 17/1000: Train Loss: 0.2227, Train Acc: 0.9258\n"
     ]
    },
    {
     "name": "stderr",
     "output_type": "stream",
     "text": [
      "Epoch 17/1000 (Validation): 100%|█████████████████████████████| 47/47 [00:13<00:00,  3.56it/s, Loss=1.0626, Acc=0.6918]\n"
     ]
    },
    {
     "name": "stdout",
     "output_type": "stream",
     "text": [
      "Epoch 17/1000: Val Loss: 1.0626, Val Acc: 0.6918, Val F1: 0.6903\n",
      "Current Learning Rate: 3e-06\n",
      "Best model saved at E://Kuliah//UPI//SEMESTER 8//coba coba\\vit_pretrained_best.pt with val accuracy: 0.6918\n",
      "Early stopping triggered at epoch 17!\n"
     ]
    },
    {
     "name": "stderr",
     "output_type": "stream",
     "text": [
      "C:\\Users\\MoKha\\anaconda3\\lib\\site-packages\\torchvision\\models\\_utils.py:208: UserWarning: The parameter 'pretrained' is deprecated since 0.13 and may be removed in the future, please use 'weights' instead.\n",
      "  warnings.warn(\n",
      "C:\\Users\\MoKha\\anaconda3\\lib\\site-packages\\torchvision\\models\\_utils.py:223: UserWarning: Arguments other than a weight enum or `None` for 'weights' are deprecated since 0.13 and may be removed in the future. The current behavior is equivalent to passing `weights=None`.\n",
      "  warnings.warn(msg)\n",
      "C:\\Users\\MoKha\\AppData\\Local\\Temp\\ipykernel_21940\\1862317150.py:394: FutureWarning: You are using `torch.load` with `weights_only=False` (the current default value), which uses the default pickle module implicitly. It is possible to construct malicious pickle data which will execute arbitrary code during unpickling (See https://github.com/pytorch/pytorch/blob/main/SECURITY.md#untrusted-models for more details). In a future release, the default value for `weights_only` will be flipped to `True`. This limits the functions that could be executed during unpickling. Arbitrary objects will no longer be allowed to be loaded via this mode unless they are explicitly allowlisted by the user via `torch.serialization.add_safe_globals`. We recommend you start setting `weights_only=True` for any use case where you don't have full control of the loaded file. Please open an issue on GitHub for any issues related to this experimental feature.\n",
      "  checkpoint = torch.load(\"E://Kuliah//UPI//SEMESTER 8//coba coba//vit_pretrained_best.pt\")\n",
      "Testing: 100%|████████████████████████████████████████████████| 53/53 [00:14<00:00,  3.55it/s, Loss=1.0307, Acc=0.6962]\n"
     ]
    },
    {
     "name": "stdout",
     "output_type": "stream",
     "text": [
      "Test Loss: 1.0307, Test Acc: 0.6962,Test F1: 0.6939\n",
      "\n",
      "Per-Class Accuracy:\n",
      "Class 0: 0.6245\n",
      "Class 1: 0.4889\n",
      "Class 2: 0.5180\n",
      "Class 3: 0.9037\n",
      "Class 4: 0.5722\n",
      "Class 5: 0.7873\n",
      "Class 6: 0.6756\n",
      "\n",
      "Classification Report:\n",
      "              precision    recall  f1-score   support\n",
      "\n",
      "     Class 0       0.59      0.62      0.61       458\n",
      "     Class 1       0.88      0.49      0.63        45\n",
      "     Class 2       0.57      0.52      0.54       471\n",
      "     Class 3       0.86      0.90      0.88       872\n",
      "     Class 4       0.59      0.57      0.58       575\n",
      "     Class 5       0.78      0.79      0.78       315\n",
      "     Class 6       0.67      0.68      0.67       595\n",
      "\n",
      "    accuracy                           0.70      3331\n",
      "   macro avg       0.70      0.65      0.67      3331\n",
      "weighted avg       0.69      0.70      0.69      3331\n",
      "\n"
     ]
    },
    {
     "data": {
      "image/png": "[encoded data removed]",
      "text/plain": [
       "<Figure size 720x576 with 2 Axes>"
      ]
     },
     "metadata": {
      "needs_background": "light"
     },
     "output_type": "display_data"
    }
   ],
   "source": [
    "import numpy as np\n",
    "import pandas as pd\n",
    "import torch\n",
    "from torch.utils.data import Dataset, DataLoader\n",
    "from torchvision import transforms\n",
    "from PIL import Image\n",
    "import matplotlib.pyplot as plt\n",
    "from sklearn.model_selection import train_test_split\n",
    "from sklearn.metrics import classification_report, confusion_matrix\n",
    "import torch.optim as optim\n",
    "from torch.optim.lr_scheduler import ReduceLROnPlateau\n",
    "import os\n",
    "from tqdm import tqdm\n",
    "from sklearn.metrics import f1_score\n",
    "import random\n",
    "from torch import nn\n",
    "import seaborn as sns\n",
    "from torchvision.models import vit_b_32\n",
    "\n",
    "# Constants\n",
    "SEED = 123\n",
    "IMG_SIZE = 224\n",
    "BATCH_SIZE = 64\n",
    "LEARNING_RATE = 3e-5\n",
    "EPOCHS = 1000\n",
    "NUM_CLASSES = 7\n",
    "DEVICE = torch.device(\"cuda\" if torch.cuda.is_available() else \"cpu\")\n",
    "\n",
    "class FERDataset(Dataset):\n",
    "    def __init__(self, dataframe, transform=None):\n",
    "        self.dataframe = dataframe\n",
    "        self.transform = transform\n",
    "\n",
    "        # Ekstrak label dan piksel\n",
    "        self.labels = self.dataframe['emotion'].values\n",
    "        self.pixels = self.dataframe['pixels'].apply(self.string_to_image).values\n",
    "\n",
    "    def string_to_image(self, pixels_string):\n",
    "        # Konversi string piksel menjadi numpy array dan reshape ke 48x48\n",
    "        pixels = np.array(pixels_string.split(), dtype='float32')\n",
    "        image = pixels.reshape(48, 48)\n",
    "        image = np.expand_dims(image, axis=-1)  # Tambahkan channel dimensi\n",
    "        return image\n",
    "\n",
    "    def __len__(self):\n",
    "        return len(self.dataframe)\n",
    "\n",
    "    def __getitem__(self, idx):\n",
    "        image = self.pixels[idx]\n",
    "        label = self.labels[idx]\n",
    "        \n",
    "        image = Image.fromarray(image.squeeze().astype('uint8'), mode='L')\n",
    "\n",
    "        # Jika ada transformasi, terapkan ke image\n",
    "        if self.transform:\n",
    "            image = self.transform(image)\n",
    "\n",
    "        return image, label\n",
    "    \n",
    "def create_transforms():\n",
    "    # Create transform pipeline manually\n",
    "    train_transforms = transforms.Compose([\n",
    "        transforms.Grayscale(num_output_channels=3),\n",
    "        transforms.Resize((IMG_SIZE, IMG_SIZE)),\n",
    "        transforms.RandomHorizontalFlip(),  # Randomly flip horizontally\n",
    "        transforms.RandomRotation(10),     # Randomly rotate by 10 degrees\n",
    "        transforms.RandomResizedCrop(\n",
    "            size=IMG_SIZE,  # Output size\n",
    "            scale=(0.8, 1.0)  # Range of the random crop size relative to the input size\n",
    "        ),\n",
    "        transforms.ColorJitter(brightness=0.2, contrast=0.2),  # Adjust brightness\n",
    "        transforms.ToTensor(),\n",
    "        transforms.RandomErasing(p=0.3, scale=(0.02, 0.1)),\n",
    "        transforms.Normalize(mean=[0.5, 0.5, 0.5], std=[0.5, 0.5, 0.5]),\n",
    "    ]) \n",
    "\n",
    "    # Create transform pipeline manually\n",
    "    test_transforms = transforms.Compose([\n",
    "        transforms.Grayscale(num_output_channels=3),\n",
    "        transforms.Resize((IMG_SIZE, IMG_SIZE)),\n",
    "        transforms.ToTensor(),\n",
    "        transforms.Normalize(mean=[0.5, 0.5, 0.5], std=[0.5, 0.5, 0.5]),\n",
    "    ])\n",
    "    return train_transforms, test_transforms\n",
    "\n",
    "def load_and_split_data(data_path):\n",
    "    data = pd.read_csv(data_path)\n",
    "    data_train, data_test = train_test_split(data, test_size=0.1, stratify=data['emotion'], random_state=SEED)\n",
    "    data_train, data_val = train_test_split(data_train, test_size=0.1, stratify=data_train['emotion'], random_state=SEED)\n",
    "    return data_train, data_val, data_test\n",
    "\n",
    "def create_datasets(data_train, data_val, data_test, train_transforms, test_transforms):\n",
    "    train_dataset = FERDataset(data_train, transform=train_transforms)\n",
    "    val_dataset = FERDataset(data_val, transform=test_transforms)\n",
    "    test_dataset = FERDataset(data_test, transform=test_transforms)\n",
    "    return train_dataset, val_dataset, test_dataset\n",
    "\n",
    "def create_dataloaders(train_dataset, val_dataset, test_dataset):\n",
    "    train_loader = DataLoader(train_dataset, batch_size=BATCH_SIZE, shuffle=True,\n",
    "                             generator=torch.Generator().manual_seed(SEED))\n",
    "    val_loader = DataLoader(val_dataset, batch_size=BATCH_SIZE, shuffle=False, \n",
    "                           generator=torch.Generator().manual_seed(SEED))\n",
    "    test_loader = DataLoader(test_dataset, batch_size=BATCH_SIZE, shuffle=False, \n",
    "                            generator=torch.Generator().manual_seed(SEED))\n",
    "    return train_loader, val_loader, test_loader\n",
    "\n",
    "class EarlyStopping:\n",
    "    def __init__(self, patience=10, min_delta=0):\n",
    "        self.patience = patience\n",
    "        self.min_delta = min_delta\n",
    "        self.best_loss = float('inf')\n",
    "        self.epochs_no_improve = 0\n",
    "        self.early_stop = False\n",
    "\n",
    "    def __call__(self, val_loss):\n",
    "        if val_loss < self.best_loss - self.min_delta:\n",
    "            self.best_loss = val_loss\n",
    "            self.epochs_no_improve = 0\n",
    "        else:\n",
    "            self.epochs_no_improve += 1\n",
    "\n",
    "        if self.epochs_no_improve >= self.patience:\n",
    "            self.early_stop = True\n",
    "\n",
    "        return self.early_stop\n",
    "    \n",
    "    \n",
    "def train_model(model, train_loader, val_loader):\n",
    "    # Initialize training utilities\n",
    "    optimizer = optim.AdamW(model.parameters(), lr=LEARNING_RATE)\n",
    "    criterion = nn.CrossEntropyLoss()\n",
    "    scheduler = ReduceLROnPlateau(optimizer, mode='min', factor=0.1, patience=5)\n",
    "    early_stopping = EarlyStopping(patience=10, min_delta=0)\n",
    "\n",
    "    # Define path\n",
    "    SAVE_PATH = \"E://Kuliah//UPI//SEMESTER 8//coba coba\"\n",
    "    os.makedirs(SAVE_PATH, exist_ok=True)\n",
    "\n",
    "    # Initialize lists to store training and validation metrics\n",
    "    train_losses = []\n",
    "    val_losses = []\n",
    "    train_accuracies = []\n",
    "    val_accuracies = []\n",
    "\n",
    "    # Initialize the best metric for model saving\n",
    "    best_val_accuracy = -float('inf')\n",
    "\n",
    "    for epoch in range(EPOCHS):\n",
    "        model.train()\n",
    "        train_loss = 0.0\n",
    "        correct = 0\n",
    "        total = 0\n",
    "\n",
    "        # Training\n",
    "        pbar = tqdm(train_loader, desc=f\"Epoch {epoch + 1}/{EPOCHS}\")\n",
    "        for batch_idx, (inputs, targets) in enumerate(pbar):\n",
    "            inputs, targets = inputs.to(DEVICE), targets.to(DEVICE)\n",
    "\n",
    "            # Zero the gradients\n",
    "            optimizer.zero_grad()\n",
    "\n",
    "            # Forward pass\n",
    "            outputs = model(inputs)\n",
    "            loss = criterion(outputs, targets)\n",
    "\n",
    "            # Backward pass and optimize\n",
    "            loss.backward()\n",
    "            optimizer.step()\n",
    "\n",
    "            # Update statistics\n",
    "            train_loss += loss.item()\n",
    "            _, predicted = outputs.max(1)\n",
    "            total += targets.size(0)\n",
    "            correct += predicted.eq(targets).sum().item()\n",
    "\n",
    "            # Update progress bar\n",
    "            pbar.set_postfix({\n",
    "                \"Loss\": f\"{train_loss / (batch_idx + 1):.4f}\",\n",
    "                \"Acc\": f\"{correct / total:.4f}\"\n",
    "            })\n",
    "\n",
    "        # Calculate training accuracy and loss\n",
    "        train_accuracy = correct / total\n",
    "        avg_train_loss = train_loss / len(train_loader)\n",
    "        train_losses.append(avg_train_loss)\n",
    "        train_accuracies.append(train_accuracy)\n",
    "\n",
    "        # Print training summary\n",
    "        print(f\"Epoch {epoch + 1}/{EPOCHS}: \"\n",
    "              f\"Train Loss: {avg_train_loss:.4f}, \"\n",
    "              f\"Train Acc: {train_accuracy:.4f}\")\n",
    "\n",
    "        # Validation\n",
    "        model.eval()\n",
    "        val_loss = 0.0\n",
    "        val_correct = 0\n",
    "        val_total = 0\n",
    "        all_targets = []\n",
    "        all_predicted = []\n",
    "\n",
    "        with torch.no_grad():  # Disable gradient computation\n",
    "            pbar = tqdm(val_loader, desc=f\"Epoch {epoch + 1}/{EPOCHS} (Validation)\")\n",
    "            for batch_idx, (inputs, targets) in enumerate(pbar):\n",
    "                inputs, targets = inputs.to(DEVICE), targets.to(DEVICE)\n",
    "\n",
    "                # Forward pass\n",
    "                outputs = model(inputs)\n",
    "                loss = criterion(outputs, targets)\n",
    "\n",
    "                # Update statistics\n",
    "                val_loss += loss.item()\n",
    "                _, predicted = outputs.max(1)\n",
    "                val_total += targets.size(0)\n",
    "                val_correct += predicted.eq(targets).sum().item()\n",
    "\n",
    "                # Collect all targets and predictions for F1-score\n",
    "                all_targets.extend(targets.cpu().numpy())\n",
    "                all_predicted.extend(predicted.cpu().numpy())\n",
    "\n",
    "                # Update progress bar\n",
    "                pbar.set_postfix({\n",
    "                    \"Loss\": f\"{val_loss / (batch_idx + 1):.4f}\",\n",
    "                    \"Acc\": f\"{val_correct / val_total:.4f}\"\n",
    "                })\n",
    "\n",
    "        # Calculate validation accuracy, loss, and F1-score\n",
    "        val_accuracy = val_correct / val_total\n",
    "        avg_val_loss = val_loss / len(val_loader)\n",
    "        val_f1 = f1_score(all_targets, all_predicted, average=\"weighted\")\n",
    "        val_losses.append(avg_val_loss)\n",
    "        val_accuracies.append(val_accuracy)\n",
    "\n",
    "        # Print validation summary\n",
    "        print(f\"Epoch {epoch + 1}/{EPOCHS}: \"\n",
    "              f\"Val Loss: {avg_val_loss:.4f}, \"\n",
    "              f\"Val Acc: {val_accuracy:.4f}, \"\n",
    "              f\"Val F1: {val_f1:.4f}\")\n",
    "\n",
    "        # Step the learning rate scheduler based on validation loss\n",
    "        scheduler.step(avg_val_loss)\n",
    "\n",
    "        # Print the current learning rate\n",
    "        current_lr = optimizer.param_groups[0]['lr']\n",
    "        print(f\"Current Learning Rate: {current_lr}\")\n",
    "\n",
    "        # Save the best model based on validation accuracy\n",
    "        if val_accuracy > best_val_accuracy:\n",
    "            best_val_accuracy = val_accuracy\n",
    "            model_path = os.path.join(SAVE_PATH, \"vit_pretrained_best.pt\")\n",
    "            torch.save({\n",
    "                \"model_state_dict\": model.state_dict()\n",
    "            }, model_path)\n",
    "    #         torch.save(model.state_dict(), model_path)\n",
    "            print(f\"Best model saved at {model_path} with val accuracy: {best_val_accuracy:.4f}\")\n",
    "\n",
    "        # Save loss and accuracy plots\n",
    "        plt.figure(figsize=(10, 5))\n",
    "        plt.plot(range(1, len(train_losses) + 1), train_losses, label=\"Training Loss\", marker='o')\n",
    "        plt.plot(range(1, len(val_losses) + 1), val_losses, label=\"Validation Loss\", marker='o')\n",
    "        plt.title(\"Loss per Epoch\")\n",
    "        plt.xlabel(\"Epoch\")\n",
    "        plt.ylabel(\"Loss\")\n",
    "        plt.legend()\n",
    "        plt.grid(True)\n",
    "        loss_plot_path = os.path.join(SAVE_PATH, \"vit_pretrained_loss.png\")\n",
    "        plt.savefig(loss_plot_path)\n",
    "        plt.close()\n",
    "\n",
    "        plt.figure(figsize=(10, 5))\n",
    "        plt.plot(range(1, len(train_accuracies) + 1), train_accuracies, label=\"Training Accuracy\", marker='o')\n",
    "        plt.plot(range(1, len(val_accuracies) + 1), val_accuracies, label=\"Validation Accuracy\", marker='o')\n",
    "        plt.title(\"Accuracy per Epoch\")\n",
    "        plt.xlabel(\"Epoch\")\n",
    "        plt.ylabel(\"Accuracy\")\n",
    "        plt.legend()\n",
    "        plt.grid(True)\n",
    "        accuracy_plot_path = os.path.join(SAVE_PATH, \"vit_pretrained_accuracy.png\")\n",
    "        plt.savefig(accuracy_plot_path)\n",
    "        plt.close()\n",
    "        \n",
    "        if early_stopping(avg_val_loss):\n",
    "            print(f\"Early stopping triggered at epoch {epoch + 1}!\")\n",
    "            break\n",
    "\n",
    "def evaluate_model(best_model, test_loader):\n",
    "    criterion = nn.CrossEntropyLoss()\n",
    "    best_model.eval()\n",
    "    test_loss = 0.0\n",
    "    test_correct = 0\n",
    "    test_total = 0\n",
    "    all_targets = []\n",
    "    all_predicted = []\n",
    "\n",
    "    with torch.no_grad():  # Disable gradient computation\n",
    "        pbar = tqdm(test_loader, desc=\"Testing\")\n",
    "        for batch_idx, (inputs, targets) in enumerate(pbar):\n",
    "            inputs, targets = inputs.to(DEVICE), targets.to(DEVICE)\n",
    "\n",
    "            # Forward pass\n",
    "            outputs = best_model(inputs)\n",
    "            loss = criterion(outputs, targets)\n",
    "\n",
    "            # Update statistics\n",
    "            test_loss += loss.item()\n",
    "            _, predicted = outputs.max(1)\n",
    "            test_total += targets.size(0)\n",
    "            test_correct += predicted.eq(targets).sum().item()\n",
    "\n",
    "            # Collect all targets and predictions\n",
    "            all_targets.extend(targets.cpu().numpy())\n",
    "            all_predicted.extend(predicted.cpu().numpy())\n",
    "\n",
    "            # Update progress bar\n",
    "            pbar.set_postfix({\n",
    "                \"Loss\": f\"{test_loss / (batch_idx + 1):.4f}\",\n",
    "                \"Acc\": f\"{test_correct / test_total:.4f}\"\n",
    "            })\n",
    "\n",
    "    # Calculate test accuracy, loss, and F1-score\n",
    "    test_accuracy = test_correct / test_total\n",
    "    avg_test_loss = test_loss / len(test_loader)\n",
    "    test_f1 = f1_score(all_targets, all_predicted, average=\"weighted\")\n",
    "\n",
    "    # Calculate per-class accuracy\n",
    "    conf_matrix = confusion_matrix(all_targets, all_predicted)\n",
    "    per_class_accuracy = conf_matrix.diagonal() / conf_matrix.sum(axis=1)\n",
    "\n",
    "    # Calculate classification report (includes precision, recall, F1-score, and support)\n",
    "    class_report = classification_report(all_targets, all_predicted, target_names=[f\"Class {i}\" for i in range(NUM_CLASSES)])\n",
    "\n",
    "    # Print test summary\n",
    "    print(f\"Test Loss: {avg_test_loss:.4f}, \"\n",
    "          f\"Test Acc: {test_accuracy:.4f},\"\n",
    "          f\"Test F1: {test_f1:.4f}\")\n",
    "\n",
    "    # Print per-class accuracy\n",
    "    print(\"\\nPer-Class Accuracy:\")\n",
    "    for i, acc in enumerate(per_class_accuracy):\n",
    "        print(f\"Class {i}: {acc:.4f}\")\n",
    "\n",
    "    # Print classification report\n",
    "    print(\"\\nClassification Report:\")\n",
    "    print(class_report)\n",
    "    \n",
    "    normalized_conf_matrix = conf_matrix / conf_matrix.sum(axis=1, keepdims=True)\n",
    "    emotion_dict = {\n",
    "        0: \"Angry\", 1: \"Disgust\", 2: \"Fear\",\n",
    "        3: \"Happy\", 4: \"Neutral\", 5: \"Sad\", 6: \"Surprise\"\n",
    "    }\n",
    "    emotion_labels = [emotion_dict[i] for i in range(len(emotion_dict))]\n",
    "\n",
    "    plt.figure(figsize=(10, 8))\n",
    "    sns.heatmap(normalized_conf_matrix, annot=True, fmt='.2f', cmap='Blues',\n",
    "                xticklabels=emotion_labels,\n",
    "                yticklabels=emotion_labels)\n",
    "    plt.title(\"Confusion Matrix\")\n",
    "    plt.xlabel(\"Predicted Label\")\n",
    "    plt.ylabel(\"True Label\")\n",
    "    plt.tight_layout()\n",
    "    plt.show()\n",
    "\n",
    "def main():\n",
    "    # Set random seeds for reproducibility\n",
    "    torch.manual_seed(SEED)\n",
    "    torch.cuda.manual_seed(SEED)\n",
    "    torch.cuda.manual_seed_all(SEED)\n",
    "    random.seed(SEED)\n",
    "    np.random.seed(SEED)\n",
    "    torch.backends.cudnn.deterministic = True\n",
    "    torch.backends.cudnn.benchmark = False\n",
    "\n",
    "    print(f\"Using device: {DEVICE}\")\n",
    "    print(f\"PyTorch version: {torch.__version__}\")\n",
    "\n",
    "    # Data preparation\n",
    "    train_transforms, test_transforms = create_transforms()\n",
    "    data_train, data_val, data_test = load_and_split_data(\"E://Kuliah//UPI//SEMESTER 8//dataset skripsi//fer2013v2_clean.csv\")\n",
    "    train_dataset, val_dataset, test_dataset = create_datasets(data_train, data_val, data_test, train_transforms, test_transforms)\n",
    "    \n",
    "    train_loader, val_loader, test_loader = create_dataloaders(train_dataset, val_dataset, test_dataset)\n",
    "\n",
    "    class_names = ['Angry', 'Disgust', 'Fear', 'Happy', 'Sad', 'Surprise', 'Neutral']\n",
    "\n",
    "    model = vit_b_32(pretrained=True)\n",
    "    model.heads.head = nn.Linear(model.heads.head.in_features, len(class_names))\n",
    "    model.to(DEVICE)\n",
    "    \n",
    "    train_model(model, train_loader, val_loader)\n",
    "    \n",
    "    best_model = vit_b_32(pretrained=False)\n",
    "    best_model.heads.head = nn.Linear(best_model.heads.head.in_features, len(class_names))\n",
    "    best_model = best_model.to(DEVICE)\n",
    "    \n",
    "    checkpoint = torch.load(\"E://Kuliah//UPI//SEMESTER 8//coba coba//vit_pretrained_best.pt\")\n",
    "    best_model.load_state_dict(checkpoint[\"model_state_dict\"])\n",
    "    \n",
    "    evaluate_model(best_model, test_loader)\n",
    "\n",
    "if __name__ == \"__main__\":\n",
    "    main()"
   ]
  },
  {
   "cell_type": "code",
   "execution_count": null,
   "id": "e0f93fac",
   "metadata": {},
   "outputs": [],
   "source": []
  }
 ],
 "metadata": {
  "kernelspec": {
   "display_name": "Python 3 (ipykernel)",
   "language": "python",
   "name": "python3"
  },
  "language_info": {
   "codemirror_mode": {
    "name": "ipython",
    "version": 3
   },
   "file_extension": ".py",
   "mimetype": "text/x-python",
   "name": "python",
   "nbconvert_exporter": "python",
   "pygments_lexer": "ipython3",
   "version": "3.9.12"
  }
 },
 "nbformat": 4,
 "nbformat_minor": 5
}

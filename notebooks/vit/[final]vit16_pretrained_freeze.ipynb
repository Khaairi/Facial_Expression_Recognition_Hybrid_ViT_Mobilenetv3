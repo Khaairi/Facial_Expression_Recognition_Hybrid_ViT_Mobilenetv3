{
  "nbformat": 4,
  "nbformat_minor": 0,
  "metadata": {
    "colab": {
      "provenance": [],
      "machine_shape": "hm",
      "gpuType": "A100"
    },
    "kernelspec": {
      "name": "python3",
      "display_name": "Python 3"
    },
    "language_info": {
      "name": "python"
    },
    "accelerator": "GPU"
  },
  "cells": [
    {
      "cell_type": "code",
      "execution_count": null,
      "metadata": {
        "colab": {
          "base_uri": "https://localhost:8080/",
          "height": 1000
        },
        "id": "dB_gbIJ-ARK1",
        "outputId": "0ae9ed00-e777-499a-d412-fc690cc21835"
      },
      "outputs": [
        {
          "output_type": "stream",
          "name": "stdout",
          "text": [
            "Using device: cuda\n",
            "PyTorch version: 2.6.0+cu124\n"
          ]
        },
        {
          "output_type": "stream",
          "name": "stderr",
          "text": [
            "/usr/local/lib/python3.11/dist-packages/torchvision/models/_utils.py:208: UserWarning: The parameter 'pretrained' is deprecated since 0.13 and may be removed in the future, please use 'weights' instead.\n",
            "  warnings.warn(\n",
            "/usr/local/lib/python3.11/dist-packages/torchvision/models/_utils.py:223: UserWarning: Arguments other than a weight enum or `None` for 'weights' are deprecated since 0.13 and may be removed in the future. The current behavior is equivalent to passing `weights=ViT_B_16_Weights.IMAGENET1K_V1`. You can also use `weights=ViT_B_16_Weights.DEFAULT` to get the most up-to-date weights.\n",
            "  warnings.warn(msg)\n",
            "Downloading: \"https://download.pytorch.org/models/vit_b_16-c867db91.pth\" to /root/.cache/torch/hub/checkpoints/vit_b_16-c867db91.pth\n",
            "100%|██████████| 330M/330M [00:01<00:00, 216MB/s]\n",
            "Epoch 1/1000: 100%|██████████| 211/211 [02:27<00:00,  1.43it/s, Loss=1.2752, Acc=0.5101]\n"
          ]
        },
        {
          "output_type": "stream",
          "name": "stdout",
          "text": [
            "Epoch 1/1000: Train Loss: 1.2752, Train Acc: 0.5101\n"
          ]
        },
        {
          "output_type": "stream",
          "name": "stderr",
          "text": [
            "Epoch 1/1000 (Validation): 100%|██████████| 24/24 [00:10<00:00,  2.25it/s, Loss=1.1088, Acc=0.5814]\n"
          ]
        },
        {
          "output_type": "stream",
          "name": "stdout",
          "text": [
            "Epoch 1/1000: Val Loss: 1.1088, Val Acc: 0.5814, Val F1: 0.5619\n",
            "Current Learning Rate: 0.0001\n",
            "Best model saved at /content/drive/MyDrive/Hasil Eksperimen/vit16_pretrained_best.pt with val accuracy: 0.5814\n"
          ]
        },
        {
          "output_type": "stream",
          "name": "stderr",
          "text": [
            "Epoch 2/1000: 100%|██████████| 211/211 [02:26<00:00,  1.44it/s, Loss=1.0545, Acc=0.5996]\n"
          ]
        },
        {
          "output_type": "stream",
          "name": "stdout",
          "text": [
            "Epoch 2/1000: Train Loss: 1.0545, Train Acc: 0.5996\n"
          ]
        },
        {
          "output_type": "stream",
          "name": "stderr",
          "text": [
            "Epoch 2/1000 (Validation): 100%|██████████| 24/24 [00:10<00:00,  2.24it/s, Loss=1.0398, Acc=0.5981]\n"
          ]
        },
        {
          "output_type": "stream",
          "name": "stdout",
          "text": [
            "Epoch 2/1000: Val Loss: 1.0398, Val Acc: 0.5981, Val F1: 0.5813\n",
            "Current Learning Rate: 0.0001\n",
            "Best model saved at /content/drive/MyDrive/Hasil Eksperimen/vit16_pretrained_best.pt with val accuracy: 0.5981\n"
          ]
        },
        {
          "output_type": "stream",
          "name": "stderr",
          "text": [
            "Epoch 3/1000: 100%|██████████| 211/211 [02:26<00:00,  1.44it/s, Loss=0.9674, Acc=0.6372]\n"
          ]
        },
        {
          "output_type": "stream",
          "name": "stdout",
          "text": [
            "Epoch 3/1000: Train Loss: 0.9674, Train Acc: 0.6372\n"
          ]
        },
        {
          "output_type": "stream",
          "name": "stderr",
          "text": [
            "Epoch 3/1000 (Validation): 100%|██████████| 24/24 [00:10<00:00,  2.24it/s, Loss=1.0101, Acc=0.6224]\n"
          ]
        },
        {
          "output_type": "stream",
          "name": "stdout",
          "text": [
            "Epoch 3/1000: Val Loss: 1.0101, Val Acc: 0.6224, Val F1: 0.6066\n",
            "Current Learning Rate: 0.0001\n",
            "Best model saved at /content/drive/MyDrive/Hasil Eksperimen/vit16_pretrained_best.pt with val accuracy: 0.6224\n"
          ]
        },
        {
          "output_type": "stream",
          "name": "stderr",
          "text": [
            "Epoch 4/1000: 100%|██████████| 211/211 [02:26<00:00,  1.44it/s, Loss=0.8969, Acc=0.6644]\n"
          ]
        },
        {
          "output_type": "stream",
          "name": "stdout",
          "text": [
            "Epoch 4/1000: Train Loss: 0.8969, Train Acc: 0.6644\n"
          ]
        },
        {
          "output_type": "stream",
          "name": "stderr",
          "text": [
            "Epoch 4/1000 (Validation): 100%|██████████| 24/24 [00:10<00:00,  2.24it/s, Loss=0.9880, Acc=0.6344]\n"
          ]
        },
        {
          "output_type": "stream",
          "name": "stdout",
          "text": [
            "Epoch 4/1000: Val Loss: 0.9880, Val Acc: 0.6344, Val F1: 0.6209\n",
            "Current Learning Rate: 0.0001\n",
            "Best model saved at /content/drive/MyDrive/Hasil Eksperimen/vit16_pretrained_best.pt with val accuracy: 0.6344\n"
          ]
        },
        {
          "output_type": "stream",
          "name": "stderr",
          "text": [
            "Epoch 5/1000: 100%|██████████| 211/211 [02:26<00:00,  1.44it/s, Loss=0.8342, Acc=0.6878]\n"
          ]
        },
        {
          "output_type": "stream",
          "name": "stdout",
          "text": [
            "Epoch 5/1000: Train Loss: 0.8342, Train Acc: 0.6878\n"
          ]
        },
        {
          "output_type": "stream",
          "name": "stderr",
          "text": [
            "Epoch 5/1000 (Validation): 100%|██████████| 24/24 [00:10<00:00,  2.25it/s, Loss=0.9690, Acc=0.6371]\n"
          ]
        },
        {
          "output_type": "stream",
          "name": "stdout",
          "text": [
            "Epoch 5/1000: Val Loss: 0.9690, Val Acc: 0.6371, Val F1: 0.6264\n",
            "Current Learning Rate: 0.0001\n",
            "Best model saved at /content/drive/MyDrive/Hasil Eksperimen/vit16_pretrained_best.pt with val accuracy: 0.6371\n"
          ]
        },
        {
          "output_type": "stream",
          "name": "stderr",
          "text": [
            "Epoch 6/1000: 100%|██████████| 211/211 [02:26<00:00,  1.44it/s, Loss=0.7789, Acc=0.7096]\n"
          ]
        },
        {
          "output_type": "stream",
          "name": "stdout",
          "text": [
            "Epoch 6/1000: Train Loss: 0.7789, Train Acc: 0.7096\n"
          ]
        },
        {
          "output_type": "stream",
          "name": "stderr",
          "text": [
            "Epoch 6/1000 (Validation): 100%|██████████| 24/24 [00:10<00:00,  2.24it/s, Loss=0.9459, Acc=0.6548]\n"
          ]
        },
        {
          "output_type": "stream",
          "name": "stdout",
          "text": [
            "Epoch 6/1000: Val Loss: 0.9459, Val Acc: 0.6548, Val F1: 0.6461\n",
            "Current Learning Rate: 0.0001\n",
            "Best model saved at /content/drive/MyDrive/Hasil Eksperimen/vit16_pretrained_best.pt with val accuracy: 0.6548\n"
          ]
        },
        {
          "output_type": "stream",
          "name": "stderr",
          "text": [
            "Epoch 7/1000: 100%|██████████| 211/211 [02:26<00:00,  1.44it/s, Loss=0.7072, Acc=0.7381]\n"
          ]
        },
        {
          "output_type": "stream",
          "name": "stdout",
          "text": [
            "Epoch 7/1000: Train Loss: 0.7072, Train Acc: 0.7381\n"
          ]
        },
        {
          "output_type": "stream",
          "name": "stderr",
          "text": [
            "Epoch 7/1000 (Validation): 100%|██████████| 24/24 [00:10<00:00,  2.23it/s, Loss=0.9678, Acc=0.6588]\n"
          ]
        },
        {
          "output_type": "stream",
          "name": "stdout",
          "text": [
            "Epoch 7/1000: Val Loss: 0.9678, Val Acc: 0.6588, Val F1: 0.6483\n",
            "Current Learning Rate: 0.0001\n",
            "Best model saved at /content/drive/MyDrive/Hasil Eksperimen/vit16_pretrained_best.pt with val accuracy: 0.6588\n"
          ]
        },
        {
          "output_type": "stream",
          "name": "stderr",
          "text": [
            "Epoch 8/1000: 100%|██████████| 211/211 [02:26<00:00,  1.44it/s, Loss=0.6467, Acc=0.7600]\n"
          ]
        },
        {
          "output_type": "stream",
          "name": "stdout",
          "text": [
            "Epoch 8/1000: Train Loss: 0.6467, Train Acc: 0.7600\n"
          ]
        },
        {
          "output_type": "stream",
          "name": "stderr",
          "text": [
            "Epoch 8/1000 (Validation): 100%|██████████| 24/24 [00:10<00:00,  2.24it/s, Loss=0.9590, Acc=0.6614]\n"
          ]
        },
        {
          "output_type": "stream",
          "name": "stdout",
          "text": [
            "Epoch 8/1000: Val Loss: 0.9590, Val Acc: 0.6614, Val F1: 0.6589\n",
            "Current Learning Rate: 0.0001\n",
            "Best model saved at /content/drive/MyDrive/Hasil Eksperimen/vit16_pretrained_best.pt with val accuracy: 0.6614\n"
          ]
        },
        {
          "output_type": "stream",
          "name": "stderr",
          "text": [
            "Epoch 9/1000: 100%|██████████| 211/211 [02:26<00:00,  1.44it/s, Loss=0.5783, Acc=0.7874]\n"
          ]
        },
        {
          "output_type": "stream",
          "name": "stdout",
          "text": [
            "Epoch 9/1000: Train Loss: 0.5783, Train Acc: 0.7874\n"
          ]
        },
        {
          "output_type": "stream",
          "name": "stderr",
          "text": [
            "Epoch 9/1000 (Validation): 100%|██████████| 24/24 [00:10<00:00,  2.24it/s, Loss=1.0102, Acc=0.6518]\n"
          ]
        },
        {
          "output_type": "stream",
          "name": "stdout",
          "text": [
            "Epoch 9/1000: Val Loss: 1.0102, Val Acc: 0.6518, Val F1: 0.6468\n",
            "Current Learning Rate: 0.0001\n"
          ]
        },
        {
          "output_type": "stream",
          "name": "stderr",
          "text": [
            "Epoch 10/1000: 100%|██████████| 211/211 [02:26<00:00,  1.44it/s, Loss=0.5216, Acc=0.8102]\n"
          ]
        },
        {
          "output_type": "stream",
          "name": "stdout",
          "text": [
            "Epoch 10/1000: Train Loss: 0.5216, Train Acc: 0.8102\n"
          ]
        },
        {
          "output_type": "stream",
          "name": "stderr",
          "text": [
            "Epoch 10/1000 (Validation): 100%|██████████| 24/24 [00:10<00:00,  2.23it/s, Loss=1.0196, Acc=0.6574]\n"
          ]
        },
        {
          "output_type": "stream",
          "name": "stdout",
          "text": [
            "Epoch 10/1000: Val Loss: 1.0196, Val Acc: 0.6574, Val F1: 0.6534\n",
            "Current Learning Rate: 0.0001\n"
          ]
        },
        {
          "output_type": "stream",
          "name": "stderr",
          "text": [
            "Epoch 11/1000: 100%|██████████| 211/211 [02:26<00:00,  1.44it/s, Loss=0.4570, Acc=0.8357]\n"
          ]
        },
        {
          "output_type": "stream",
          "name": "stdout",
          "text": [
            "Epoch 11/1000: Train Loss: 0.4570, Train Acc: 0.8357\n"
          ]
        },
        {
          "output_type": "stream",
          "name": "stderr",
          "text": [
            "Epoch 11/1000 (Validation): 100%|██████████| 24/24 [00:10<00:00,  2.23it/s, Loss=1.0865, Acc=0.6581]\n"
          ]
        },
        {
          "output_type": "stream",
          "name": "stdout",
          "text": [
            "Epoch 11/1000: Val Loss: 1.0865, Val Acc: 0.6581, Val F1: 0.6583\n",
            "Current Learning Rate: 0.0001\n",
            "Early stopping triggered at epoch 11!\n"
          ]
        },
        {
          "output_type": "stream",
          "name": "stderr",
          "text": [
            "/usr/local/lib/python3.11/dist-packages/torchvision/models/_utils.py:208: UserWarning: The parameter 'pretrained' is deprecated since 0.13 and may be removed in the future, please use 'weights' instead.\n",
            "  warnings.warn(\n",
            "/usr/local/lib/python3.11/dist-packages/torchvision/models/_utils.py:223: UserWarning: Arguments other than a weight enum or `None` for 'weights' are deprecated since 0.13 and may be removed in the future. The current behavior is equivalent to passing `weights=None`.\n",
            "  warnings.warn(msg)\n",
            "Testing: 100%|██████████| 27/27 [00:11<00:00,  2.26it/s, Loss=0.9651, Acc=0.6476]\n"
          ]
        },
        {
          "output_type": "stream",
          "name": "stdout",
          "text": [
            "Test Loss: 0.9651, Test Acc: 0.6476,Test F1: 0.6419\n",
            "\n",
            "Per-Class Accuracy:\n",
            "Class 0: 0.4236\n",
            "Class 1: 0.3778\n",
            "Class 2: 0.4183\n",
            "Class 3: 0.8693\n",
            "Class 4: 0.6174\n",
            "Class 5: 0.8222\n",
            "Class 6: 0.6336\n",
            "\n",
            "Classification Report:\n",
            "              precision    recall  f1-score   support\n",
            "\n",
            "     Class 0       0.65      0.42      0.51       458\n",
            "     Class 1       0.65      0.38      0.48        45\n",
            "     Class 2       0.50      0.42      0.45       471\n",
            "     Class 3       0.85      0.87      0.86       872\n",
            "     Class 4       0.51      0.62      0.56       575\n",
            "     Class 5       0.67      0.82      0.74       315\n",
            "     Class 6       0.59      0.63      0.61       595\n",
            "\n",
            "    accuracy                           0.65      3331\n",
            "   macro avg       0.63      0.59      0.60      3331\n",
            "weighted avg       0.65      0.65      0.64      3331\n",
            "\n"
          ]
        },
        {
          "output_type": "display_data",
          "data": {
            "text/plain": [
              "<Figure size 1000x800 with 2 Axes>"
            ],
            "image/png": "[encoded data removed]"
          },
          "metadata": {}
        }
      ],
      "source": [
        "import numpy as np\n",
        "import pandas as pd\n",
        "import torch\n",
        "from torch.utils.data import Dataset, DataLoader\n",
        "from torchvision import transforms\n",
        "from PIL import Image\n",
        "import matplotlib.pyplot as plt\n",
        "from sklearn.model_selection import train_test_split\n",
        "from sklearn.metrics import classification_report, confusion_matrix\n",
        "import torch.optim as optim\n",
        "from torch.optim.lr_scheduler import ReduceLROnPlateau\n",
        "import os\n",
        "from tqdm import tqdm\n",
        "from sklearn.metrics import f1_score\n",
        "import random\n",
        "from torch import nn\n",
        "import seaborn as sns\n",
        "from torchvision.models import vit_b_16\n",
        "\n",
        "# Constants\n",
        "SEED = 123\n",
        "IMG_SIZE = 224\n",
        "BATCH_SIZE = 128\n",
        "LEARNING_RATE = 0.0001\n",
        "EPOCHS = 1000\n",
        "NUM_CLASSES = 7\n",
        "DEVICE = torch.device(\"cuda\" if torch.cuda.is_available() else \"cpu\")\n",
        "\n",
        "class FERDataset(Dataset):\n",
        "    def __init__(self, dataframe, transform=None):\n",
        "        self.dataframe = dataframe\n",
        "        self.transform = transform\n",
        "\n",
        "        # Ekstrak label dan piksel\n",
        "        self.labels = self.dataframe['emotion'].values\n",
        "        self.pixels = self.dataframe['pixels'].apply(self.string_to_image).values\n",
        "\n",
        "    def string_to_image(self, pixels_string):\n",
        "        # Konversi string piksel menjadi numpy array dan reshape ke 48x48\n",
        "        pixels = np.array(pixels_string.split(), dtype='float32')\n",
        "        image = pixels.reshape(48, 48)\n",
        "        image = np.expand_dims(image, axis=-1)  # Tambahkan channel dimensi\n",
        "        return image\n",
        "\n",
        "    def __len__(self):\n",
        "        return len(self.dataframe)\n",
        "\n",
        "    def __getitem__(self, idx):\n",
        "        image = self.pixels[idx]\n",
        "        label = self.labels[idx]\n",
        "\n",
        "        image = Image.fromarray(image.squeeze().astype('uint8'), mode='L')\n",
        "\n",
        "        # Jika ada transformasi, terapkan ke image\n",
        "        if self.transform:\n",
        "            image = self.transform(image)\n",
        "\n",
        "        return image, label\n",
        "\n",
        "def create_transforms():\n",
        "    mean = [0.485, 0.456, 0.406]\n",
        "    std = [0.229, 0.224, 0.225]\n",
        "    # Create transform pipeline for train\n",
        "    train_transforms = transforms.Compose([\n",
        "        transforms.Grayscale(num_output_channels=3),\n",
        "        transforms.RandomResizedCrop(size=256, scale=(0.8, 1.0)),   # Random crop with zoom\n",
        "        transforms.RandomRotation(degrees=15),                      # Random rotation ±15°\n",
        "        transforms.RandomHorizontalFlip(p=0.5),                     # Random horizontal flip\n",
        "        transforms.CenterCrop(size=224),                            # Center crop to 224x224\n",
        "        transforms.ToTensor(),                                      # Convert PIL image to tensor\n",
        "        transforms.Normalize(mean=mean, std=std)                    # Normalize using ImageNet stats\n",
        "    ])\n",
        "\n",
        "    # Create transform pipeline for test\n",
        "    test_transforms = transforms.Compose([\n",
        "        transforms.Grayscale(num_output_channels=3),\n",
        "        transforms.Resize(size=256),                                # Resize to 256x256\n",
        "        transforms.CenterCrop(size=224),                            # Center crop to 224x224\n",
        "        transforms.ToTensor(),                                      # Convert PIL image to tensor\n",
        "        transforms.Normalize(mean=mean, std=std)                    # Normalize using ImageNet stats\n",
        "    ])\n",
        "    return train_transforms, test_transforms\n",
        "\n",
        "def load_and_split_data(data_path):\n",
        "    data = pd.read_csv(data_path)\n",
        "    data_train, data_test = train_test_split(data, test_size=0.1, stratify=data['emotion'], random_state=SEED)\n",
        "    data_train, data_val = train_test_split(data_train, test_size=0.1, stratify=data_train['emotion'], random_state=SEED)\n",
        "    return data_train, data_val, data_test\n",
        "\n",
        "def create_datasets(data_train, data_val, data_test, train_transforms, test_transforms):\n",
        "    train_dataset = FERDataset(data_train, transform=train_transforms)\n",
        "    val_dataset = FERDataset(data_val, transform=test_transforms)\n",
        "    test_dataset = FERDataset(data_test, transform=test_transforms)\n",
        "    return train_dataset, val_dataset, test_dataset\n",
        "\n",
        "def create_dataloaders(train_dataset, val_dataset, test_dataset):\n",
        "    train_loader = DataLoader(train_dataset, batch_size=BATCH_SIZE, shuffle=True,\n",
        "                             generator=torch.Generator().manual_seed(SEED))\n",
        "    val_loader = DataLoader(val_dataset, batch_size=BATCH_SIZE, shuffle=False,\n",
        "                           generator=torch.Generator().manual_seed(SEED))\n",
        "    test_loader = DataLoader(test_dataset, batch_size=BATCH_SIZE, shuffle=False,\n",
        "                            generator=torch.Generator().manual_seed(SEED))\n",
        "    return train_loader, val_loader, test_loader\n",
        "\n",
        "class EarlyStopping:\n",
        "    def __init__(self, patience=10, min_delta=0):\n",
        "        self.patience = patience\n",
        "        self.min_delta = min_delta\n",
        "        self.best_loss = float('inf')\n",
        "        self.epochs_no_improve = 0\n",
        "        self.early_stop = False\n",
        "\n",
        "    def __call__(self, val_loss):\n",
        "        if val_loss < self.best_loss - self.min_delta:\n",
        "            self.best_loss = val_loss\n",
        "            self.epochs_no_improve = 0\n",
        "        else:\n",
        "            self.epochs_no_improve += 1\n",
        "\n",
        "        if self.epochs_no_improve >= self.patience:\n",
        "            self.early_stop = True\n",
        "\n",
        "        return self.early_stop\n",
        "\n",
        "\n",
        "def train_model(model, train_loader, val_loader):\n",
        "    # Initialize training utilities\n",
        "    optimizer = optim.Adam(model.parameters(), lr=LEARNING_RATE, weight_decay=0.0001)\n",
        "    criterion = nn.CrossEntropyLoss()\n",
        "    scheduler = ReduceLROnPlateau(optimizer, mode='min', factor=0.00001, patience=5)\n",
        "    early_stopping = EarlyStopping(patience=5, min_delta=0)\n",
        "\n",
        "    # Define path\n",
        "    SAVE_PATH = \"/content/drive/MyDrive/Hasil Eksperimen\"\n",
        "    os.makedirs(SAVE_PATH, exist_ok=True)\n",
        "\n",
        "    # Initialize lists to store training and validation metrics\n",
        "    train_losses = []\n",
        "    val_losses = []\n",
        "    train_accuracies = []\n",
        "    val_accuracies = []\n",
        "\n",
        "    # Initialize the best metric for model saving\n",
        "    best_val_accuracy = -float('inf')\n",
        "\n",
        "    for epoch in range(EPOCHS):\n",
        "        model.train()\n",
        "        train_loss = 0.0\n",
        "        correct = 0\n",
        "        total = 0\n",
        "\n",
        "        # Training\n",
        "        pbar = tqdm(train_loader, desc=f\"Epoch {epoch + 1}/{EPOCHS}\")\n",
        "        for batch_idx, (inputs, targets) in enumerate(pbar):\n",
        "            inputs, targets = inputs.to(DEVICE), targets.to(DEVICE)\n",
        "\n",
        "            # Zero the gradients\n",
        "            optimizer.zero_grad()\n",
        "\n",
        "            # Forward pass\n",
        "            outputs = model(inputs)\n",
        "            loss = criterion(outputs, targets)\n",
        "\n",
        "            # Backward pass and optimize\n",
        "            loss.backward()\n",
        "            optimizer.step()\n",
        "\n",
        "            # Update statistics\n",
        "            train_loss += loss.item()\n",
        "            _, predicted = outputs.max(1)\n",
        "            total += targets.size(0)\n",
        "            correct += predicted.eq(targets).sum().item()\n",
        "\n",
        "            # Update progress bar\n",
        "            pbar.set_postfix({\n",
        "                \"Loss\": f\"{train_loss / (batch_idx + 1):.4f}\",\n",
        "                \"Acc\": f\"{correct / total:.4f}\"\n",
        "            })\n",
        "\n",
        "        # Calculate training accuracy and loss\n",
        "        train_accuracy = correct / total\n",
        "        avg_train_loss = train_loss / len(train_loader)\n",
        "        train_losses.append(avg_train_loss)\n",
        "        train_accuracies.append(train_accuracy)\n",
        "\n",
        "        # Print training summary\n",
        "        print(f\"Epoch {epoch + 1}/{EPOCHS}: \"\n",
        "              f\"Train Loss: {avg_train_loss:.4f}, \"\n",
        "              f\"Train Acc: {train_accuracy:.4f}\")\n",
        "\n",
        "        # Validation\n",
        "        model.eval()\n",
        "        val_loss = 0.0\n",
        "        val_correct = 0\n",
        "        val_total = 0\n",
        "        all_targets = []\n",
        "        all_predicted = []\n",
        "\n",
        "        with torch.no_grad():  # Disable gradient computation\n",
        "            pbar = tqdm(val_loader, desc=f\"Epoch {epoch + 1}/{EPOCHS} (Validation)\")\n",
        "            for batch_idx, (inputs, targets) in enumerate(pbar):\n",
        "                inputs, targets = inputs.to(DEVICE), targets.to(DEVICE)\n",
        "\n",
        "                # Forward pass\n",
        "                outputs = model(inputs)\n",
        "                loss = criterion(outputs, targets)\n",
        "\n",
        "                # Update statistics\n",
        "                val_loss += loss.item()\n",
        "                _, predicted = outputs.max(1)\n",
        "                val_total += targets.size(0)\n",
        "                val_correct += predicted.eq(targets).sum().item()\n",
        "\n",
        "                # Collect all targets and predictions for F1-score\n",
        "                all_targets.extend(targets.cpu().numpy())\n",
        "                all_predicted.extend(predicted.cpu().numpy())\n",
        "\n",
        "                # Update progress bar\n",
        "                pbar.set_postfix({\n",
        "                    \"Loss\": f\"{val_loss / (batch_idx + 1):.4f}\",\n",
        "                    \"Acc\": f\"{val_correct / val_total:.4f}\"\n",
        "                })\n",
        "\n",
        "        # Calculate validation accuracy, loss, and F1-score\n",
        "        val_accuracy = val_correct / val_total\n",
        "        avg_val_loss = val_loss / len(val_loader)\n",
        "        val_f1 = f1_score(all_targets, all_predicted, average=\"weighted\")\n",
        "        val_losses.append(avg_val_loss)\n",
        "        val_accuracies.append(val_accuracy)\n",
        "\n",
        "        # Print validation summary\n",
        "        print(f\"Epoch {epoch + 1}/{EPOCHS}: \"\n",
        "              f\"Val Loss: {avg_val_loss:.4f}, \"\n",
        "              f\"Val Acc: {val_accuracy:.4f}, \"\n",
        "              f\"Val F1: {val_f1:.4f}\")\n",
        "\n",
        "        # Step the learning rate scheduler based on validation loss\n",
        "        scheduler.step(avg_val_loss)\n",
        "\n",
        "        # Print the current learning rate\n",
        "        current_lr = optimizer.param_groups[0]['lr']\n",
        "        print(f\"Current Learning Rate: {current_lr}\")\n",
        "\n",
        "        # Save the best model based on validation accuracy\n",
        "        if val_accuracy > best_val_accuracy:\n",
        "            best_val_accuracy = val_accuracy\n",
        "            model_path = os.path.join(SAVE_PATH, \"vit16_pretrained_best.pt\")\n",
        "            torch.save({\n",
        "                \"model_state_dict\": model.state_dict()\n",
        "            }, model_path)\n",
        "    #         torch.save(model.state_dict(), model_path)\n",
        "            print(f\"Best model saved at {model_path} with val accuracy: {best_val_accuracy:.4f}\")\n",
        "\n",
        "        # Save loss and accuracy plots\n",
        "        plt.figure(figsize=(10, 5))\n",
        "        plt.plot(range(1, len(train_losses) + 1), train_losses, label=\"Training Loss\", marker='o')\n",
        "        plt.plot(range(1, len(val_losses) + 1), val_losses, label=\"Validation Loss\", marker='o')\n",
        "        plt.title(\"Loss per Epoch\")\n",
        "        plt.xlabel(\"Epoch\")\n",
        "        plt.ylabel(\"Loss\")\n",
        "        plt.legend()\n",
        "        plt.grid(True)\n",
        "        loss_plot_path = os.path.join(SAVE_PATH, \"vit16_pretrained_loss.png\")\n",
        "        plt.savefig(loss_plot_path)\n",
        "        plt.close()\n",
        "\n",
        "        plt.figure(figsize=(10, 5))\n",
        "        plt.plot(range(1, len(train_accuracies) + 1), train_accuracies, label=\"Training Accuracy\", marker='o')\n",
        "        plt.plot(range(1, len(val_accuracies) + 1), val_accuracies, label=\"Validation Accuracy\", marker='o')\n",
        "        plt.title(\"Accuracy per Epoch\")\n",
        "        plt.xlabel(\"Epoch\")\n",
        "        plt.ylabel(\"Accuracy\")\n",
        "        plt.legend()\n",
        "        plt.grid(True)\n",
        "        accuracy_plot_path = os.path.join(SAVE_PATH, \"vit16_pretrained_accuracy.png\")\n",
        "        plt.savefig(accuracy_plot_path)\n",
        "        plt.close()\n",
        "\n",
        "        if early_stopping(avg_val_loss):\n",
        "            print(f\"Early stopping triggered at epoch {epoch + 1}!\")\n",
        "            break\n",
        "\n",
        "def evaluate_model(best_model, test_loader):\n",
        "    criterion = nn.CrossEntropyLoss()\n",
        "    best_model.eval()\n",
        "    test_loss = 0.0\n",
        "    test_correct = 0\n",
        "    test_total = 0\n",
        "    all_targets = []\n",
        "    all_predicted = []\n",
        "\n",
        "    with torch.no_grad():  # Disable gradient computation\n",
        "        pbar = tqdm(test_loader, desc=\"Testing\")\n",
        "        for batch_idx, (inputs, targets) in enumerate(pbar):\n",
        "            inputs, targets = inputs.to(DEVICE), targets.to(DEVICE)\n",
        "\n",
        "            # Forward pass\n",
        "            outputs = best_model(inputs)\n",
        "            loss = criterion(outputs, targets)\n",
        "\n",
        "            # Update statistics\n",
        "            test_loss += loss.item()\n",
        "            _, predicted = outputs.max(1)\n",
        "            test_total += targets.size(0)\n",
        "            test_correct += predicted.eq(targets).sum().item()\n",
        "\n",
        "            # Collect all targets and predictions\n",
        "            all_targets.extend(targets.cpu().numpy())\n",
        "            all_predicted.extend(predicted.cpu().numpy())\n",
        "\n",
        "            # Update progress bar\n",
        "            pbar.set_postfix({\n",
        "                \"Loss\": f\"{test_loss / (batch_idx + 1):.4f}\",\n",
        "                \"Acc\": f\"{test_correct / test_total:.4f}\"\n",
        "            })\n",
        "\n",
        "    # Calculate test accuracy, loss, and F1-score\n",
        "    test_accuracy = test_correct / test_total\n",
        "    avg_test_loss = test_loss / len(test_loader)\n",
        "    test_f1 = f1_score(all_targets, all_predicted, average=\"weighted\")\n",
        "\n",
        "    # Calculate per-class accuracy\n",
        "    conf_matrix = confusion_matrix(all_targets, all_predicted)\n",
        "    per_class_accuracy = conf_matrix.diagonal() / conf_matrix.sum(axis=1)\n",
        "\n",
        "    # Calculate classification report (includes precision, recall, F1-score, and support)\n",
        "    class_report = classification_report(all_targets, all_predicted, target_names=[f\"Class {i}\" for i in range(NUM_CLASSES)])\n",
        "\n",
        "    # Print test summary\n",
        "    print(f\"Test Loss: {avg_test_loss:.4f}, \"\n",
        "          f\"Test Acc: {test_accuracy:.4f},\"\n",
        "          f\"Test F1: {test_f1:.4f}\")\n",
        "\n",
        "    # Print per-class accuracy\n",
        "    print(\"\\nPer-Class Accuracy:\")\n",
        "    for i, acc in enumerate(per_class_accuracy):\n",
        "        print(f\"Class {i}: {acc:.4f}\")\n",
        "\n",
        "    # Print classification report\n",
        "    print(\"\\nClassification Report:\")\n",
        "    print(class_report)\n",
        "\n",
        "    normalized_conf_matrix = conf_matrix / conf_matrix.sum(axis=1, keepdims=True)\n",
        "    emotion_dict = {\n",
        "        0: \"Angry\", 1: \"Disgust\", 2: \"Fear\",\n",
        "        3: \"Happy\", 4: \"Neutral\", 5: \"Sad\", 6: \"Surprise\"\n",
        "    }\n",
        "    emotion_labels = [emotion_dict[i] for i in range(len(emotion_dict))]\n",
        "\n",
        "    plt.figure(figsize=(10, 8))\n",
        "    sns.heatmap(normalized_conf_matrix, annot=True, fmt='.2f', cmap='Blues',\n",
        "                xticklabels=emotion_labels,\n",
        "                yticklabels=emotion_labels)\n",
        "    plt.title(\"Confusion Matrix\")\n",
        "    plt.xlabel(\"Predicted Label\")\n",
        "    plt.ylabel(\"True Label\")\n",
        "    plt.tight_layout()\n",
        "    plt.show()\n",
        "\n",
        "def main():\n",
        "    # Set random seeds for reproducibility\n",
        "    torch.manual_seed(SEED)\n",
        "    torch.cuda.manual_seed(SEED)\n",
        "    torch.cuda.manual_seed_all(SEED)\n",
        "    random.seed(SEED)\n",
        "    np.random.seed(SEED)\n",
        "    torch.backends.cudnn.deterministic = True\n",
        "    torch.backends.cudnn.benchmark = False\n",
        "\n",
        "    print(f\"Using device: {DEVICE}\")\n",
        "    print(f\"PyTorch version: {torch.__version__}\")\n",
        "\n",
        "    # Data preparation\n",
        "    train_transforms, test_transforms = create_transforms()\n",
        "    data_train, data_val, data_test = load_and_split_data(\"/content/drive/MyDrive/Dataset/fer2013v2_clean.csv\")\n",
        "    train_dataset, val_dataset, test_dataset = create_datasets(data_train, data_val, data_test, train_transforms, test_transforms)\n",
        "\n",
        "    train_loader, val_loader, test_loader = create_dataloaders(train_dataset, val_dataset, test_dataset)\n",
        "\n",
        "    class_names = ['Angry', 'Disgust', 'Fear', 'Happy', 'Sad', 'Surprise', 'Neutral']\n",
        "\n",
        "    model = vit_b_16(pretrained=True)\n",
        "    model.heads.head = nn.Linear(model.heads.head.in_features, len(class_names))\n",
        "    for param in model.parameters():\n",
        "        param.requires_grad = False\n",
        "\n",
        "    # Unfreeze last 3 transformer encoder blocks\n",
        "    for layer in model.encoder.layers[-3:]:\n",
        "        for param in layer.parameters():\n",
        "            param.requires_grad = True\n",
        "\n",
        "    # Also unfreeze the classification head\n",
        "    for param in model.heads.parameters():\n",
        "        param.requires_grad = True\n",
        "    model.to(DEVICE)\n",
        "\n",
        "    train_model(model, train_loader, val_loader)\n",
        "\n",
        "    best_model = vit_b_16(pretrained=False)\n",
        "    best_model.heads.head = nn.Linear(best_model.heads.head.in_features, len(class_names))\n",
        "    best_model = best_model.to(DEVICE)\n",
        "\n",
        "    checkpoint = torch.load(\"/content/drive/MyDrive/Hasil Eksperimen/vit16_pretrained_best.pt\")\n",
        "    best_model.load_state_dict(checkpoint[\"model_state_dict\"])\n",
        "\n",
        "    evaluate_model(best_model, test_loader)\n",
        "\n",
        "if __name__ == \"__main__\":\n",
        "    main()"
      ]
    }
  ]
}
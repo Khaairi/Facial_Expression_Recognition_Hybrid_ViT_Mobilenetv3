{
 "cells": [
  {
   "cell_type": "code",
   "execution_count": 1,
   "id": "726367c0",
   "metadata": {},
   "outputs": [
    {
     "name": "stderr",
     "output_type": "stream",
     "text": [
      "C:\\Users\\MoKha\\anaconda3\\lib\\site-packages\\pandas\\core\\computation\\expressions.py:21: UserWarning: Pandas requires version '2.8.4' or newer of 'numexpr' (version '2.8.1' currently installed).\n",
      "  from pandas.core.computation.check import NUMEXPR_INSTALLED\n",
      "C:\\Users\\MoKha\\anaconda3\\lib\\site-packages\\pandas\\core\\arrays\\masked.py:60: UserWarning: Pandas requires version '1.3.6' or newer of 'bottleneck' (version '1.3.4' currently installed).\n",
      "  from pandas.core import (\n"
     ]
    }
   ],
   "source": [
    "import os\n",
    "import cv2\n",
    "import numpy as np\n",
    "import pandas as pd\n",
    "import matplotlib.pyplot as plt\n",
    "import seaborn as sns\n",
    "from sklearn.model_selection import train_test_split"
   ]
  },
  {
   "cell_type": "markdown",
   "id": "bcf8546c",
   "metadata": {},
   "source": [
    "## Data Using FER2013 after deleting error and cartoon image"
   ]
  },
  {
   "cell_type": "code",
   "execution_count": 2,
   "id": "37af26b1",
   "metadata": {},
   "outputs": [],
   "source": [
    "data_dir = 'E://Kuliah//UPI//SEMESTER 8//dataset skripsi//fer2013v2_clean'\n",
    "\n",
    "class_map = {\n",
    "    'Angry': 0,\n",
    "    'Disgust': 1,\n",
    "    'Fear': 2,\n",
    "    'Happy': 3,\n",
    "    'Sad': 4,\n",
    "    'Surprise': 5,\n",
    "    'Neutral': 6,\n",
    "}"
   ]
  },
  {
   "cell_type": "code",
   "execution_count": 3,
   "id": "dfc88c1a",
   "metadata": {},
   "outputs": [],
   "source": [
    "image_data = []\n",
    "labels = []\n",
    "\n",
    "# Loop untuk setiap folder (kelas)\n",
    "for class_folder in os.listdir(data_dir):\n",
    "    class_path = os.path.join(data_dir, class_folder)\n",
    "\n",
    "    # Pastikan folder yang diambil adalah folder valid (bukan file atau lainnya)\n",
    "    if os.path.isdir(class_path):\n",
    "        label = class_map[class_folder]  # Ambil label sesuai map kelas\n",
    "\n",
    "        # Loop untuk setiap gambar dalam folder kelas tersebut\n",
    "        for img_file in os.listdir(class_path):\n",
    "            img_path = os.path.join(class_path, img_file)\n",
    "\n",
    "            # Load gambar dengan OpenCV dalam bentuk grayscale\n",
    "            image = cv2.imread(img_path, cv2.IMREAD_GRAYSCALE)\n",
    "\n",
    "            # Pastikan gambar terbaca dengan benar\n",
    "            if image is not None:\n",
    "                # Flatten gambar menjadi 1D array dan ubah ke string terpisah dengan spasi\n",
    "                image_flat = ' '.join(map(str, image.flatten()))\n",
    "\n",
    "                # Simpan gambar dan labelnya\n",
    "                image_data.append(image_flat)\n",
    "                labels.append(label)"
   ]
  },
  {
   "cell_type": "code",
   "execution_count": 4,
   "id": "ed2e8b7d",
   "metadata": {},
   "outputs": [],
   "source": [
    "df = pd.DataFrame({\n",
    "    'pixels': image_data,\n",
    "    'emotion': labels,\n",
    "})"
   ]
  },
  {
   "cell_type": "code",
   "execution_count": 5,
   "id": "8af6b2bb",
   "metadata": {},
   "outputs": [
    {
     "data": {
      "text/html": [
       "<div>\n",
       "<style scoped>\n",
       "    .dataframe tbody tr th:only-of-type {\n",
       "        vertical-align: middle;\n",
       "    }\n",
       "\n",
       "    .dataframe tbody tr th {\n",
       "        vertical-align: top;\n",
       "    }\n",
       "\n",
       "    .dataframe thead th {\n",
       "        text-align: right;\n",
       "    }\n",
       "</style>\n",
       "<table border=\"1\" class=\"dataframe\">\n",
       "  <thead>\n",
       "    <tr style=\"text-align: right;\">\n",
       "      <th></th>\n",
       "      <th>pixels</th>\n",
       "      <th>emotion</th>\n",
       "    </tr>\n",
       "  </thead>\n",
       "  <tbody>\n",
       "    <tr>\n",
       "      <th>0</th>\n",
       "      <td>46 34 26 23 12 32 35 26 26 38 71 99 123 134 14...</td>\n",
       "      <td>0</td>\n",
       "    </tr>\n",
       "    <tr>\n",
       "      <th>1</th>\n",
       "      <td>55 33 54 32 26 21 50 29 38 45 79 73 43 22 51 5...</td>\n",
       "      <td>0</td>\n",
       "    </tr>\n",
       "    <tr>\n",
       "      <th>2</th>\n",
       "      <td>123 123 126 131 124 69 109 149 159 174 169 178...</td>\n",
       "      <td>0</td>\n",
       "    </tr>\n",
       "    <tr>\n",
       "      <th>3</th>\n",
       "      <td>255 255 255 255 255 255 255 255 255 251 254 16...</td>\n",
       "      <td>0</td>\n",
       "    </tr>\n",
       "    <tr>\n",
       "      <th>4</th>\n",
       "      <td>127 121 124 137 123 118 120 111 111 109 118 14...</td>\n",
       "      <td>0</td>\n",
       "    </tr>\n",
       "    <tr>\n",
       "      <th>...</th>\n",
       "      <td>...</td>\n",
       "      <td>...</td>\n",
       "    </tr>\n",
       "    <tr>\n",
       "      <th>33298</th>\n",
       "      <td>27 26 26 26 27 27 28 28 33 34 35 33 29 31 35 3...</td>\n",
       "      <td>5</td>\n",
       "    </tr>\n",
       "    <tr>\n",
       "      <th>33299</th>\n",
       "      <td>7 6 13 39 76 58 29 21 16 20 34 56 70 76 88 96 ...</td>\n",
       "      <td>5</td>\n",
       "    </tr>\n",
       "    <tr>\n",
       "      <th>33300</th>\n",
       "      <td>124 129 125 123 129 128 127 128 131 70 73 76 6...</td>\n",
       "      <td>5</td>\n",
       "    </tr>\n",
       "    <tr>\n",
       "      <th>33301</th>\n",
       "      <td>242 242 242 216 110 42 20 41 37 14 14 53 36 8 ...</td>\n",
       "      <td>5</td>\n",
       "    </tr>\n",
       "    <tr>\n",
       "      <th>33302</th>\n",
       "      <td>194 197 191 174 160 147 145 158 155 158 162 15...</td>\n",
       "      <td>5</td>\n",
       "    </tr>\n",
       "  </tbody>\n",
       "</table>\n",
       "<p>33303 rows × 2 columns</p>\n",
       "</div>"
      ],
      "text/plain": [
       "                                                  pixels  emotion\n",
       "0      46 34 26 23 12 32 35 26 26 38 71 99 123 134 14...        0\n",
       "1      55 33 54 32 26 21 50 29 38 45 79 73 43 22 51 5...        0\n",
       "2      123 123 126 131 124 69 109 149 159 174 169 178...        0\n",
       "3      255 255 255 255 255 255 255 255 255 251 254 16...        0\n",
       "4      127 121 124 137 123 118 120 111 111 109 118 14...        0\n",
       "...                                                  ...      ...\n",
       "33298  27 26 26 26 27 27 28 28 33 34 35 33 29 31 35 3...        5\n",
       "33299  7 6 13 39 76 58 29 21 16 20 34 56 70 76 88 96 ...        5\n",
       "33300  124 129 125 123 129 128 127 128 131 70 73 76 6...        5\n",
       "33301  242 242 242 216 110 42 20 41 37 14 14 53 36 8 ...        5\n",
       "33302  194 197 191 174 160 147 145 158 155 158 162 15...        5\n",
       "\n",
       "[33303 rows x 2 columns]"
      ]
     },
     "execution_count": 5,
     "metadata": {},
     "output_type": "execute_result"
    }
   ],
   "source": [
    "df"
   ]
  },
  {
   "cell_type": "code",
   "execution_count": 17,
   "id": "dfe07516",
   "metadata": {},
   "outputs": [],
   "source": [
    "df.to_csv('D://Kuliah//UPI//SEMESTER 8//dataset skripsi//fer2013v2_clean.csv', index=False)"
   ]
  },
  {
   "cell_type": "code",
   "execution_count": 3,
   "id": "86b73eff",
   "metadata": {},
   "outputs": [
    {
     "data": {
      "text/html": [
       "<div>\n",
       "<style scoped>\n",
       "    .dataframe tbody tr th:only-of-type {\n",
       "        vertical-align: middle;\n",
       "    }\n",
       "\n",
       "    .dataframe tbody tr th {\n",
       "        vertical-align: top;\n",
       "    }\n",
       "\n",
       "    .dataframe thead th {\n",
       "        text-align: right;\n",
       "    }\n",
       "</style>\n",
       "<table border=\"1\" class=\"dataframe\">\n",
       "  <thead>\n",
       "    <tr style=\"text-align: right;\">\n",
       "      <th></th>\n",
       "      <th>pixels</th>\n",
       "      <th>emotion</th>\n",
       "    </tr>\n",
       "  </thead>\n",
       "  <tbody>\n",
       "    <tr>\n",
       "      <th>0</th>\n",
       "      <td>46 34 26 23 12 32 35 26 26 38 71 99 123 134 14...</td>\n",
       "      <td>0</td>\n",
       "    </tr>\n",
       "    <tr>\n",
       "      <th>1</th>\n",
       "      <td>55 33 54 32 26 21 50 29 38 45 79 73 43 22 51 5...</td>\n",
       "      <td>0</td>\n",
       "    </tr>\n",
       "    <tr>\n",
       "      <th>2</th>\n",
       "      <td>123 123 126 131 124 69 109 149 159 174 169 178...</td>\n",
       "      <td>0</td>\n",
       "    </tr>\n",
       "    <tr>\n",
       "      <th>3</th>\n",
       "      <td>255 255 255 255 255 255 255 255 255 251 254 16...</td>\n",
       "      <td>0</td>\n",
       "    </tr>\n",
       "    <tr>\n",
       "      <th>4</th>\n",
       "      <td>127 121 124 137 123 118 120 111 111 109 118 14...</td>\n",
       "      <td>0</td>\n",
       "    </tr>\n",
       "  </tbody>\n",
       "</table>\n",
       "</div>"
      ],
      "text/plain": [
       "                                              pixels  emotion\n",
       "0  46 34 26 23 12 32 35 26 26 38 71 99 123 134 14...        0\n",
       "1  55 33 54 32 26 21 50 29 38 45 79 73 43 22 51 5...        0\n",
       "2  123 123 126 131 124 69 109 149 159 174 169 178...        0\n",
       "3  255 255 255 255 255 255 255 255 255 251 254 16...        0\n",
       "4  127 121 124 137 123 118 120 111 111 109 118 14...        0"
      ]
     },
     "execution_count": 3,
     "metadata": {},
     "output_type": "execute_result"
    }
   ],
   "source": [
    "df = pd.read_csv(\"E://Kuliah//UPI//SEMESTER 8//dataset skripsi//fer2013v2_clean.csv\")\n",
    "df.head()"
   ]
  },
  {
   "cell_type": "code",
   "execution_count": 4,
   "id": "933f3057",
   "metadata": {},
   "outputs": [
    {
     "name": "stdout",
     "output_type": "stream",
     "text": [
      "<class 'pandas.core.frame.DataFrame'>\n",
      "RangeIndex: 33303 entries, 0 to 33302\n",
      "Data columns (total 2 columns):\n",
      " #   Column   Non-Null Count  Dtype \n",
      "---  ------   --------------  ----- \n",
      " 0   pixels   33303 non-null  object\n",
      " 1   emotion  33303 non-null  int64 \n",
      "dtypes: int64(1), object(1)\n",
      "memory usage: 520.5+ KB\n"
     ]
    }
   ],
   "source": [
    "df.info()"
   ]
  },
  {
   "cell_type": "code",
   "execution_count": 13,
   "id": "f1a6a147",
   "metadata": {},
   "outputs": [
    {
     "data": {
      "text/html": [
       "<div>\n",
       "<style scoped>\n",
       "    .dataframe tbody tr th:only-of-type {\n",
       "        vertical-align: middle;\n",
       "    }\n",
       "\n",
       "    .dataframe tbody tr th {\n",
       "        vertical-align: top;\n",
       "    }\n",
       "\n",
       "    .dataframe thead th {\n",
       "        text-align: right;\n",
       "    }\n",
       "</style>\n",
       "<table border=\"1\" class=\"dataframe\">\n",
       "  <thead>\n",
       "    <tr style=\"text-align: right;\">\n",
       "      <th></th>\n",
       "      <th>emotion</th>\n",
       "      <th>number</th>\n",
       "    </tr>\n",
       "  </thead>\n",
       "  <tbody>\n",
       "    <tr>\n",
       "      <th>0</th>\n",
       "      <td>Happy</td>\n",
       "      <td>8714</td>\n",
       "    </tr>\n",
       "    <tr>\n",
       "      <th>1</th>\n",
       "      <td>Neutral</td>\n",
       "      <td>5945</td>\n",
       "    </tr>\n",
       "    <tr>\n",
       "      <th>2</th>\n",
       "      <td>Sad</td>\n",
       "      <td>5744</td>\n",
       "    </tr>\n",
       "    <tr>\n",
       "      <th>3</th>\n",
       "      <td>Fear</td>\n",
       "      <td>4714</td>\n",
       "    </tr>\n",
       "    <tr>\n",
       "      <th>4</th>\n",
       "      <td>Angry</td>\n",
       "      <td>4584</td>\n",
       "    </tr>\n",
       "    <tr>\n",
       "      <th>5</th>\n",
       "      <td>Surprise</td>\n",
       "      <td>3150</td>\n",
       "    </tr>\n",
       "    <tr>\n",
       "      <th>6</th>\n",
       "      <td>Disgust</td>\n",
       "      <td>452</td>\n",
       "    </tr>\n",
       "  </tbody>\n",
       "</table>\n",
       "</div>"
      ],
      "text/plain": [
       "    emotion  number\n",
       "0     Happy    8714\n",
       "1   Neutral    5945\n",
       "2       Sad    5744\n",
       "3      Fear    4714\n",
       "4     Angry    4584\n",
       "5  Surprise    3150\n",
       "6   Disgust     452"
      ]
     },
     "execution_count": 13,
     "metadata": {},
     "output_type": "execute_result"
    }
   ],
   "source": [
    "emotion_labels = {0:'Angry', 1:'Disgust', 2:'Fear', 3:'Happy', 4:'Sad', 5:'Surprise', 6:'Neutral'}\n",
    "emotion_counts = df['emotion'].value_counts(sort=True).reset_index()\n",
    "emotion_counts.columns = ['emotion', 'number']\n",
    "emotion_counts['emotion'] = emotion_counts['emotion'].map(emotion_labels)\n",
    "emotion_counts"
   ]
  },
  {
   "cell_type": "code",
   "execution_count": 26,
   "id": "c2b5bcb7",
   "metadata": {},
   "outputs": [
    {
     "name": "stderr",
     "output_type": "stream",
     "text": [
      "C:\\Users\\MoKha\\AppData\\Local\\Temp\\ipykernel_17152\\2950937820.py:14: FutureWarning: \n",
      "\n",
      "Passing `palette` without assigning `hue` is deprecated and will be removed in v0.14.0. Assign the `x` variable to `hue` and set `legend=False` for the same effect.\n",
      "\n",
      "  ax = sns.barplot(x='emotion', y='number', data=emotion_counts_sorted, palette=colors)\n"
     ]
    },
    {
     "data": {
      "image/png": "[encoded data removed]",
      "text/plain": [
       "<Figure size 720x324 with 1 Axes>"
      ]
     },
     "metadata": {
      "needs_background": "light"
     },
     "output_type": "display_data"
    }
   ],
   "source": [
    "import matplotlib.pyplot as plt\n",
    "import seaborn as sns\n",
    "\n",
    "# Sort values\n",
    "emotion_counts_sorted = emotion_counts.sort_values(by='number', ascending=True).reset_index(drop=True)\n",
    "\n",
    "# Calculate the average count\n",
    "average_count = emotion_counts_sorted['number'].mean()\n",
    "\n",
    "# Plot\n",
    "colors = sns.color_palette(\"Blues\", len(emotion_counts_sorted))\n",
    "\n",
    "plt.figure(figsize=(10, 4.5))\n",
    "ax = sns.barplot(x='emotion', y='number', data=emotion_counts_sorted, palette=colors)\n",
    "\n",
    "# Title and labels\n",
    "plt.ylabel('Jumlah', fontsize=12)\n",
    "plt.xlabel('Kategori Ekspresi', fontsize=12)\n",
    "\n",
    "# Add horizontal average line\n",
    "plt.axhline(average_count, color='red', linestyle='--', linewidth=1.5, label=f'Average: {average_count:.2f}')\n",
    "plt.legend()\n",
    "\n",
    "# Add counts above each bar\n",
    "for bar in ax.patches:\n",
    "    height = bar.get_height()\n",
    "    x = bar.get_x() + bar.get_width() / 2\n",
    "    plt.text(x, height + 100, f'{int(height)}', ha='center', va='bottom', fontsize=10)\n",
    "\n",
    "plt.tight_layout()\n",
    "plt.show()\n"
   ]
  },
  {
   "cell_type": "code",
   "execution_count": 7,
   "id": "fc747655",
   "metadata": {},
   "outputs": [],
   "source": [
    "data_train, data_test = train_test_split(df, test_size=0.1, stratify=df['emotion'])\n",
    "data_train, data_val = train_test_split(data_train, test_size=0.1, stratify=data_train['emotion'])"
   ]
  },
  {
   "cell_type": "code",
   "execution_count": 27,
   "id": "168c95cf",
   "metadata": {},
   "outputs": [
    {
     "data": {
      "image/png": "[encoded data removed]",
      "text/plain": [
       "<Figure size 864x432 with 1 Axes>"
      ]
     },
     "metadata": {
      "needs_background": "light"
     },
     "output_type": "display_data"
    }
   ],
   "source": [
    "# Mapping label emosi ke nama\n",
    "emotion_labels = {0:'Angry', 1:'Disgust', 2:'Fear', 3:'Happy', 4:'Sad', 5:'Surprise', 6:'Neutral'}\n",
    "\n",
    "# Copy data dan tambah kolom 'set' dan 'emotion_label'\n",
    "data_train_ = data_train.copy()\n",
    "data_train_['set'] = 'Train'\n",
    "data_train_['emotion_label'] = data_train_['emotion'].map(emotion_labels)\n",
    "\n",
    "data_val_ = data_val.copy()\n",
    "data_val_['set'] = 'Validation'\n",
    "data_val_['emotion_label'] = data_val_['emotion'].map(emotion_labels)\n",
    "\n",
    "data_test_ = data_test.copy()\n",
    "data_test_['set'] = 'Test'\n",
    "data_test_['emotion_label'] = data_test_['emotion'].map(emotion_labels)\n",
    "\n",
    "# Gabungkan\n",
    "combined = pd.concat([data_train_, data_val_, data_test_])\n",
    "\n",
    "# Hitung total jumlah data per kategori emosi (gabungan train, val, test)\n",
    "total_counts = combined['emotion_label'].value_counts()\n",
    "\n",
    "# Urutan kategori emosi berdasarkan total_counts, descending\n",
    "sorted_emotions = total_counts.sort_values(ascending=True).index.tolist()\n",
    "\n",
    "plt.figure(figsize=(12,6))\n",
    "ax = sns.countplot(x='emotion_label', hue='set', data=combined, palette='Set2', order=sorted_emotions)\n",
    "\n",
    "plt.xlabel('Kategori Ekspresi')\n",
    "plt.ylabel('Jumlah')\n",
    "plt.legend(title='Dataset')\n",
    "\n",
    "# Tambahkan label angka di atas setiap bar\n",
    "for p in ax.patches:\n",
    "    height = p.get_height()\n",
    "    if height > 0:\n",
    "        ax.text(p.get_x() + p.get_width()/2., height + 5,  # posisi agak di atas bar\n",
    "                f'{int(height)}', ha=\"center\", va=\"bottom\", fontsize=9)\n",
    "\n",
    "plt.show()"
   ]
  },
  {
   "cell_type": "code",
   "execution_count": null,
   "id": "bdb0b62c",
   "metadata": {},
   "outputs": [],
   "source": []
  }
 ],
 "metadata": {
  "kernelspec": {
   "display_name": "Python 3 (ipykernel)",
   "language": "python",
   "name": "python3"
  },
  "language_info": {
   "codemirror_mode": {
    "name": "ipython",
    "version": 3
   },
   "file_extension": ".py",
   "mimetype": "text/x-python",
   "name": "python",
   "nbconvert_exporter": "python",
   "pygments_lexer": "ipython3",
   "version": "3.9.12"
  }
 },
 "nbformat": 4,
 "nbformat_minor": 5
}

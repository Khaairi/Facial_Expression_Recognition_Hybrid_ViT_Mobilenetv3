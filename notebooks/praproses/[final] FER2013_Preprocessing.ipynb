{
 "cells": [
  {
   "cell_type": "code",
   "execution_count": 2,
   "id": "c202e7b8",
   "metadata": {},
   "outputs": [
    {
     "name": "stderr",
     "output_type": "stream",
     "text": [
      "C:\\Users\\MoKha\\anaconda3\\lib\\site-packages\\pandas\\core\\computation\\expressions.py:21: UserWarning: Pandas requires version '2.8.4' or newer of 'numexpr' (version '2.8.1' currently installed).\n",
      "  from pandas.core.computation.check import NUMEXPR_INSTALLED\n",
      "C:\\Users\\MoKha\\anaconda3\\lib\\site-packages\\pandas\\core\\arrays\\masked.py:60: UserWarning: Pandas requires version '1.3.6' or newer of 'bottleneck' (version '1.3.4' currently installed).\n",
      "  from pandas.core import (\n"
     ]
    }
   ],
   "source": [
    "import os\n",
    "import cv2\n",
    "import numpy as np\n",
    "import pandas as pd\n",
    "import matplotlib.pyplot as plt\n",
    "import seaborn as sns\n",
    "from sklearn.model_selection import train_test_split\n",
    "from PIL import Image"
   ]
  },
  {
   "cell_type": "markdown",
   "id": "5b9d2d81",
   "metadata": {},
   "source": [
    "## Load data"
   ]
  },
  {
   "cell_type": "code",
   "execution_count": 3,
   "id": "27fb2f16",
   "metadata": {},
   "outputs": [
    {
     "data": {
      "text/html": [
       "<div>\n",
       "<style scoped>\n",
       "    .dataframe tbody tr th:only-of-type {\n",
       "        vertical-align: middle;\n",
       "    }\n",
       "\n",
       "    .dataframe tbody tr th {\n",
       "        vertical-align: top;\n",
       "    }\n",
       "\n",
       "    .dataframe thead th {\n",
       "        text-align: right;\n",
       "    }\n",
       "</style>\n",
       "<table border=\"1\" class=\"dataframe\">\n",
       "  <thead>\n",
       "    <tr style=\"text-align: right;\">\n",
       "      <th></th>\n",
       "      <th>emotion</th>\n",
       "      <th>Usage</th>\n",
       "      <th>pixels</th>\n",
       "    </tr>\n",
       "  </thead>\n",
       "  <tbody>\n",
       "    <tr>\n",
       "      <th>0</th>\n",
       "      <td>0</td>\n",
       "      <td>Training</td>\n",
       "      <td>70 80 82 72 58 58 60 63 54 58 60 48 89 115 121...</td>\n",
       "    </tr>\n",
       "    <tr>\n",
       "      <th>1</th>\n",
       "      <td>0</td>\n",
       "      <td>Training</td>\n",
       "      <td>151 150 147 155 148 133 111 140 170 174 182 15...</td>\n",
       "    </tr>\n",
       "    <tr>\n",
       "      <th>2</th>\n",
       "      <td>2</td>\n",
       "      <td>Training</td>\n",
       "      <td>231 212 156 164 174 138 161 173 182 200 106 38...</td>\n",
       "    </tr>\n",
       "    <tr>\n",
       "      <th>3</th>\n",
       "      <td>4</td>\n",
       "      <td>Training</td>\n",
       "      <td>24 32 36 30 32 23 19 20 30 41 21 22 32 34 21 1...</td>\n",
       "    </tr>\n",
       "    <tr>\n",
       "      <th>4</th>\n",
       "      <td>6</td>\n",
       "      <td>Training</td>\n",
       "      <td>4 0 0 0 0 0 0 0 0 0 0 0 3 15 23 28 48 50 58 84...</td>\n",
       "    </tr>\n",
       "  </tbody>\n",
       "</table>\n",
       "</div>"
      ],
      "text/plain": [
       "   emotion     Usage                                             pixels\n",
       "0        0  Training  70 80 82 72 58 58 60 63 54 58 60 48 89 115 121...\n",
       "1        0  Training  151 150 147 155 148 133 111 140 170 174 182 15...\n",
       "2        2  Training  231 212 156 164 174 138 161 173 182 200 106 38...\n",
       "3        4  Training  24 32 36 30 32 23 19 20 30 41 21 22 32 34 21 1...\n",
       "4        6  Training  4 0 0 0 0 0 0 0 0 0 0 0 3 15 23 28 48 50 58 84..."
      ]
     },
     "execution_count": 3,
     "metadata": {},
     "output_type": "execute_result"
    }
   ],
   "source": [
    "df = pd.read_csv(\"E://Kuliah//UPI//SEMESTER 8//dataset skripsi//fer2013_icml_challenges//icml_face_data.csv\")\n",
    "df.head()"
   ]
  },
  {
   "cell_type": "code",
   "execution_count": 45,
   "id": "8206253f",
   "metadata": {},
   "outputs": [
    {
     "name": "stdout",
     "output_type": "stream",
     "text": [
      "<class 'pandas.core.frame.DataFrame'>\n",
      "RangeIndex: 35887 entries, 0 to 35886\n",
      "Data columns (total 3 columns):\n",
      " #   Column   Non-Null Count  Dtype \n",
      "---  ------   --------------  ----- \n",
      " 0   emotion  35887 non-null  int64 \n",
      " 1    Usage   35887 non-null  object\n",
      " 2    pixels  35887 non-null  object\n",
      "dtypes: int64(1), object(2)\n",
      "memory usage: 841.2+ KB\n"
     ]
    }
   ],
   "source": [
    "df.info()"
   ]
  },
  {
   "cell_type": "code",
   "execution_count": 5,
   "id": "8253ce69",
   "metadata": {},
   "outputs": [
    {
     "data": {
      "image/png": "[encoded data removed]",
      "text/plain": [
       "<Figure size 432x288 with 1 Axes>"
      ]
     },
     "metadata": {
      "needs_background": "light"
     },
     "output_type": "display_data"
    }
   ],
   "source": [
    "def string_to_image(pixels_string):\n",
    "    pixels = np.array(pixels_string.split(), dtype='float32')\n",
    "    image = pixels.reshape(48, 48)\n",
    "    image = image / 255.0\n",
    "    return image\n",
    "\n",
    "pixels_string = df.iloc[0][' pixels']\n",
    "image = string_to_image(pixels_string)\n",
    "plt.imshow(image, cmap='gray')\n",
    "plt.axis('off')\n",
    "plt.show()"
   ]
  },
  {
   "cell_type": "code",
   "execution_count": 6,
   "id": "fe7dbe7c",
   "metadata": {},
   "outputs": [
    {
     "data": {
      "text/html": [
       "<div>\n",
       "<style scoped>\n",
       "    .dataframe tbody tr th:only-of-type {\n",
       "        vertical-align: middle;\n",
       "    }\n",
       "\n",
       "    .dataframe tbody tr th {\n",
       "        vertical-align: top;\n",
       "    }\n",
       "\n",
       "    .dataframe thead th {\n",
       "        text-align: right;\n",
       "    }\n",
       "</style>\n",
       "<table border=\"1\" class=\"dataframe\">\n",
       "  <thead>\n",
       "    <tr style=\"text-align: right;\">\n",
       "      <th></th>\n",
       "      <th>emotion</th>\n",
       "      <th>number</th>\n",
       "    </tr>\n",
       "  </thead>\n",
       "  <tbody>\n",
       "    <tr>\n",
       "      <th>0</th>\n",
       "      <td>Happy</td>\n",
       "      <td>8989</td>\n",
       "    </tr>\n",
       "    <tr>\n",
       "      <th>1</th>\n",
       "      <td>Neutral</td>\n",
       "      <td>6198</td>\n",
       "    </tr>\n",
       "    <tr>\n",
       "      <th>2</th>\n",
       "      <td>Sad</td>\n",
       "      <td>6077</td>\n",
       "    </tr>\n",
       "    <tr>\n",
       "      <th>3</th>\n",
       "      <td>Fear</td>\n",
       "      <td>5121</td>\n",
       "    </tr>\n",
       "    <tr>\n",
       "      <th>4</th>\n",
       "      <td>Angry</td>\n",
       "      <td>4953</td>\n",
       "    </tr>\n",
       "    <tr>\n",
       "      <th>5</th>\n",
       "      <td>Surprise</td>\n",
       "      <td>4002</td>\n",
       "    </tr>\n",
       "    <tr>\n",
       "      <th>6</th>\n",
       "      <td>Disgust</td>\n",
       "      <td>547</td>\n",
       "    </tr>\n",
       "  </tbody>\n",
       "</table>\n",
       "</div>"
      ],
      "text/plain": [
       "    emotion  number\n",
       "0     Happy    8989\n",
       "1   Neutral    6198\n",
       "2       Sad    6077\n",
       "3      Fear    5121\n",
       "4     Angry    4953\n",
       "5  Surprise    4002\n",
       "6   Disgust     547"
      ]
     },
     "execution_count": 6,
     "metadata": {},
     "output_type": "execute_result"
    }
   ],
   "source": [
    "emotion_labels = {0:'Angry', 1:'Disgust', 2:'Fear', 3:'Happy', 4:'Sad', 5:'Surprise', 6:'Neutral'}\n",
    "emotion_counts = df['emotion'].value_counts(sort=True).reset_index()\n",
    "emotion_counts.columns = ['emotion', 'number']\n",
    "emotion_counts['emotion'] = emotion_counts['emotion'].map(emotion_labels)\n",
    "emotion_counts"
   ]
  },
  {
   "cell_type": "code",
   "execution_count": 7,
   "id": "0f77d917",
   "metadata": {},
   "outputs": [
    {
     "name": "stderr",
     "output_type": "stream",
     "text": [
      "C:\\Users\\MoKha\\AppData\\Local\\Temp\\ipykernel_16132\\2852025549.py:10: FutureWarning: \n",
      "\n",
      "Passing `palette` without assigning `hue` is deprecated and will be removed in v0.14.0. Assign the `x` variable to `hue` and set `legend=False` for the same effect.\n",
      "\n",
      "  sns.barplot(x=emotion_counts_sorted.emotion, y=emotion_counts_sorted.number, palette=colors)\n"
     ]
    },
    {
     "data": {
      "image/png": "[encoded data removed]",
      "text/plain": [
       "<Figure size 720x324 with 1 Axes>"
      ]
     },
     "metadata": {
      "needs_background": "light"
     },
     "output_type": "display_data"
    }
   ],
   "source": [
    "emotion_counts_sorted = emotion_counts.sort_values(by='number', ascending=True)\n",
    "\n",
    "# Calculate the average count\n",
    "average_count = emotion_counts['number'].mean()\n",
    "\n",
    "# Define colors and plot\n",
    "colors = sns.color_palette(\"Blues\", len(emotion_counts_sorted))\n",
    "\n",
    "plt.figure(figsize=(10, 4.5))\n",
    "sns.barplot(x=emotion_counts_sorted.emotion, y=emotion_counts_sorted.number, palette=colors)\n",
    "plt.title('FER2013 Class Distribution')\n",
    "plt.ylabel('Number', fontsize=12)\n",
    "plt.xlabel('Emotions', fontsize=12)\n",
    "\n",
    "# Add a horizontal line for the average\n",
    "plt.axhline(average_count, color='red', linestyle='--', linewidth=1.5, label=f'Average: {average_count:.2f}')\n",
    "\n",
    "# Add a legend to display the average line label\n",
    "plt.legend()\n",
    "\n",
    "plt.show()"
   ]
  },
  {
   "cell_type": "markdown",
   "id": "edb71d6f",
   "metadata": {},
   "source": [
    "## Data Cleansing"
   ]
  },
  {
   "cell_type": "code",
   "execution_count": 8,
   "id": "93cbcac4",
   "metadata": {},
   "outputs": [
    {
     "data": {
      "text/plain": [
       "emotion    0\n",
       " Usage     0\n",
       " pixels    0\n",
       "dtype: int64"
      ]
     },
     "execution_count": 8,
     "metadata": {},
     "output_type": "execute_result"
    }
   ],
   "source": [
    "df.isnull().sum()"
   ]
  },
  {
   "cell_type": "code",
   "execution_count": 9,
   "id": "423d6501",
   "metadata": {},
   "outputs": [
    {
     "name": "stdout",
     "output_type": "stream",
     "text": [
      "Number of duplicate rows': 1853\n"
     ]
    }
   ],
   "source": [
    "duplicate_count = df.duplicated(subset=' pixels').sum()\n",
    "\n",
    "print(f\"Number of duplicate rows': {duplicate_count}\")"
   ]
  },
  {
   "cell_type": "code",
   "execution_count": 10,
   "id": "ae519d3b",
   "metadata": {},
   "outputs": [
    {
     "data": {
      "text/html": [
       "<div>\n",
       "<style scoped>\n",
       "    .dataframe tbody tr th:only-of-type {\n",
       "        vertical-align: middle;\n",
       "    }\n",
       "\n",
       "    .dataframe tbody tr th {\n",
       "        vertical-align: top;\n",
       "    }\n",
       "\n",
       "    .dataframe thead th {\n",
       "        text-align: right;\n",
       "    }\n",
       "</style>\n",
       "<table border=\"1\" class=\"dataframe\">\n",
       "  <thead>\n",
       "    <tr style=\"text-align: right;\">\n",
       "      <th></th>\n",
       "      <th>emotion</th>\n",
       "      <th>Usage</th>\n",
       "      <th>pixels</th>\n",
       "    </tr>\n",
       "  </thead>\n",
       "  <tbody>\n",
       "    <tr>\n",
       "      <th>675</th>\n",
       "      <td>5</td>\n",
       "      <td>Training</td>\n",
       "      <td>255 255 255 255 255 255 255 237 217 146 185 11...</td>\n",
       "    </tr>\n",
       "    <tr>\n",
       "      <th>718</th>\n",
       "      <td>2</td>\n",
       "      <td>Training</td>\n",
       "      <td>114 95 82 84 85 120 108 97 83 64 68 85 80 86 1...</td>\n",
       "    </tr>\n",
       "    <tr>\n",
       "      <th>1145</th>\n",
       "      <td>5</td>\n",
       "      <td>Training</td>\n",
       "      <td>205 204 205 205 204 203 203 203 202 202 203 20...</td>\n",
       "    </tr>\n",
       "    <tr>\n",
       "      <th>1266</th>\n",
       "      <td>3</td>\n",
       "      <td>Training</td>\n",
       "      <td>201 218 246 178 74 62 63 78 85 83 71 65 64 67 ...</td>\n",
       "    </tr>\n",
       "    <tr>\n",
       "      <th>1289</th>\n",
       "      <td>5</td>\n",
       "      <td>Training</td>\n",
       "      <td>238 69 24 32 34 33 27 30 41 49 60 64 47 65 80 ...</td>\n",
       "    </tr>\n",
       "    <tr>\n",
       "      <th>...</th>\n",
       "      <td>...</td>\n",
       "      <td>...</td>\n",
       "      <td>...</td>\n",
       "    </tr>\n",
       "    <tr>\n",
       "      <th>35826</th>\n",
       "      <td>2</td>\n",
       "      <td>PrivateTest</td>\n",
       "      <td>200 201 199 197 198 199 199 198 197 196 194 19...</td>\n",
       "    </tr>\n",
       "    <tr>\n",
       "      <th>35833</th>\n",
       "      <td>5</td>\n",
       "      <td>PrivateTest</td>\n",
       "      <td>254 254 254 254 254 253 252 254 113 36 62 69 6...</td>\n",
       "    </tr>\n",
       "    <tr>\n",
       "      <th>35874</th>\n",
       "      <td>5</td>\n",
       "      <td>PrivateTest</td>\n",
       "      <td>43 43 51 73 94 97 102 95 99 107 126 144 154 17...</td>\n",
       "    </tr>\n",
       "    <tr>\n",
       "      <th>35875</th>\n",
       "      <td>5</td>\n",
       "      <td>PrivateTest</td>\n",
       "      <td>248 251 239 144 102 95 82 77 91 138 153 145 14...</td>\n",
       "    </tr>\n",
       "    <tr>\n",
       "      <th>35886</th>\n",
       "      <td>2</td>\n",
       "      <td>PrivateTest</td>\n",
       "      <td>19 13 14 12 13 16 21 33 50 57 71 84 97 108 122...</td>\n",
       "    </tr>\n",
       "  </tbody>\n",
       "</table>\n",
       "<p>1853 rows × 3 columns</p>\n",
       "</div>"
      ],
      "text/plain": [
       "       emotion        Usage                                             pixels\n",
       "675          5     Training  255 255 255 255 255 255 255 237 217 146 185 11...\n",
       "718          2     Training  114 95 82 84 85 120 108 97 83 64 68 85 80 86 1...\n",
       "1145         5     Training  205 204 205 205 204 203 203 203 202 202 203 20...\n",
       "1266         3     Training  201 218 246 178 74 62 63 78 85 83 71 65 64 67 ...\n",
       "1289         5     Training  238 69 24 32 34 33 27 30 41 49 60 64 47 65 80 ...\n",
       "...        ...          ...                                                ...\n",
       "35826        2  PrivateTest  200 201 199 197 198 199 199 198 197 196 194 19...\n",
       "35833        5  PrivateTest  254 254 254 254 254 253 252 254 113 36 62 69 6...\n",
       "35874        5  PrivateTest  43 43 51 73 94 97 102 95 99 107 126 144 154 17...\n",
       "35875        5  PrivateTest  248 251 239 144 102 95 82 77 91 138 153 145 14...\n",
       "35886        2  PrivateTest  19 13 14 12 13 16 21 33 50 57 71 84 97 108 122...\n",
       "\n",
       "[1853 rows x 3 columns]"
      ]
     },
     "execution_count": 10,
     "metadata": {},
     "output_type": "execute_result"
    }
   ],
   "source": [
    "df[df.duplicated(subset=' pixels')]"
   ]
  },
  {
   "cell_type": "code",
   "execution_count": 38,
   "id": "88fa04ef",
   "metadata": {},
   "outputs": [
    {
     "data": {
      "text/plain": [
       "'238 69 24 32 34 33 27 30 41 49 60 64 47 65 80 84 94 86 86 92 91 89 103 130 164 196 198 196 201 199 188 175 159 137 113 92 61 40 36 45 52 44 27 82 247 253 251 252 226 53 29 33 30 27 28 37 44 50 58 39 57 70 66 71 79 97 109 105 112 125 144 162 194 203 202 200 199 198 194 187 179 164 143 121 96 60 36 33 35 53 46 45 220 255 250 252 194 35 31 32 29 26 31 40 43 61 45 55 44 39 48 62 83 104 127 145 158 166 170 192 208 208 206 205 203 201 199 195 185 180 167 146 124 105 81 61 47 47 60 40 191 255 249 251 177 28 35 35 31 31 37 34 60 54 51 38 46 71 96 125 150 156 164 169 175 183 198 206 209 211 209 208 203 199 198 196 189 185 178 167 157 148 144 125 79 50 62 43 180 255 248 251 180 32 41 38 32 38 33 50 59 43 41 74 120 151 171 183 185 189 195 195 191 194 201 200 200 197 199 202 203 204 202 199 195 192 180 171 171 167 158 144 116 61 58 53 177 255 249 251 169 37 43 34 34 36 42 56 42 62 120 160 176 182 188 198 204 206 209 207 206 203 203 201 202 203 206 208 205 202 198 197 190 187 179 172 172 171 160 146 121 71 51 53 174 255 248 251 171 42 37 33 36 39 48 51 101 160 170 175 180 185 192 199 200 199 203 203 200 201 200 199 199 196 196 198 199 198 198 197 193 187 179 176 177 173 164 151 123 73 49 52 182 255 249 252 186 42 37 40 40 47 50 122 180 180 185 188 190 195 200 203 205 205 204 204 200 199 198 197 198 200 203 204 205 203 200 198 191 185 182 179 180 173 161 150 124 76 49 57 192 255 249 252 200 43 43 45 47 49 99 171 178 188 188 184 181 189 199 202 204 206 203 202 204 203 202 202 201 204 205 208 206 204 202 199 193 192 188 184 180 173 162 149 124 75 53 58 181 255 249 252 214 56 47 47 41 51 129 162 175 183 187 192 194 194 197 203 210 214 210 206 204 203 202 202 201 204 206 211 212 212 208 205 200 195 194 184 179 173 161 145 128 80 53 59 172 254 249 252 229 74 43 39 30 63 129 158 146 109 113 123 158 187 199 201 209 211 212 210 210 210 205 206 206 208 211 213 215 210 204 194 176 162 157 139 136 157 160 142 130 86 54 60 162 255 250 252 239 93 32 23 33 76 136 138 110 133 139 108 95 113 144 173 198 206 209 210 211 208 205 206 207 210 213 211 206 185 153 127 114 119 137 140 122 114 136 140 135 100 54 64 110 225 251 251 255 109 26 32 47 108 137 118 141 196 209 209 177 133 125 126 150 191 203 206 206 206 207 209 207 209 209 203 181 148 117 129 139 179 202 203 192 167 138 138 142 125 71 59 106 157 207 254 206 115 46 35 78 139 129 140 180 192 202 210 218 207 189 176 159 175 185 201 205 206 206 206 208 207 201 182 172 167 175 189 200 211 206 202 195 190 175 146 149 145 89 69 155 169 172 250 159 135 46 33 103 143 134 153 181 188 192 196 200 204 201 194 191 190 188 197 202 206 207 206 206 206 198 185 190 190 187 174 162 161 163 173 180 179 171 159 153 153 99 89 163 137 171 254 122 142 60 36 104 146 139 152 175 164 149 128 116 108 111 125 149 174 183 192 198 202 206 205 206 204 194 182 175 152 99 60 51 51 55 79 113 151 159 158 156 159 114 106 159 147 197 255 94 123 69 44 109 148 142 152 159 132 95 66 60 57 59 63 71 119 154 164 181 193 200 203 204 196 175 156 139 92 51 56 57 66 59 33 47 110 147 155 158 164 142 139 177 165 205 255 130 142 101 68 121 151 146 153 153 130 76 51 82 125 100 92 90 77 115 141 156 178 195 202 199 185 156 136 110 81 116 121 117 114 146 97 48 101 145 160 163 164 163 165 183 173 213 255 138 155 139 99 132 153 154 160 158 133 70 96 197 162 135 137 160 130 89 131 148 168 192 204 198 179 150 139 116 139 191 110 55 97 159 194 112 114 156 167 170 167 168 157 176 177 219 255 140 154 121 110 142 154 160 168 163 138 115 179 203 127 66 73 161 214 129 142 160 165 190 211 202 179 158 163 145 170 202 137 116 127 177 178 133 149 175 181 174 168 171 166 168 178 230 255 153 143 125 118 144 157 164 173 175 169 143 173 202 160 140 151 190 197 172 177 177 174 194 217 213 185 170 170 183 170 171 167 156 156 156 139 141 173 187 189 174 166 172 179 165 184 242 254 178 144 151 152 145 154 164 176 187 193 160 135 162 176 176 180 185 160 171 181 182 183 203 220 216 190 176 175 184 181 170 165 162 159 155 154 169 188 195 188 175 164 172 179 168 195 251 252 191 149 174 175 149 151 160 177 191 199 188 158 143 142 154 155 155 164 184 191 188 186 206 219 214 193 177 187 189 198 191 180 177 177 175 182 194 202 199 187 173 161 172 181 164 209 255 251 219 163 168 168 151 149 157 173 186 199 202 191 177 169 167 170 176 191 200 199 184 185 206 216 212 189 175 184 194 198 201 204 204 205 208 207 206 205 194 178 167 157 174 189 172 240 253 251 248 167 150 177 165 145 153 169 182 196 205 207 203 198 196 198 200 205 206 196 175 184 209 214 212 186 168 179 195 203 206 211 213 215 217 214 207 197 181 170 160 156 174 173 207 255 250 252 255 214 145 146 158 149 146 160 175 188 200 211 212 209 208 211 211 209 205 192 170 181 207 214 212 182 163 174 191 205 210 217 216 215 215 212 198 184 170 160 154 156 178 178 237 254 251 252 251 252 186 137 152 151 143 154 165 177 187 203 212 216 214 213 212 209 202 185 167 180 207 216 206 178 159 165 182 201 207 217 215 212 208 200 187 171 156 151 151 155 174 208 254 250 251 252 251 252 248 181 132 148 144 149 157 168 176 187 197 205 206 208 209 208 196 177 164 178 206 217 202 176 162 158 171 195 206 210 207 205 198 185 172 158 144 138 144 148 198 250 251 250 251 252 252 250 253 250 207 170 142 144 145 161 173 182 187 195 200 201 202 200 189 173 165 173 207 221 204 176 171 173 163 185 197 199 194 186 178 162 166 184 193 170 134 146 222 255 250 251 251 251 252 251 251 251 255 225 141 139 139 153 167 176 181 187 197 196 194 195 179 172 173 167 202 227 213 179 177 186 163 167 187 190 180 170 162 185 212 214 227 211 154 161 230 255 250 252 252 252 251 252 252 251 252 245 152 133 137 141 155 169 179 182 186 190 188 188 169 172 186 172 190 218 214 187 186 191 163 154 180 186 174 180 204 219 212 196 206 187 181 208 226 251 251 252 252 252 252 252 251 252 251 255 174 127 132 133 145 160 169 176 181 181 182 184 168 157 157 158 188 206 207 185 133 116 138 155 167 180 197 215 218 210 197 176 162 157 173 212 200 237 254 251 252 252 251 252 251 251 250 255 205 126 129 129 136 149 157 165 169 182 199 192 176 143 84 67 122 174 176 145 107 114 152 168 193 215 221 222 210 191 184 158 141 170 175 180 189 245 252 251 251 252 252 251 251 251 251 254 237 135 123 125 128 136 146 149 173 210 220 218 207 180 148 128 140 149 113 121 149 154 175 206 223 223 221 214 195 176 157 142 164 184 164 142 214 255 250 251 251 252 252 251 251 252 251 251 255 167 116 123 121 127 130 158 194 219 221 222 220 202 209 213 219 206 139 118 153 176 208 215 216 213 207 198 178 142 142 170 176 173 150 144 217 255 250 251 251 251 252 251 252 252 251 250 255 216 120 121 115 117 152 184 192 221 228 227 224 211 210 213 217 194 135 181 212 216 214 205 201 192 188 169 136 152 186 180 171 148 140 162 241 253 250 251 251 251 252 251 252 252 251 251 252 251 153 107 128 160 179 183 184 196 211 218 220 217 212 210 197 161 192 225 215 211 205 197 183 179 162 144 174 194 185 169 143 145 142 211 255 250 251 252 251 252 252 251 252 252 251 252 250 255 212 138 178 186 181 177 172 168 168 172 179 179 171 165 180 212 228 220 211 192 183 180 179 160 149 176 189 184 172 143 149 154 175 252 251 251 251 251 251 251 252 252 252 252 251 251 251 253 247 187 192 190 184 161 154 140 115 119 149 177 196 213 222 221 212 202 188 183 179 181 158 152 185 183 173 173 150 164 160 159 241 255 252 251 251 252 252 252 251 251 251 251 251 251 250 255 221 174 192 190 171 146 151 159 167 200 216 222 222 213 203 207 186 167 178 185 164 142 151 193 200 173 163 152 169 176 150 192 249 235 247 254 252 251 251 251 252 252 252 251 252 251 253 246 188 190 190 189 194 191 206 212 215 213 211 216 216 207 204 200 191 191 173 150 153 187 203 184 169 176 160 172 186 170 140 139 133 93 147 221 248 254 252 252 249 248 251 252 251 250 255 214 187 201 205 208 204 199 206 207 205 210 212 217 194 190 194 193 180 153 142 181 219 212 184 162 178 172 169 182 187 174 143 84 93 75 73 132 200 242 243 250 227 232 232 246 252 252 246 188 174 178 185 182 178 183 195 202 202 214 219 193 178 185 170 170 140 152 197 220 204 168 146 150 168 162 157 164 156 173 150 108 119 86 44 49 120 192 227 253 250 252 250 250 250 253 218 164 171 184 191 191 183 167 176 185 200 215 193 171 187 179 156 175 204 221 210 195 183 159 143 147 179 177 181 175 169 176 162 151 139 98 59 49 95 182 220 252 252 251 252 251 253 233 168 161 165 173 179 178 172 159 161 169 197 195 168 180 182 178 194 220 208 202 186 175 174 142 138 178 183 188 199 185 187 164 177 162 136 88 68 71 100 158 198 217 252 251 251 250 255 189 144 163 159 164 170 169 166 156 164 168 169 190 183 185 195 207 211 210 193 183 166 165 154 149 179 182 181 178 154 166 125 123 153 162 170 112 40 34 82 131 193 194 252 251 251 255 225 149 145 162 164 159 162 161 162 159 171 173 158 173 194 201 203 205 204 203 182 169 156 151 176 195 187 172 173 155 164 145 105 135 159 169 177 170 110 30 45 119 197 189 252 251 254 228 155 140 138 154 164 166 166 171 170 166 176 173 160 167 190 211 213 210 201 191 170 162 142 172 207 192 175 156 148 178 187 137 134 159 175 165 177 180 155 84 66 146 204 174'"
      ]
     },
     "execution_count": 38,
     "metadata": {},
     "output_type": "execute_result"
    }
   ],
   "source": [
    "df[' pixels'][1289]"
   ]
  },
  {
   "cell_type": "code",
   "execution_count": 39,
   "id": "d2988608",
   "metadata": {},
   "outputs": [
    {
     "data": {
      "text/html": [
       "<div>\n",
       "<style scoped>\n",
       "    .dataframe tbody tr th:only-of-type {\n",
       "        vertical-align: middle;\n",
       "    }\n",
       "\n",
       "    .dataframe tbody tr th {\n",
       "        vertical-align: top;\n",
       "    }\n",
       "\n",
       "    .dataframe thead th {\n",
       "        text-align: right;\n",
       "    }\n",
       "</style>\n",
       "<table border=\"1\" class=\"dataframe\">\n",
       "  <thead>\n",
       "    <tr style=\"text-align: right;\">\n",
       "      <th></th>\n",
       "      <th>emotion</th>\n",
       "      <th>Usage</th>\n",
       "      <th>pixels</th>\n",
       "    </tr>\n",
       "  </thead>\n",
       "  <tbody>\n",
       "    <tr>\n",
       "      <th>332</th>\n",
       "      <td>5</td>\n",
       "      <td>Training</td>\n",
       "      <td>238 69 24 32 34 33 27 30 41 49 60 64 47 65 80 ...</td>\n",
       "    </tr>\n",
       "    <tr>\n",
       "      <th>1289</th>\n",
       "      <td>5</td>\n",
       "      <td>Training</td>\n",
       "      <td>238 69 24 32 34 33 27 30 41 49 60 64 47 65 80 ...</td>\n",
       "    </tr>\n",
       "    <tr>\n",
       "      <th>1824</th>\n",
       "      <td>5</td>\n",
       "      <td>Training</td>\n",
       "      <td>238 69 24 32 34 33 27 30 41 49 60 64 47 65 80 ...</td>\n",
       "    </tr>\n",
       "  </tbody>\n",
       "</table>\n",
       "</div>"
      ],
      "text/plain": [
       "      emotion     Usage                                             pixels\n",
       "332         5  Training  238 69 24 32 34 33 27 30 41 49 60 64 47 65 80 ...\n",
       "1289        5  Training  238 69 24 32 34 33 27 30 41 49 60 64 47 65 80 ...\n",
       "1824        5  Training  238 69 24 32 34 33 27 30 41 49 60 64 47 65 80 ..."
      ]
     },
     "execution_count": 39,
     "metadata": {},
     "output_type": "execute_result"
    }
   ],
   "source": [
    "df[df[\" pixels\"] == \"238 69 24 32 34 33 27 30 41 49 60 64 47 65 80 84 94 86 86 92 91 89 103 130 164 196 198 196 201 199 188 175 159 137 113 92 61 40 36 45 52 44 27 82 247 253 251 252 226 53 29 33 30 27 28 37 44 50 58 39 57 70 66 71 79 97 109 105 112 125 144 162 194 203 202 200 199 198 194 187 179 164 143 121 96 60 36 33 35 53 46 45 220 255 250 252 194 35 31 32 29 26 31 40 43 61 45 55 44 39 48 62 83 104 127 145 158 166 170 192 208 208 206 205 203 201 199 195 185 180 167 146 124 105 81 61 47 47 60 40 191 255 249 251 177 28 35 35 31 31 37 34 60 54 51 38 46 71 96 125 150 156 164 169 175 183 198 206 209 211 209 208 203 199 198 196 189 185 178 167 157 148 144 125 79 50 62 43 180 255 248 251 180 32 41 38 32 38 33 50 59 43 41 74 120 151 171 183 185 189 195 195 191 194 201 200 200 197 199 202 203 204 202 199 195 192 180 171 171 167 158 144 116 61 58 53 177 255 249 251 169 37 43 34 34 36 42 56 42 62 120 160 176 182 188 198 204 206 209 207 206 203 203 201 202 203 206 208 205 202 198 197 190 187 179 172 172 171 160 146 121 71 51 53 174 255 248 251 171 42 37 33 36 39 48 51 101 160 170 175 180 185 192 199 200 199 203 203 200 201 200 199 199 196 196 198 199 198 198 197 193 187 179 176 177 173 164 151 123 73 49 52 182 255 249 252 186 42 37 40 40 47 50 122 180 180 185 188 190 195 200 203 205 205 204 204 200 199 198 197 198 200 203 204 205 203 200 198 191 185 182 179 180 173 161 150 124 76 49 57 192 255 249 252 200 43 43 45 47 49 99 171 178 188 188 184 181 189 199 202 204 206 203 202 204 203 202 202 201 204 205 208 206 204 202 199 193 192 188 184 180 173 162 149 124 75 53 58 181 255 249 252 214 56 47 47 41 51 129 162 175 183 187 192 194 194 197 203 210 214 210 206 204 203 202 202 201 204 206 211 212 212 208 205 200 195 194 184 179 173 161 145 128 80 53 59 172 254 249 252 229 74 43 39 30 63 129 158 146 109 113 123 158 187 199 201 209 211 212 210 210 210 205 206 206 208 211 213 215 210 204 194 176 162 157 139 136 157 160 142 130 86 54 60 162 255 250 252 239 93 32 23 33 76 136 138 110 133 139 108 95 113 144 173 198 206 209 210 211 208 205 206 207 210 213 211 206 185 153 127 114 119 137 140 122 114 136 140 135 100 54 64 110 225 251 251 255 109 26 32 47 108 137 118 141 196 209 209 177 133 125 126 150 191 203 206 206 206 207 209 207 209 209 203 181 148 117 129 139 179 202 203 192 167 138 138 142 125 71 59 106 157 207 254 206 115 46 35 78 139 129 140 180 192 202 210 218 207 189 176 159 175 185 201 205 206 206 206 208 207 201 182 172 167 175 189 200 211 206 202 195 190 175 146 149 145 89 69 155 169 172 250 159 135 46 33 103 143 134 153 181 188 192 196 200 204 201 194 191 190 188 197 202 206 207 206 206 206 198 185 190 190 187 174 162 161 163 173 180 179 171 159 153 153 99 89 163 137 171 254 122 142 60 36 104 146 139 152 175 164 149 128 116 108 111 125 149 174 183 192 198 202 206 205 206 204 194 182 175 152 99 60 51 51 55 79 113 151 159 158 156 159 114 106 159 147 197 255 94 123 69 44 109 148 142 152 159 132 95 66 60 57 59 63 71 119 154 164 181 193 200 203 204 196 175 156 139 92 51 56 57 66 59 33 47 110 147 155 158 164 142 139 177 165 205 255 130 142 101 68 121 151 146 153 153 130 76 51 82 125 100 92 90 77 115 141 156 178 195 202 199 185 156 136 110 81 116 121 117 114 146 97 48 101 145 160 163 164 163 165 183 173 213 255 138 155 139 99 132 153 154 160 158 133 70 96 197 162 135 137 160 130 89 131 148 168 192 204 198 179 150 139 116 139 191 110 55 97 159 194 112 114 156 167 170 167 168 157 176 177 219 255 140 154 121 110 142 154 160 168 163 138 115 179 203 127 66 73 161 214 129 142 160 165 190 211 202 179 158 163 145 170 202 137 116 127 177 178 133 149 175 181 174 168 171 166 168 178 230 255 153 143 125 118 144 157 164 173 175 169 143 173 202 160 140 151 190 197 172 177 177 174 194 217 213 185 170 170 183 170 171 167 156 156 156 139 141 173 187 189 174 166 172 179 165 184 242 254 178 144 151 152 145 154 164 176 187 193 160 135 162 176 176 180 185 160 171 181 182 183 203 220 216 190 176 175 184 181 170 165 162 159 155 154 169 188 195 188 175 164 172 179 168 195 251 252 191 149 174 175 149 151 160 177 191 199 188 158 143 142 154 155 155 164 184 191 188 186 206 219 214 193 177 187 189 198 191 180 177 177 175 182 194 202 199 187 173 161 172 181 164 209 255 251 219 163 168 168 151 149 157 173 186 199 202 191 177 169 167 170 176 191 200 199 184 185 206 216 212 189 175 184 194 198 201 204 204 205 208 207 206 205 194 178 167 157 174 189 172 240 253 251 248 167 150 177 165 145 153 169 182 196 205 207 203 198 196 198 200 205 206 196 175 184 209 214 212 186 168 179 195 203 206 211 213 215 217 214 207 197 181 170 160 156 174 173 207 255 250 252 255 214 145 146 158 149 146 160 175 188 200 211 212 209 208 211 211 209 205 192 170 181 207 214 212 182 163 174 191 205 210 217 216 215 215 212 198 184 170 160 154 156 178 178 237 254 251 252 251 252 186 137 152 151 143 154 165 177 187 203 212 216 214 213 212 209 202 185 167 180 207 216 206 178 159 165 182 201 207 217 215 212 208 200 187 171 156 151 151 155 174 208 254 250 251 252 251 252 248 181 132 148 144 149 157 168 176 187 197 205 206 208 209 208 196 177 164 178 206 217 202 176 162 158 171 195 206 210 207 205 198 185 172 158 144 138 144 148 198 250 251 250 251 252 252 250 253 250 207 170 142 144 145 161 173 182 187 195 200 201 202 200 189 173 165 173 207 221 204 176 171 173 163 185 197 199 194 186 178 162 166 184 193 170 134 146 222 255 250 251 251 251 252 251 251 251 255 225 141 139 139 153 167 176 181 187 197 196 194 195 179 172 173 167 202 227 213 179 177 186 163 167 187 190 180 170 162 185 212 214 227 211 154 161 230 255 250 252 252 252 251 252 252 251 252 245 152 133 137 141 155 169 179 182 186 190 188 188 169 172 186 172 190 218 214 187 186 191 163 154 180 186 174 180 204 219 212 196 206 187 181 208 226 251 251 252 252 252 252 252 251 252 251 255 174 127 132 133 145 160 169 176 181 181 182 184 168 157 157 158 188 206 207 185 133 116 138 155 167 180 197 215 218 210 197 176 162 157 173 212 200 237 254 251 252 252 251 252 251 251 250 255 205 126 129 129 136 149 157 165 169 182 199 192 176 143 84 67 122 174 176 145 107 114 152 168 193 215 221 222 210 191 184 158 141 170 175 180 189 245 252 251 251 252 252 251 251 251 251 254 237 135 123 125 128 136 146 149 173 210 220 218 207 180 148 128 140 149 113 121 149 154 175 206 223 223 221 214 195 176 157 142 164 184 164 142 214 255 250 251 251 252 252 251 251 252 251 251 255 167 116 123 121 127 130 158 194 219 221 222 220 202 209 213 219 206 139 118 153 176 208 215 216 213 207 198 178 142 142 170 176 173 150 144 217 255 250 251 251 251 252 251 252 252 251 250 255 216 120 121 115 117 152 184 192 221 228 227 224 211 210 213 217 194 135 181 212 216 214 205 201 192 188 169 136 152 186 180 171 148 140 162 241 253 250 251 251 251 252 251 252 252 251 251 252 251 153 107 128 160 179 183 184 196 211 218 220 217 212 210 197 161 192 225 215 211 205 197 183 179 162 144 174 194 185 169 143 145 142 211 255 250 251 252 251 252 252 251 252 252 251 252 250 255 212 138 178 186 181 177 172 168 168 172 179 179 171 165 180 212 228 220 211 192 183 180 179 160 149 176 189 184 172 143 149 154 175 252 251 251 251 251 251 251 252 252 252 252 251 251 251 253 247 187 192 190 184 161 154 140 115 119 149 177 196 213 222 221 212 202 188 183 179 181 158 152 185 183 173 173 150 164 160 159 241 255 252 251 251 252 252 252 251 251 251 251 251 251 250 255 221 174 192 190 171 146 151 159 167 200 216 222 222 213 203 207 186 167 178 185 164 142 151 193 200 173 163 152 169 176 150 192 249 235 247 254 252 251 251 251 252 252 252 251 252 251 253 246 188 190 190 189 194 191 206 212 215 213 211 216 216 207 204 200 191 191 173 150 153 187 203 184 169 176 160 172 186 170 140 139 133 93 147 221 248 254 252 252 249 248 251 252 251 250 255 214 187 201 205 208 204 199 206 207 205 210 212 217 194 190 194 193 180 153 142 181 219 212 184 162 178 172 169 182 187 174 143 84 93 75 73 132 200 242 243 250 227 232 232 246 252 252 246 188 174 178 185 182 178 183 195 202 202 214 219 193 178 185 170 170 140 152 197 220 204 168 146 150 168 162 157 164 156 173 150 108 119 86 44 49 120 192 227 253 250 252 250 250 250 253 218 164 171 184 191 191 183 167 176 185 200 215 193 171 187 179 156 175 204 221 210 195 183 159 143 147 179 177 181 175 169 176 162 151 139 98 59 49 95 182 220 252 252 251 252 251 253 233 168 161 165 173 179 178 172 159 161 169 197 195 168 180 182 178 194 220 208 202 186 175 174 142 138 178 183 188 199 185 187 164 177 162 136 88 68 71 100 158 198 217 252 251 251 250 255 189 144 163 159 164 170 169 166 156 164 168 169 190 183 185 195 207 211 210 193 183 166 165 154 149 179 182 181 178 154 166 125 123 153 162 170 112 40 34 82 131 193 194 252 251 251 255 225 149 145 162 164 159 162 161 162 159 171 173 158 173 194 201 203 205 204 203 182 169 156 151 176 195 187 172 173 155 164 145 105 135 159 169 177 170 110 30 45 119 197 189 252 251 254 228 155 140 138 154 164 166 166 171 170 166 176 173 160 167 190 211 213 210 201 191 170 162 142 172 207 192 175 156 148 178 187 137 134 159 175 165 177 180 155 84 66 146 204 174\"]"
   ]
  },
  {
   "cell_type": "code",
   "execution_count": 43,
   "id": "a1dd707d",
   "metadata": {},
   "outputs": [
    {
     "data": {
      "image/png": "[encoded data removed]",
      "text/plain": [
       "<Figure size 432x216 with 3 Axes>"
      ]
     },
     "metadata": {
      "needs_background": "light"
     },
     "output_type": "display_data"
    }
   ],
   "source": [
    "# Indeks gambar yang akan ditampilkan\n",
    "indices = [332, 1289, 1824] \n",
    "\n",
    "fig, axs = plt.subplots(1, 3, figsize=(6, 3))\n",
    "\n",
    "for i, idx in enumerate(indices):\n",
    "    # Ambil string piksel dari baris data yang sesuai\n",
    "    pixels_string = df.iloc[idx][' pixels']\n",
    "    # Konversi string piksel menjadi gambar\n",
    "    image = string_to_image(pixels_string)\n",
    "    # Tampilkan gambar pada subplot\n",
    "    axs[i].imshow(image, cmap='gray')\n",
    "    axs[i].axis('off')\n",
    "    axs[i].set_title(f'Gambar {idx}')\n",
    "\n",
    "plt.show()"
   ]
  },
  {
   "cell_type": "code",
   "execution_count": 23,
   "id": "c9ac12d9",
   "metadata": {},
   "outputs": [],
   "source": [
    "df_new = df.drop_duplicates(subset=' pixels')"
   ]
  },
  {
   "cell_type": "code",
   "execution_count": 24,
   "id": "7a8139e9",
   "metadata": {},
   "outputs": [
    {
     "data": {
      "text/plain": [
       "(34034, 3)"
      ]
     },
     "execution_count": 24,
     "metadata": {},
     "output_type": "execute_result"
    }
   ],
   "source": [
    "df_new.shape"
   ]
  },
  {
   "cell_type": "code",
   "execution_count": 25,
   "id": "a9584818",
   "metadata": {},
   "outputs": [
    {
     "name": "stdout",
     "output_type": "stream",
     "text": [
      "Number of duplicate rows': 0\n"
     ]
    }
   ],
   "source": [
    "duplicate_count = df_new.duplicated(subset=' pixels').sum()\n",
    "\n",
    "print(f\"Number of duplicate rows': {duplicate_count}\")"
   ]
  },
  {
   "cell_type": "markdown",
   "id": "75fa2f36",
   "metadata": {},
   "source": [
    "### Cek data yang under/over exposed"
   ]
  },
  {
   "cell_type": "code",
   "execution_count": 26,
   "id": "64a48c91",
   "metadata": {},
   "outputs": [
    {
     "name": "stdout",
     "output_type": "stream",
     "text": [
      "                max           min          mean           std        median\n",
      "count  34034.000000  34034.000000  34034.000000  34034.000000  34034.000000\n",
      "mean     236.129371      8.140947    128.835802     54.034507    133.399747\n",
      "std       24.637455     13.155499     33.430176     13.654291     41.304603\n",
      "min        0.000000      0.000000      0.000000      0.000000      0.000000\n",
      "25%      225.250000      0.000000    106.177517     44.466503    105.500000\n",
      "50%      246.000000      2.000000    128.902127     53.582182    135.000000\n",
      "75%      255.000000     12.000000    152.026801     63.109526    163.000000\n",
      "max      255.000000    205.000000    248.087240    114.151993    255.000000\n"
     ]
    }
   ],
   "source": [
    "pixels = df_new[' pixels'].apply(lambda x: np.array(x.split(), dtype=int))\n",
    "\n",
    "stats = pd.DataFrame({\n",
    "    'max': pixels.apply(lambda x: x.max()),\n",
    "    'min': pixels.apply(lambda x: x.min()),\n",
    "    'mean': pixels.apply(lambda x: x.mean()),\n",
    "    'std': pixels.apply(lambda x: x.std()),\n",
    "    'median': pixels.apply(lambda x: np.median(x))\n",
    "})\n",
    "\n",
    "print(stats.describe())"
   ]
  },
  {
   "cell_type": "code",
   "execution_count": 27,
   "id": "96922398",
   "metadata": {},
   "outputs": [
    {
     "name": "stdout",
     "output_type": "stream",
     "text": [
      "count    34034.000000\n",
      "mean       128.835802\n",
      "std         33.430176\n",
      "min          0.000000\n",
      "25%        106.177517\n",
      "50%        128.902127\n",
      "75%        152.026801\n",
      "max        248.087240\n",
      "Name: mean, dtype: float64\n"
     ]
    }
   ],
   "source": [
    "print(stats['mean'].describe())"
   ]
  },
  {
   "cell_type": "code",
   "execution_count": 44,
   "id": "7cc88aaf",
   "metadata": {},
   "outputs": [
    {
     "data": {
      "image/png": "[encoded data removed]",
      "text/plain": [
       "<Figure size 864x360 with 1 Axes>"
      ]
     },
     "metadata": {
      "needs_background": "light"
     },
     "output_type": "display_data"
    }
   ],
   "source": [
    "plt.figure(figsize=(12, 5))\n",
    "# Boxplot\n",
    "plt.subplot(1, 2, 2)\n",
    "plt.boxplot(stats['mean'], vert=False, patch_artist=True)\n",
    "plt.title('Boxplot Rata-Rata Pixel')\n",
    "plt.xlabel('Nilai Mean')\n",
    "\n",
    "plt.tight_layout()\n",
    "plt.show()"
   ]
  },
  {
   "cell_type": "code",
   "execution_count": 37,
   "id": "df24a9e1",
   "metadata": {},
   "outputs": [
    {
     "name": "stdout",
     "output_type": "stream",
     "text": [
      "Gambar terlalu gelap: 31\n",
      "Gambar terlalu terang: 28\n"
     ]
    },
    {
     "data": {
      "image/png": "[encoded data removed]",
      "text/plain": [
       "<Figure size 432x216 with 2 Axes>"
      ]
     },
     "metadata": {
      "needs_background": "light"
     },
     "output_type": "display_data"
    }
   ],
   "source": [
    "threshold_dark = 30\n",
    "threshold_bright = 230\n",
    "\n",
    "dark_images = stats[stats['mean'] < threshold_dark]\n",
    "bright_images = stats[stats['mean'] > threshold_bright]\n",
    "\n",
    "print(f\"Gambar terlalu gelap: {len(dark_images)}\")\n",
    "print(f\"Gambar terlalu terang: {len(bright_images)}\")\n",
    "\n",
    "fig, axes = plt.subplots(1, 2, figsize=(6, 3))\n",
    "\n",
    "# Tampilkan gambar terlalu gelap jika ada\n",
    "if not dark_images.empty:\n",
    "    idx = dark_images.index[0]\n",
    "    pixel_data = pixels[idx].reshape(48, 48)\n",
    "    axes[0].imshow(pixel_data, cmap='gray')\n",
    "    axes[0].set_title(f\"Terlalu Gelap\\nMean: {stats['mean'][idx]:.2f}\")\n",
    "    axes[0].axis('off')\n",
    "else:\n",
    "    axes[0].axis('off')\n",
    "    axes[0].set_title(\"Tidak ada gambar gelap\")\n",
    "\n",
    "# Tampilkan gambar terlalu terang jika ada\n",
    "if not bright_images.empty:\n",
    "    idx = bright_images.index[0]\n",
    "    pixel_data = pixels[idx].reshape(48, 48)\n",
    "    axes[1].imshow(pixel_data, cmap='gray')\n",
    "    axes[1].set_title(f\"Terlalu Terang\\nMean: {stats['mean'][idx]:.2f}\")\n",
    "    axes[1].axis('off')\n",
    "else:\n",
    "    axes[1].axis('off')\n",
    "    axes[1].set_title(\"Tidak ada gambar terang\")\n",
    "\n",
    "plt.tight_layout()\n",
    "plt.show()"
   ]
  },
  {
   "cell_type": "markdown",
   "id": "6a096824",
   "metadata": {},
   "source": [
    "## Convert pixels to image"
   ]
  },
  {
   "cell_type": "code",
   "execution_count": 46,
   "id": "2ea2796b",
   "metadata": {},
   "outputs": [
    {
     "name": "stdout",
     "output_type": "stream",
     "text": [
      "All images saved.\n"
     ]
    }
   ],
   "source": [
    "# Emotion label mapping\n",
    "emotion_map = {\n",
    "    0: \"Anger\",\n",
    "    1: \"Disgust\",\n",
    "    2: \"Fear\",\n",
    "    3: \"Happy\",\n",
    "    4: \"Sad\",\n",
    "    5: \"Surprise\",\n",
    "    6: \"Neutral\"\n",
    "}\n",
    "\n",
    "# Output directory\n",
    "output_dir = \"E://Kuliah//UPI//SEMESTER 8//dataset skripsi//fer2013\"\n",
    "os.makedirs(output_dir, exist_ok=True)\n",
    "\n",
    "# Create emotion folders\n",
    "for label in emotion_map.values():\n",
    "    os.makedirs(os.path.join(output_dir, label), exist_ok=True)\n",
    "\n",
    "# Convert and save images\n",
    "for idx, row in df.iterrows():\n",
    "    emotion = int(row['emotion'])\n",
    "    label = emotion_map[emotion]\n",
    "    pixel_string = row[' pixels']\n",
    "    usage = row[' Usage']\n",
    "    \n",
    "    # Convert string to 48x48 numpy array\n",
    "    pixels = np.array(pixel_string.split(), dtype=np.uint8).reshape(48, 48)\n",
    "\n",
    "    # Convert to PIL Image\n",
    "    image = Image.fromarray(pixels)\n",
    "\n",
    "    # Save image\n",
    "    filename = f\"{usage}_{idx}.jpg\"\n",
    "    image_path = os.path.join(output_dir, label, filename)\n",
    "    image.save(image_path)\n",
    "\n",
    "print(\"All images saved.\")"
   ]
  },
  {
   "cell_type": "code",
   "execution_count": null,
   "id": "dbd981dc",
   "metadata": {},
   "outputs": [],
   "source": []
  }
 ],
 "metadata": {
  "kernelspec": {
   "display_name": "Python 3 (ipykernel)",
   "language": "python",
   "name": "python3"
  },
  "language_info": {
   "codemirror_mode": {
    "name": "ipython",
    "version": 3
   },
   "file_extension": ".py",
   "mimetype": "text/x-python",
   "name": "python",
   "nbconvert_exporter": "python",
   "pygments_lexer": "ipython3",
   "version": "3.9.12"
  }
 },
 "nbformat": 4,
 "nbformat_minor": 5
}

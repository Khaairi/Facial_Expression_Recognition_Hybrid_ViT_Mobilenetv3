{
 "cells": [
  {
   "cell_type": "code",
   "execution_count": 1,
   "id": "07a639ce",
   "metadata": {},
   "outputs": [
    {
     "name": "stderr",
     "output_type": "stream",
     "text": [
      "C:\\Users\\MoKha\\anaconda3\\lib\\site-packages\\pandas\\core\\computation\\expressions.py:21: UserWarning: Pandas requires version '2.8.4' or newer of 'numexpr' (version '2.8.1' currently installed).\n",
      "  from pandas.core.computation.check import NUMEXPR_INSTALLED\n",
      "C:\\Users\\MoKha\\anaconda3\\lib\\site-packages\\pandas\\core\\arrays\\masked.py:60: UserWarning: Pandas requires version '1.3.6' or newer of 'bottleneck' (version '1.3.4' currently installed).\n",
      "  from pandas.core import (\n"
     ]
    }
   ],
   "source": [
    "import os\n",
    "import cv2\n",
    "import numpy as np\n",
    "import pandas as pd\n",
    "import matplotlib.pyplot as plt\n",
    "import seaborn as sns\n",
    "import zipfile, os\n",
    "import shutil"
   ]
  },
  {
   "cell_type": "code",
   "execution_count": 2,
   "id": "b1eb1fbc",
   "metadata": {},
   "outputs": [],
   "source": [
    "data_dir = 'E:\\\\Kuliah\\\\UPI\\\\SEMESTER 8\\\\dataset skripsi\\\\dataset ruang kelas klasifikasi'\n",
    "\n",
    "class_map = {\n",
    "    'Angry': 0,\n",
    "    'Disgust': 1,\n",
    "    'Fear': 2,\n",
    "    'Happy': 3,\n",
    "    'Sad': 4,\n",
    "    'Surprise': 5,\n",
    "    'Neutral': 6,\n",
    "}"
   ]
  },
  {
   "cell_type": "code",
   "execution_count": 3,
   "id": "bcb02494",
   "metadata": {},
   "outputs": [],
   "source": [
    "image_data = []\n",
    "labels = []\n",
    "\n",
    "# Loop untuk setiap folder (kelas)\n",
    "for class_folder in os.listdir(data_dir):\n",
    "    class_path = os.path.join(data_dir, class_folder)\n",
    "\n",
    "    # Pastikan folder yang diambil adalah folder valid (bukan file atau lainnya)\n",
    "    if os.path.isdir(class_path):\n",
    "        label = class_map[class_folder]  # Ambil label sesuai map kelas\n",
    "\n",
    "        # Loop untuk setiap gambar dalam folder kelas tersebut\n",
    "        for img_file in os.listdir(class_path):\n",
    "            img_path = os.path.join(class_path, img_file)\n",
    "\n",
    "            # Load gambar dengan OpenCV dalam bentuk grayscale\n",
    "            image = cv2.imread(img_path, cv2.IMREAD_GRAYSCALE)\n",
    "\n",
    "            # Pastikan gambar terbaca dengan benar\n",
    "            if image is not None:\n",
    "                # Resize gambar ke ukuran tetap jika diperlukan, misalnya 48x48\n",
    "                image = cv2.resize(image, (48, 48))\n",
    "\n",
    "                # Flatten gambar menjadi 1D array dan ubah ke string terpisah dengan spasi\n",
    "                image_flat = ' '.join(map(str, image.flatten()))\n",
    "\n",
    "                # Simpan gambar dan labelnya\n",
    "                image_data.append(image_flat)\n",
    "                labels.append(label)"
   ]
  },
  {
   "cell_type": "code",
   "execution_count": 4,
   "id": "93c23942",
   "metadata": {},
   "outputs": [],
   "source": [
    "df = pd.DataFrame({\n",
    "    'pixels': image_data,\n",
    "    'emotion': labels,\n",
    "})"
   ]
  },
  {
   "cell_type": "code",
   "execution_count": 5,
   "id": "a69cdb23",
   "metadata": {},
   "outputs": [
    {
     "name": "stdout",
     "output_type": "stream",
     "text": [
      "<class 'pandas.core.frame.DataFrame'>\n",
      "RangeIndex: 3195 entries, 0 to 3194\n",
      "Data columns (total 2 columns):\n",
      " #   Column   Non-Null Count  Dtype \n",
      "---  ------   --------------  ----- \n",
      " 0   pixels   3195 non-null   object\n",
      " 1   emotion  3195 non-null   int64 \n",
      "dtypes: int64(1), object(1)\n",
      "memory usage: 50.0+ KB\n"
     ]
    }
   ],
   "source": [
    "df.info()"
   ]
  },
  {
   "cell_type": "code",
   "execution_count": 6,
   "id": "84957230",
   "metadata": {},
   "outputs": [
    {
     "data": {
      "text/plain": [
       "pixels     0\n",
       "emotion    0\n",
       "dtype: int64"
      ]
     },
     "execution_count": 6,
     "metadata": {},
     "output_type": "execute_result"
    }
   ],
   "source": [
    "df.isnull().sum()"
   ]
  },
  {
   "cell_type": "code",
   "execution_count": 7,
   "id": "b8effbf1",
   "metadata": {},
   "outputs": [
    {
     "name": "stdout",
     "output_type": "stream",
     "text": [
      "Number of duplicate rows': 0\n"
     ]
    }
   ],
   "source": [
    "duplicate_count = df.duplicated(subset='pixels').sum()\n",
    "\n",
    "print(f\"Number of duplicate rows': {duplicate_count}\")"
   ]
  },
  {
   "cell_type": "code",
   "execution_count": 8,
   "id": "e00fdc7a",
   "metadata": {},
   "outputs": [
    {
     "data": {
      "text/html": [
       "<div>\n",
       "<style scoped>\n",
       "    .dataframe tbody tr th:only-of-type {\n",
       "        vertical-align: middle;\n",
       "    }\n",
       "\n",
       "    .dataframe tbody tr th {\n",
       "        vertical-align: top;\n",
       "    }\n",
       "\n",
       "    .dataframe thead th {\n",
       "        text-align: right;\n",
       "    }\n",
       "</style>\n",
       "<table border=\"1\" class=\"dataframe\">\n",
       "  <thead>\n",
       "    <tr style=\"text-align: right;\">\n",
       "      <th></th>\n",
       "      <th>emotion</th>\n",
       "      <th>number</th>\n",
       "    </tr>\n",
       "  </thead>\n",
       "  <tbody>\n",
       "    <tr>\n",
       "      <th>0</th>\n",
       "      <td>Neutral</td>\n",
       "      <td>740</td>\n",
       "    </tr>\n",
       "    <tr>\n",
       "      <th>1</th>\n",
       "      <td>Happy</td>\n",
       "      <td>707</td>\n",
       "    </tr>\n",
       "    <tr>\n",
       "      <th>2</th>\n",
       "      <td>Surprise</td>\n",
       "      <td>498</td>\n",
       "    </tr>\n",
       "    <tr>\n",
       "      <th>3</th>\n",
       "      <td>Angry</td>\n",
       "      <td>484</td>\n",
       "    </tr>\n",
       "    <tr>\n",
       "      <th>4</th>\n",
       "      <td>Sad</td>\n",
       "      <td>413</td>\n",
       "    </tr>\n",
       "    <tr>\n",
       "      <th>5</th>\n",
       "      <td>Disgust</td>\n",
       "      <td>184</td>\n",
       "    </tr>\n",
       "    <tr>\n",
       "      <th>6</th>\n",
       "      <td>Fear</td>\n",
       "      <td>169</td>\n",
       "    </tr>\n",
       "  </tbody>\n",
       "</table>\n",
       "</div>"
      ],
      "text/plain": [
       "    emotion  number\n",
       "0   Neutral     740\n",
       "1     Happy     707\n",
       "2  Surprise     498\n",
       "3     Angry     484\n",
       "4       Sad     413\n",
       "5   Disgust     184\n",
       "6      Fear     169"
      ]
     },
     "execution_count": 8,
     "metadata": {},
     "output_type": "execute_result"
    }
   ],
   "source": [
    "emotion_labels = {0:'Angry', 1:'Disgust', 2:'Fear', 3:'Happy', 4:'Sad', 5:'Surprise', 6:'Neutral'}\n",
    "emotion_counts = df['emotion'].value_counts(sort=True).reset_index()\n",
    "emotion_counts.columns = ['emotion', 'number']\n",
    "emotion_counts['emotion'] = emotion_counts['emotion'].map(emotion_labels)\n",
    "emotion_counts"
   ]
  },
  {
   "cell_type": "code",
   "execution_count": 9,
   "id": "e309525a",
   "metadata": {},
   "outputs": [
    {
     "name": "stderr",
     "output_type": "stream",
     "text": [
      "C:\\Users\\MoKha\\AppData\\Local\\Temp\\ipykernel_30716\\1757753416.py:10: FutureWarning: \n",
      "\n",
      "Passing `palette` without assigning `hue` is deprecated and will be removed in v0.14.0. Assign the `x` variable to `hue` and set `legend=False` for the same effect.\n",
      "\n",
      "  sns.barplot(x=emotion_counts_sorted.emotion, y=emotion_counts_sorted.number, palette=colors)\n"
     ]
    },
    {
     "data": {
      "image/png": "[encoded data removed]",
      "text/plain": [
       "<Figure size 720x324 with 1 Axes>"
      ]
     },
     "metadata": {
      "needs_background": "light"
     },
     "output_type": "display_data"
    }
   ],
   "source": [
    "emotion_counts_sorted = emotion_counts.sort_values(by='number', ascending=True)\n",
    "\n",
    "# Calculate the average count\n",
    "average_count = emotion_counts['number'].mean()\n",
    "\n",
    "# Define colors and plot\n",
    "colors = sns.color_palette(\"Blues\", len(emotion_counts_sorted))\n",
    "\n",
    "plt.figure(figsize=(10, 4.5))\n",
    "sns.barplot(x=emotion_counts_sorted.emotion, y=emotion_counts_sorted.number, palette=colors)\n",
    "plt.title('Dataset Kelas Distribution')\n",
    "plt.ylabel('Number', fontsize=12)\n",
    "plt.xlabel('Emotions', fontsize=12)\n",
    "\n",
    "# Add a horizontal line for the average\n",
    "plt.axhline(average_count, color='red', linestyle='--', linewidth=1.5, label=f'Average: {average_count:.2f}')\n",
    "\n",
    "# Add a legend to display the average line label\n",
    "plt.legend()\n",
    "\n",
    "plt.show()"
   ]
  },
  {
   "cell_type": "code",
   "execution_count": 15,
   "id": "ce51822f",
   "metadata": {},
   "outputs": [
    {
     "data": {
      "image/png": "[encoded data removed]",
      "text/plain": [
       "<Figure size 432x288 with 1 Axes>"
      ]
     },
     "metadata": {
      "needs_background": "light"
     },
     "output_type": "display_data"
    }
   ],
   "source": [
    "def string_to_image(pixels_string):\n",
    "    pixels = np.array(pixels_string.split(), dtype=np.uint8)\n",
    "    image = pixels.reshape(48, 48)\n",
    "    return image\n",
    "\n",
    "pixels_string = df.iloc[1]['pixels']\n",
    "image = string_to_image(pixels_string)\n",
    "plt.imshow(image, cmap='gray')\n",
    "plt.axis('off')\n",
    "plt.show()"
   ]
  },
  {
   "cell_type": "code",
   "execution_count": 11,
   "id": "62926fb0",
   "metadata": {},
   "outputs": [],
   "source": [
    "df.to_csv('E:\\\\Kuliah\\\\UPI\\\\SEMESTER 8\\\\dataset skripsi\\\\student.csv', index=False)"
   ]
  }
 ],
 "metadata": {
  "kernelspec": {
   "display_name": "Python 3 (ipykernel)",
   "language": "python",
   "name": "python3"
  },
  "language_info": {
   "codemirror_mode": {
    "name": "ipython",
    "version": 3
   },
   "file_extension": ".py",
   "mimetype": "text/x-python",
   "name": "python",
   "nbconvert_exporter": "python",
   "pygments_lexer": "ipython3",
   "version": "3.9.12"
  }
 },
 "nbformat": 4,
 "nbformat_minor": 5
}

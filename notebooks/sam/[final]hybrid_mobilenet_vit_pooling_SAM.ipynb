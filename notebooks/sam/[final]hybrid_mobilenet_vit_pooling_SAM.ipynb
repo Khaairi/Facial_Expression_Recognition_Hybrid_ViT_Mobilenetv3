{
 "cells": [
  {
   "cell_type": "code",
   "execution_count": null,
   "id": "57771606",
   "metadata": {
    "scrolled": false
   },
   "outputs": [
    {
     "name": "stderr",
     "output_type": "stream",
     "text": [
      "C:\\Users\\MoKha\\anaconda3\\lib\\site-packages\\pandas\\core\\computation\\expressions.py:21: UserWarning: Pandas requires version '2.8.4' or newer of 'numexpr' (version '2.8.1' currently installed).\n",
      "  from pandas.core.computation.check import NUMEXPR_INSTALLED\n",
      "C:\\Users\\MoKha\\anaconda3\\lib\\site-packages\\pandas\\core\\arrays\\masked.py:60: UserWarning: Pandas requires version '1.3.6' or newer of 'bottleneck' (version '1.3.4' currently installed).\n",
      "  from pandas.core import (\n"
     ]
    },
    {
     "name": "stdout",
     "output_type": "stream",
     "text": [
      "Using device: cuda\n",
      "PyTorch version: 2.5.0+cu124\n"
     ]
    },
    {
     "name": "stderr",
     "output_type": "stream",
     "text": [
      "C:\\Users\\MoKha\\anaconda3\\lib\\site-packages\\torchvision\\models\\_utils.py:208: UserWarning: The parameter 'pretrained' is deprecated since 0.13 and may be removed in the future, please use 'weights' instead.\n",
      "  warnings.warn(\n",
      "C:\\Users\\MoKha\\anaconda3\\lib\\site-packages\\torchvision\\models\\_utils.py:223: UserWarning: Arguments other than a weight enum or `None` for 'weights' are deprecated since 0.13 and may be removed in the future. The current behavior is equivalent to passing `weights=MobileNet_V3_Large_Weights.IMAGENET1K_V1`. You can also use `weights=MobileNet_V3_Large_Weights.DEFAULT` to get the most up-to-date weights.\n",
      "  warnings.warn(msg)\n",
      "Epoch 1/1000: 100%|█████████████████████████████████████████| 422/422 [10:01<00:00,  1.43s/it, Loss=1.5178, Acc=0.4111]\n"
     ]
    },
    {
     "name": "stdout",
     "output_type": "stream",
     "text": [
      "Epoch 1/1000: Train Loss: 1.5178, Train Acc: 0.4111\n"
     ]
    },
    {
     "name": "stderr",
     "output_type": "stream",
     "text": [
      "Epoch 1/1000 (Validation): 100%|██████████████████████████████| 47/47 [00:10<00:00,  4.45it/s, Loss=1.2557, Acc=0.5270]\n"
     ]
    },
    {
     "name": "stdout",
     "output_type": "stream",
     "text": [
      "Epoch 1/1000: Val Loss: 1.2557, Val Acc: 0.5270, Val F1: 0.5086\n",
      "Current Learning Rate: 3e-05\n",
      "Best model saved at E://Kuliah//UPI//SEMESTER 8//coba coba\\hybrid_mobilenet_vit_SAM_best.pt with val accuracy: 0.5270\n"
     ]
    },
    {
     "name": "stderr",
     "output_type": "stream",
     "text": [
      "Epoch 2/1000: 100%|█████████████████████████████████████████| 422/422 [11:19<00:00,  1.61s/it, Loss=1.2037, Acc=0.5369]\n"
     ]
    },
    {
     "name": "stdout",
     "output_type": "stream",
     "text": [
      "Epoch 2/1000: Train Loss: 1.2037, Train Acc: 0.5369\n"
     ]
    },
    {
     "name": "stderr",
     "output_type": "stream",
     "text": [
      "Epoch 2/1000 (Validation): 100%|██████████████████████████████| 47/47 [00:11<00:00,  4.25it/s, Loss=1.1304, Acc=0.5737]\n"
     ]
    },
    {
     "name": "stdout",
     "output_type": "stream",
     "text": [
      "Epoch 2/1000: Val Loss: 1.1304, Val Acc: 0.5737, Val F1: 0.5591\n",
      "Current Learning Rate: 3e-05\n",
      "Best model saved at E://Kuliah//UPI//SEMESTER 8//coba coba\\hybrid_mobilenet_vit_SAM_best.pt with val accuracy: 0.5737\n"
     ]
    },
    {
     "name": "stderr",
     "output_type": "stream",
     "text": [
      "Epoch 3/1000: 100%|█████████████████████████████████████████| 422/422 [11:22<00:00,  1.62s/it, Loss=1.1071, Acc=0.5797]\n"
     ]
    },
    {
     "name": "stdout",
     "output_type": "stream",
     "text": [
      "Epoch 3/1000: Train Loss: 1.1071, Train Acc: 0.5797\n"
     ]
    },
    {
     "name": "stderr",
     "output_type": "stream",
     "text": [
      "Epoch 3/1000 (Validation): 100%|██████████████████████████████| 47/47 [00:11<00:00,  4.18it/s, Loss=1.0789, Acc=0.5921]\n"
     ]
    },
    {
     "name": "stdout",
     "output_type": "stream",
     "text": [
      "Epoch 3/1000: Val Loss: 1.0789, Val Acc: 0.5921, Val F1: 0.5716\n",
      "Current Learning Rate: 3e-05\n",
      "Best model saved at E://Kuliah//UPI//SEMESTER 8//coba coba\\hybrid_mobilenet_vit_SAM_best.pt with val accuracy: 0.5921\n"
     ]
    },
    {
     "name": "stderr",
     "output_type": "stream",
     "text": [
      "Epoch 4/1000: 100%|█████████████████████████████████████████| 422/422 [11:16<00:00,  1.60s/it, Loss=1.0334, Acc=0.6059]\n"
     ]
    },
    {
     "name": "stdout",
     "output_type": "stream",
     "text": [
      "Epoch 4/1000: Train Loss: 1.0334, Train Acc: 0.6059\n"
     ]
    },
    {
     "name": "stderr",
     "output_type": "stream",
     "text": [
      "Epoch 4/1000 (Validation): 100%|██████████████████████████████| 47/47 [00:10<00:00,  4.32it/s, Loss=1.0300, Acc=0.6107]\n"
     ]
    },
    {
     "name": "stdout",
     "output_type": "stream",
     "text": [
      "Epoch 4/1000: Val Loss: 1.0300, Val Acc: 0.6107, Val F1: 0.5931\n",
      "Current Learning Rate: 3e-05\n",
      "Best model saved at E://Kuliah//UPI//SEMESTER 8//coba coba\\hybrid_mobilenet_vit_SAM_best.pt with val accuracy: 0.6107\n"
     ]
    },
    {
     "name": "stderr",
     "output_type": "stream",
     "text": [
      "Epoch 5/1000: 100%|█████████████████████████████████████████| 422/422 [11:14<00:00,  1.60s/it, Loss=0.9839, Acc=0.6263]\n"
     ]
    },
    {
     "name": "stdout",
     "output_type": "stream",
     "text": [
      "Epoch 5/1000: Train Loss: 0.9839, Train Acc: 0.6263\n"
     ]
    },
    {
     "name": "stderr",
     "output_type": "stream",
     "text": [
      "Epoch 5/1000 (Validation): 100%|██████████████████████████████| 47/47 [00:10<00:00,  4.42it/s, Loss=0.9959, Acc=0.6288]\n"
     ]
    },
    {
     "name": "stdout",
     "output_type": "stream",
     "text": [
      "Epoch 5/1000: Val Loss: 0.9959, Val Acc: 0.6288, Val F1: 0.6242\n",
      "Current Learning Rate: 3e-05\n",
      "Best model saved at E://Kuliah//UPI//SEMESTER 8//coba coba\\hybrid_mobilenet_vit_SAM_best.pt with val accuracy: 0.6288\n"
     ]
    },
    {
     "name": "stderr",
     "output_type": "stream",
     "text": [
      "Epoch 6/1000: 100%|█████████████████████████████████████████| 422/422 [12:31<00:00,  1.78s/it, Loss=0.9472, Acc=0.6428]\n"
     ]
    },
    {
     "name": "stdout",
     "output_type": "stream",
     "text": [
      "Epoch 6/1000: Train Loss: 0.9472, Train Acc: 0.6428\n"
     ]
    },
    {
     "name": "stderr",
     "output_type": "stream",
     "text": [
      "Epoch 6/1000 (Validation): 100%|██████████████████████████████| 47/47 [00:12<00:00,  3.77it/s, Loss=0.9674, Acc=0.6368]\n"
     ]
    },
    {
     "name": "stdout",
     "output_type": "stream",
     "text": [
      "Epoch 6/1000: Val Loss: 0.9674, Val Acc: 0.6368, Val F1: 0.6286\n",
      "Current Learning Rate: 3e-05\n",
      "Best model saved at E://Kuliah//UPI//SEMESTER 8//coba coba\\hybrid_mobilenet_vit_SAM_best.pt with val accuracy: 0.6368\n"
     ]
    },
    {
     "name": "stderr",
     "output_type": "stream",
     "text": [
      "Epoch 7/1000: 100%|█████████████████████████████████████████| 422/422 [12:00<00:00,  1.71s/it, Loss=0.9066, Acc=0.6574]\n"
     ]
    },
    {
     "name": "stdout",
     "output_type": "stream",
     "text": [
      "Epoch 7/1000: Train Loss: 0.9066, Train Acc: 0.6574\n"
     ]
    },
    {
     "name": "stderr",
     "output_type": "stream",
     "text": [
      "Epoch 7/1000 (Validation): 100%|██████████████████████████████| 47/47 [00:11<00:00,  3.98it/s, Loss=0.9593, Acc=0.6518]\n"
     ]
    },
    {
     "name": "stdout",
     "output_type": "stream",
     "text": [
      "Epoch 7/1000: Val Loss: 0.9593, Val Acc: 0.6518, Val F1: 0.6388\n",
      "Current Learning Rate: 3e-05\n",
      "Best model saved at E://Kuliah//UPI//SEMESTER 8//coba coba\\hybrid_mobilenet_vit_SAM_best.pt with val accuracy: 0.6518\n"
     ]
    },
    {
     "name": "stderr",
     "output_type": "stream",
     "text": [
      "Epoch 8/1000: 100%|█████████████████████████████████████████| 422/422 [11:55<00:00,  1.70s/it, Loss=0.8812, Acc=0.6680]\n"
     ]
    },
    {
     "name": "stdout",
     "output_type": "stream",
     "text": [
      "Epoch 8/1000: Train Loss: 0.8812, Train Acc: 0.6680\n"
     ]
    },
    {
     "name": "stderr",
     "output_type": "stream",
     "text": [
      "Epoch 8/1000 (Validation): 100%|██████████████████████████████| 47/47 [00:12<00:00,  3.75it/s, Loss=0.9373, Acc=0.6584]\n"
     ]
    },
    {
     "name": "stdout",
     "output_type": "stream",
     "text": [
      "Epoch 8/1000: Val Loss: 0.9373, Val Acc: 0.6584, Val F1: 0.6530\n",
      "Current Learning Rate: 3e-05\n",
      "Best model saved at E://Kuliah//UPI//SEMESTER 8//coba coba\\hybrid_mobilenet_vit_SAM_best.pt with val accuracy: 0.6584\n"
     ]
    },
    {
     "name": "stderr",
     "output_type": "stream",
     "text": [
      "Epoch 9/1000: 100%|█████████████████████████████████████████| 422/422 [11:58<00:00,  1.70s/it, Loss=0.8445, Acc=0.6822]\n"
     ]
    },
    {
     "name": "stdout",
     "output_type": "stream",
     "text": [
      "Epoch 9/1000: Train Loss: 0.8445, Train Acc: 0.6822\n"
     ]
    },
    {
     "name": "stderr",
     "output_type": "stream",
     "text": [
      "Epoch 9/1000 (Validation): 100%|██████████████████████████████| 47/47 [00:10<00:00,  4.41it/s, Loss=0.9135, Acc=0.6711]\n"
     ]
    },
    {
     "name": "stdout",
     "output_type": "stream",
     "text": [
      "Epoch 9/1000: Val Loss: 0.9135, Val Acc: 0.6711, Val F1: 0.6653\n",
      "Current Learning Rate: 3e-05\n",
      "Best model saved at E://Kuliah//UPI//SEMESTER 8//coba coba\\hybrid_mobilenet_vit_SAM_best.pt with val accuracy: 0.6711\n"
     ]
    },
    {
     "name": "stderr",
     "output_type": "stream",
     "text": [
      "Epoch 10/1000: 100%|████████████████████████████████████████| 422/422 [12:12<00:00,  1.74s/it, Loss=0.8172, Acc=0.6938]\n"
     ]
    },
    {
     "name": "stdout",
     "output_type": "stream",
     "text": [
      "Epoch 10/1000: Train Loss: 0.8172, Train Acc: 0.6938\n"
     ]
    },
    {
     "name": "stderr",
     "output_type": "stream",
     "text": [
      "Epoch 10/1000 (Validation): 100%|█████████████████████████████| 47/47 [00:12<00:00,  3.88it/s, Loss=0.9172, Acc=0.6651]\n"
     ]
    },
    {
     "name": "stdout",
     "output_type": "stream",
     "text": [
      "Epoch 10/1000: Val Loss: 0.9172, Val Acc: 0.6651, Val F1: 0.6570\n",
      "Current Learning Rate: 3e-05\n"
     ]
    },
    {
     "name": "stderr",
     "output_type": "stream",
     "text": [
      "Epoch 11/1000: 100%|████████████████████████████████████████| 422/422 [12:08<00:00,  1.73s/it, Loss=0.7921, Acc=0.7033]\n"
     ]
    },
    {
     "name": "stdout",
     "output_type": "stream",
     "text": [
      "Epoch 11/1000: Train Loss: 0.7921, Train Acc: 0.7033\n"
     ]
    },
    {
     "name": "stderr",
     "output_type": "stream",
     "text": [
      "Epoch 11/1000 (Validation): 100%|█████████████████████████████| 47/47 [00:11<00:00,  4.15it/s, Loss=0.9129, Acc=0.6618]\n"
     ]
    },
    {
     "name": "stdout",
     "output_type": "stream",
     "text": [
      "Epoch 11/1000: Val Loss: 0.9129, Val Acc: 0.6618, Val F1: 0.6510\n",
      "Current Learning Rate: 3e-05\n"
     ]
    },
    {
     "name": "stderr",
     "output_type": "stream",
     "text": [
      "Epoch 12/1000: 100%|████████████████████████████████████████| 422/422 [12:09<00:00,  1.73s/it, Loss=0.7661, Acc=0.7138]\n"
     ]
    },
    {
     "name": "stdout",
     "output_type": "stream",
     "text": [
      "Epoch 12/1000: Train Loss: 0.7661, Train Acc: 0.7138\n"
     ]
    },
    {
     "name": "stderr",
     "output_type": "stream",
     "text": [
      "Epoch 12/1000 (Validation): 100%|█████████████████████████████| 47/47 [00:11<00:00,  3.93it/s, Loss=0.9033, Acc=0.6688]\n"
     ]
    },
    {
     "name": "stdout",
     "output_type": "stream",
     "text": [
      "Epoch 12/1000: Val Loss: 0.9033, Val Acc: 0.6688, Val F1: 0.6634\n",
      "Current Learning Rate: 3e-05\n"
     ]
    },
    {
     "name": "stderr",
     "output_type": "stream",
     "text": [
      "Epoch 13/1000: 100%|████████████████████████████████████████| 422/422 [11:31<00:00,  1.64s/it, Loss=0.7390, Acc=0.7245]\n"
     ]
    },
    {
     "name": "stdout",
     "output_type": "stream",
     "text": [
      "Epoch 13/1000: Train Loss: 0.7390, Train Acc: 0.7245\n"
     ]
    },
    {
     "name": "stderr",
     "output_type": "stream",
     "text": [
      "Epoch 13/1000 (Validation): 100%|█████████████████████████████| 47/47 [00:11<00:00,  4.17it/s, Loss=0.9361, Acc=0.6661]\n"
     ]
    },
    {
     "name": "stdout",
     "output_type": "stream",
     "text": [
      "Epoch 13/1000: Val Loss: 0.9361, Val Acc: 0.6661, Val F1: 0.6494\n",
      "Current Learning Rate: 3e-05\n"
     ]
    },
    {
     "name": "stderr",
     "output_type": "stream",
     "text": [
      "Epoch 14/1000: 100%|████████████████████████████████████████| 422/422 [11:18<00:00,  1.61s/it, Loss=0.7120, Acc=0.7360]\n"
     ]
    },
    {
     "name": "stdout",
     "output_type": "stream",
     "text": [
      "Epoch 14/1000: Train Loss: 0.7120, Train Acc: 0.7360\n"
     ]
    },
    {
     "name": "stderr",
     "output_type": "stream",
     "text": [
      "Epoch 14/1000 (Validation): 100%|█████████████████████████████| 47/47 [00:10<00:00,  4.33it/s, Loss=0.9050, Acc=0.6758]\n"
     ]
    },
    {
     "name": "stdout",
     "output_type": "stream",
     "text": [
      "Epoch 14/1000: Val Loss: 0.9050, Val Acc: 0.6758, Val F1: 0.6669\n",
      "Current Learning Rate: 3e-05\n",
      "Best model saved at E://Kuliah//UPI//SEMESTER 8//coba coba\\hybrid_mobilenet_vit_SAM_best.pt with val accuracy: 0.6758\n"
     ]
    },
    {
     "name": "stderr",
     "output_type": "stream",
     "text": [
      "Epoch 15/1000: 100%|████████████████████████████████████████| 422/422 [11:08<00:00,  1.58s/it, Loss=0.6822, Acc=0.7483]\n"
     ]
    },
    {
     "name": "stdout",
     "output_type": "stream",
     "text": [
      "Epoch 15/1000: Train Loss: 0.6822, Train Acc: 0.7483\n"
     ]
    },
    {
     "name": "stderr",
     "output_type": "stream",
     "text": [
      "Epoch 15/1000 (Validation): 100%|█████████████████████████████| 47/47 [00:10<00:00,  4.29it/s, Loss=0.8908, Acc=0.6728]\n"
     ]
    },
    {
     "name": "stdout",
     "output_type": "stream",
     "text": [
      "Epoch 15/1000: Val Loss: 0.8908, Val Acc: 0.6728, Val F1: 0.6675\n",
      "Current Learning Rate: 3e-05\n"
     ]
    },
    {
     "name": "stderr",
     "output_type": "stream",
     "text": [
      "Epoch 16/1000: 100%|████████████████████████████████████████| 422/422 [11:19<00:00,  1.61s/it, Loss=0.6519, Acc=0.7594]\n"
     ]
    },
    {
     "name": "stdout",
     "output_type": "stream",
     "text": [
      "Epoch 16/1000: Train Loss: 0.6519, Train Acc: 0.7594\n"
     ]
    },
    {
     "name": "stderr",
     "output_type": "stream",
     "text": [
      "Epoch 16/1000 (Validation): 100%|█████████████████████████████| 47/47 [00:11<00:00,  4.27it/s, Loss=0.8989, Acc=0.6711]\n"
     ]
    },
    {
     "name": "stdout",
     "output_type": "stream",
     "text": [
      "Epoch 16/1000: Val Loss: 0.8989, Val Acc: 0.6711, Val F1: 0.6638\n",
      "Current Learning Rate: 3e-05\n"
     ]
    },
    {
     "name": "stderr",
     "output_type": "stream",
     "text": [
      "Epoch 17/1000: 100%|████████████████████████████████████████| 422/422 [11:10<00:00,  1.59s/it, Loss=0.6265, Acc=0.7700]\n"
     ]
    },
    {
     "name": "stdout",
     "output_type": "stream",
     "text": [
      "Epoch 17/1000: Train Loss: 0.6265, Train Acc: 0.7700\n"
     ]
    },
    {
     "name": "stderr",
     "output_type": "stream",
     "text": [
      "Epoch 17/1000 (Validation): 100%|█████████████████████████████| 47/47 [00:10<00:00,  4.49it/s, Loss=0.9034, Acc=0.6694]\n"
     ]
    },
    {
     "name": "stdout",
     "output_type": "stream",
     "text": [
      "Epoch 17/1000: Val Loss: 0.9034, Val Acc: 0.6694, Val F1: 0.6609\n",
      "Current Learning Rate: 3e-05\n"
     ]
    },
    {
     "name": "stderr",
     "output_type": "stream",
     "text": [
      "Epoch 18/1000: 100%|████████████████████████████████████████| 422/422 [11:18<00:00,  1.61s/it, Loss=0.5965, Acc=0.7823]\n"
     ]
    },
    {
     "name": "stdout",
     "output_type": "stream",
     "text": [
      "Epoch 18/1000: Train Loss: 0.5965, Train Acc: 0.7823\n"
     ]
    },
    {
     "name": "stderr",
     "output_type": "stream",
     "text": [
      "Epoch 18/1000 (Validation): 100%|█████████████████████████████| 47/47 [00:11<00:00,  4.14it/s, Loss=0.9175, Acc=0.6758]\n"
     ]
    },
    {
     "name": "stdout",
     "output_type": "stream",
     "text": [
      "Epoch 18/1000: Val Loss: 0.9175, Val Acc: 0.6758, Val F1: 0.6698\n",
      "Current Learning Rate: 3e-05\n"
     ]
    },
    {
     "name": "stderr",
     "output_type": "stream",
     "text": [
      "Epoch 19/1000: 100%|████████████████████████████████████████| 422/422 [12:23<00:00,  1.76s/it, Loss=0.5639, Acc=0.7951]\n"
     ]
    },
    {
     "name": "stdout",
     "output_type": "stream",
     "text": [
      "Epoch 19/1000: Train Loss: 0.5639, Train Acc: 0.7951\n"
     ]
    },
    {
     "name": "stderr",
     "output_type": "stream",
     "text": [
      "Epoch 19/1000 (Validation): 100%|█████████████████████████████| 47/47 [00:11<00:00,  4.01it/s, Loss=0.9028, Acc=0.6821]\n"
     ]
    },
    {
     "name": "stdout",
     "output_type": "stream",
     "text": [
      "Epoch 19/1000: Val Loss: 0.9028, Val Acc: 0.6821, Val F1: 0.6784\n",
      "Current Learning Rate: 3e-05\n",
      "Best model saved at E://Kuliah//UPI//SEMESTER 8//coba coba\\hybrid_mobilenet_vit_SAM_best.pt with val accuracy: 0.6821\n"
     ]
    },
    {
     "name": "stderr",
     "output_type": "stream",
     "text": [
      "Epoch 20/1000: 100%|████████████████████████████████████████| 422/422 [12:25<00:00,  1.77s/it, Loss=0.5373, Acc=0.8074]\n"
     ]
    },
    {
     "name": "stdout",
     "output_type": "stream",
     "text": [
      "Epoch 20/1000: Train Loss: 0.5373, Train Acc: 0.8074\n"
     ]
    },
    {
     "name": "stderr",
     "output_type": "stream",
     "text": [
      "Epoch 20/1000 (Validation): 100%|█████████████████████████████| 47/47 [00:11<00:00,  4.11it/s, Loss=0.9197, Acc=0.6851]\n"
     ]
    },
    {
     "name": "stdout",
     "output_type": "stream",
     "text": [
      "Epoch 20/1000: Val Loss: 0.9197, Val Acc: 0.6851, Val F1: 0.6799\n",
      "Current Learning Rate: 3e-05\n",
      "Best model saved at E://Kuliah//UPI//SEMESTER 8//coba coba\\hybrid_mobilenet_vit_SAM_best.pt with val accuracy: 0.6851\n"
     ]
    },
    {
     "name": "stderr",
     "output_type": "stream",
     "text": [
      "Epoch 21/1000: 100%|████████████████████████████████████████| 422/422 [12:17<00:00,  1.75s/it, Loss=0.5048, Acc=0.8195]\n"
     ]
    },
    {
     "name": "stdout",
     "output_type": "stream",
     "text": [
      "Epoch 21/1000: Train Loss: 0.5048, Train Acc: 0.8195\n"
     ]
    },
    {
     "name": "stderr",
     "output_type": "stream",
     "text": [
      "Epoch 21/1000 (Validation): 100%|█████████████████████████████| 47/47 [00:11<00:00,  4.04it/s, Loss=0.9352, Acc=0.6818]\n"
     ]
    },
    {
     "name": "stdout",
     "output_type": "stream",
     "text": [
      "Epoch 21/1000: Val Loss: 0.9352, Val Acc: 0.6818, Val F1: 0.6760\n",
      "Current Learning Rate: 3e-06\n"
     ]
    },
    {
     "name": "stderr",
     "output_type": "stream",
     "text": [
      "Epoch 22/1000: 100%|████████████████████████████████████████| 422/422 [12:33<00:00,  1.78s/it, Loss=0.4281, Acc=0.8512]\n"
     ]
    },
    {
     "name": "stdout",
     "output_type": "stream",
     "text": [
      "Epoch 22/1000: Train Loss: 0.4281, Train Acc: 0.8512\n"
     ]
    },
    {
     "name": "stderr",
     "output_type": "stream",
     "text": [
      "Epoch 22/1000 (Validation): 100%|█████████████████████████████| 47/47 [00:12<00:00,  3.69it/s, Loss=0.9040, Acc=0.6868]\n"
     ]
    },
    {
     "name": "stdout",
     "output_type": "stream",
     "text": [
      "Epoch 22/1000: Val Loss: 0.9040, Val Acc: 0.6868, Val F1: 0.6844\n",
      "Current Learning Rate: 3e-06\n",
      "Best model saved at E://Kuliah//UPI//SEMESTER 8//coba coba\\hybrid_mobilenet_vit_SAM_best.pt with val accuracy: 0.6868\n"
     ]
    },
    {
     "name": "stderr",
     "output_type": "stream",
     "text": [
      "Epoch 23/1000: 100%|████████████████████████████████████████| 422/422 [12:31<00:00,  1.78s/it, Loss=0.4081, Acc=0.8618]\n"
     ]
    },
    {
     "name": "stdout",
     "output_type": "stream",
     "text": [
      "Epoch 23/1000: Train Loss: 0.4081, Train Acc: 0.8618\n"
     ]
    },
    {
     "name": "stderr",
     "output_type": "stream",
     "text": [
      "Epoch 23/1000 (Validation): 100%|█████████████████████████████| 47/47 [00:12<00:00,  3.87it/s, Loss=0.9162, Acc=0.6831]\n"
     ]
    },
    {
     "name": "stdout",
     "output_type": "stream",
     "text": [
      "Epoch 23/1000: Val Loss: 0.9162, Val Acc: 0.6831, Val F1: 0.6812\n",
      "Current Learning Rate: 3e-06\n"
     ]
    },
    {
     "name": "stderr",
     "output_type": "stream",
     "text": [
      "Epoch 24/1000: 100%|████████████████████████████████████████| 422/422 [11:16<00:00,  1.60s/it, Loss=0.3909, Acc=0.8671]\n"
     ]
    },
    {
     "name": "stdout",
     "output_type": "stream",
     "text": [
      "Epoch 24/1000: Train Loss: 0.3909, Train Acc: 0.8671\n"
     ]
    },
    {
     "name": "stderr",
     "output_type": "stream",
     "text": [
      "Epoch 24/1000 (Validation): 100%|█████████████████████████████| 47/47 [00:10<00:00,  4.38it/s, Loss=0.9267, Acc=0.6881]\n"
     ]
    },
    {
     "name": "stdout",
     "output_type": "stream",
     "text": [
      "Epoch 24/1000: Val Loss: 0.9267, Val Acc: 0.6881, Val F1: 0.6855\n",
      "Current Learning Rate: 3e-06\n",
      "Best model saved at E://Kuliah//UPI//SEMESTER 8//coba coba\\hybrid_mobilenet_vit_SAM_best.pt with val accuracy: 0.6881\n"
     ]
    },
    {
     "name": "stderr",
     "output_type": "stream",
     "text": [
      "Epoch 25/1000: 100%|████████████████████████████████████████| 422/422 [10:52<00:00,  1.55s/it, Loss=0.3860, Acc=0.8672]\n"
     ]
    },
    {
     "name": "stdout",
     "output_type": "stream",
     "text": [
      "Epoch 25/1000: Train Loss: 0.3860, Train Acc: 0.8672\n"
     ]
    },
    {
     "name": "stderr",
     "output_type": "stream",
     "text": [
      "Epoch 25/1000 (Validation): 100%|█████████████████████████████| 47/47 [00:10<00:00,  4.56it/s, Loss=0.9221, Acc=0.6871]\n"
     ]
    },
    {
     "name": "stdout",
     "output_type": "stream",
     "text": [
      "Epoch 25/1000: Val Loss: 0.9221, Val Acc: 0.6871, Val F1: 0.6854\n",
      "Current Learning Rate: 3e-06\n",
      "Early stopping triggered at epoch 25!\n"
     ]
    },
    {
     "name": "stderr",
     "output_type": "stream",
     "text": [
      "C:\\Users\\MoKha\\anaconda3\\lib\\site-packages\\torchvision\\models\\_utils.py:208: UserWarning: The parameter 'pretrained' is deprecated since 0.13 and may be removed in the future, please use 'weights' instead.\n",
      "  warnings.warn(\n",
      "C:\\Users\\MoKha\\anaconda3\\lib\\site-packages\\torchvision\\models\\_utils.py:223: UserWarning: Arguments other than a weight enum or `None` for 'weights' are deprecated since 0.13 and may be removed in the future. The current behavior is equivalent to passing `weights=MobileNet_V3_Large_Weights.IMAGENET1K_V1`. You can also use `weights=MobileNet_V3_Large_Weights.DEFAULT` to get the most up-to-date weights.\n",
      "  warnings.warn(msg)\n",
      "C:\\Users\\MoKha\\AppData\\Local\\Temp\\ipykernel_27028\\3028846775.py:653: FutureWarning: You are using `torch.load` with `weights_only=False` (the current default value), which uses the default pickle module implicitly. It is possible to construct malicious pickle data which will execute arbitrary code during unpickling (See https://github.com/pytorch/pytorch/blob/main/SECURITY.md#untrusted-models for more details). In a future release, the default value for `weights_only` will be flipped to `True`. This limits the functions that could be executed during unpickling. Arbitrary objects will no longer be allowed to be loaded via this mode unless they are explicitly allowlisted by the user via `torch.serialization.add_safe_globals`. We recommend you start setting `weights_only=True` for any use case where you don't have full control of the loaded file. Please open an issue on GitHub for any issues related to this experimental feature.\n",
      "  checkpoint = torch.load(\"E://Kuliah//UPI//SEMESTER 8//coba coba//hybrid_mobilenet_vit_SAM_best.pt\")\n",
      "Testing: 100%|████████████████████████████████████████████████| 53/53 [00:13<00:00,  3.96it/s, Loss=0.8583, Acc=0.7124]\n"
     ]
    },
    {
     "name": "stdout",
     "output_type": "stream",
     "text": [
      "Test Loss: 0.8583, Test Acc: 0.7124,Test F1: 0.7081\n",
      "\n",
      "Per-Class Accuracy:\n",
      "Class 0: 0.5852\n",
      "Class 1: 0.5111\n",
      "Class 2: 0.4522\n",
      "Class 3: 0.9060\n",
      "Class 4: 0.6452\n",
      "Class 5: 0.8063\n",
      "Class 6: 0.7630\n",
      "\n",
      "Classification Report:\n",
      "              precision    recall  f1-score   support\n",
      "\n",
      "     Class 0       0.67      0.59      0.62       458\n",
      "     Class 1       0.72      0.51      0.60        45\n",
      "     Class 2       0.61      0.45      0.52       471\n",
      "     Class 3       0.88      0.91      0.89       872\n",
      "     Class 4       0.60      0.65      0.62       575\n",
      "     Class 5       0.80      0.81      0.80       315\n",
      "     Class 6       0.64      0.76      0.69       595\n",
      "\n",
      "    accuracy                           0.71      3331\n",
      "   macro avg       0.70      0.67      0.68      3331\n",
      "weighted avg       0.71      0.71      0.71      3331\n",
      "\n"
     ]
    },
    {
     "data": {
      "image/png": "[encoded data removed]",
      "text/plain": [
       "<Figure size 720x576 with 2 Axes>"
      ]
     },
     "metadata": {
      "needs_background": "light"
     },
     "output_type": "display_data"
    }
   ],
   "source": [
    "import numpy as np\n",
    "import pandas as pd\n",
    "import torch\n",
    "from torch.utils.data import Dataset, DataLoader\n",
    "from torchvision import transforms\n",
    "from PIL import Image\n",
    "import matplotlib.pyplot as plt\n",
    "from sklearn.model_selection import train_test_split\n",
    "from sklearn.metrics import classification_report, confusion_matrix\n",
    "import torch.optim as optim\n",
    "from torch.optim.lr_scheduler import ReduceLROnPlateau\n",
    "import os\n",
    "from tqdm import tqdm\n",
    "from sklearn.metrics import f1_score\n",
    "import random\n",
    "from torch import nn\n",
    "import seaborn as sns\n",
    "import torch.nn.functional as F\n",
    "from torchvision.models import mobilenet_v3_large\n",
    "\n",
    "# Constants\n",
    "SEED = 123\n",
    "IMG_SIZE = 224\n",
    "BATCH_SIZE = 64\n",
    "LEARNING_RATE = 3e-5\n",
    "EPOCHS = 1000\n",
    "NUM_CLASSES = 7\n",
    "DEVICE = torch.device(\"cuda\" if torch.cuda.is_available() else \"cpu\")\n",
    "\n",
    "class FERDataset(Dataset):\n",
    "    def __init__(self, dataframe, transform=None):\n",
    "        self.dataframe = dataframe\n",
    "        self.transform = transform\n",
    "\n",
    "        # Ekstrak label dan piksel\n",
    "        self.labels = self.dataframe['emotion'].values\n",
    "        self.pixels = self.dataframe['pixels'].apply(self.string_to_image).values\n",
    "\n",
    "    def string_to_image(self, pixels_string):\n",
    "        # Konversi string piksel menjadi numpy array dan reshape ke 48x48\n",
    "        pixels = np.array(pixels_string.split(), dtype='float32')\n",
    "        image = pixels.reshape(48, 48)\n",
    "        image = np.expand_dims(image, axis=-1)  # Tambahkan channel dimensi\n",
    "        return image\n",
    "\n",
    "    def __len__(self):\n",
    "        return len(self.dataframe)\n",
    "\n",
    "    def __getitem__(self, idx):\n",
    "        image = self.pixels[idx]\n",
    "        label = self.labels[idx]\n",
    "        \n",
    "        image = Image.fromarray(image.squeeze().astype('uint8'), mode='L')\n",
    "\n",
    "        # Jika ada transformasi, terapkan ke image\n",
    "        if self.transform:\n",
    "            image = self.transform(image)\n",
    "\n",
    "        return image, label\n",
    "    \n",
    "def create_transforms():\n",
    "    # membuat pipeline transform untuk train\n",
    "    train_transforms = transforms.Compose([\n",
    "        transforms.Grayscale(num_output_channels=3),\n",
    "        transforms.Resize((IMG_SIZE, IMG_SIZE)),\n",
    "        transforms.RandomHorizontalFlip(),\n",
    "        transforms.RandomRotation(10),\n",
    "        transforms.RandomResizedCrop( \n",
    "            size=IMG_SIZE,\n",
    "            scale=(0.8, 1.0)\n",
    "        ),\n",
    "        transforms.ColorJitter(brightness=0.2, contrast=0.2),\n",
    "        transforms.ToTensor(),\n",
    "        transforms.RandomErasing(p=0.3, scale=(0.02, 0.1)),\n",
    "        transforms.Normalize(mean=[0.5, 0.5, 0.5], std=[0.5, 0.5, 0.5]),\n",
    "    ]) \n",
    "\n",
    "    # membuat pipeline transform untuk test\n",
    "    test_transforms = transforms.Compose([\n",
    "        transforms.Grayscale(num_output_channels=3),\n",
    "        transforms.Resize((IMG_SIZE, IMG_SIZE)),\n",
    "        transforms.ToTensor(),\n",
    "        transforms.Normalize(mean=[0.5, 0.5, 0.5], std=[0.5, 0.5, 0.5]),\n",
    "    ])\n",
    "    return train_transforms, test_transforms\n",
    "\n",
    "def load_and_split_data(data_path):\n",
    "    data = pd.read_csv(data_path)\n",
    "    data_train, data_test = train_test_split(data, test_size=0.1, stratify=data['emotion'], random_state=SEED)\n",
    "    data_train, data_val = train_test_split(data_train, test_size=0.1, stratify=data_train['emotion'], random_state=SEED)\n",
    "    return data_train, data_val, data_test\n",
    "\n",
    "def create_datasets(data_train, data_val, data_test, train_transforms, test_transforms):\n",
    "    train_dataset = FERDataset(data_train, transform=train_transforms)\n",
    "    val_dataset = FERDataset(data_val, transform=test_transforms)\n",
    "    test_dataset = FERDataset(data_test, transform=test_transforms)\n",
    "    return train_dataset, val_dataset, test_dataset\n",
    "\n",
    "def create_dataloaders(train_dataset, val_dataset, test_dataset):\n",
    "    train_loader = DataLoader(train_dataset, batch_size=BATCH_SIZE, shuffle=True,\n",
    "                             generator=torch.Generator().manual_seed(SEED))\n",
    "    val_loader = DataLoader(val_dataset, batch_size=BATCH_SIZE, shuffle=False, \n",
    "                           generator=torch.Generator().manual_seed(SEED))\n",
    "    test_loader = DataLoader(test_dataset, batch_size=BATCH_SIZE, shuffle=False, \n",
    "                            generator=torch.Generator().manual_seed(SEED))\n",
    "    return train_loader, val_loader, test_loader\n",
    "\n",
    "class SAM(torch.optim.Optimizer):\n",
    "    def __init__(self, params, base_optimizer, rho=0.05, **kwargs):\n",
    "        defaults = dict(rho=rho, **kwargs)\n",
    "        super(SAM, self).__init__(params, defaults)\n",
    "        self.base_optimizer = base_optimizer\n",
    "        self.param_groups = self.base_optimizer.param_groups\n",
    "        for group in self.param_groups:\n",
    "            group.setdefault('rho', rho)\n",
    "\n",
    "    @torch.no_grad()\n",
    "    def first_step(self, zero_grad=False):\n",
    "        grad_norm = self._grad_norm()\n",
    "        for group in self.param_groups:\n",
    "            scale = group[\"rho\"] / (grad_norm + 1e-12) # hitung skalar untuk perturbasi\n",
    "            for p in group[\"params\"]:\n",
    "                if p.grad is None:\n",
    "                    continue\n",
    "                self.state[p][\"old_p\"] = p.data.clone() # menyimpan parameter asli\n",
    "                p.add_(scale * p.grad)  # perturbasi parameter\n",
    "        if zero_grad:\n",
    "            self.zero_grad()\n",
    "\n",
    "    @torch.no_grad()\n",
    "    def second_step(self, zero_grad=False):\n",
    "        for group in self.param_groups:\n",
    "            for p in group[\"params\"]:\n",
    "                if p.grad is None:\n",
    "                    continue\n",
    "                p.data = self.state[p][\"old_p\"]  # kembalikan parameter awal\n",
    "        self.base_optimizer.step()  # update parameter\n",
    "        if zero_grad:\n",
    "            self.zero_grad()\n",
    "\n",
    "    def _grad_norm(self):\n",
    "        norm = torch.norm(\n",
    "            torch.stack([\n",
    "                torch.norm(p.grad) for group in self.param_groups for p in group[\"params\"] if p.grad is not None\n",
    "            ]),\n",
    "            p=2\n",
    "        )\n",
    "        return norm\n",
    "\n",
    "    def step(self, closure=None):\n",
    "        raise NotImplementedError(\"Gunakan first_step() dan second_step().\")\n",
    "\n",
    "class TokenPooling(nn.Module):\n",
    "    def __init__(self, keep_tokens: int, use_weighted: bool = True):\n",
    "        super().__init__()\n",
    "        self.keep_tokens = keep_tokens\n",
    "        self.use_weighted = use_weighted\n",
    "\n",
    "    def forward(self, x: torch.Tensor, significance: torch.Tensor = None) -> torch.Tensor:\n",
    "        B, N_plus_1, D = x.shape\n",
    "        cls_token, tokens = x[:, :1, :], x[:, 1:, :]  # (B, 1, D), (B, N, D)\n",
    "\n",
    "        if self.keep_tokens >= tokens.shape[1]:\n",
    "            return x  # tidak perlu pooling\n",
    "\n",
    "        if not self.use_weighted:\n",
    "            significance = torch.ones(tokens.shape[:2], device=x.device)\n",
    "\n",
    "        # Ambil top-k token berdasarkan skor\n",
    "        topk_scores, topk_indices = torch.topk(significance, self.keep_tokens, dim=1)  # (B, K)\n",
    "\n",
    "        # Ambil token berdasarkan indeks top-k\n",
    "        B_idx = torch.arange(B, device=x.device).unsqueeze(1).expand(-1, self.keep_tokens)  # (B, K)\n",
    "        pooled_tokens = tokens[B_idx, topk_indices]  # (B, K, D)\n",
    "\n",
    "        return torch.cat([cls_token, pooled_tokens], dim=1)  # (B, K+1, D)\n",
    "\n",
    "class MultiheadSelfAttentionBlock(nn.Module):\n",
    "    def __init__(self,\n",
    "                 embedding_dim:int=768,\n",
    "                 num_heads:int=12,\n",
    "                 attn_dropout:float=0.):\n",
    "        super().__init__()\n",
    "        self.multihead_attn = nn.MultiheadAttention(embed_dim=embedding_dim,\n",
    "                                                    num_heads=num_heads,\n",
    "                                                    dropout=attn_dropout,\n",
    "                                                    batch_first=True)\n",
    "        self.attn_weights = None\n",
    "    def forward(self, x):\n",
    "        attn_output, attn_weights = self.multihead_attn(query=x,\n",
    "                                             key=x,\n",
    "                                             value=x,\n",
    "                                             need_weights=True,\n",
    "                                             average_attn_weights=False)\n",
    "        self.attn_weights = attn_weights\n",
    "        return attn_output, attn_weights\n",
    "    \n",
    "class MLPBlock(nn.Module):\n",
    "    def __init__(self,\n",
    "                 embedding_dim:int=768,\n",
    "                 mlp_size:int=3072,\n",
    "                 dropout:float=0.):\n",
    "        super().__init__()\n",
    "        self.mlp = nn.Sequential(\n",
    "            nn.Linear(in_features=embedding_dim,\n",
    "                      out_features=mlp_size),\n",
    "            nn.GELU(),\n",
    "            nn.Dropout(p=dropout),\n",
    "            nn.Linear(in_features=mlp_size,\n",
    "                      out_features=embedding_dim),\n",
    "            nn.Dropout(p=dropout)\n",
    "        )\n",
    "    def forward(self, x):\n",
    "        x = self.mlp(x)\n",
    "        return x\n",
    "\n",
    "class TransformerEncoderBlock(nn.Module):\n",
    "    def __init__(self,\n",
    "                 embedding_dim:int=768,\n",
    "                 num_heads:int=12,\n",
    "                 mlp_size:int=3072,\n",
    "                 mlp_dropout:float=0.,\n",
    "                 attn_dropout:float=0.):\n",
    "        super().__init__()\n",
    "        self.layer_norm1 = nn.LayerNorm(normalized_shape=embedding_dim, eps=1e-6)\n",
    "        \n",
    "        self.msa_block = MultiheadSelfAttentionBlock(embedding_dim=embedding_dim,\n",
    "                                                     num_heads=num_heads,\n",
    "                                                     attn_dropout=attn_dropout)\n",
    "        \n",
    "        self.layer_norm2 = nn.LayerNorm(normalized_shape=embedding_dim, eps=1e-6)\n",
    "        \n",
    "        self.mlp_block =  MLPBlock(embedding_dim=embedding_dim,\n",
    "                                   mlp_size=mlp_size,\n",
    "                                   dropout=mlp_dropout)\n",
    "    def forward(self, x):\n",
    "        x_attn, attn_weights = self.msa_block(self.layer_norm1(x))\n",
    "        x = x_attn + x\n",
    "        \n",
    "        x = self.mlp_block(self.layer_norm2(x)) + x \n",
    "        \n",
    "        return x, attn_weights\n",
    "\n",
    "class ViTMobilenet(nn.Module):\n",
    "    def __init__(self,\n",
    "                 in_channels:int=3,\n",
    "                 img_size:int=224,\n",
    "                 num_transformer_layers:int=12,\n",
    "                 embedding_dim:int=768, \n",
    "                 mlp_size:int=3072,\n",
    "                 num_heads:int=12,\n",
    "                 attn_dropout:float=0., \n",
    "                 mlp_dropout:float=0.,\n",
    "                 embedding_dropout:float=0., \n",
    "                 num_classes:int=1000):\n",
    "        super().__init__()\n",
    "        \n",
    "        # memastikan ukuran gambar dapat diproses\n",
    "        assert img_size % 32 == 0, f\"Image size must be divisible by 32, image size: {img_size}\"\n",
    "        \n",
    "        # inisiasai mobilenetv3 sebagai backbone\n",
    "        self.mobilenet = mobilenet_v3_large(pretrained=True).features\n",
    "        \n",
    "        # proyeksi channel agar dapat diproses oleh encoder\n",
    "        self.projection = nn.Conv2d(in_channels=960, \n",
    "                                    out_channels=embedding_dim,\n",
    "                                    kernel_size=1)\n",
    "        \n",
    "        # inisiasi token CLS\n",
    "        self.class_embedding = nn.Parameter(data=torch.randn(1, 1, embedding_dim),\n",
    "                                            requires_grad=True)\n",
    "\n",
    "        # jumlah patch\n",
    "        self.num_patches = (img_size // 32) ** 2 \n",
    "        \n",
    "        # inisiasi position embedding\n",
    "        self.position_embedding = nn.Parameter(data=torch.randn(1, self.num_patches+1, embedding_dim),\n",
    "                                               requires_grad=True)\n",
    "        \n",
    "        # inisiasi dropout\n",
    "        self.embedding_dropout = nn.Dropout(p=embedding_dropout)\n",
    "        \n",
    "        # inisiasi transformer encoder\n",
    "        self.transformer_encoder = nn.Sequential(*[TransformerEncoderBlock(embedding_dim=embedding_dim,\n",
    "                                                                            num_heads=num_heads,\n",
    "                                                                            mlp_size=mlp_size,\n",
    "                                                                            mlp_dropout=mlp_dropout,\n",
    "                                                                            attn_dropout=attn_dropout) for _ in range(num_transformer_layers)])\n",
    "        \n",
    "        # inisiasi untuk token downsampling\n",
    "        self.keep_tokens = [49, 35, 35, 35, 26, 26, 20, 20, 20, 12, 12, 12] # parameter retention\n",
    "        # Tambahkan Token Downsampling per layer (jumlah token disesuaikan)\n",
    "        self.token_pools = nn.ModuleList([\n",
    "            TokenPooling(keep_tokens=k, use_weighted=True) for k in self.keep_tokens\n",
    "        ])\n",
    "\n",
    "        # inisiasi classification head\n",
    "        self.norm = nn.LayerNorm(normalized_shape=embedding_dim, eps=1e-6)\n",
    "        self.head = nn.Linear(in_features=embedding_dim, out_features=num_classes)\n",
    "    \n",
    "    def forward(self, pixel_values, labels=None):\n",
    "        # ambil batch\n",
    "        batch_size = pixel_values.shape[0]\n",
    "\n",
    "        # ekstraksi fitur menggunakan mobilenetv3\n",
    "        features = self.mobilenet(pixel_values)  # Output shape: (batch_size, 1280, H', W')\n",
    "        features = self.projection(features)  # Project ke embedding_dim: (batch_size, embedding_dim, H', W')\n",
    "\n",
    "        # Flatten fitur map ke  sequence of tokens\n",
    "        features = features.flatten(2).transpose(1, 2)  # Shape: (batch_size, num_patches, embedding_dim)\n",
    "        \n",
    "        class_token = self.class_embedding.expand(batch_size, -1, -1)\n",
    "        # tambahkan token CLS\n",
    "        x = torch.cat((class_token, features), dim=1)  # Shape: (batch_size, num_patches + 1, embedding_dim)\n",
    "\n",
    "        x = x + self.position_embedding\n",
    "\n",
    "        x = self.embedding_dropout(x)\n",
    "        \n",
    "        significance_scores = []\n",
    "\n",
    "        for i, block in enumerate(self.transformer_encoder):\n",
    "            x, attn_weights = block(x) # SHape: (B, num_heads, num_tokens, num_tokens)\n",
    "            \n",
    "            # Hitung significance score: total attention yang diterima setiap token\n",
    "            score = attn_weights.sum(dim=1).sum(dim=1)[:, 1:]  # shape: (B, N-1)\n",
    "            \n",
    "            significance_scores.append(score)\n",
    "            \n",
    "            if self.token_pools[i].keep_tokens > 0:\n",
    "                x = self.token_pools[i](x, significance=score)\n",
    "            else:\n",
    "                x = x[:, :1, :]  # hanya CLS token\n",
    "\n",
    "        x = self.norm(x)\n",
    "        \n",
    "        cls_token_final = x[:, 0]\n",
    "\n",
    "        logits = self.head(cls_token_final)\n",
    "\n",
    "        return logits\n",
    "\n",
    "class EarlyStopping:\n",
    "    def __init__(self, patience=10, min_delta=0):\n",
    "        self.patience = patience\n",
    "        self.min_delta = min_delta\n",
    "        self.best_loss = float('inf')\n",
    "        self.epochs_no_improve = 0\n",
    "        self.early_stop = False\n",
    "\n",
    "    def __call__(self, val_loss):\n",
    "        if val_loss < self.best_loss - self.min_delta:\n",
    "            self.best_loss = val_loss\n",
    "            self.epochs_no_improve = 0\n",
    "        else:\n",
    "            self.epochs_no_improve += 1\n",
    "\n",
    "        if self.epochs_no_improve >= self.patience:\n",
    "            self.early_stop = True\n",
    "\n",
    "        return self.early_stop\n",
    "    \n",
    "    \n",
    "def train_model(model, train_loader, val_loader):\n",
    "    # inisialisasi utilitas pelatihan\n",
    "    base_optimizer = optim.AdamW(model.parameters(), lr=LEARNING_RATE)\n",
    "    optimizer = SAM(model.parameters(), base_optimizer, rho=0.05)\n",
    "    criterion = nn.CrossEntropyLoss()\n",
    "    scheduler = ReduceLROnPlateau(optimizer, mode='min', factor=0.1, patience=5)\n",
    "    early_stopping = EarlyStopping(patience=10, min_delta=0)\n",
    "\n",
    "    # define path untuk menyimpan hasil\n",
    "    SAVE_PATH = \"E://Kuliah//UPI//SEMESTER 8//coba coba\"\n",
    "    os.makedirs(SAVE_PATH, exist_ok=True)\n",
    "\n",
    "    # inisialisasi untuk menyimpan hasil\n",
    "    train_losses = []\n",
    "    val_losses = []\n",
    "    train_accuracies = []\n",
    "    val_accuracies = []\n",
    "\n",
    "    # inisialisasi best model untuk disimpan\n",
    "    best_val_accuracy = -float('inf')\n",
    "\n",
    "    for epoch in range(EPOCHS):\n",
    "        model.train()\n",
    "        train_loss = 0.0\n",
    "        correct = 0\n",
    "        total = 0\n",
    "\n",
    "        # training\n",
    "        pbar = tqdm(train_loader, desc=f\"Epoch {epoch + 1}/{EPOCHS}\")\n",
    "        for batch_idx, (inputs, targets) in enumerate(pbar):\n",
    "            inputs, targets = inputs.to(DEVICE), targets.to(DEVICE)\n",
    "\n",
    "            optimizer.zero_grad()\n",
    "\n",
    "            # forward pass\n",
    "            outputs = model(inputs)\n",
    "            loss = criterion(outputs, targets)\n",
    "\n",
    "            # backward pass dan optimize\n",
    "            loss.backward()\n",
    "            optimizer.first_step(zero_grad=True)\n",
    "\n",
    "            # second forward-backward pass\n",
    "            criterion(model(inputs), targets).backward()\n",
    "            optimizer.second_step(zero_grad=True)  # update weights\n",
    "\n",
    "            # update statistics\n",
    "            train_loss += loss.item()\n",
    "            _, predicted = outputs.max(1)\n",
    "            total += targets.size(0)\n",
    "            correct += predicted.eq(targets).sum().item()\n",
    "\n",
    "            # update progress bar\n",
    "            pbar.set_postfix({\n",
    "                \"Loss\": f\"{train_loss / (batch_idx + 1):.4f}\",\n",
    "                \"Acc\": f\"{correct / total:.4f}\"\n",
    "            })\n",
    "\n",
    "        # kalkulasi training accuracy dan loss\n",
    "        train_accuracy = correct / total\n",
    "        avg_train_loss = train_loss / len(train_loader)\n",
    "        train_losses.append(avg_train_loss)\n",
    "        train_accuracies.append(train_accuracy)\n",
    "\n",
    "        # Print training summary\n",
    "        print(f\"Epoch {epoch + 1}/{EPOCHS}: \"\n",
    "              f\"Train Loss: {avg_train_loss:.4f}, \"\n",
    "              f\"Train Acc: {train_accuracy:.4f}\")\n",
    "\n",
    "        # validation\n",
    "        model.eval()\n",
    "        val_loss = 0.0\n",
    "        val_correct = 0\n",
    "        val_total = 0\n",
    "        all_targets = []\n",
    "        all_predicted = []\n",
    "\n",
    "        with torch.no_grad():  # disable gradient computation\n",
    "            pbar = tqdm(val_loader, desc=f\"Epoch {epoch + 1}/{EPOCHS} (Validation)\")\n",
    "            for batch_idx, (inputs, targets) in enumerate(pbar):\n",
    "                inputs, targets = inputs.to(DEVICE), targets.to(DEVICE)\n",
    "\n",
    "                # Forward pass\n",
    "                outputs = model(inputs)\n",
    "                loss = criterion(outputs, targets)\n",
    "\n",
    "                # Update statistics\n",
    "                val_loss += loss.item()\n",
    "                _, predicted = outputs.max(1)\n",
    "                val_total += targets.size(0)\n",
    "                val_correct += predicted.eq(targets).sum().item()\n",
    "\n",
    "                # kumpulkan semua targets dan predictions untuk F1-score\n",
    "                all_targets.extend(targets.cpu().numpy())\n",
    "                all_predicted.extend(predicted.cpu().numpy())\n",
    "\n",
    "                # Update progress bar\n",
    "                pbar.set_postfix({\n",
    "                    \"Loss\": f\"{val_loss / (batch_idx + 1):.4f}\",\n",
    "                    \"Acc\": f\"{val_correct / val_total:.4f}\"\n",
    "                })\n",
    "\n",
    "        # kalkulasi validation accuracy, loss, dan F1-score\n",
    "        val_accuracy = val_correct / val_total\n",
    "        avg_val_loss = val_loss / len(val_loader)\n",
    "        val_f1 = f1_score(all_targets, all_predicted, average=\"weighted\")\n",
    "        val_losses.append(avg_val_loss)\n",
    "        val_accuracies.append(val_accuracy)\n",
    "\n",
    "        # Print validation summary\n",
    "        print(f\"Epoch {epoch + 1}/{EPOCHS}: \"\n",
    "              f\"Val Loss: {avg_val_loss:.4f}, \"\n",
    "              f\"Val Acc: {val_accuracy:.4f}, \"\n",
    "              f\"Val F1: {val_f1:.4f}\")\n",
    "\n",
    "        # Step learning rate scheduler berdasarkan validation loss\n",
    "        scheduler.step(avg_val_loss)\n",
    "\n",
    "        # Print learning rate saat ini\n",
    "        current_lr = optimizer.param_groups[0]['lr']\n",
    "        print(f\"Current Learning Rate: {current_lr}\")\n",
    "\n",
    "        # simpan model terbaik berdasarkan akurasi validasi\n",
    "        if val_accuracy > best_val_accuracy:\n",
    "            best_val_accuracy = val_accuracy\n",
    "            model_path = os.path.join(SAVE_PATH, \"hybrid_mobilenet_vit_pooling_SAM_best.pt\")\n",
    "            torch.save({\n",
    "                \"model_state_dict\": model.state_dict()\n",
    "            }, model_path)\n",
    "    #         torch.save(model.state_dict(), model_path)\n",
    "            print(f\"Best model saved at {model_path} with val accuracy: {best_val_accuracy:.4f}\")\n",
    "\n",
    "        # Save loss dan accuracy plots\n",
    "        plt.figure(figsize=(10, 5))\n",
    "        plt.plot(range(1, len(train_losses) + 1), train_losses, label=\"Training Loss\", marker='o')\n",
    "        plt.plot(range(1, len(val_losses) + 1), val_losses, label=\"Validation Loss\", marker='o')\n",
    "        plt.title(\"Loss per Epoch\")\n",
    "        plt.xlabel(\"Epoch\")\n",
    "        plt.ylabel(\"Loss\")\n",
    "        plt.legend()\n",
    "        plt.grid(True)\n",
    "        loss_plot_path = os.path.join(SAVE_PATH, \"hybrid_mobilenet_vit_pooling_SAM_loss.png\")\n",
    "        plt.savefig(loss_plot_path)\n",
    "        plt.close()\n",
    "\n",
    "        plt.figure(figsize=(10, 5))\n",
    "        plt.plot(range(1, len(train_accuracies) + 1), train_accuracies, label=\"Training Accuracy\", marker='o')\n",
    "        plt.plot(range(1, len(val_accuracies) + 1), val_accuracies, label=\"Validation Accuracy\", marker='o')\n",
    "        plt.title(\"Accuracy per Epoch\")\n",
    "        plt.xlabel(\"Epoch\")\n",
    "        plt.ylabel(\"Accuracy\")\n",
    "        plt.legend()\n",
    "        plt.grid(True)\n",
    "        accuracy_plot_path = os.path.join(SAVE_PATH, \"hybrid_mobilenet_vit_pooling_SAM_accuracy.png\")\n",
    "        plt.savefig(accuracy_plot_path)\n",
    "        plt.close()\n",
    "        \n",
    "        if early_stopping(avg_val_loss):\n",
    "            print(f\"Early stopping triggered at epoch {epoch + 1}!\")\n",
    "            break\n",
    "\n",
    "def evaluate_model(best_model, test_loader):\n",
    "    criterion = nn.CrossEntropyLoss()\n",
    "    best_model.eval()\n",
    "    test_loss = 0.0\n",
    "    test_correct = 0\n",
    "    test_total = 0\n",
    "    all_targets = []\n",
    "    all_predicted = []\n",
    "\n",
    "    with torch.no_grad():  # Disable gradient computation\n",
    "        pbar = tqdm(test_loader, desc=\"Testing\")\n",
    "        for batch_idx, (inputs, targets) in enumerate(pbar):\n",
    "            inputs, targets = inputs.to(DEVICE), targets.to(DEVICE)\n",
    "\n",
    "            # Forward pass\n",
    "            outputs = best_model(inputs)\n",
    "            loss = criterion(outputs, targets)\n",
    "\n",
    "            # Update statistics\n",
    "            test_loss += loss.item()\n",
    "            _, predicted = outputs.max(1)\n",
    "            test_total += targets.size(0)\n",
    "            test_correct += predicted.eq(targets).sum().item()\n",
    "\n",
    "            # kumpulkan semua targets dan predictions untuk F1-score\n",
    "            all_targets.extend(targets.cpu().numpy())\n",
    "            all_predicted.extend(predicted.cpu().numpy())\n",
    "\n",
    "            # Update progress bar\n",
    "            pbar.set_postfix({\n",
    "                \"Loss\": f\"{test_loss / (batch_idx + 1):.4f}\",\n",
    "                \"Acc\": f\"{test_correct / test_total:.4f}\"\n",
    "            })\n",
    "\n",
    "    # kalkulasi test accuracy, loss, dan F1-score\n",
    "    test_accuracy = test_correct / test_total\n",
    "    avg_test_loss = test_loss / len(test_loader)\n",
    "    test_f1 = f1_score(all_targets, all_predicted, average=\"weighted\")\n",
    "\n",
    "    # kalkulasi per-class accuracy\n",
    "    conf_matrix = confusion_matrix(all_targets, all_predicted)\n",
    "    per_class_accuracy = conf_matrix.diagonal() / conf_matrix.sum(axis=1)\n",
    "\n",
    "    # kalkulasi classification report (termasuk precision, recall, F1-score, dan support)\n",
    "    class_report = classification_report(all_targets, all_predicted, target_names=[f\"Class {i}\" for i in range(NUM_CLASSES)])\n",
    "\n",
    "    # Print test summary\n",
    "    print(f\"Test Loss: {avg_test_loss:.4f}, \"\n",
    "          f\"Test Acc: {test_accuracy:.4f},\"\n",
    "          f\"Test F1: {test_f1:.4f}\")\n",
    "\n",
    "    # Print per-class accuracy\n",
    "    print(\"\\nPer-Class Accuracy:\")\n",
    "    for i, acc in enumerate(per_class_accuracy):\n",
    "        print(f\"Class {i}: {acc:.4f}\")\n",
    "\n",
    "    # Print classification report\n",
    "    print(\"\\nClassification Report:\")\n",
    "    print(class_report)\n",
    "    \n",
    "    normalized_conf_matrix = conf_matrix / conf_matrix.sum(axis=1, keepdims=True)\n",
    "    emotion_dict = {\n",
    "        0: \"Angry\", 1: \"Disgust\", 2: \"Fear\",\n",
    "        3: \"Happy\", 4: \"Neutral\", 5: \"Sad\", 6: \"Surprise\"\n",
    "    }\n",
    "    emotion_labels = [emotion_dict[i] for i in range(len(emotion_dict))]\n",
    "\n",
    "    plt.figure(figsize=(10, 8))\n",
    "    sns.heatmap(normalized_conf_matrix, annot=True, fmt='.2f', cmap='Blues',\n",
    "                xticklabels=emotion_labels,\n",
    "                yticklabels=emotion_labels)\n",
    "    plt.title(\"Confusion Matrix\")\n",
    "    plt.xlabel(\"Predicted Label\")\n",
    "    plt.ylabel(\"True Label\")\n",
    "    plt.tight_layout()\n",
    "    plt.show()\n",
    "\n",
    "def main():\n",
    "    # Set random seeds untuk reproducibility\n",
    "    torch.manual_seed(SEED)\n",
    "    torch.cuda.manual_seed(SEED)\n",
    "    torch.cuda.manual_seed_all(SEED)\n",
    "    random.seed(SEED)\n",
    "    np.random.seed(SEED)\n",
    "    torch.backends.cudnn.deterministic = True\n",
    "    torch.backends.cudnn.benchmark = False\n",
    "\n",
    "    print(f\"Using device: {DEVICE}\")\n",
    "    print(f\"PyTorch version: {torch.__version__}\")\n",
    "\n",
    "    # Data preparation\n",
    "    train_transforms, test_transforms = create_transforms()\n",
    "    data_train, data_val, data_test = load_and_split_data(\"E://Kuliah//UPI//SEMESTER 8//dataset skripsi//fer2013v2_clean.csv\")\n",
    "    train_dataset, val_dataset, test_dataset = create_datasets(data_train, data_val, data_test, train_transforms, test_transforms)\n",
    "    \n",
    "    train_loader, val_loader, test_loader = create_dataloaders(train_dataset, val_dataset, test_dataset)\n",
    "\n",
    "    class_names = ['Angry', 'Disgust', 'Fear', 'Happy', 'Sad', 'Surprise', 'Neutral']\n",
    "\n",
    "    # inisialisasi model\n",
    "    model = ViTMobilenet(num_classes=len(class_names), \n",
    "                in_channels=3, \n",
    "                num_heads=12, \n",
    "                embedding_dim=768, \n",
    "                num_transformer_layers=12,\n",
    "                mlp_size=3072)\n",
    "    model.to(DEVICE)\n",
    "    \n",
    "    train_model(model, train_loader, val_loader)\n",
    "    \n",
    "    # load model untuk test\n",
    "    best_model = ViTMobilenet(num_classes=len(class_names), \n",
    "                     in_channels=3,  \n",
    "                     num_heads=12, \n",
    "                     embedding_dim=768, \n",
    "                     num_transformer_layers=12,\n",
    "                     mlp_size=3072)\n",
    "    best_model = best_model.to(DEVICE)\n",
    "    \n",
    "    checkpoint = torch.load(\"E://Kuliah//UPI//SEMESTER 8//coba coba//hybrid_mobilenet_vit_pooling_SAM_best.pt\")\n",
    "    best_model.load_state_dict(checkpoint[\"model_state_dict\"])\n",
    "    \n",
    "    evaluate_model(best_model, test_loader)\n",
    "\n",
    "if __name__ == \"__main__\":\n",
    "    main()"
   ]
  },
  {
   "cell_type": "code",
   "execution_count": null,
   "id": "e0f93fac",
   "metadata": {},
   "outputs": [],
   "source": []
  }
 ],
 "metadata": {
  "kernelspec": {
   "display_name": "Python 3 (ipykernel)",
   "language": "python",
   "name": "python3"
  },
  "language_info": {
   "codemirror_mode": {
    "name": "ipython",
    "version": 3
   },
   "file_extension": ".py",
   "mimetype": "text/x-python",
   "name": "python",
   "nbconvert_exporter": "python",
   "pygments_lexer": "ipython3",
   "version": "3.9.12"
  }
 },
 "nbformat": 4,
 "nbformat_minor": 5
}

{
 "cells": [
  {
   "cell_type": "code",
   "execution_count": 1,
   "id": "57771606",
   "metadata": {
    "scrolled": false
   },
   "outputs": [
    {
     "name": "stderr",
     "output_type": "stream",
     "text": [
      "C:\\Users\\MoKha\\anaconda3\\lib\\site-packages\\pandas\\core\\computation\\expressions.py:21: UserWarning: Pandas requires version '2.8.4' or newer of 'numexpr' (version '2.8.1' currently installed).\n",
      "  from pandas.core.computation.check import NUMEXPR_INSTALLED\n",
      "C:\\Users\\MoKha\\anaconda3\\lib\\site-packages\\pandas\\core\\arrays\\masked.py:60: UserWarning: Pandas requires version '1.3.6' or newer of 'bottleneck' (version '1.3.4' currently installed).\n",
      "  from pandas.core import (\n"
     ]
    },
    {
     "name": "stdout",
     "output_type": "stream",
     "text": [
      "Using device: cuda\n",
      "PyTorch version: 2.5.0+cu124\n"
     ]
    },
    {
     "name": "stderr",
     "output_type": "stream",
     "text": [
      "C:\\Users\\MoKha\\anaconda3\\lib\\site-packages\\torchvision\\models\\_utils.py:208: UserWarning: The parameter 'pretrained' is deprecated since 0.13 and may be removed in the future, please use 'weights' instead.\n",
      "  warnings.warn(\n",
      "C:\\Users\\MoKha\\anaconda3\\lib\\site-packages\\torchvision\\models\\_utils.py:223: UserWarning: Arguments other than a weight enum or `None` for 'weights' are deprecated since 0.13 and may be removed in the future. The current behavior is equivalent to passing `weights=MobileNet_V3_Large_Weights.IMAGENET1K_V1`. You can also use `weights=MobileNet_V3_Large_Weights.DEFAULT` to get the most up-to-date weights.\n",
      "  warnings.warn(msg)\n"
     ]
    },
    {
     "name": "stdout",
     "output_type": "stream",
     "text": [
      "Freeze semua\n"
     ]
    },
    {
     "name": "stderr",
     "output_type": "stream",
     "text": [
      "Epoch 1/1000: 100%|█████████████████████████████████████████| 422/422 [03:33<00:00,  1.98it/s, Loss=1.5652, Acc=0.3862]\n"
     ]
    },
    {
     "name": "stdout",
     "output_type": "stream",
     "text": [
      "Epoch 1/1000: Train Loss: 1.5652, Train Acc: 0.3862\n"
     ]
    },
    {
     "name": "stderr",
     "output_type": "stream",
     "text": [
      "Epoch 1/1000 (Validation): 100%|██████████████████████████████| 47/47 [00:09<00:00,  5.20it/s, Loss=1.4600, Acc=0.4363]\n"
     ]
    },
    {
     "name": "stdout",
     "output_type": "stream",
     "text": [
      "Epoch 1/1000: Val Loss: 1.4600, Val Acc: 0.4363, Val F1: 0.3642\n",
      "Current Learning Rate: 3e-05\n",
      "Best model saved at E://Kuliah//UPI//SEMESTER 8//coba coba//freeze\\hybrid_mobilenet_vit_freeze0_best.pt with val accuracy: 0.4363\n"
     ]
    },
    {
     "name": "stderr",
     "output_type": "stream",
     "text": [
      "Epoch 2/1000: 100%|█████████████████████████████████████████| 422/422 [04:08<00:00,  1.70it/s, Loss=1.3532, Acc=0.4786]\n"
     ]
    },
    {
     "name": "stdout",
     "output_type": "stream",
     "text": [
      "Epoch 2/1000: Train Loss: 1.3532, Train Acc: 0.4786\n"
     ]
    },
    {
     "name": "stderr",
     "output_type": "stream",
     "text": [
      "Epoch 2/1000 (Validation): 100%|██████████████████████████████| 47/47 [00:10<00:00,  4.69it/s, Loss=1.2498, Acc=0.5310]\n"
     ]
    },
    {
     "name": "stdout",
     "output_type": "stream",
     "text": [
      "Epoch 2/1000: Val Loss: 1.2498, Val Acc: 0.5310, Val F1: 0.5223\n",
      "Current Learning Rate: 3e-05\n",
      "Best model saved at E://Kuliah//UPI//SEMESTER 8//coba coba//freeze\\hybrid_mobilenet_vit_freeze0_best.pt with val accuracy: 0.5310\n"
     ]
    },
    {
     "name": "stderr",
     "output_type": "stream",
     "text": [
      "Epoch 3/1000: 100%|█████████████████████████████████████████| 422/422 [04:18<00:00,  1.63it/s, Loss=1.2823, Acc=0.5101]\n"
     ]
    },
    {
     "name": "stdout",
     "output_type": "stream",
     "text": [
      "Epoch 3/1000: Train Loss: 1.2823, Train Acc: 0.5101\n"
     ]
    },
    {
     "name": "stderr",
     "output_type": "stream",
     "text": [
      "Epoch 3/1000 (Validation): 100%|██████████████████████████████| 47/47 [00:10<00:00,  4.41it/s, Loss=1.2172, Acc=0.5350]\n"
     ]
    },
    {
     "name": "stdout",
     "output_type": "stream",
     "text": [
      "Epoch 3/1000: Val Loss: 1.2172, Val Acc: 0.5350, Val F1: 0.5135\n",
      "Current Learning Rate: 3e-05\n",
      "Best model saved at E://Kuliah//UPI//SEMESTER 8//coba coba//freeze\\hybrid_mobilenet_vit_freeze0_best.pt with val accuracy: 0.5350\n"
     ]
    },
    {
     "name": "stderr",
     "output_type": "stream",
     "text": [
      "Epoch 4/1000: 100%|█████████████████████████████████████████| 422/422 [04:23<00:00,  1.60it/s, Loss=1.2461, Acc=0.5228]\n"
     ]
    },
    {
     "name": "stdout",
     "output_type": "stream",
     "text": [
      "Epoch 4/1000: Train Loss: 1.2461, Train Acc: 0.5228\n"
     ]
    },
    {
     "name": "stderr",
     "output_type": "stream",
     "text": [
      "Epoch 4/1000 (Validation): 100%|██████████████████████████████| 47/47 [00:10<00:00,  4.28it/s, Loss=1.1818, Acc=0.5547]\n"
     ]
    },
    {
     "name": "stdout",
     "output_type": "stream",
     "text": [
      "Epoch 4/1000: Val Loss: 1.1818, Val Acc: 0.5547, Val F1: 0.5396\n",
      "Current Learning Rate: 3e-05\n",
      "Best model saved at E://Kuliah//UPI//SEMESTER 8//coba coba//freeze\\hybrid_mobilenet_vit_freeze0_best.pt with val accuracy: 0.5547\n"
     ]
    },
    {
     "name": "stderr",
     "output_type": "stream",
     "text": [
      "Epoch 5/1000: 100%|█████████████████████████████████████████| 422/422 [04:21<00:00,  1.61it/s, Loss=1.2080, Acc=0.5388]\n"
     ]
    },
    {
     "name": "stdout",
     "output_type": "stream",
     "text": [
      "Epoch 5/1000: Train Loss: 1.2080, Train Acc: 0.5388\n"
     ]
    },
    {
     "name": "stderr",
     "output_type": "stream",
     "text": [
      "Epoch 5/1000 (Validation): 100%|██████████████████████████████| 47/47 [00:10<00:00,  4.52it/s, Loss=1.1698, Acc=0.5597]\n"
     ]
    },
    {
     "name": "stdout",
     "output_type": "stream",
     "text": [
      "Epoch 5/1000: Val Loss: 1.1698, Val Acc: 0.5597, Val F1: 0.5447\n",
      "Current Learning Rate: 3e-05\n",
      "Best model saved at E://Kuliah//UPI//SEMESTER 8//coba coba//freeze\\hybrid_mobilenet_vit_freeze0_best.pt with val accuracy: 0.5597\n"
     ]
    },
    {
     "name": "stderr",
     "output_type": "stream",
     "text": [
      "Epoch 6/1000: 100%|█████████████████████████████████████████| 422/422 [04:21<00:00,  1.61it/s, Loss=1.1872, Acc=0.5465]\n"
     ]
    },
    {
     "name": "stdout",
     "output_type": "stream",
     "text": [
      "Epoch 6/1000: Train Loss: 1.1872, Train Acc: 0.5465\n"
     ]
    },
    {
     "name": "stderr",
     "output_type": "stream",
     "text": [
      "Epoch 6/1000 (Validation): 100%|██████████████████████████████| 47/47 [00:10<00:00,  4.38it/s, Loss=1.1943, Acc=0.5540]\n"
     ]
    },
    {
     "name": "stdout",
     "output_type": "stream",
     "text": [
      "Epoch 6/1000: Val Loss: 1.1943, Val Acc: 0.5540, Val F1: 0.5332\n",
      "Current Learning Rate: 3e-05\n"
     ]
    },
    {
     "name": "stderr",
     "output_type": "stream",
     "text": [
      "Epoch 7/1000: 100%|█████████████████████████████████████████| 422/422 [04:21<00:00,  1.61it/s, Loss=1.1598, Acc=0.5538]\n"
     ]
    },
    {
     "name": "stdout",
     "output_type": "stream",
     "text": [
      "Epoch 7/1000: Train Loss: 1.1598, Train Acc: 0.5538\n"
     ]
    },
    {
     "name": "stderr",
     "output_type": "stream",
     "text": [
      "Epoch 7/1000 (Validation): 100%|██████████████████████████████| 47/47 [00:11<00:00,  4.27it/s, Loss=1.1322, Acc=0.5744]\n"
     ]
    },
    {
     "name": "stdout",
     "output_type": "stream",
     "text": [
      "Epoch 7/1000: Val Loss: 1.1322, Val Acc: 0.5744, Val F1: 0.5548\n",
      "Current Learning Rate: 3e-05\n",
      "Best model saved at E://Kuliah//UPI//SEMESTER 8//coba coba//freeze\\hybrid_mobilenet_vit_freeze0_best.pt with val accuracy: 0.5744\n"
     ]
    },
    {
     "name": "stderr",
     "output_type": "stream",
     "text": [
      "Epoch 8/1000: 100%|█████████████████████████████████████████| 422/422 [04:21<00:00,  1.62it/s, Loss=1.1515, Acc=0.5609]\n"
     ]
    },
    {
     "name": "stdout",
     "output_type": "stream",
     "text": [
      "Epoch 8/1000: Train Loss: 1.1515, Train Acc: 0.5609\n"
     ]
    },
    {
     "name": "stderr",
     "output_type": "stream",
     "text": [
      "Epoch 8/1000 (Validation): 100%|██████████████████████████████| 47/47 [00:10<00:00,  4.53it/s, Loss=1.1582, Acc=0.5624]\n"
     ]
    },
    {
     "name": "stdout",
     "output_type": "stream",
     "text": [
      "Epoch 8/1000: Val Loss: 1.1582, Val Acc: 0.5624, Val F1: 0.5528\n",
      "Current Learning Rate: 3e-05\n"
     ]
    },
    {
     "name": "stderr",
     "output_type": "stream",
     "text": [
      "Epoch 9/1000: 100%|█████████████████████████████████████████| 422/422 [05:09<00:00,  1.36it/s, Loss=1.1247, Acc=0.5677]\n"
     ]
    },
    {
     "name": "stdout",
     "output_type": "stream",
     "text": [
      "Epoch 9/1000: Train Loss: 1.1247, Train Acc: 0.5677\n"
     ]
    },
    {
     "name": "stderr",
     "output_type": "stream",
     "text": [
      "Epoch 9/1000 (Validation): 100%|██████████████████████████████| 47/47 [00:08<00:00,  5.49it/s, Loss=1.1406, Acc=0.5771]\n"
     ]
    },
    {
     "name": "stdout",
     "output_type": "stream",
     "text": [
      "Epoch 9/1000: Val Loss: 1.1406, Val Acc: 0.5771, Val F1: 0.5776\n",
      "Current Learning Rate: 3e-05\n",
      "Best model saved at E://Kuliah//UPI//SEMESTER 8//coba coba//freeze\\hybrid_mobilenet_vit_freeze0_best.pt with val accuracy: 0.5771\n"
     ]
    },
    {
     "name": "stderr",
     "output_type": "stream",
     "text": [
      "Epoch 10/1000: 100%|████████████████████████████████████████| 422/422 [04:26<00:00,  1.58it/s, Loss=1.1113, Acc=0.5747]\n"
     ]
    },
    {
     "name": "stdout",
     "output_type": "stream",
     "text": [
      "Epoch 10/1000: Train Loss: 1.1113, Train Acc: 0.5747\n"
     ]
    },
    {
     "name": "stderr",
     "output_type": "stream",
     "text": [
      "Epoch 10/1000 (Validation): 100%|█████████████████████████████| 47/47 [00:10<00:00,  4.49it/s, Loss=1.1180, Acc=0.5897]\n"
     ]
    },
    {
     "name": "stdout",
     "output_type": "stream",
     "text": [
      "Epoch 10/1000: Val Loss: 1.1180, Val Acc: 0.5897, Val F1: 0.5736\n",
      "Current Learning Rate: 3e-05\n",
      "Best model saved at E://Kuliah//UPI//SEMESTER 8//coba coba//freeze\\hybrid_mobilenet_vit_freeze0_best.pt with val accuracy: 0.5897\n"
     ]
    },
    {
     "name": "stderr",
     "output_type": "stream",
     "text": [
      "Epoch 11/1000: 100%|████████████████████████████████████████| 422/422 [04:38<00:00,  1.51it/s, Loss=1.0989, Acc=0.5793]\n"
     ]
    },
    {
     "name": "stdout",
     "output_type": "stream",
     "text": [
      "Epoch 11/1000: Train Loss: 1.0989, Train Acc: 0.5793\n"
     ]
    },
    {
     "name": "stderr",
     "output_type": "stream",
     "text": [
      "Epoch 11/1000 (Validation): 100%|█████████████████████████████| 47/47 [00:11<00:00,  4.17it/s, Loss=1.0982, Acc=0.5857]\n"
     ]
    },
    {
     "name": "stdout",
     "output_type": "stream",
     "text": [
      "Epoch 11/1000: Val Loss: 1.0982, Val Acc: 0.5857, Val F1: 0.5747\n",
      "Current Learning Rate: 3e-05\n"
     ]
    },
    {
     "name": "stderr",
     "output_type": "stream",
     "text": [
      "Epoch 12/1000: 100%|████████████████████████████████████████| 422/422 [04:47<00:00,  1.47it/s, Loss=1.0795, Acc=0.5856]\n"
     ]
    },
    {
     "name": "stdout",
     "output_type": "stream",
     "text": [
      "Epoch 12/1000: Train Loss: 1.0795, Train Acc: 0.5856\n"
     ]
    },
    {
     "name": "stderr",
     "output_type": "stream",
     "text": [
      "Epoch 12/1000 (Validation): 100%|█████████████████████████████| 47/47 [00:11<00:00,  4.03it/s, Loss=1.0906, Acc=0.5944]\n"
     ]
    },
    {
     "name": "stdout",
     "output_type": "stream",
     "text": [
      "Epoch 12/1000: Val Loss: 1.0906, Val Acc: 0.5944, Val F1: 0.5834\n",
      "Current Learning Rate: 3e-05\n",
      "Best model saved at E://Kuliah//UPI//SEMESTER 8//coba coba//freeze\\hybrid_mobilenet_vit_freeze0_best.pt with val accuracy: 0.5944\n"
     ]
    },
    {
     "name": "stderr",
     "output_type": "stream",
     "text": [
      "Epoch 13/1000: 100%|████████████████████████████████████████| 422/422 [04:47<00:00,  1.47it/s, Loss=1.0736, Acc=0.5931]\n"
     ]
    },
    {
     "name": "stdout",
     "output_type": "stream",
     "text": [
      "Epoch 13/1000: Train Loss: 1.0736, Train Acc: 0.5931\n"
     ]
    },
    {
     "name": "stderr",
     "output_type": "stream",
     "text": [
      "Epoch 13/1000 (Validation): 100%|█████████████████████████████| 47/47 [00:11<00:00,  3.99it/s, Loss=1.1001, Acc=0.5937]\n"
     ]
    },
    {
     "name": "stdout",
     "output_type": "stream",
     "text": [
      "Epoch 13/1000: Val Loss: 1.1001, Val Acc: 0.5937, Val F1: 0.5786\n",
      "Current Learning Rate: 3e-05\n"
     ]
    },
    {
     "name": "stderr",
     "output_type": "stream",
     "text": [
      "Epoch 14/1000: 100%|████████████████████████████████████████| 422/422 [04:51<00:00,  1.45it/s, Loss=1.0590, Acc=0.5962]\n"
     ]
    },
    {
     "name": "stdout",
     "output_type": "stream",
     "text": [
      "Epoch 14/1000: Train Loss: 1.0590, Train Acc: 0.5962\n"
     ]
    },
    {
     "name": "stderr",
     "output_type": "stream",
     "text": [
      "Epoch 14/1000 (Validation): 100%|█████████████████████████████| 47/47 [00:11<00:00,  3.95it/s, Loss=1.0803, Acc=0.5911]\n"
     ]
    },
    {
     "name": "stdout",
     "output_type": "stream",
     "text": [
      "Epoch 14/1000: Val Loss: 1.0803, Val Acc: 0.5911, Val F1: 0.5844\n",
      "Current Learning Rate: 3e-05\n"
     ]
    },
    {
     "name": "stderr",
     "output_type": "stream",
     "text": [
      "Epoch 15/1000: 100%|████████████████████████████████████████| 422/422 [04:57<00:00,  1.42it/s, Loss=1.0362, Acc=0.6079]\n"
     ]
    },
    {
     "name": "stdout",
     "output_type": "stream",
     "text": [
      "Epoch 15/1000: Train Loss: 1.0362, Train Acc: 0.6079\n"
     ]
    },
    {
     "name": "stderr",
     "output_type": "stream",
     "text": [
      "Epoch 15/1000 (Validation): 100%|█████████████████████████████| 47/47 [00:12<00:00,  3.82it/s, Loss=1.0796, Acc=0.5921]\n"
     ]
    },
    {
     "name": "stdout",
     "output_type": "stream",
     "text": [
      "Epoch 15/1000: Val Loss: 1.0796, Val Acc: 0.5921, Val F1: 0.5705\n",
      "Current Learning Rate: 3e-05\n"
     ]
    },
    {
     "name": "stderr",
     "output_type": "stream",
     "text": [
      "Epoch 16/1000: 100%|████████████████████████████████████████| 422/422 [04:59<00:00,  1.41it/s, Loss=1.0265, Acc=0.6115]\n"
     ]
    },
    {
     "name": "stdout",
     "output_type": "stream",
     "text": [
      "Epoch 16/1000: Train Loss: 1.0265, Train Acc: 0.6115\n"
     ]
    },
    {
     "name": "stderr",
     "output_type": "stream",
     "text": [
      "Epoch 16/1000 (Validation): 100%|█████████████████████████████| 47/47 [00:11<00:00,  3.94it/s, Loss=1.0878, Acc=0.5901]\n"
     ]
    },
    {
     "name": "stdout",
     "output_type": "stream",
     "text": [
      "Epoch 16/1000: Val Loss: 1.0878, Val Acc: 0.5901, Val F1: 0.5724\n",
      "Current Learning Rate: 3e-05\n"
     ]
    },
    {
     "name": "stderr",
     "output_type": "stream",
     "text": [
      "Epoch 17/1000: 100%|████████████████████████████████████████| 422/422 [05:01<00:00,  1.40it/s, Loss=1.0123, Acc=0.6114]\n"
     ]
    },
    {
     "name": "stdout",
     "output_type": "stream",
     "text": [
      "Epoch 17/1000: Train Loss: 1.0123, Train Acc: 0.6114\n"
     ]
    },
    {
     "name": "stderr",
     "output_type": "stream",
     "text": [
      "Epoch 17/1000 (Validation): 100%|█████████████████████████████| 47/47 [00:11<00:00,  3.95it/s, Loss=1.0612, Acc=0.6021]\n"
     ]
    },
    {
     "name": "stdout",
     "output_type": "stream",
     "text": [
      "Epoch 17/1000: Val Loss: 1.0612, Val Acc: 0.6021, Val F1: 0.5888\n",
      "Current Learning Rate: 3e-05\n",
      "Best model saved at E://Kuliah//UPI//SEMESTER 8//coba coba//freeze\\hybrid_mobilenet_vit_freeze0_best.pt with val accuracy: 0.6021\n"
     ]
    },
    {
     "name": "stderr",
     "output_type": "stream",
     "text": [
      "Epoch 18/1000: 100%|████████████████████████████████████████| 422/422 [05:05<00:00,  1.38it/s, Loss=0.9961, Acc=0.6216]\n"
     ]
    },
    {
     "name": "stdout",
     "output_type": "stream",
     "text": [
      "Epoch 18/1000: Train Loss: 0.9961, Train Acc: 0.6216\n"
     ]
    },
    {
     "name": "stderr",
     "output_type": "stream",
     "text": [
      "Epoch 18/1000 (Validation): 100%|█████████████████████████████| 47/47 [00:11<00:00,  4.17it/s, Loss=1.0737, Acc=0.6021]\n"
     ]
    },
    {
     "name": "stdout",
     "output_type": "stream",
     "text": [
      "Epoch 18/1000: Val Loss: 1.0737, Val Acc: 0.6021, Val F1: 0.5940\n",
      "Current Learning Rate: 3e-05\n"
     ]
    },
    {
     "name": "stderr",
     "output_type": "stream",
     "text": [
      "Epoch 19/1000: 100%|████████████████████████████████████████| 422/422 [05:09<00:00,  1.37it/s, Loss=0.9818, Acc=0.6275]\n"
     ]
    },
    {
     "name": "stdout",
     "output_type": "stream",
     "text": [
      "Epoch 19/1000: Train Loss: 0.9818, Train Acc: 0.6275\n"
     ]
    },
    {
     "name": "stderr",
     "output_type": "stream",
     "text": [
      "Epoch 19/1000 (Validation): 100%|█████████████████████████████| 47/47 [00:12<00:00,  3.86it/s, Loss=1.0737, Acc=0.5994]\n"
     ]
    },
    {
     "name": "stdout",
     "output_type": "stream",
     "text": [
      "Epoch 19/1000: Val Loss: 1.0737, Val Acc: 0.5994, Val F1: 0.5903\n",
      "Current Learning Rate: 3e-05\n"
     ]
    },
    {
     "name": "stderr",
     "output_type": "stream",
     "text": [
      "Epoch 20/1000: 100%|████████████████████████████████████████| 422/422 [05:07<00:00,  1.37it/s, Loss=0.9656, Acc=0.6345]\n"
     ]
    },
    {
     "name": "stdout",
     "output_type": "stream",
     "text": [
      "Epoch 20/1000: Train Loss: 0.9656, Train Acc: 0.6345\n"
     ]
    },
    {
     "name": "stderr",
     "output_type": "stream",
     "text": [
      "Epoch 20/1000 (Validation): 100%|█████████████████████████████| 47/47 [00:12<00:00,  3.89it/s, Loss=1.0541, Acc=0.6091]\n"
     ]
    },
    {
     "name": "stdout",
     "output_type": "stream",
     "text": [
      "Epoch 20/1000: Val Loss: 1.0541, Val Acc: 0.6091, Val F1: 0.6038\n",
      "Current Learning Rate: 3e-05\n",
      "Best model saved at E://Kuliah//UPI//SEMESTER 8//coba coba//freeze\\hybrid_mobilenet_vit_freeze0_best.pt with val accuracy: 0.6091\n"
     ]
    },
    {
     "name": "stderr",
     "output_type": "stream",
     "text": [
      "Epoch 21/1000: 100%|████████████████████████████████████████| 422/422 [05:08<00:00,  1.37it/s, Loss=0.9581, Acc=0.6368]\n"
     ]
    },
    {
     "name": "stdout",
     "output_type": "stream",
     "text": [
      "Epoch 21/1000: Train Loss: 0.9581, Train Acc: 0.6368\n"
     ]
    },
    {
     "name": "stderr",
     "output_type": "stream",
     "text": [
      "Epoch 21/1000 (Validation): 100%|█████████████████████████████| 47/47 [00:11<00:00,  3.95it/s, Loss=1.0457, Acc=0.6047]\n"
     ]
    },
    {
     "name": "stdout",
     "output_type": "stream",
     "text": [
      "Epoch 21/1000: Val Loss: 1.0457, Val Acc: 0.6047, Val F1: 0.5973\n",
      "Current Learning Rate: 3e-05\n"
     ]
    },
    {
     "name": "stderr",
     "output_type": "stream",
     "text": [
      "Epoch 22/1000: 100%|████████████████████████████████████████| 422/422 [05:08<00:00,  1.37it/s, Loss=0.9446, Acc=0.6407]\n"
     ]
    },
    {
     "name": "stdout",
     "output_type": "stream",
     "text": [
      "Epoch 22/1000: Train Loss: 0.9446, Train Acc: 0.6407\n"
     ]
    },
    {
     "name": "stderr",
     "output_type": "stream",
     "text": [
      "Epoch 22/1000 (Validation): 100%|█████████████████████████████| 47/47 [00:11<00:00,  3.95it/s, Loss=1.0510, Acc=0.6137]\n"
     ]
    },
    {
     "name": "stdout",
     "output_type": "stream",
     "text": [
      "Epoch 22/1000: Val Loss: 1.0510, Val Acc: 0.6137, Val F1: 0.6044\n",
      "Current Learning Rate: 3e-05\n",
      "Best model saved at E://Kuliah//UPI//SEMESTER 8//coba coba//freeze\\hybrid_mobilenet_vit_freeze0_best.pt with val accuracy: 0.6137\n"
     ]
    },
    {
     "name": "stderr",
     "output_type": "stream",
     "text": [
      "Epoch 23/1000: 100%|████████████████████████████████████████| 422/422 [05:06<00:00,  1.38it/s, Loss=0.9329, Acc=0.6463]\n"
     ]
    },
    {
     "name": "stdout",
     "output_type": "stream",
     "text": [
      "Epoch 23/1000: Train Loss: 0.9329, Train Acc: 0.6463\n"
     ]
    },
    {
     "name": "stderr",
     "output_type": "stream",
     "text": [
      "Epoch 23/1000 (Validation): 100%|█████████████████████████████| 47/47 [00:12<00:00,  3.83it/s, Loss=1.0493, Acc=0.6061]\n"
     ]
    },
    {
     "name": "stdout",
     "output_type": "stream",
     "text": [
      "Epoch 23/1000: Val Loss: 1.0493, Val Acc: 0.6061, Val F1: 0.5956\n",
      "Current Learning Rate: 3e-05\n"
     ]
    },
    {
     "name": "stderr",
     "output_type": "stream",
     "text": [
      "Epoch 24/1000: 100%|████████████████████████████████████████| 422/422 [05:06<00:00,  1.38it/s, Loss=0.9198, Acc=0.6493]\n"
     ]
    },
    {
     "name": "stdout",
     "output_type": "stream",
     "text": [
      "Epoch 24/1000: Train Loss: 0.9198, Train Acc: 0.6493\n"
     ]
    },
    {
     "name": "stderr",
     "output_type": "stream",
     "text": [
      "Epoch 24/1000 (Validation): 100%|█████████████████████████████| 47/47 [00:12<00:00,  3.70it/s, Loss=1.0990, Acc=0.5991]\n"
     ]
    },
    {
     "name": "stdout",
     "output_type": "stream",
     "text": [
      "Epoch 24/1000: Val Loss: 1.0990, Val Acc: 0.5991, Val F1: 0.5801\n",
      "Current Learning Rate: 3e-05\n"
     ]
    },
    {
     "name": "stderr",
     "output_type": "stream",
     "text": [
      "Epoch 25/1000: 100%|████████████████████████████████████████| 422/422 [05:07<00:00,  1.37it/s, Loss=0.8980, Acc=0.6562]\n"
     ]
    },
    {
     "name": "stdout",
     "output_type": "stream",
     "text": [
      "Epoch 25/1000: Train Loss: 0.8980, Train Acc: 0.6562\n"
     ]
    },
    {
     "name": "stderr",
     "output_type": "stream",
     "text": [
      "Epoch 25/1000 (Validation): 100%|█████████████████████████████| 47/47 [00:12<00:00,  3.90it/s, Loss=1.0519, Acc=0.6101]\n"
     ]
    },
    {
     "name": "stdout",
     "output_type": "stream",
     "text": [
      "Epoch 25/1000: Val Loss: 1.0519, Val Acc: 0.6101, Val F1: 0.5981\n",
      "Current Learning Rate: 3e-05\n"
     ]
    },
    {
     "name": "stderr",
     "output_type": "stream",
     "text": [
      "Epoch 26/1000: 100%|████████████████████████████████████████| 422/422 [05:12<00:00,  1.35it/s, Loss=0.8909, Acc=0.6598]\n"
     ]
    },
    {
     "name": "stdout",
     "output_type": "stream",
     "text": [
      "Epoch 26/1000: Train Loss: 0.8909, Train Acc: 0.6598\n"
     ]
    },
    {
     "name": "stderr",
     "output_type": "stream",
     "text": [
      "Epoch 26/1000 (Validation): 100%|█████████████████████████████| 47/47 [00:12<00:00,  3.91it/s, Loss=1.0886, Acc=0.6101]\n"
     ]
    },
    {
     "name": "stdout",
     "output_type": "stream",
     "text": [
      "Epoch 26/1000: Val Loss: 1.0886, Val Acc: 0.6101, Val F1: 0.5937\n",
      "Current Learning Rate: 3e-05\n"
     ]
    },
    {
     "name": "stderr",
     "output_type": "stream",
     "text": [
      "Epoch 27/1000: 100%|████████████████████████████████████████| 422/422 [05:11<00:00,  1.36it/s, Loss=0.8748, Acc=0.6682]\n"
     ]
    },
    {
     "name": "stdout",
     "output_type": "stream",
     "text": [
      "Epoch 27/1000: Train Loss: 0.8748, Train Acc: 0.6682\n"
     ]
    },
    {
     "name": "stderr",
     "output_type": "stream",
     "text": [
      "Epoch 27/1000 (Validation): 100%|█████████████████████████████| 47/47 [00:11<00:00,  3.94it/s, Loss=1.0623, Acc=0.6227]\n"
     ]
    },
    {
     "name": "stdout",
     "output_type": "stream",
     "text": [
      "Epoch 27/1000: Val Loss: 1.0623, Val Acc: 0.6227, Val F1: 0.6179\n",
      "Current Learning Rate: 3e-06\n",
      "Best model saved at E://Kuliah//UPI//SEMESTER 8//coba coba//freeze\\hybrid_mobilenet_vit_freeze0_best.pt with val accuracy: 0.6227\n"
     ]
    },
    {
     "name": "stderr",
     "output_type": "stream",
     "text": [
      "Epoch 28/1000: 100%|████████████████████████████████████████| 422/422 [05:15<00:00,  1.34it/s, Loss=0.7970, Acc=0.6994]\n"
     ]
    },
    {
     "name": "stdout",
     "output_type": "stream",
     "text": [
      "Epoch 28/1000: Train Loss: 0.7970, Train Acc: 0.6994\n"
     ]
    },
    {
     "name": "stderr",
     "output_type": "stream",
     "text": [
      "Epoch 28/1000 (Validation): 100%|█████████████████████████████| 47/47 [00:12<00:00,  3.62it/s, Loss=1.0488, Acc=0.6244]\n"
     ]
    },
    {
     "name": "stdout",
     "output_type": "stream",
     "text": [
      "Epoch 28/1000: Val Loss: 1.0488, Val Acc: 0.6244, Val F1: 0.6214\n",
      "Current Learning Rate: 3e-06\n",
      "Best model saved at E://Kuliah//UPI//SEMESTER 8//coba coba//freeze\\hybrid_mobilenet_vit_freeze0_best.pt with val accuracy: 0.6244\n"
     ]
    },
    {
     "name": "stderr",
     "output_type": "stream",
     "text": [
      "Epoch 29/1000: 100%|████████████████████████████████████████| 422/422 [05:16<00:00,  1.33it/s, Loss=0.7810, Acc=0.7035]\n"
     ]
    },
    {
     "name": "stdout",
     "output_type": "stream",
     "text": [
      "Epoch 29/1000: Train Loss: 0.7810, Train Acc: 0.7035\n"
     ]
    },
    {
     "name": "stderr",
     "output_type": "stream",
     "text": [
      "Epoch 29/1000 (Validation): 100%|█████████████████████████████| 47/47 [00:11<00:00,  3.94it/s, Loss=1.0509, Acc=0.6224]\n"
     ]
    },
    {
     "name": "stdout",
     "output_type": "stream",
     "text": [
      "Epoch 29/1000: Val Loss: 1.0509, Val Acc: 0.6224, Val F1: 0.6196\n",
      "Current Learning Rate: 3e-06\n"
     ]
    },
    {
     "name": "stderr",
     "output_type": "stream",
     "text": [
      "Epoch 30/1000: 100%|████████████████████████████████████████| 422/422 [05:13<00:00,  1.35it/s, Loss=0.7692, Acc=0.7109]\n"
     ]
    },
    {
     "name": "stdout",
     "output_type": "stream",
     "text": [
      "Epoch 30/1000: Train Loss: 0.7692, Train Acc: 0.7109\n"
     ]
    },
    {
     "name": "stderr",
     "output_type": "stream",
     "text": [
      "Epoch 30/1000 (Validation): 100%|█████████████████████████████| 47/47 [00:11<00:00,  3.93it/s, Loss=1.0559, Acc=0.6201]\n"
     ]
    },
    {
     "name": "stdout",
     "output_type": "stream",
     "text": [
      "Epoch 30/1000: Val Loss: 1.0559, Val Acc: 0.6201, Val F1: 0.6175\n",
      "Current Learning Rate: 3e-06\n"
     ]
    },
    {
     "name": "stderr",
     "output_type": "stream",
     "text": [
      "Epoch 31/1000: 100%|████████████████████████████████████████| 422/422 [05:09<00:00,  1.36it/s, Loss=0.7569, Acc=0.7135]\n"
     ]
    },
    {
     "name": "stdout",
     "output_type": "stream",
     "text": [
      "Epoch 31/1000: Train Loss: 0.7569, Train Acc: 0.7135\n"
     ]
    },
    {
     "name": "stderr",
     "output_type": "stream",
     "text": [
      "Epoch 31/1000 (Validation): 100%|█████████████████████████████| 47/47 [00:11<00:00,  3.99it/s, Loss=1.0624, Acc=0.6244]\n"
     ]
    },
    {
     "name": "stdout",
     "output_type": "stream",
     "text": [
      "Epoch 31/1000: Val Loss: 1.0624, Val Acc: 0.6244, Val F1: 0.6176\n",
      "Current Learning Rate: 3e-06\n",
      "Early stopping triggered at epoch 31!\n"
     ]
    },
    {
     "name": "stderr",
     "output_type": "stream",
     "text": [
      "C:\\Users\\MoKha\\anaconda3\\lib\\site-packages\\torchvision\\models\\_utils.py:208: UserWarning: The parameter 'pretrained' is deprecated since 0.13 and may be removed in the future, please use 'weights' instead.\n",
      "  warnings.warn(\n",
      "C:\\Users\\MoKha\\anaconda3\\lib\\site-packages\\torchvision\\models\\_utils.py:223: UserWarning: Arguments other than a weight enum or `None` for 'weights' are deprecated since 0.13 and may be removed in the future. The current behavior is equivalent to passing `weights=MobileNet_V3_Large_Weights.IMAGENET1K_V1`. You can also use `weights=MobileNet_V3_Large_Weights.DEFAULT` to get the most up-to-date weights.\n",
      "  warnings.warn(msg)\n",
      "C:\\Users\\MoKha\\AppData\\Local\\Temp\\ipykernel_25824\\38960060.py:645: FutureWarning: You are using `torch.load` with `weights_only=False` (the current default value), which uses the default pickle module implicitly. It is possible to construct malicious pickle data which will execute arbitrary code during unpickling (See https://github.com/pytorch/pytorch/blob/main/SECURITY.md#untrusted-models for more details). In a future release, the default value for `weights_only` will be flipped to `True`. This limits the functions that could be executed during unpickling. Arbitrary objects will no longer be allowed to be loaded via this mode unless they are explicitly allowlisted by the user via `torch.serialization.add_safe_globals`. We recommend you start setting `weights_only=True` for any use case where you don't have full control of the loaded file. Please open an issue on GitHub for any issues related to this experimental feature.\n",
      "  checkpoint = torch.load(f\"E://Kuliah//UPI//SEMESTER 8//coba coba//freeze//hybrid_mobilenet_vit_freeze{i}_best.pt\")\n",
      "Testing: 100%|████████████████████████████████████████████████| 53/53 [00:14<00:00,  3.67it/s, Loss=1.0298, Acc=0.6247]\n"
     ]
    },
    {
     "name": "stdout",
     "output_type": "stream",
     "text": [
      "Test Loss: 1.0298, Test Acc: 0.6247,Test F1: 0.6186\n",
      "\n",
      "Per-Class Accuracy:\n",
      "Class 0: 0.4913\n",
      "Class 1: 0.3333\n",
      "Class 2: 0.3482\n",
      "Class 3: 0.8647\n",
      "Class 4: 0.5339\n",
      "Class 5: 0.6857\n",
      "Class 6: 0.6723\n",
      "\n",
      "Classification Report:\n",
      "              precision    recall  f1-score   support\n",
      "\n",
      "     Class 0       0.53      0.49      0.51       458\n",
      "     Class 1       0.52      0.33      0.41        45\n",
      "     Class 2       0.47      0.35      0.40       471\n",
      "     Class 3       0.81      0.86      0.84       872\n",
      "     Class 4       0.51      0.53      0.52       575\n",
      "     Class 5       0.74      0.69      0.71       315\n",
      "     Class 6       0.56      0.67      0.61       595\n",
      "\n",
      "    accuracy                           0.62      3331\n",
      "   macro avg       0.59      0.56      0.57      3331\n",
      "weighted avg       0.62      0.62      0.62      3331\n",
      "\n"
     ]
    },
    {
     "data": {
      "image/png": "[encoded data removed]",
      "text/plain": [
       "<Figure size 720x576 with 2 Axes>"
      ]
     },
     "metadata": {
      "needs_background": "light"
     },
     "output_type": "display_data"
    },
    {
     "name": "stderr",
     "output_type": "stream",
     "text": [
      "C:\\Users\\MoKha\\anaconda3\\lib\\site-packages\\torchvision\\models\\_utils.py:208: UserWarning: The parameter 'pretrained' is deprecated since 0.13 and may be removed in the future, please use 'weights' instead.\n",
      "  warnings.warn(\n",
      "C:\\Users\\MoKha\\anaconda3\\lib\\site-packages\\torchvision\\models\\_utils.py:223: UserWarning: Arguments other than a weight enum or `None` for 'weights' are deprecated since 0.13 and may be removed in the future. The current behavior is equivalent to passing `weights=MobileNet_V3_Large_Weights.IMAGENET1K_V1`. You can also use `weights=MobileNet_V3_Large_Weights.DEFAULT` to get the most up-to-date weights.\n",
      "  warnings.warn(msg)\n"
     ]
    },
    {
     "name": "stdout",
     "output_type": "stream",
     "text": [
      "Unfreeze 6 blok terakhir\n"
     ]
    },
    {
     "name": "stderr",
     "output_type": "stream",
     "text": [
      "Epoch 1/1000: 100%|█████████████████████████████████████████| 422/422 [05:42<00:00,  1.23it/s, Loss=1.4977, Acc=0.4184]\n"
     ]
    },
    {
     "name": "stdout",
     "output_type": "stream",
     "text": [
      "Epoch 1/1000: Train Loss: 1.4977, Train Acc: 0.4184\n"
     ]
    },
    {
     "name": "stderr",
     "output_type": "stream",
     "text": [
      "Epoch 1/1000 (Validation): 100%|██████████████████████████████| 47/47 [00:11<00:00,  3.97it/s, Loss=1.3957, Acc=0.4736]\n"
     ]
    },
    {
     "name": "stdout",
     "output_type": "stream",
     "text": [
      "Epoch 1/1000: Val Loss: 1.3957, Val Acc: 0.4736, Val F1: 0.3969\n",
      "Current Learning Rate: 3e-05\n",
      "Best model saved at E://Kuliah//UPI//SEMESTER 8//coba coba//freeze\\hybrid_mobilenet_vit_freeze1_best.pt with val accuracy: 0.4736\n"
     ]
    },
    {
     "name": "stderr",
     "output_type": "stream",
     "text": [
      "Epoch 2/1000: 100%|█████████████████████████████████████████| 422/422 [05:40<00:00,  1.24it/s, Loss=1.2542, Acc=0.5216]\n"
     ]
    },
    {
     "name": "stdout",
     "output_type": "stream",
     "text": [
      "Epoch 2/1000: Train Loss: 1.2542, Train Acc: 0.5216\n"
     ]
    },
    {
     "name": "stderr",
     "output_type": "stream",
     "text": [
      "Epoch 2/1000 (Validation): 100%|██████████████████████████████| 47/47 [00:12<00:00,  3.86it/s, Loss=1.1882, Acc=0.5447]\n"
     ]
    },
    {
     "name": "stdout",
     "output_type": "stream",
     "text": [
      "Epoch 2/1000: Val Loss: 1.1882, Val Acc: 0.5447, Val F1: 0.5365\n",
      "Current Learning Rate: 3e-05\n",
      "Best model saved at E://Kuliah//UPI//SEMESTER 8//coba coba//freeze\\hybrid_mobilenet_vit_freeze1_best.pt with val accuracy: 0.5447\n"
     ]
    },
    {
     "name": "stderr",
     "output_type": "stream",
     "text": [
      "Epoch 3/1000: 100%|█████████████████████████████████████████| 422/422 [05:38<00:00,  1.25it/s, Loss=1.1644, Acc=0.5559]\n"
     ]
    },
    {
     "name": "stdout",
     "output_type": "stream",
     "text": [
      "Epoch 3/1000: Train Loss: 1.1644, Train Acc: 0.5559\n"
     ]
    },
    {
     "name": "stderr",
     "output_type": "stream",
     "text": [
      "Epoch 3/1000 (Validation): 100%|██████████████████████████████| 47/47 [00:11<00:00,  3.95it/s, Loss=1.1583, Acc=0.5564]\n"
     ]
    },
    {
     "name": "stdout",
     "output_type": "stream",
     "text": [
      "Epoch 3/1000: Val Loss: 1.1583, Val Acc: 0.5564, Val F1: 0.5230\n",
      "Current Learning Rate: 3e-05\n",
      "Best model saved at E://Kuliah//UPI//SEMESTER 8//coba coba//freeze\\hybrid_mobilenet_vit_freeze1_best.pt with val accuracy: 0.5564\n"
     ]
    },
    {
     "name": "stderr",
     "output_type": "stream",
     "text": [
      "Epoch 4/1000: 100%|█████████████████████████████████████████| 422/422 [05:37<00:00,  1.25it/s, Loss=1.1024, Acc=0.5784]\n"
     ]
    },
    {
     "name": "stdout",
     "output_type": "stream",
     "text": [
      "Epoch 4/1000: Train Loss: 1.1024, Train Acc: 0.5784\n"
     ]
    },
    {
     "name": "stderr",
     "output_type": "stream",
     "text": [
      "Epoch 4/1000 (Validation): 100%|██████████████████████████████| 47/47 [00:12<00:00,  3.89it/s, Loss=1.1201, Acc=0.5841]\n"
     ]
    },
    {
     "name": "stdout",
     "output_type": "stream",
     "text": [
      "Epoch 4/1000: Val Loss: 1.1201, Val Acc: 0.5841, Val F1: 0.5446\n",
      "Current Learning Rate: 3e-05\n",
      "Best model saved at E://Kuliah//UPI//SEMESTER 8//coba coba//freeze\\hybrid_mobilenet_vit_freeze1_best.pt with val accuracy: 0.5841\n"
     ]
    },
    {
     "name": "stderr",
     "output_type": "stream",
     "text": [
      "Epoch 5/1000: 100%|█████████████████████████████████████████| 422/422 [05:36<00:00,  1.25it/s, Loss=1.0547, Acc=0.5995]\n"
     ]
    },
    {
     "name": "stdout",
     "output_type": "stream",
     "text": [
      "Epoch 5/1000: Train Loss: 1.0547, Train Acc: 0.5995\n"
     ]
    },
    {
     "name": "stderr",
     "output_type": "stream",
     "text": [
      "Epoch 5/1000 (Validation): 100%|██████████████████████████████| 47/47 [00:11<00:00,  3.95it/s, Loss=1.1176, Acc=0.5851]\n"
     ]
    },
    {
     "name": "stdout",
     "output_type": "stream",
     "text": [
      "Epoch 5/1000: Val Loss: 1.1176, Val Acc: 0.5851, Val F1: 0.5934\n",
      "Current Learning Rate: 3e-05\n",
      "Best model saved at E://Kuliah//UPI//SEMESTER 8//coba coba//freeze\\hybrid_mobilenet_vit_freeze1_best.pt with val accuracy: 0.5851\n"
     ]
    },
    {
     "name": "stderr",
     "output_type": "stream",
     "text": [
      "Epoch 6/1000: 100%|█████████████████████████████████████████| 422/422 [05:35<00:00,  1.26it/s, Loss=1.0220, Acc=0.6102]\n"
     ]
    },
    {
     "name": "stdout",
     "output_type": "stream",
     "text": [
      "Epoch 6/1000: Train Loss: 1.0220, Train Acc: 0.6102\n"
     ]
    },
    {
     "name": "stderr",
     "output_type": "stream",
     "text": [
      "Epoch 6/1000 (Validation): 100%|██████████████████████████████| 47/47 [00:12<00:00,  3.83it/s, Loss=1.0426, Acc=0.6101]\n"
     ]
    },
    {
     "name": "stdout",
     "output_type": "stream",
     "text": [
      "Epoch 6/1000: Val Loss: 1.0426, Val Acc: 0.6101, Val F1: 0.5959\n",
      "Current Learning Rate: 3e-05\n",
      "Best model saved at E://Kuliah//UPI//SEMESTER 8//coba coba//freeze\\hybrid_mobilenet_vit_freeze1_best.pt with val accuracy: 0.6101\n"
     ]
    },
    {
     "name": "stderr",
     "output_type": "stream",
     "text": [
      "Epoch 7/1000: 100%|█████████████████████████████████████████| 422/422 [05:39<00:00,  1.24it/s, Loss=0.9878, Acc=0.6253]\n"
     ]
    },
    {
     "name": "stdout",
     "output_type": "stream",
     "text": [
      "Epoch 7/1000: Train Loss: 0.9878, Train Acc: 0.6253\n"
     ]
    },
    {
     "name": "stderr",
     "output_type": "stream",
     "text": [
      "Epoch 7/1000 (Validation): 100%|██████████████████████████████| 47/47 [00:12<00:00,  3.89it/s, Loss=1.0117, Acc=0.6268]\n"
     ]
    },
    {
     "name": "stdout",
     "output_type": "stream",
     "text": [
      "Epoch 7/1000: Val Loss: 1.0117, Val Acc: 0.6268, Val F1: 0.6186\n",
      "Current Learning Rate: 3e-05\n",
      "Best model saved at E://Kuliah//UPI//SEMESTER 8//coba coba//freeze\\hybrid_mobilenet_vit_freeze1_best.pt with val accuracy: 0.6268\n"
     ]
    },
    {
     "name": "stderr",
     "output_type": "stream",
     "text": [
      "Epoch 8/1000: 100%|█████████████████████████████████████████| 422/422 [05:42<00:00,  1.23it/s, Loss=0.9589, Acc=0.6374]\n"
     ]
    },
    {
     "name": "stdout",
     "output_type": "stream",
     "text": [
      "Epoch 8/1000: Train Loss: 0.9589, Train Acc: 0.6374\n"
     ]
    },
    {
     "name": "stderr",
     "output_type": "stream",
     "text": [
      "Epoch 8/1000 (Validation): 100%|██████████████████████████████| 47/47 [00:12<00:00,  3.73it/s, Loss=1.0038, Acc=0.6338]\n"
     ]
    },
    {
     "name": "stdout",
     "output_type": "stream",
     "text": [
      "Epoch 8/1000: Val Loss: 1.0038, Val Acc: 0.6338, Val F1: 0.6287\n",
      "Current Learning Rate: 3e-05\n",
      "Best model saved at E://Kuliah//UPI//SEMESTER 8//coba coba//freeze\\hybrid_mobilenet_vit_freeze1_best.pt with val accuracy: 0.6338\n"
     ]
    },
    {
     "name": "stderr",
     "output_type": "stream",
     "text": [
      "Epoch 9/1000: 100%|█████████████████████████████████████████| 422/422 [05:36<00:00,  1.25it/s, Loss=0.9329, Acc=0.6445]\n"
     ]
    },
    {
     "name": "stdout",
     "output_type": "stream",
     "text": [
      "Epoch 9/1000: Train Loss: 0.9329, Train Acc: 0.6445\n"
     ]
    },
    {
     "name": "stderr",
     "output_type": "stream",
     "text": [
      "Epoch 9/1000 (Validation): 100%|██████████████████████████████| 47/47 [00:13<00:00,  3.53it/s, Loss=0.9902, Acc=0.6341]\n"
     ]
    },
    {
     "name": "stdout",
     "output_type": "stream",
     "text": [
      "Epoch 9/1000: Val Loss: 0.9902, Val Acc: 0.6341, Val F1: 0.6236\n",
      "Current Learning Rate: 3e-05\n",
      "Best model saved at E://Kuliah//UPI//SEMESTER 8//coba coba//freeze\\hybrid_mobilenet_vit_freeze1_best.pt with val accuracy: 0.6341\n"
     ]
    },
    {
     "name": "stderr",
     "output_type": "stream",
     "text": [
      "Epoch 10/1000: 100%|████████████████████████████████████████| 422/422 [05:35<00:00,  1.26it/s, Loss=0.9031, Acc=0.6565]\n"
     ]
    },
    {
     "name": "stdout",
     "output_type": "stream",
     "text": [
      "Epoch 10/1000: Train Loss: 0.9031, Train Acc: 0.6565\n"
     ]
    },
    {
     "name": "stderr",
     "output_type": "stream",
     "text": [
      "Epoch 10/1000 (Validation): 100%|█████████████████████████████| 47/47 [00:12<00:00,  3.89it/s, Loss=1.0374, Acc=0.6104]\n"
     ]
    },
    {
     "name": "stdout",
     "output_type": "stream",
     "text": [
      "Epoch 10/1000: Val Loss: 1.0374, Val Acc: 0.6104, Val F1: 0.5934\n",
      "Current Learning Rate: 3e-05\n"
     ]
    },
    {
     "name": "stderr",
     "output_type": "stream",
     "text": [
      "Epoch 11/1000: 100%|████████████████████████████████████████| 422/422 [05:38<00:00,  1.25it/s, Loss=0.8761, Acc=0.6695]\n"
     ]
    },
    {
     "name": "stdout",
     "output_type": "stream",
     "text": [
      "Epoch 11/1000: Train Loss: 0.8761, Train Acc: 0.6695\n"
     ]
    },
    {
     "name": "stderr",
     "output_type": "stream",
     "text": [
      "Epoch 11/1000 (Validation): 100%|█████████████████████████████| 47/47 [00:12<00:00,  3.89it/s, Loss=0.9819, Acc=0.6364]\n"
     ]
    },
    {
     "name": "stdout",
     "output_type": "stream",
     "text": [
      "Epoch 11/1000: Val Loss: 0.9819, Val Acc: 0.6364, Val F1: 0.6273\n",
      "Current Learning Rate: 3e-05\n",
      "Best model saved at E://Kuliah//UPI//SEMESTER 8//coba coba//freeze\\hybrid_mobilenet_vit_freeze1_best.pt with val accuracy: 0.6364\n"
     ]
    },
    {
     "name": "stderr",
     "output_type": "stream",
     "text": [
      "Epoch 12/1000: 100%|████████████████████████████████████████| 422/422 [05:38<00:00,  1.25it/s, Loss=0.8523, Acc=0.6768]\n"
     ]
    },
    {
     "name": "stdout",
     "output_type": "stream",
     "text": [
      "Epoch 12/1000: Train Loss: 0.8523, Train Acc: 0.6768\n"
     ]
    },
    {
     "name": "stderr",
     "output_type": "stream",
     "text": [
      "Epoch 12/1000 (Validation): 100%|█████████████████████████████| 47/47 [00:12<00:00,  3.85it/s, Loss=0.9564, Acc=0.6521]\n"
     ]
    },
    {
     "name": "stdout",
     "output_type": "stream",
     "text": [
      "Epoch 12/1000: Val Loss: 0.9564, Val Acc: 0.6521, Val F1: 0.6451\n",
      "Current Learning Rate: 3e-05\n",
      "Best model saved at E://Kuliah//UPI//SEMESTER 8//coba coba//freeze\\hybrid_mobilenet_vit_freeze1_best.pt with val accuracy: 0.6521\n"
     ]
    },
    {
     "name": "stderr",
     "output_type": "stream",
     "text": [
      "Epoch 13/1000: 100%|████████████████████████████████████████| 422/422 [05:36<00:00,  1.25it/s, Loss=0.8170, Acc=0.6927]\n"
     ]
    },
    {
     "name": "stdout",
     "output_type": "stream",
     "text": [
      "Epoch 13/1000: Train Loss: 0.8170, Train Acc: 0.6927\n"
     ]
    },
    {
     "name": "stderr",
     "output_type": "stream",
     "text": [
      "Epoch 13/1000 (Validation): 100%|█████████████████████████████| 47/47 [00:12<00:00,  3.69it/s, Loss=0.9967, Acc=0.6411]\n"
     ]
    },
    {
     "name": "stdout",
     "output_type": "stream",
     "text": [
      "Epoch 13/1000: Val Loss: 0.9967, Val Acc: 0.6411, Val F1: 0.6384\n",
      "Current Learning Rate: 3e-05\n"
     ]
    },
    {
     "name": "stderr",
     "output_type": "stream",
     "text": [
      "Epoch 14/1000: 100%|████████████████████████████████████████| 422/422 [05:36<00:00,  1.26it/s, Loss=0.7915, Acc=0.7001]\n"
     ]
    },
    {
     "name": "stdout",
     "output_type": "stream",
     "text": [
      "Epoch 14/1000: Train Loss: 0.7915, Train Acc: 0.7001\n"
     ]
    },
    {
     "name": "stderr",
     "output_type": "stream",
     "text": [
      "Epoch 14/1000 (Validation): 100%|█████████████████████████████| 47/47 [00:12<00:00,  3.88it/s, Loss=0.9642, Acc=0.6508]\n"
     ]
    },
    {
     "name": "stdout",
     "output_type": "stream",
     "text": [
      "Epoch 14/1000: Val Loss: 0.9642, Val Acc: 0.6508, Val F1: 0.6477\n",
      "Current Learning Rate: 3e-05\n"
     ]
    },
    {
     "name": "stderr",
     "output_type": "stream",
     "text": [
      "Epoch 15/1000: 100%|████████████████████████████████████████| 422/422 [05:39<00:00,  1.24it/s, Loss=0.7646, Acc=0.7125]\n"
     ]
    },
    {
     "name": "stdout",
     "output_type": "stream",
     "text": [
      "Epoch 15/1000: Train Loss: 0.7646, Train Acc: 0.7125\n"
     ]
    },
    {
     "name": "stderr",
     "output_type": "stream",
     "text": [
      "Epoch 15/1000 (Validation): 100%|█████████████████████████████| 47/47 [00:12<00:00,  3.77it/s, Loss=0.9562, Acc=0.6534]\n"
     ]
    },
    {
     "name": "stdout",
     "output_type": "stream",
     "text": [
      "Epoch 15/1000: Val Loss: 0.9562, Val Acc: 0.6534, Val F1: 0.6447\n",
      "Current Learning Rate: 3e-05\n",
      "Best model saved at E://Kuliah//UPI//SEMESTER 8//coba coba//freeze\\hybrid_mobilenet_vit_freeze1_best.pt with val accuracy: 0.6534\n"
     ]
    },
    {
     "name": "stderr",
     "output_type": "stream",
     "text": [
      "Epoch 16/1000: 100%|████████████████████████████████████████| 422/422 [05:38<00:00,  1.25it/s, Loss=0.7293, Acc=0.7244]\n"
     ]
    },
    {
     "name": "stdout",
     "output_type": "stream",
     "text": [
      "Epoch 16/1000: Train Loss: 0.7293, Train Acc: 0.7244\n"
     ]
    },
    {
     "name": "stderr",
     "output_type": "stream",
     "text": [
      "Epoch 16/1000 (Validation): 100%|█████████████████████████████| 47/47 [00:11<00:00,  3.92it/s, Loss=0.9712, Acc=0.6578]\n"
     ]
    },
    {
     "name": "stdout",
     "output_type": "stream",
     "text": [
      "Epoch 16/1000: Val Loss: 0.9712, Val Acc: 0.6578, Val F1: 0.6525\n",
      "Current Learning Rate: 3e-05\n",
      "Best model saved at E://Kuliah//UPI//SEMESTER 8//coba coba//freeze\\hybrid_mobilenet_vit_freeze1_best.pt with val accuracy: 0.6578\n"
     ]
    },
    {
     "name": "stderr",
     "output_type": "stream",
     "text": [
      "Epoch 17/1000: 100%|████████████████████████████████████████| 422/422 [05:37<00:00,  1.25it/s, Loss=0.7023, Acc=0.7359]\n"
     ]
    },
    {
     "name": "stdout",
     "output_type": "stream",
     "text": [
      "Epoch 17/1000: Train Loss: 0.7023, Train Acc: 0.7359\n"
     ]
    },
    {
     "name": "stderr",
     "output_type": "stream",
     "text": [
      "Epoch 17/1000 (Validation): 100%|█████████████████████████████| 47/47 [00:12<00:00,  3.80it/s, Loss=1.0240, Acc=0.6441]\n"
     ]
    },
    {
     "name": "stdout",
     "output_type": "stream",
     "text": [
      "Epoch 17/1000: Val Loss: 1.0240, Val Acc: 0.6441, Val F1: 0.6338\n",
      "Current Learning Rate: 3e-05\n"
     ]
    },
    {
     "name": "stderr",
     "output_type": "stream",
     "text": [
      "Epoch 18/1000: 100%|████████████████████████████████████████| 422/422 [05:26<00:00,  1.29it/s, Loss=0.6700, Acc=0.7495]\n"
     ]
    },
    {
     "name": "stdout",
     "output_type": "stream",
     "text": [
      "Epoch 18/1000: Train Loss: 0.6700, Train Acc: 0.7495\n"
     ]
    },
    {
     "name": "stderr",
     "output_type": "stream",
     "text": [
      "Epoch 18/1000 (Validation): 100%|█████████████████████████████| 47/47 [00:11<00:00,  3.99it/s, Loss=1.0093, Acc=0.6581]\n"
     ]
    },
    {
     "name": "stdout",
     "output_type": "stream",
     "text": [
      "Epoch 18/1000: Val Loss: 1.0093, Val Acc: 0.6581, Val F1: 0.6559\n",
      "Current Learning Rate: 3e-05\n",
      "Best model saved at E://Kuliah//UPI//SEMESTER 8//coba coba//freeze\\hybrid_mobilenet_vit_freeze1_best.pt with val accuracy: 0.6581\n"
     ]
    },
    {
     "name": "stderr",
     "output_type": "stream",
     "text": [
      "Epoch 19/1000: 100%|████████████████████████████████████████| 422/422 [05:22<00:00,  1.31it/s, Loss=0.6309, Acc=0.7620]\n"
     ]
    },
    {
     "name": "stdout",
     "output_type": "stream",
     "text": [
      "Epoch 19/1000: Train Loss: 0.6309, Train Acc: 0.7620\n"
     ]
    },
    {
     "name": "stderr",
     "output_type": "stream",
     "text": [
      "Epoch 19/1000 (Validation): 100%|█████████████████████████████| 47/47 [00:11<00:00,  4.05it/s, Loss=1.0065, Acc=0.6484]\n"
     ]
    },
    {
     "name": "stdout",
     "output_type": "stream",
     "text": [
      "Epoch 19/1000: Val Loss: 1.0065, Val Acc: 0.6484, Val F1: 0.6514\n",
      "Current Learning Rate: 3e-05\n"
     ]
    },
    {
     "name": "stderr",
     "output_type": "stream",
     "text": [
      "Epoch 20/1000: 100%|████████████████████████████████████████| 422/422 [05:22<00:00,  1.31it/s, Loss=0.5925, Acc=0.7792]\n"
     ]
    },
    {
     "name": "stdout",
     "output_type": "stream",
     "text": [
      "Epoch 20/1000: Train Loss: 0.5925, Train Acc: 0.7792\n"
     ]
    },
    {
     "name": "stderr",
     "output_type": "stream",
     "text": [
      "Epoch 20/1000 (Validation): 100%|█████████████████████████████| 47/47 [00:11<00:00,  4.00it/s, Loss=1.0041, Acc=0.6634]\n"
     ]
    },
    {
     "name": "stdout",
     "output_type": "stream",
     "text": [
      "Epoch 20/1000: Val Loss: 1.0041, Val Acc: 0.6634, Val F1: 0.6626\n",
      "Current Learning Rate: 3e-05\n",
      "Best model saved at E://Kuliah//UPI//SEMESTER 8//coba coba//freeze\\hybrid_mobilenet_vit_freeze1_best.pt with val accuracy: 0.6634\n"
     ]
    },
    {
     "name": "stderr",
     "output_type": "stream",
     "text": [
      "Epoch 21/1000: 100%|████████████████████████████████████████| 422/422 [05:24<00:00,  1.30it/s, Loss=0.5629, Acc=0.7922]\n"
     ]
    },
    {
     "name": "stdout",
     "output_type": "stream",
     "text": [
      "Epoch 21/1000: Train Loss: 0.5629, Train Acc: 0.7922\n"
     ]
    },
    {
     "name": "stderr",
     "output_type": "stream",
     "text": [
      "Epoch 21/1000 (Validation): 100%|█████████████████████████████| 47/47 [00:11<00:00,  4.00it/s, Loss=1.0748, Acc=0.6524]\n"
     ]
    },
    {
     "name": "stdout",
     "output_type": "stream",
     "text": [
      "Epoch 21/1000: Val Loss: 1.0748, Val Acc: 0.6524, Val F1: 0.6487\n",
      "Current Learning Rate: 3e-06\n"
     ]
    },
    {
     "name": "stderr",
     "output_type": "stream",
     "text": [
      "Epoch 22/1000: 100%|████████████████████████████████████████| 422/422 [05:19<00:00,  1.32it/s, Loss=0.4391, Acc=0.8388]\n"
     ]
    },
    {
     "name": "stdout",
     "output_type": "stream",
     "text": [
      "Epoch 22/1000: Train Loss: 0.4391, Train Acc: 0.8388\n"
     ]
    },
    {
     "name": "stderr",
     "output_type": "stream",
     "text": [
      "Epoch 22/1000 (Validation): 100%|█████████████████████████████| 47/47 [00:12<00:00,  3.85it/s, Loss=1.0913, Acc=0.6641]\n"
     ]
    },
    {
     "name": "stdout",
     "output_type": "stream",
     "text": [
      "Epoch 22/1000: Val Loss: 1.0913, Val Acc: 0.6641, Val F1: 0.6617\n",
      "Current Learning Rate: 3e-06\n",
      "Best model saved at E://Kuliah//UPI//SEMESTER 8//coba coba//freeze\\hybrid_mobilenet_vit_freeze1_best.pt with val accuracy: 0.6641\n"
     ]
    },
    {
     "name": "stderr",
     "output_type": "stream",
     "text": [
      "Epoch 23/1000: 100%|████████████████████████████████████████| 422/422 [05:17<00:00,  1.33it/s, Loss=0.4043, Acc=0.8554]\n"
     ]
    },
    {
     "name": "stdout",
     "output_type": "stream",
     "text": [
      "Epoch 23/1000: Train Loss: 0.4043, Train Acc: 0.8554\n"
     ]
    },
    {
     "name": "stderr",
     "output_type": "stream",
     "text": [
      "Epoch 23/1000 (Validation): 100%|█████████████████████████████| 47/47 [00:11<00:00,  4.16it/s, Loss=1.1168, Acc=0.6578]\n"
     ]
    },
    {
     "name": "stdout",
     "output_type": "stream",
     "text": [
      "Epoch 23/1000: Val Loss: 1.1168, Val Acc: 0.6578, Val F1: 0.6563\n",
      "Current Learning Rate: 3e-06\n"
     ]
    },
    {
     "name": "stderr",
     "output_type": "stream",
     "text": [
      "Epoch 24/1000: 100%|████████████████████████████████████████| 422/422 [05:17<00:00,  1.33it/s, Loss=0.3827, Acc=0.8620]\n"
     ]
    },
    {
     "name": "stdout",
     "output_type": "stream",
     "text": [
      "Epoch 24/1000: Train Loss: 0.3827, Train Acc: 0.8620\n"
     ]
    },
    {
     "name": "stderr",
     "output_type": "stream",
     "text": [
      "Epoch 24/1000 (Validation): 100%|█████████████████████████████| 47/47 [00:11<00:00,  4.06it/s, Loss=1.1386, Acc=0.6641]\n"
     ]
    },
    {
     "name": "stdout",
     "output_type": "stream",
     "text": [
      "Epoch 24/1000: Val Loss: 1.1386, Val Acc: 0.6641, Val F1: 0.6607\n",
      "Current Learning Rate: 3e-06\n"
     ]
    },
    {
     "name": "stderr",
     "output_type": "stream",
     "text": [
      "Epoch 25/1000: 100%|████████████████████████████████████████| 422/422 [05:20<00:00,  1.32it/s, Loss=0.3680, Acc=0.8647]\n"
     ]
    },
    {
     "name": "stdout",
     "output_type": "stream",
     "text": [
      "Epoch 25/1000: Train Loss: 0.3680, Train Acc: 0.8647\n"
     ]
    },
    {
     "name": "stderr",
     "output_type": "stream",
     "text": [
      "Epoch 25/1000 (Validation): 100%|█████████████████████████████| 47/47 [00:10<00:00,  4.28it/s, Loss=1.1540, Acc=0.6631]\n"
     ]
    },
    {
     "name": "stdout",
     "output_type": "stream",
     "text": [
      "Epoch 25/1000: Val Loss: 1.1540, Val Acc: 0.6631, Val F1: 0.6599\n",
      "Current Learning Rate: 3e-06\n",
      "Early stopping triggered at epoch 25!\n"
     ]
    },
    {
     "name": "stderr",
     "output_type": "stream",
     "text": [
      "C:\\Users\\MoKha\\anaconda3\\lib\\site-packages\\torchvision\\models\\_utils.py:208: UserWarning: The parameter 'pretrained' is deprecated since 0.13 and may be removed in the future, please use 'weights' instead.\n",
      "  warnings.warn(\n",
      "C:\\Users\\MoKha\\anaconda3\\lib\\site-packages\\torchvision\\models\\_utils.py:223: UserWarning: Arguments other than a weight enum or `None` for 'weights' are deprecated since 0.13 and may be removed in the future. The current behavior is equivalent to passing `weights=MobileNet_V3_Large_Weights.IMAGENET1K_V1`. You can also use `weights=MobileNet_V3_Large_Weights.DEFAULT` to get the most up-to-date weights.\n",
      "  warnings.warn(msg)\n",
      "C:\\Users\\MoKha\\AppData\\Local\\Temp\\ipykernel_25824\\38960060.py:645: FutureWarning: You are using `torch.load` with `weights_only=False` (the current default value), which uses the default pickle module implicitly. It is possible to construct malicious pickle data which will execute arbitrary code during unpickling (See https://github.com/pytorch/pytorch/blob/main/SECURITY.md#untrusted-models for more details). In a future release, the default value for `weights_only` will be flipped to `True`. This limits the functions that could be executed during unpickling. Arbitrary objects will no longer be allowed to be loaded via this mode unless they are explicitly allowlisted by the user via `torch.serialization.add_safe_globals`. We recommend you start setting `weights_only=True` for any use case where you don't have full control of the loaded file. Please open an issue on GitHub for any issues related to this experimental feature.\n",
      "  checkpoint = torch.load(f\"E://Kuliah//UPI//SEMESTER 8//coba coba//freeze//hybrid_mobilenet_vit_freeze{i}_best.pt\")\n",
      "Testing: 100%|████████████████████████████████████████████████| 53/53 [00:12<00:00,  4.37it/s, Loss=1.0319, Acc=0.6752]\n"
     ]
    },
    {
     "name": "stdout",
     "output_type": "stream",
     "text": [
      "Test Loss: 1.0319, Test Acc: 0.6752,Test F1: 0.6715\n",
      "\n",
      "Per-Class Accuracy:\n",
      "Class 0: 0.5480\n",
      "Class 1: 0.5111\n",
      "Class 2: 0.4522\n",
      "Class 3: 0.8842\n",
      "Class 4: 0.5652\n",
      "Class 5: 0.7905\n",
      "Class 6: 0.7008\n",
      "\n",
      "Classification Report:\n",
      "              precision    recall  f1-score   support\n",
      "\n",
      "     Class 0       0.58      0.55      0.56       458\n",
      "     Class 1       0.72      0.51      0.60        45\n",
      "     Class 2       0.55      0.45      0.50       471\n",
      "     Class 3       0.86      0.88      0.87       872\n",
      "     Class 4       0.57      0.57      0.57       575\n",
      "     Class 5       0.76      0.79      0.77       315\n",
      "     Class 6       0.61      0.70      0.65       595\n",
      "\n",
      "    accuracy                           0.68      3331\n",
      "   macro avg       0.66      0.64      0.65      3331\n",
      "weighted avg       0.67      0.68      0.67      3331\n",
      "\n"
     ]
    },
    {
     "data": {
      "image/png": "[encoded data removed]",
      "text/plain": [
       "<Figure size 720x576 with 2 Axes>"
      ]
     },
     "metadata": {
      "needs_background": "light"
     },
     "output_type": "display_data"
    },
    {
     "name": "stderr",
     "output_type": "stream",
     "text": [
      "C:\\Users\\MoKha\\anaconda3\\lib\\site-packages\\torchvision\\models\\_utils.py:208: UserWarning: The parameter 'pretrained' is deprecated since 0.13 and may be removed in the future, please use 'weights' instead.\n",
      "  warnings.warn(\n",
      "C:\\Users\\MoKha\\anaconda3\\lib\\site-packages\\torchvision\\models\\_utils.py:223: UserWarning: Arguments other than a weight enum or `None` for 'weights' are deprecated since 0.13 and may be removed in the future. The current behavior is equivalent to passing `weights=MobileNet_V3_Large_Weights.IMAGENET1K_V1`. You can also use `weights=MobileNet_V3_Large_Weights.DEFAULT` to get the most up-to-date weights.\n",
      "  warnings.warn(msg)\n"
     ]
    },
    {
     "name": "stdout",
     "output_type": "stream",
     "text": [
      "Unfreeze 3 blok terakhir\n"
     ]
    },
    {
     "name": "stderr",
     "output_type": "stream",
     "text": [
      "Epoch 1/1000: 100%|█████████████████████████████████████████| 422/422 [05:10<00:00,  1.36it/s, Loss=1.5146, Acc=0.4111]\n"
     ]
    },
    {
     "name": "stdout",
     "output_type": "stream",
     "text": [
      "Epoch 1/1000: Train Loss: 1.5146, Train Acc: 0.4111\n"
     ]
    },
    {
     "name": "stderr",
     "output_type": "stream",
     "text": [
      "Epoch 1/1000 (Validation): 100%|██████████████████████████████| 47/47 [00:11<00:00,  4.11it/s, Loss=1.3339, Acc=0.4873]\n"
     ]
    },
    {
     "name": "stdout",
     "output_type": "stream",
     "text": [
      "Epoch 1/1000: Val Loss: 1.3339, Val Acc: 0.4873, Val F1: 0.4891\n",
      "Current Learning Rate: 3e-05\n",
      "Best model saved at E://Kuliah//UPI//SEMESTER 8//coba coba//freeze\\hybrid_mobilenet_vit_freeze2_best.pt with val accuracy: 0.4873\n"
     ]
    },
    {
     "name": "stderr",
     "output_type": "stream",
     "text": [
      "Epoch 2/1000: 100%|█████████████████████████████████████████| 422/422 [05:11<00:00,  1.35it/s, Loss=1.2648, Acc=0.5173]\n"
     ]
    },
    {
     "name": "stdout",
     "output_type": "stream",
     "text": [
      "Epoch 2/1000: Train Loss: 1.2648, Train Acc: 0.5173\n"
     ]
    },
    {
     "name": "stderr",
     "output_type": "stream",
     "text": [
      "Epoch 2/1000 (Validation): 100%|██████████████████████████████| 47/47 [00:11<00:00,  4.16it/s, Loss=1.2319, Acc=0.5440]\n"
     ]
    },
    {
     "name": "stdout",
     "output_type": "stream",
     "text": [
      "Epoch 2/1000: Val Loss: 1.2319, Val Acc: 0.5440, Val F1: 0.5023\n",
      "Current Learning Rate: 3e-05\n",
      "Best model saved at E://Kuliah//UPI//SEMESTER 8//coba coba//freeze\\hybrid_mobilenet_vit_freeze2_best.pt with val accuracy: 0.5440\n"
     ]
    },
    {
     "name": "stderr",
     "output_type": "stream",
     "text": [
      "Epoch 3/1000: 100%|█████████████████████████████████████████| 422/422 [05:11<00:00,  1.35it/s, Loss=1.1753, Acc=0.5502]\n"
     ]
    },
    {
     "name": "stdout",
     "output_type": "stream",
     "text": [
      "Epoch 3/1000: Train Loss: 1.1753, Train Acc: 0.5502\n"
     ]
    },
    {
     "name": "stderr",
     "output_type": "stream",
     "text": [
      "Epoch 3/1000 (Validation): 100%|██████████████████████████████| 47/47 [00:11<00:00,  4.10it/s, Loss=1.1672, Acc=0.5574]\n"
     ]
    },
    {
     "name": "stdout",
     "output_type": "stream",
     "text": [
      "Epoch 3/1000: Val Loss: 1.1672, Val Acc: 0.5574, Val F1: 0.5295\n",
      "Current Learning Rate: 3e-05\n",
      "Best model saved at E://Kuliah//UPI//SEMESTER 8//coba coba//freeze\\hybrid_mobilenet_vit_freeze2_best.pt with val accuracy: 0.5574\n"
     ]
    },
    {
     "name": "stderr",
     "output_type": "stream",
     "text": [
      "Epoch 4/1000: 100%|█████████████████████████████████████████| 422/422 [05:11<00:00,  1.36it/s, Loss=1.1195, Acc=0.5729]\n"
     ]
    },
    {
     "name": "stdout",
     "output_type": "stream",
     "text": [
      "Epoch 4/1000: Train Loss: 1.1195, Train Acc: 0.5729\n"
     ]
    },
    {
     "name": "stderr",
     "output_type": "stream",
     "text": [
      "Epoch 4/1000 (Validation): 100%|██████████████████████████████| 47/47 [00:11<00:00,  4.17it/s, Loss=1.1328, Acc=0.5751]\n"
     ]
    },
    {
     "name": "stdout",
     "output_type": "stream",
     "text": [
      "Epoch 4/1000: Val Loss: 1.1328, Val Acc: 0.5751, Val F1: 0.5784\n",
      "Current Learning Rate: 3e-05\n",
      "Best model saved at E://Kuliah//UPI//SEMESTER 8//coba coba//freeze\\hybrid_mobilenet_vit_freeze2_best.pt with val accuracy: 0.5751\n"
     ]
    },
    {
     "name": "stderr",
     "output_type": "stream",
     "text": [
      "Epoch 5/1000: 100%|█████████████████████████████████████████| 422/422 [05:10<00:00,  1.36it/s, Loss=1.0790, Acc=0.5888]\n"
     ]
    },
    {
     "name": "stdout",
     "output_type": "stream",
     "text": [
      "Epoch 5/1000: Train Loss: 1.0790, Train Acc: 0.5888\n"
     ]
    },
    {
     "name": "stderr",
     "output_type": "stream",
     "text": [
      "Epoch 5/1000 (Validation): 100%|██████████████████████████████| 47/47 [00:11<00:00,  4.13it/s, Loss=1.1118, Acc=0.5761]\n"
     ]
    },
    {
     "name": "stdout",
     "output_type": "stream",
     "text": [
      "Epoch 5/1000: Val Loss: 1.1118, Val Acc: 0.5761, Val F1: 0.5499\n",
      "Current Learning Rate: 3e-05\n",
      "Best model saved at E://Kuliah//UPI//SEMESTER 8//coba coba//freeze\\hybrid_mobilenet_vit_freeze2_best.pt with val accuracy: 0.5761\n"
     ]
    },
    {
     "name": "stderr",
     "output_type": "stream",
     "text": [
      "Epoch 6/1000: 100%|█████████████████████████████████████████| 422/422 [05:08<00:00,  1.37it/s, Loss=1.0413, Acc=0.6047]\n"
     ]
    },
    {
     "name": "stdout",
     "output_type": "stream",
     "text": [
      "Epoch 6/1000: Train Loss: 1.0413, Train Acc: 0.6047\n"
     ]
    },
    {
     "name": "stderr",
     "output_type": "stream",
     "text": [
      "Epoch 6/1000 (Validation): 100%|██████████████████████████████| 47/47 [00:12<00:00,  3.85it/s, Loss=1.0497, Acc=0.6061]\n"
     ]
    },
    {
     "name": "stdout",
     "output_type": "stream",
     "text": [
      "Epoch 6/1000: Val Loss: 1.0497, Val Acc: 0.6061, Val F1: 0.5991\n",
      "Current Learning Rate: 3e-05\n",
      "Best model saved at E://Kuliah//UPI//SEMESTER 8//coba coba//freeze\\hybrid_mobilenet_vit_freeze2_best.pt with val accuracy: 0.6061\n"
     ]
    },
    {
     "name": "stderr",
     "output_type": "stream",
     "text": [
      "Epoch 7/1000: 100%|█████████████████████████████████████████| 422/422 [05:11<00:00,  1.36it/s, Loss=1.0152, Acc=0.6143]\n"
     ]
    },
    {
     "name": "stdout",
     "output_type": "stream",
     "text": [
      "Epoch 7/1000: Train Loss: 1.0152, Train Acc: 0.6143\n"
     ]
    },
    {
     "name": "stderr",
     "output_type": "stream",
     "text": [
      "Epoch 7/1000 (Validation): 100%|██████████████████████████████| 47/47 [00:11<00:00,  3.95it/s, Loss=1.0558, Acc=0.6041]\n"
     ]
    },
    {
     "name": "stdout",
     "output_type": "stream",
     "text": [
      "Epoch 7/1000: Val Loss: 1.0558, Val Acc: 0.6041, Val F1: 0.5950\n",
      "Current Learning Rate: 3e-05\n"
     ]
    },
    {
     "name": "stderr",
     "output_type": "stream",
     "text": [
      "Epoch 8/1000: 100%|█████████████████████████████████████████| 422/422 [05:09<00:00,  1.36it/s, Loss=0.9850, Acc=0.6240]\n"
     ]
    },
    {
     "name": "stdout",
     "output_type": "stream",
     "text": [
      "Epoch 8/1000: Train Loss: 0.9850, Train Acc: 0.6240\n"
     ]
    },
    {
     "name": "stderr",
     "output_type": "stream",
     "text": [
      "Epoch 8/1000 (Validation): 100%|██████████████████████████████| 47/47 [00:11<00:00,  4.26it/s, Loss=1.0236, Acc=0.6141]\n"
     ]
    },
    {
     "name": "stdout",
     "output_type": "stream",
     "text": [
      "Epoch 8/1000: Val Loss: 1.0236, Val Acc: 0.6141, Val F1: 0.5999\n",
      "Current Learning Rate: 3e-05\n",
      "Best model saved at E://Kuliah//UPI//SEMESTER 8//coba coba//freeze\\hybrid_mobilenet_vit_freeze2_best.pt with val accuracy: 0.6141\n"
     ]
    },
    {
     "name": "stderr",
     "output_type": "stream",
     "text": [
      "Epoch 9/1000: 100%|█████████████████████████████████████████| 422/422 [05:08<00:00,  1.37it/s, Loss=0.9582, Acc=0.6375]\n"
     ]
    },
    {
     "name": "stdout",
     "output_type": "stream",
     "text": [
      "Epoch 9/1000: Train Loss: 0.9582, Train Acc: 0.6375\n"
     ]
    },
    {
     "name": "stderr",
     "output_type": "stream",
     "text": [
      "Epoch 9/1000 (Validation): 100%|██████████████████████████████| 47/47 [00:11<00:00,  4.26it/s, Loss=1.0116, Acc=0.6207]\n"
     ]
    },
    {
     "name": "stdout",
     "output_type": "stream",
     "text": [
      "Epoch 9/1000: Val Loss: 1.0116, Val Acc: 0.6207, Val F1: 0.6151\n",
      "Current Learning Rate: 3e-05\n",
      "Best model saved at E://Kuliah//UPI//SEMESTER 8//coba coba//freeze\\hybrid_mobilenet_vit_freeze2_best.pt with val accuracy: 0.6207\n"
     ]
    },
    {
     "name": "stderr",
     "output_type": "stream",
     "text": [
      "Epoch 10/1000: 100%|████████████████████████████████████████| 422/422 [05:09<00:00,  1.37it/s, Loss=0.9316, Acc=0.6465]\n"
     ]
    },
    {
     "name": "stdout",
     "output_type": "stream",
     "text": [
      "Epoch 10/1000: Train Loss: 0.9316, Train Acc: 0.6465\n"
     ]
    },
    {
     "name": "stderr",
     "output_type": "stream",
     "text": [
      "Epoch 10/1000 (Validation): 100%|█████████████████████████████| 47/47 [00:11<00:00,  4.15it/s, Loss=1.0320, Acc=0.6187]\n"
     ]
    },
    {
     "name": "stdout",
     "output_type": "stream",
     "text": [
      "Epoch 10/1000: Val Loss: 1.0320, Val Acc: 0.6187, Val F1: 0.6113\n",
      "Current Learning Rate: 3e-05\n"
     ]
    },
    {
     "name": "stderr",
     "output_type": "stream",
     "text": [
      "Epoch 11/1000: 100%|████████████████████████████████████████| 422/422 [05:07<00:00,  1.37it/s, Loss=0.9146, Acc=0.6537]\n"
     ]
    },
    {
     "name": "stdout",
     "output_type": "stream",
     "text": [
      "Epoch 11/1000: Train Loss: 0.9146, Train Acc: 0.6537\n"
     ]
    },
    {
     "name": "stderr",
     "output_type": "stream",
     "text": [
      "Epoch 11/1000 (Validation): 100%|█████████████████████████████| 47/47 [00:11<00:00,  4.10it/s, Loss=1.0087, Acc=0.6264]\n"
     ]
    },
    {
     "name": "stdout",
     "output_type": "stream",
     "text": [
      "Epoch 11/1000: Val Loss: 1.0087, Val Acc: 0.6264, Val F1: 0.6162\n",
      "Current Learning Rate: 3e-05\n",
      "Best model saved at E://Kuliah//UPI//SEMESTER 8//coba coba//freeze\\hybrid_mobilenet_vit_freeze2_best.pt with val accuracy: 0.6264\n"
     ]
    },
    {
     "name": "stderr",
     "output_type": "stream",
     "text": [
      "Epoch 12/1000: 100%|████████████████████████████████████████| 422/422 [05:08<00:00,  1.37it/s, Loss=0.8840, Acc=0.6665]\n"
     ]
    },
    {
     "name": "stdout",
     "output_type": "stream",
     "text": [
      "Epoch 12/1000: Train Loss: 0.8840, Train Acc: 0.6665\n"
     ]
    },
    {
     "name": "stderr",
     "output_type": "stream",
     "text": [
      "Epoch 12/1000 (Validation): 100%|█████████████████████████████| 47/47 [00:10<00:00,  4.30it/s, Loss=1.0060, Acc=0.6278]\n"
     ]
    },
    {
     "name": "stdout",
     "output_type": "stream",
     "text": [
      "Epoch 12/1000: Val Loss: 1.0060, Val Acc: 0.6278, Val F1: 0.6266\n",
      "Current Learning Rate: 3e-05\n",
      "Best model saved at E://Kuliah//UPI//SEMESTER 8//coba coba//freeze\\hybrid_mobilenet_vit_freeze2_best.pt with val accuracy: 0.6278\n"
     ]
    },
    {
     "name": "stderr",
     "output_type": "stream",
     "text": [
      "Epoch 13/1000: 100%|████████████████████████████████████████| 422/422 [05:09<00:00,  1.36it/s, Loss=0.8628, Acc=0.6741]\n"
     ]
    },
    {
     "name": "stdout",
     "output_type": "stream",
     "text": [
      "Epoch 13/1000: Train Loss: 0.8628, Train Acc: 0.6741\n"
     ]
    },
    {
     "name": "stderr",
     "output_type": "stream",
     "text": [
      "Epoch 13/1000 (Validation): 100%|█████████████████████████████| 47/47 [00:10<00:00,  4.32it/s, Loss=0.9847, Acc=0.6424]\n"
     ]
    },
    {
     "name": "stdout",
     "output_type": "stream",
     "text": [
      "Epoch 13/1000: Val Loss: 0.9847, Val Acc: 0.6424, Val F1: 0.6375\n",
      "Current Learning Rate: 3e-05\n",
      "Best model saved at E://Kuliah//UPI//SEMESTER 8//coba coba//freeze\\hybrid_mobilenet_vit_freeze2_best.pt with val accuracy: 0.6424\n"
     ]
    },
    {
     "name": "stderr",
     "output_type": "stream",
     "text": [
      "Epoch 14/1000: 100%|████████████████████████████████████████| 422/422 [05:09<00:00,  1.36it/s, Loss=0.8418, Acc=0.6794]\n"
     ]
    },
    {
     "name": "stdout",
     "output_type": "stream",
     "text": [
      "Epoch 14/1000: Train Loss: 0.8418, Train Acc: 0.6794\n"
     ]
    },
    {
     "name": "stderr",
     "output_type": "stream",
     "text": [
      "Epoch 14/1000 (Validation): 100%|█████████████████████████████| 47/47 [00:11<00:00,  4.20it/s, Loss=0.9991, Acc=0.6318]\n"
     ]
    },
    {
     "name": "stdout",
     "output_type": "stream",
     "text": [
      "Epoch 14/1000: Val Loss: 0.9991, Val Acc: 0.6318, Val F1: 0.6283\n",
      "Current Learning Rate: 3e-05\n"
     ]
    },
    {
     "name": "stderr",
     "output_type": "stream",
     "text": [
      "Epoch 15/1000: 100%|████████████████████████████████████████| 422/422 [05:09<00:00,  1.36it/s, Loss=0.8140, Acc=0.6916]\n"
     ]
    },
    {
     "name": "stdout",
     "output_type": "stream",
     "text": [
      "Epoch 15/1000: Train Loss: 0.8140, Train Acc: 0.6916\n"
     ]
    },
    {
     "name": "stderr",
     "output_type": "stream",
     "text": [
      "Epoch 15/1000 (Validation): 100%|█████████████████████████████| 47/47 [00:11<00:00,  4.08it/s, Loss=1.0151, Acc=0.6214]\n"
     ]
    },
    {
     "name": "stdout",
     "output_type": "stream",
     "text": [
      "Epoch 15/1000: Val Loss: 1.0151, Val Acc: 0.6214, Val F1: 0.6238\n",
      "Current Learning Rate: 3e-05\n"
     ]
    },
    {
     "name": "stderr",
     "output_type": "stream",
     "text": [
      "Epoch 16/1000: 100%|████████████████████████████████████████| 422/422 [05:10<00:00,  1.36it/s, Loss=0.7794, Acc=0.7071]\n"
     ]
    },
    {
     "name": "stdout",
     "output_type": "stream",
     "text": [
      "Epoch 16/1000: Train Loss: 0.7794, Train Acc: 0.7071\n"
     ]
    },
    {
     "name": "stderr",
     "output_type": "stream",
     "text": [
      "Epoch 16/1000 (Validation): 100%|█████████████████████████████| 47/47 [00:11<00:00,  4.15it/s, Loss=0.9970, Acc=0.6431]\n"
     ]
    },
    {
     "name": "stdout",
     "output_type": "stream",
     "text": [
      "Epoch 16/1000: Val Loss: 0.9970, Val Acc: 0.6431, Val F1: 0.6356\n",
      "Current Learning Rate: 3e-05\n",
      "Best model saved at E://Kuliah//UPI//SEMESTER 8//coba coba//freeze\\hybrid_mobilenet_vit_freeze2_best.pt with val accuracy: 0.6431\n"
     ]
    },
    {
     "name": "stderr",
     "output_type": "stream",
     "text": [
      "Epoch 17/1000: 100%|████████████████████████████████████████| 422/422 [05:11<00:00,  1.35it/s, Loss=0.7569, Acc=0.7126]\n"
     ]
    },
    {
     "name": "stdout",
     "output_type": "stream",
     "text": [
      "Epoch 17/1000: Train Loss: 0.7569, Train Acc: 0.7126\n"
     ]
    },
    {
     "name": "stderr",
     "output_type": "stream",
     "text": [
      "Epoch 17/1000 (Validation): 100%|█████████████████████████████| 47/47 [00:10<00:00,  4.29it/s, Loss=0.9914, Acc=0.6454]\n"
     ]
    },
    {
     "name": "stdout",
     "output_type": "stream",
     "text": [
      "Epoch 17/1000: Val Loss: 0.9914, Val Acc: 0.6454, Val F1: 0.6397\n",
      "Current Learning Rate: 3e-05\n",
      "Best model saved at E://Kuliah//UPI//SEMESTER 8//coba coba//freeze\\hybrid_mobilenet_vit_freeze2_best.pt with val accuracy: 0.6454\n"
     ]
    },
    {
     "name": "stderr",
     "output_type": "stream",
     "text": [
      "Epoch 18/1000: 100%|████████████████████████████████████████| 422/422 [05:09<00:00,  1.36it/s, Loss=0.7264, Acc=0.7265]\n"
     ]
    },
    {
     "name": "stdout",
     "output_type": "stream",
     "text": [
      "Epoch 18/1000: Train Loss: 0.7264, Train Acc: 0.7265\n"
     ]
    },
    {
     "name": "stderr",
     "output_type": "stream",
     "text": [
      "Epoch 18/1000 (Validation): 100%|█████████████████████████████| 47/47 [00:11<00:00,  4.06it/s, Loss=1.0272, Acc=0.6434]\n"
     ]
    },
    {
     "name": "stdout",
     "output_type": "stream",
     "text": [
      "Epoch 18/1000: Val Loss: 1.0272, Val Acc: 0.6434, Val F1: 0.6278\n",
      "Current Learning Rate: 3e-05\n"
     ]
    },
    {
     "name": "stderr",
     "output_type": "stream",
     "text": [
      "Epoch 19/1000: 100%|████████████████████████████████████████| 422/422 [05:12<00:00,  1.35it/s, Loss=0.6962, Acc=0.7349]\n"
     ]
    },
    {
     "name": "stdout",
     "output_type": "stream",
     "text": [
      "Epoch 19/1000: Train Loss: 0.6962, Train Acc: 0.7349\n"
     ]
    },
    {
     "name": "stderr",
     "output_type": "stream",
     "text": [
      "Epoch 19/1000 (Validation): 100%|█████████████████████████████| 47/47 [00:11<00:00,  4.14it/s, Loss=1.0055, Acc=0.6408]\n"
     ]
    },
    {
     "name": "stdout",
     "output_type": "stream",
     "text": [
      "Epoch 19/1000: Val Loss: 1.0055, Val Acc: 0.6408, Val F1: 0.6416\n",
      "Current Learning Rate: 3e-06\n"
     ]
    },
    {
     "name": "stderr",
     "output_type": "stream",
     "text": [
      "Epoch 20/1000: 100%|████████████████████████████████████████| 422/422 [05:15<00:00,  1.34it/s, Loss=0.5888, Acc=0.7823]\n"
     ]
    },
    {
     "name": "stdout",
     "output_type": "stream",
     "text": [
      "Epoch 20/1000: Train Loss: 0.5888, Train Acc: 0.7823\n"
     ]
    },
    {
     "name": "stderr",
     "output_type": "stream",
     "text": [
      "Epoch 20/1000 (Validation): 100%|█████████████████████████████| 47/47 [00:11<00:00,  4.11it/s, Loss=1.0322, Acc=0.6548]\n"
     ]
    },
    {
     "name": "stdout",
     "output_type": "stream",
     "text": [
      "Epoch 20/1000: Val Loss: 1.0322, Val Acc: 0.6548, Val F1: 0.6505\n",
      "Current Learning Rate: 3e-06\n",
      "Best model saved at E://Kuliah//UPI//SEMESTER 8//coba coba//freeze\\hybrid_mobilenet_vit_freeze2_best.pt with val accuracy: 0.6548\n"
     ]
    },
    {
     "name": "stderr",
     "output_type": "stream",
     "text": [
      "Epoch 21/1000: 100%|████████████████████████████████████████| 422/422 [05:14<00:00,  1.34it/s, Loss=0.5578, Acc=0.7967]\n"
     ]
    },
    {
     "name": "stdout",
     "output_type": "stream",
     "text": [
      "Epoch 21/1000: Train Loss: 0.5578, Train Acc: 0.7967\n"
     ]
    },
    {
     "name": "stderr",
     "output_type": "stream",
     "text": [
      "Epoch 21/1000 (Validation): 100%|█████████████████████████████| 47/47 [00:11<00:00,  3.94it/s, Loss=1.0454, Acc=0.6548]\n"
     ]
    },
    {
     "name": "stdout",
     "output_type": "stream",
     "text": [
      "Epoch 21/1000: Val Loss: 1.0454, Val Acc: 0.6548, Val F1: 0.6504\n",
      "Current Learning Rate: 3e-06\n"
     ]
    },
    {
     "name": "stderr",
     "output_type": "stream",
     "text": [
      "Epoch 22/1000: 100%|████████████████████████████████████████| 422/422 [05:15<00:00,  1.34it/s, Loss=0.5385, Acc=0.7969]\n"
     ]
    },
    {
     "name": "stdout",
     "output_type": "stream",
     "text": [
      "Epoch 22/1000: Train Loss: 0.5385, Train Acc: 0.7969\n"
     ]
    },
    {
     "name": "stderr",
     "output_type": "stream",
     "text": [
      "Epoch 22/1000 (Validation): 100%|█████████████████████████████| 47/47 [00:11<00:00,  4.00it/s, Loss=1.0525, Acc=0.6514]\n"
     ]
    },
    {
     "name": "stdout",
     "output_type": "stream",
     "text": [
      "Epoch 22/1000: Val Loss: 1.0525, Val Acc: 0.6514, Val F1: 0.6489\n",
      "Current Learning Rate: 3e-06\n"
     ]
    },
    {
     "name": "stderr",
     "output_type": "stream",
     "text": [
      "Epoch 23/1000: 100%|████████████████████████████████████████| 422/422 [05:14<00:00,  1.34it/s, Loss=0.5335, Acc=0.8022]\n"
     ]
    },
    {
     "name": "stdout",
     "output_type": "stream",
     "text": [
      "Epoch 23/1000: Train Loss: 0.5335, Train Acc: 0.8022\n"
     ]
    },
    {
     "name": "stderr",
     "output_type": "stream",
     "text": [
      "Epoch 23/1000 (Validation): 100%|█████████████████████████████| 47/47 [00:12<00:00,  3.81it/s, Loss=1.0705, Acc=0.6441]\n"
     ]
    },
    {
     "name": "stdout",
     "output_type": "stream",
     "text": [
      "Epoch 23/1000: Val Loss: 1.0705, Val Acc: 0.6441, Val F1: 0.6413\n",
      "Current Learning Rate: 3e-06\n",
      "Early stopping triggered at epoch 23!\n"
     ]
    },
    {
     "name": "stderr",
     "output_type": "stream",
     "text": [
      "C:\\Users\\MoKha\\anaconda3\\lib\\site-packages\\torchvision\\models\\_utils.py:208: UserWarning: The parameter 'pretrained' is deprecated since 0.13 and may be removed in the future, please use 'weights' instead.\n",
      "  warnings.warn(\n",
      "C:\\Users\\MoKha\\anaconda3\\lib\\site-packages\\torchvision\\models\\_utils.py:223: UserWarning: Arguments other than a weight enum or `None` for 'weights' are deprecated since 0.13 and may be removed in the future. The current behavior is equivalent to passing `weights=MobileNet_V3_Large_Weights.IMAGENET1K_V1`. You can also use `weights=MobileNet_V3_Large_Weights.DEFAULT` to get the most up-to-date weights.\n",
      "  warnings.warn(msg)\n",
      "C:\\Users\\MoKha\\AppData\\Local\\Temp\\ipykernel_25824\\38960060.py:645: FutureWarning: You are using `torch.load` with `weights_only=False` (the current default value), which uses the default pickle module implicitly. It is possible to construct malicious pickle data which will execute arbitrary code during unpickling (See https://github.com/pytorch/pytorch/blob/main/SECURITY.md#untrusted-models for more details). In a future release, the default value for `weights_only` will be flipped to `True`. This limits the functions that could be executed during unpickling. Arbitrary objects will no longer be allowed to be loaded via this mode unless they are explicitly allowlisted by the user via `torch.serialization.add_safe_globals`. We recommend you start setting `weights_only=True` for any use case where you don't have full control of the loaded file. Please open an issue on GitHub for any issues related to this experimental feature.\n",
      "  checkpoint = torch.load(f\"E://Kuliah//UPI//SEMESTER 8//coba coba//freeze//hybrid_mobilenet_vit_freeze{i}_best.pt\")\n",
      "Testing: 100%|████████████████████████████████████████████████| 53/53 [00:12<00:00,  4.13it/s, Loss=0.9818, Acc=0.6542]\n"
     ]
    },
    {
     "name": "stdout",
     "output_type": "stream",
     "text": [
      "Test Loss: 0.9818, Test Acc: 0.6542,Test F1: 0.6493\n",
      "\n",
      "Per-Class Accuracy:\n",
      "Class 0: 0.5917\n",
      "Class 1: 0.4889\n",
      "Class 2: 0.3694\n",
      "Class 3: 0.8716\n",
      "Class 4: 0.5443\n",
      "Class 5: 0.7587\n",
      "Class 6: 0.6723\n",
      "\n",
      "Classification Report:\n",
      "              precision    recall  f1-score   support\n",
      "\n",
      "     Class 0       0.55      0.59      0.57       458\n",
      "     Class 1       0.59      0.49      0.54        45\n",
      "     Class 2       0.53      0.37      0.43       471\n",
      "     Class 3       0.85      0.87      0.86       872\n",
      "     Class 4       0.55      0.54      0.55       575\n",
      "     Class 5       0.74      0.76      0.75       315\n",
      "     Class 6       0.59      0.67      0.63       595\n",
      "\n",
      "    accuracy                           0.65      3331\n",
      "   macro avg       0.63      0.61      0.62      3331\n",
      "weighted avg       0.65      0.65      0.65      3331\n",
      "\n"
     ]
    },
    {
     "data": {
      "image/png": "[encoded data removed]",
      "text/plain": [
       "<Figure size 720x576 with 2 Axes>"
      ]
     },
     "metadata": {
      "needs_background": "light"
     },
     "output_type": "display_data"
    },
    {
     "name": "stderr",
     "output_type": "stream",
     "text": [
      "C:\\Users\\MoKha\\anaconda3\\lib\\site-packages\\torchvision\\models\\_utils.py:208: UserWarning: The parameter 'pretrained' is deprecated since 0.13 and may be removed in the future, please use 'weights' instead.\n",
      "  warnings.warn(\n",
      "C:\\Users\\MoKha\\anaconda3\\lib\\site-packages\\torchvision\\models\\_utils.py:223: UserWarning: Arguments other than a weight enum or `None` for 'weights' are deprecated since 0.13 and may be removed in the future. The current behavior is equivalent to passing `weights=MobileNet_V3_Large_Weights.IMAGENET1K_V1`. You can also use `weights=MobileNet_V3_Large_Weights.DEFAULT` to get the most up-to-date weights.\n",
      "  warnings.warn(msg)\n"
     ]
    },
    {
     "name": "stdout",
     "output_type": "stream",
     "text": [
      "Unfreeze semua\n"
     ]
    },
    {
     "name": "stderr",
     "output_type": "stream",
     "text": [
      "Epoch 1/1000: 100%|█████████████████████████████████████████| 422/422 [09:15<00:00,  1.32s/it, Loss=1.4365, Acc=0.4455]\n"
     ]
    },
    {
     "name": "stdout",
     "output_type": "stream",
     "text": [
      "Epoch 1/1000: Train Loss: 1.4365, Train Acc: 0.4455\n"
     ]
    },
    {
     "name": "stderr",
     "output_type": "stream",
     "text": [
      "Epoch 1/1000 (Validation): 100%|██████████████████████████████| 47/47 [00:10<00:00,  4.49it/s, Loss=1.2337, Acc=0.5304]\n"
     ]
    },
    {
     "name": "stdout",
     "output_type": "stream",
     "text": [
      "Epoch 1/1000: Val Loss: 1.2337, Val Acc: 0.5304, Val F1: 0.5182\n",
      "Current Learning Rate: 3e-05\n",
      "Best model saved at E://Kuliah//UPI//SEMESTER 8//coba coba//freeze\\hybrid_mobilenet_vit_freeze3_best.pt with val accuracy: 0.5304\n"
     ]
    },
    {
     "name": "stderr",
     "output_type": "stream",
     "text": [
      "Epoch 2/1000: 100%|█████████████████████████████████████████| 422/422 [09:13<00:00,  1.31s/it, Loss=1.1752, Acc=0.5582]\n"
     ]
    },
    {
     "name": "stdout",
     "output_type": "stream",
     "text": [
      "Epoch 2/1000: Train Loss: 1.1752, Train Acc: 0.5582\n"
     ]
    },
    {
     "name": "stderr",
     "output_type": "stream",
     "text": [
      "Epoch 2/1000 (Validation): 100%|██████████████████████████████| 47/47 [00:10<00:00,  4.40it/s, Loss=1.1324, Acc=0.5801]\n"
     ]
    },
    {
     "name": "stdout",
     "output_type": "stream",
     "text": [
      "Epoch 2/1000: Val Loss: 1.1324, Val Acc: 0.5801, Val F1: 0.5683\n",
      "Current Learning Rate: 3e-05\n",
      "Best model saved at E://Kuliah//UPI//SEMESTER 8//coba coba//freeze\\hybrid_mobilenet_vit_freeze3_best.pt with val accuracy: 0.5801\n"
     ]
    },
    {
     "name": "stderr",
     "output_type": "stream",
     "text": [
      "Epoch 3/1000: 100%|█████████████████████████████████████████| 422/422 [09:14<00:00,  1.31s/it, Loss=1.0761, Acc=0.5914]\n"
     ]
    },
    {
     "name": "stdout",
     "output_type": "stream",
     "text": [
      "Epoch 3/1000: Train Loss: 1.0761, Train Acc: 0.5914\n"
     ]
    },
    {
     "name": "stderr",
     "output_type": "stream",
     "text": [
      "Epoch 3/1000 (Validation): 100%|██████████████████████████████| 47/47 [00:11<00:00,  4.05it/s, Loss=1.0682, Acc=0.5954]\n"
     ]
    },
    {
     "name": "stdout",
     "output_type": "stream",
     "text": [
      "Epoch 3/1000: Val Loss: 1.0682, Val Acc: 0.5954, Val F1: 0.5751\n",
      "Current Learning Rate: 3e-05\n",
      "Best model saved at E://Kuliah//UPI//SEMESTER 8//coba coba//freeze\\hybrid_mobilenet_vit_freeze3_best.pt with val accuracy: 0.5954\n"
     ]
    },
    {
     "name": "stderr",
     "output_type": "stream",
     "text": [
      "Epoch 4/1000: 100%|█████████████████████████████████████████| 422/422 [09:15<00:00,  1.32s/it, Loss=1.0150, Acc=0.6137]\n"
     ]
    },
    {
     "name": "stdout",
     "output_type": "stream",
     "text": [
      "Epoch 4/1000: Train Loss: 1.0150, Train Acc: 0.6137\n"
     ]
    },
    {
     "name": "stderr",
     "output_type": "stream",
     "text": [
      "Epoch 4/1000 (Validation): 100%|██████████████████████████████| 47/47 [00:10<00:00,  4.59it/s, Loss=1.0291, Acc=0.6217]\n"
     ]
    },
    {
     "name": "stdout",
     "output_type": "stream",
     "text": [
      "Epoch 4/1000: Val Loss: 1.0291, Val Acc: 0.6217, Val F1: 0.6216\n",
      "Current Learning Rate: 3e-05\n",
      "Best model saved at E://Kuliah//UPI//SEMESTER 8//coba coba//freeze\\hybrid_mobilenet_vit_freeze3_best.pt with val accuracy: 0.6217\n"
     ]
    },
    {
     "name": "stderr",
     "output_type": "stream",
     "text": [
      "Epoch 5/1000: 100%|█████████████████████████████████████████| 422/422 [09:15<00:00,  1.32s/it, Loss=0.9643, Acc=0.6366]\n"
     ]
    },
    {
     "name": "stdout",
     "output_type": "stream",
     "text": [
      "Epoch 5/1000: Train Loss: 0.9643, Train Acc: 0.6366\n"
     ]
    },
    {
     "name": "stderr",
     "output_type": "stream",
     "text": [
      "Epoch 5/1000 (Validation): 100%|██████████████████████████████| 47/47 [00:10<00:00,  4.57it/s, Loss=1.0019, Acc=0.6258]\n"
     ]
    },
    {
     "name": "stdout",
     "output_type": "stream",
     "text": [
      "Epoch 5/1000: Val Loss: 1.0019, Val Acc: 0.6258, Val F1: 0.6148\n",
      "Current Learning Rate: 3e-05\n",
      "Best model saved at E://Kuliah//UPI//SEMESTER 8//coba coba//freeze\\hybrid_mobilenet_vit_freeze3_best.pt with val accuracy: 0.6258\n"
     ]
    },
    {
     "name": "stderr",
     "output_type": "stream",
     "text": [
      "Epoch 6/1000: 100%|█████████████████████████████████████████| 422/422 [09:15<00:00,  1.32s/it, Loss=0.9221, Acc=0.6508]\n"
     ]
    },
    {
     "name": "stdout",
     "output_type": "stream",
     "text": [
      "Epoch 6/1000: Train Loss: 0.9221, Train Acc: 0.6508\n"
     ]
    },
    {
     "name": "stderr",
     "output_type": "stream",
     "text": [
      "Epoch 6/1000 (Validation): 100%|██████████████████████████████| 47/47 [00:10<00:00,  4.34it/s, Loss=0.9929, Acc=0.6338]\n"
     ]
    },
    {
     "name": "stdout",
     "output_type": "stream",
     "text": [
      "Epoch 6/1000: Val Loss: 0.9929, Val Acc: 0.6338, Val F1: 0.6294\n",
      "Current Learning Rate: 3e-05\n",
      "Best model saved at E://Kuliah//UPI//SEMESTER 8//coba coba//freeze\\hybrid_mobilenet_vit_freeze3_best.pt with val accuracy: 0.6338\n"
     ]
    },
    {
     "name": "stderr",
     "output_type": "stream",
     "text": [
      "Epoch 7/1000: 100%|█████████████████████████████████████████| 422/422 [09:16<00:00,  1.32s/it, Loss=0.8882, Acc=0.6643]\n"
     ]
    },
    {
     "name": "stdout",
     "output_type": "stream",
     "text": [
      "Epoch 7/1000: Train Loss: 0.8882, Train Acc: 0.6643\n"
     ]
    },
    {
     "name": "stderr",
     "output_type": "stream",
     "text": [
      "Epoch 7/1000 (Validation): 100%|██████████████████████████████| 47/47 [00:10<00:00,  4.54it/s, Loss=0.9675, Acc=0.6441]\n"
     ]
    },
    {
     "name": "stdout",
     "output_type": "stream",
     "text": [
      "Epoch 7/1000: Val Loss: 0.9675, Val Acc: 0.6441, Val F1: 0.6410\n",
      "Current Learning Rate: 3e-05\n",
      "Best model saved at E://Kuliah//UPI//SEMESTER 8//coba coba//freeze\\hybrid_mobilenet_vit_freeze3_best.pt with val accuracy: 0.6441\n"
     ]
    },
    {
     "name": "stderr",
     "output_type": "stream",
     "text": [
      "Epoch 8/1000: 100%|█████████████████████████████████████████| 422/422 [09:18<00:00,  1.32s/it, Loss=0.8485, Acc=0.6822]\n"
     ]
    },
    {
     "name": "stdout",
     "output_type": "stream",
     "text": [
      "Epoch 8/1000: Train Loss: 0.8485, Train Acc: 0.6822\n"
     ]
    },
    {
     "name": "stderr",
     "output_type": "stream",
     "text": [
      "Epoch 8/1000 (Validation): 100%|██████████████████████████████| 47/47 [00:10<00:00,  4.68it/s, Loss=0.9960, Acc=0.6348]\n"
     ]
    },
    {
     "name": "stdout",
     "output_type": "stream",
     "text": [
      "Epoch 8/1000: Val Loss: 0.9960, Val Acc: 0.6348, Val F1: 0.6223\n",
      "Current Learning Rate: 3e-05\n"
     ]
    },
    {
     "name": "stderr",
     "output_type": "stream",
     "text": [
      "Epoch 9/1000: 100%|█████████████████████████████████████████| 422/422 [09:32<00:00,  1.36s/it, Loss=0.8146, Acc=0.6964]\n"
     ]
    },
    {
     "name": "stdout",
     "output_type": "stream",
     "text": [
      "Epoch 9/1000: Train Loss: 0.8146, Train Acc: 0.6964\n"
     ]
    },
    {
     "name": "stderr",
     "output_type": "stream",
     "text": [
      "Epoch 9/1000 (Validation): 100%|██████████████████████████████| 47/47 [00:10<00:00,  4.50it/s, Loss=0.9822, Acc=0.6528]\n"
     ]
    },
    {
     "name": "stdout",
     "output_type": "stream",
     "text": [
      "Epoch 9/1000: Val Loss: 0.9822, Val Acc: 0.6528, Val F1: 0.6431\n",
      "Current Learning Rate: 3e-05\n",
      "Best model saved at E://Kuliah//UPI//SEMESTER 8//coba coba//freeze\\hybrid_mobilenet_vit_freeze3_best.pt with val accuracy: 0.6528\n"
     ]
    },
    {
     "name": "stderr",
     "output_type": "stream",
     "text": [
      "Epoch 10/1000: 100%|████████████████████████████████████████| 422/422 [09:29<00:00,  1.35s/it, Loss=0.7790, Acc=0.7064]\n"
     ]
    },
    {
     "name": "stdout",
     "output_type": "stream",
     "text": [
      "Epoch 10/1000: Train Loss: 0.7790, Train Acc: 0.7064\n"
     ]
    },
    {
     "name": "stderr",
     "output_type": "stream",
     "text": [
      "Epoch 10/1000 (Validation): 100%|█████████████████████████████| 47/47 [00:10<00:00,  4.48it/s, Loss=0.9315, Acc=0.6568]\n"
     ]
    },
    {
     "name": "stdout",
     "output_type": "stream",
     "text": [
      "Epoch 10/1000: Val Loss: 0.9315, Val Acc: 0.6568, Val F1: 0.6566\n",
      "Current Learning Rate: 3e-05\n",
      "Best model saved at E://Kuliah//UPI//SEMESTER 8//coba coba//freeze\\hybrid_mobilenet_vit_freeze3_best.pt with val accuracy: 0.6568\n"
     ]
    },
    {
     "name": "stderr",
     "output_type": "stream",
     "text": [
      "Epoch 11/1000: 100%|████████████████████████████████████████| 422/422 [09:21<00:00,  1.33s/it, Loss=0.7429, Acc=0.7219]\n"
     ]
    },
    {
     "name": "stdout",
     "output_type": "stream",
     "text": [
      "Epoch 11/1000: Train Loss: 0.7429, Train Acc: 0.7219\n"
     ]
    },
    {
     "name": "stderr",
     "output_type": "stream",
     "text": [
      "Epoch 11/1000 (Validation): 100%|█████████████████████████████| 47/47 [00:10<00:00,  4.48it/s, Loss=0.9762, Acc=0.6584]\n"
     ]
    },
    {
     "name": "stdout",
     "output_type": "stream",
     "text": [
      "Epoch 11/1000: Val Loss: 0.9762, Val Acc: 0.6584, Val F1: 0.6492\n",
      "Current Learning Rate: 3e-05\n",
      "Best model saved at E://Kuliah//UPI//SEMESTER 8//coba coba//freeze\\hybrid_mobilenet_vit_freeze3_best.pt with val accuracy: 0.6584\n"
     ]
    },
    {
     "name": "stderr",
     "output_type": "stream",
     "text": [
      "Epoch 12/1000: 100%|████████████████████████████████████████| 422/422 [09:17<00:00,  1.32s/it, Loss=0.7091, Acc=0.7383]\n"
     ]
    },
    {
     "name": "stdout",
     "output_type": "stream",
     "text": [
      "Epoch 12/1000: Train Loss: 0.7091, Train Acc: 0.7383\n"
     ]
    },
    {
     "name": "stderr",
     "output_type": "stream",
     "text": [
      "Epoch 12/1000 (Validation): 100%|█████████████████████████████| 47/47 [00:11<00:00,  4.23it/s, Loss=1.0025, Acc=0.6494]\n"
     ]
    },
    {
     "name": "stdout",
     "output_type": "stream",
     "text": [
      "Epoch 12/1000: Val Loss: 1.0025, Val Acc: 0.6494, Val F1: 0.6410\n",
      "Current Learning Rate: 3e-05\n"
     ]
    },
    {
     "name": "stderr",
     "output_type": "stream",
     "text": [
      "Epoch 13/1000: 100%|████████████████████████████████████████| 422/422 [09:15<00:00,  1.32s/it, Loss=0.6739, Acc=0.7465]\n"
     ]
    },
    {
     "name": "stdout",
     "output_type": "stream",
     "text": [
      "Epoch 13/1000: Train Loss: 0.6739, Train Acc: 0.7465\n"
     ]
    },
    {
     "name": "stderr",
     "output_type": "stream",
     "text": [
      "Epoch 13/1000 (Validation): 100%|█████████████████████████████| 47/47 [00:10<00:00,  4.45it/s, Loss=0.9864, Acc=0.6678]\n"
     ]
    },
    {
     "name": "stdout",
     "output_type": "stream",
     "text": [
      "Epoch 13/1000: Val Loss: 0.9864, Val Acc: 0.6678, Val F1: 0.6633\n",
      "Current Learning Rate: 3e-05\n",
      "Best model saved at E://Kuliah//UPI//SEMESTER 8//coba coba//freeze\\hybrid_mobilenet_vit_freeze3_best.pt with val accuracy: 0.6678\n"
     ]
    },
    {
     "name": "stderr",
     "output_type": "stream",
     "text": [
      "Epoch 14/1000: 100%|████████████████████████████████████████| 422/422 [09:16<00:00,  1.32s/it, Loss=0.6365, Acc=0.7626]\n"
     ]
    },
    {
     "name": "stdout",
     "output_type": "stream",
     "text": [
      "Epoch 14/1000: Train Loss: 0.6365, Train Acc: 0.7626\n"
     ]
    },
    {
     "name": "stderr",
     "output_type": "stream",
     "text": [
      "Epoch 14/1000 (Validation): 100%|█████████████████████████████| 47/47 [00:11<00:00,  4.23it/s, Loss=0.9923, Acc=0.6628]\n"
     ]
    },
    {
     "name": "stdout",
     "output_type": "stream",
     "text": [
      "Epoch 14/1000: Val Loss: 0.9923, Val Acc: 0.6628, Val F1: 0.6566\n",
      "Current Learning Rate: 3e-05\n"
     ]
    },
    {
     "name": "stderr",
     "output_type": "stream",
     "text": [
      "Epoch 15/1000: 100%|████████████████████████████████████████| 422/422 [09:38<00:00,  1.37s/it, Loss=0.5978, Acc=0.7772]\n"
     ]
    },
    {
     "name": "stdout",
     "output_type": "stream",
     "text": [
      "Epoch 15/1000: Train Loss: 0.5978, Train Acc: 0.7772\n"
     ]
    },
    {
     "name": "stderr",
     "output_type": "stream",
     "text": [
      "Epoch 15/1000 (Validation): 100%|█████████████████████████████| 47/47 [00:17<00:00,  2.73it/s, Loss=1.0445, Acc=0.6644]\n"
     ]
    },
    {
     "name": "stdout",
     "output_type": "stream",
     "text": [
      "Epoch 15/1000: Val Loss: 1.0445, Val Acc: 0.6644, Val F1: 0.6576\n",
      "Current Learning Rate: 3e-05\n"
     ]
    },
    {
     "name": "stderr",
     "output_type": "stream",
     "text": [
      "Epoch 16/1000: 100%|████████████████████████████████████████| 422/422 [09:34<00:00,  1.36s/it, Loss=0.5639, Acc=0.7894]\n"
     ]
    },
    {
     "name": "stdout",
     "output_type": "stream",
     "text": [
      "Epoch 16/1000: Train Loss: 0.5639, Train Acc: 0.7894\n"
     ]
    },
    {
     "name": "stderr",
     "output_type": "stream",
     "text": [
      "Epoch 16/1000 (Validation): 100%|█████████████████████████████| 47/47 [00:10<00:00,  4.31it/s, Loss=1.0423, Acc=0.6611]\n"
     ]
    },
    {
     "name": "stdout",
     "output_type": "stream",
     "text": [
      "Epoch 16/1000: Val Loss: 1.0423, Val Acc: 0.6611, Val F1: 0.6565\n",
      "Current Learning Rate: 3e-06\n"
     ]
    },
    {
     "name": "stderr",
     "output_type": "stream",
     "text": [
      "Epoch 17/1000: 100%|████████████████████████████████████████| 422/422 [09:23<00:00,  1.34s/it, Loss=0.4634, Acc=0.8311]\n"
     ]
    },
    {
     "name": "stdout",
     "output_type": "stream",
     "text": [
      "Epoch 17/1000: Train Loss: 0.4634, Train Acc: 0.8311\n"
     ]
    },
    {
     "name": "stderr",
     "output_type": "stream",
     "text": [
      "Epoch 17/1000 (Validation): 100%|█████████████████████████████| 47/47 [00:10<00:00,  4.67it/s, Loss=1.0809, Acc=0.6698]\n"
     ]
    },
    {
     "name": "stdout",
     "output_type": "stream",
     "text": [
      "Epoch 17/1000: Val Loss: 1.0809, Val Acc: 0.6698, Val F1: 0.6671\n",
      "Current Learning Rate: 3e-06\n",
      "Best model saved at E://Kuliah//UPI//SEMESTER 8//coba coba//freeze\\hybrid_mobilenet_vit_freeze3_best.pt with val accuracy: 0.6698\n"
     ]
    },
    {
     "name": "stderr",
     "output_type": "stream",
     "text": [
      "Epoch 18/1000: 100%|████████████████████████████████████████| 422/422 [10:13<00:00,  1.45s/it, Loss=0.4413, Acc=0.8390]\n"
     ]
    },
    {
     "name": "stdout",
     "output_type": "stream",
     "text": [
      "Epoch 18/1000: Train Loss: 0.4413, Train Acc: 0.8390\n"
     ]
    },
    {
     "name": "stderr",
     "output_type": "stream",
     "text": [
      "Epoch 18/1000 (Validation): 100%|█████████████████████████████| 47/47 [00:11<00:00,  4.01it/s, Loss=1.0961, Acc=0.6664]\n"
     ]
    },
    {
     "name": "stdout",
     "output_type": "stream",
     "text": [
      "Epoch 18/1000: Val Loss: 1.0961, Val Acc: 0.6664, Val F1: 0.6644\n",
      "Current Learning Rate: 3e-06\n"
     ]
    },
    {
     "name": "stderr",
     "output_type": "stream",
     "text": [
      "Epoch 19/1000: 100%|████████████████████████████████████████| 422/422 [10:40<00:00,  1.52s/it, Loss=0.4220, Acc=0.8454]\n"
     ]
    },
    {
     "name": "stdout",
     "output_type": "stream",
     "text": [
      "Epoch 19/1000: Train Loss: 0.4220, Train Acc: 0.8454\n"
     ]
    },
    {
     "name": "stderr",
     "output_type": "stream",
     "text": [
      "Epoch 19/1000 (Validation): 100%|█████████████████████████████| 47/47 [00:10<00:00,  4.39it/s, Loss=1.1083, Acc=0.6641]\n"
     ]
    },
    {
     "name": "stdout",
     "output_type": "stream",
     "text": [
      "Epoch 19/1000: Val Loss: 1.1083, Val Acc: 0.6641, Val F1: 0.6623\n",
      "Current Learning Rate: 3e-06\n"
     ]
    },
    {
     "name": "stderr",
     "output_type": "stream",
     "text": [
      "Epoch 20/1000: 100%|████████████████████████████████████████| 422/422 [10:54<00:00,  1.55s/it, Loss=0.4212, Acc=0.8478]\n"
     ]
    },
    {
     "name": "stdout",
     "output_type": "stream",
     "text": [
      "Epoch 20/1000: Train Loss: 0.4212, Train Acc: 0.8478\n"
     ]
    },
    {
     "name": "stderr",
     "output_type": "stream",
     "text": [
      "Epoch 20/1000 (Validation): 100%|█████████████████████████████| 47/47 [00:11<00:00,  3.92it/s, Loss=1.1016, Acc=0.6674]\n"
     ]
    },
    {
     "name": "stdout",
     "output_type": "stream",
     "text": [
      "Epoch 20/1000: Val Loss: 1.1016, Val Acc: 0.6674, Val F1: 0.6642\n",
      "Current Learning Rate: 3e-06\n",
      "Early stopping triggered at epoch 20!\n"
     ]
    },
    {
     "name": "stderr",
     "output_type": "stream",
     "text": [
      "C:\\Users\\MoKha\\anaconda3\\lib\\site-packages\\torchvision\\models\\_utils.py:208: UserWarning: The parameter 'pretrained' is deprecated since 0.13 and may be removed in the future, please use 'weights' instead.\n",
      "  warnings.warn(\n",
      "C:\\Users\\MoKha\\anaconda3\\lib\\site-packages\\torchvision\\models\\_utils.py:223: UserWarning: Arguments other than a weight enum or `None` for 'weights' are deprecated since 0.13 and may be removed in the future. The current behavior is equivalent to passing `weights=MobileNet_V3_Large_Weights.IMAGENET1K_V1`. You can also use `weights=MobileNet_V3_Large_Weights.DEFAULT` to get the most up-to-date weights.\n",
      "  warnings.warn(msg)\n",
      "C:\\Users\\MoKha\\AppData\\Local\\Temp\\ipykernel_25824\\38960060.py:645: FutureWarning: You are using `torch.load` with `weights_only=False` (the current default value), which uses the default pickle module implicitly. It is possible to construct malicious pickle data which will execute arbitrary code during unpickling (See https://github.com/pytorch/pytorch/blob/main/SECURITY.md#untrusted-models for more details). In a future release, the default value for `weights_only` will be flipped to `True`. This limits the functions that could be executed during unpickling. Arbitrary objects will no longer be allowed to be loaded via this mode unless they are explicitly allowlisted by the user via `torch.serialization.add_safe_globals`. We recommend you start setting `weights_only=True` for any use case where you don't have full control of the loaded file. Please open an issue on GitHub for any issues related to this experimental feature.\n",
      "  checkpoint = torch.load(f\"E://Kuliah//UPI//SEMESTER 8//coba coba//freeze//hybrid_mobilenet_vit_freeze{i}_best.pt\")\n",
      "Testing: 100%|████████████████████████████████████████████████| 53/53 [00:13<00:00,  3.89it/s, Loss=1.0289, Acc=0.6761]\n"
     ]
    },
    {
     "name": "stdout",
     "output_type": "stream",
     "text": [
      "Test Loss: 1.0289, Test Acc: 0.6761,Test F1: 0.6724\n",
      "\n",
      "Per-Class Accuracy:\n",
      "Class 0: 0.5175\n",
      "Class 1: 0.4444\n",
      "Class 2: 0.4395\n",
      "Class 3: 0.8865\n",
      "Class 4: 0.6278\n",
      "Class 5: 0.7714\n",
      "Class 6: 0.6908\n",
      "\n",
      "Classification Report:\n",
      "              precision    recall  f1-score   support\n",
      "\n",
      "     Class 0       0.62      0.52      0.56       458\n",
      "     Class 1       0.83      0.44      0.58        45\n",
      "     Class 2       0.54      0.44      0.48       471\n",
      "     Class 3       0.86      0.89      0.87       872\n",
      "     Class 4       0.55      0.63      0.58       575\n",
      "     Class 5       0.74      0.77      0.76       315\n",
      "     Class 6       0.63      0.69      0.66       595\n",
      "\n",
      "    accuracy                           0.68      3331\n",
      "   macro avg       0.68      0.63      0.64      3331\n",
      "weighted avg       0.67      0.68      0.67      3331\n",
      "\n"
     ]
    },
    {
     "data": {
      "image/png": "[encoded data removed]",
      "text/plain": [
       "<Figure size 720x576 with 2 Axes>"
      ]
     },
     "metadata": {
      "needs_background": "light"
     },
     "output_type": "display_data"
    }
   ],
   "source": [
    "import numpy as np\n",
    "import pandas as pd\n",
    "import torch\n",
    "from torch.utils.data import Dataset, DataLoader\n",
    "from torchvision import transforms\n",
    "from PIL import Image\n",
    "import matplotlib.pyplot as plt\n",
    "from sklearn.model_selection import train_test_split\n",
    "from sklearn.metrics import classification_report, confusion_matrix\n",
    "import torch.optim as optim\n",
    "from torch.optim.lr_scheduler import ReduceLROnPlateau\n",
    "import os\n",
    "from tqdm import tqdm\n",
    "from sklearn.metrics import f1_score\n",
    "import random\n",
    "from torch import nn\n",
    "import seaborn as sns\n",
    "import torch.nn.functional as F\n",
    "from torchvision.models import mobilenet_v3_large\n",
    "from sklearn_extra.cluster import KMedoids\n",
    "import gc\n",
    "\n",
    "# Constants\n",
    "SEED = 123\n",
    "IMG_SIZE = 224\n",
    "BATCH_SIZE = 64\n",
    "LEARNING_RATE = 3e-5\n",
    "EPOCHS = 1000\n",
    "NUM_CLASSES = 7\n",
    "DEVICE = torch.device(\"cuda\" if torch.cuda.is_available() else \"cpu\")\n",
    "\n",
    "def set_seed():\n",
    "    # Set random seeds for reproducibility\n",
    "    torch.manual_seed(SEED)\n",
    "    torch.cuda.manual_seed(SEED)\n",
    "    torch.cuda.manual_seed_all(SEED)\n",
    "    random.seed(SEED)\n",
    "    np.random.seed(SEED)\n",
    "    torch.backends.cudnn.deterministic = True\n",
    "    torch.backends.cudnn.benchmark = False\n",
    "\n",
    "class FERDataset(Dataset):\n",
    "    def __init__(self, dataframe, transform=None):\n",
    "        self.dataframe = dataframe\n",
    "        self.transform = transform\n",
    "\n",
    "        # Ekstrak label dan piksel\n",
    "        self.labels = self.dataframe['emotion'].values\n",
    "        self.pixels = self.dataframe['pixels'].apply(self.string_to_image).values\n",
    "\n",
    "    def string_to_image(self, pixels_string):\n",
    "        # Konversi string piksel menjadi numpy array dan reshape ke 48x48\n",
    "        pixels = np.array(pixels_string.split(), dtype='float32')\n",
    "        image = pixels.reshape(48, 48)\n",
    "        image = np.expand_dims(image, axis=-1)  # Tambahkan channel dimensi\n",
    "        return image\n",
    "\n",
    "    def __len__(self):\n",
    "        return len(self.dataframe)\n",
    "\n",
    "    def __getitem__(self, idx):\n",
    "        image = self.pixels[idx]\n",
    "        label = self.labels[idx]\n",
    "        \n",
    "        image = Image.fromarray(image.squeeze().astype('uint8'), mode='L')\n",
    "\n",
    "        # Jika ada transformasi, terapkan ke image\n",
    "        if self.transform:\n",
    "            image = self.transform(image)\n",
    "\n",
    "        return image, label\n",
    "    \n",
    "def create_transforms():\n",
    "    # Create transform pipeline manually\n",
    "    train_transforms = transforms.Compose([\n",
    "        transforms.Grayscale(num_output_channels=3),\n",
    "        transforms.Resize((IMG_SIZE, IMG_SIZE)),\n",
    "        transforms.RandomHorizontalFlip(),  # Randomly flip horizontally\n",
    "        transforms.RandomRotation(10),     # Randomly rotate by 10 degrees\n",
    "        transforms.RandomResizedCrop(\n",
    "            size=IMG_SIZE,  # Output size\n",
    "            scale=(0.8, 1.0)  # Range of the random crop size relative to the input size\n",
    "        ),\n",
    "        transforms.ColorJitter(brightness=0.2, contrast=0.2),  # Adjust brightness\n",
    "        transforms.ToTensor(),\n",
    "        transforms.RandomErasing(p=0.3, scale=(0.02, 0.1)),\n",
    "        transforms.Normalize(mean=[0.5, 0.5, 0.5], std=[0.5, 0.5, 0.5]),\n",
    "    ]) \n",
    "\n",
    "    # Create transform pipeline manually\n",
    "    test_transforms = transforms.Compose([\n",
    "        transforms.Grayscale(num_output_channels=3),\n",
    "        transforms.Resize((IMG_SIZE, IMG_SIZE)),\n",
    "        transforms.ToTensor(),\n",
    "        transforms.Normalize(mean=[0.5, 0.5, 0.5], std=[0.5, 0.5, 0.5]),\n",
    "    ])\n",
    "    return train_transforms, test_transforms\n",
    "\n",
    "def load_and_split_data(data_path):\n",
    "    data = pd.read_csv(data_path)\n",
    "    data_train, data_test = train_test_split(data, test_size=0.1, stratify=data['emotion'], random_state=SEED)\n",
    "    data_train, data_val = train_test_split(data_train, test_size=0.1, stratify=data_train['emotion'], random_state=SEED)\n",
    "    return data_train, data_val, data_test\n",
    "\n",
    "def create_datasets(data_train, data_val, data_test, train_transforms, test_transforms):\n",
    "    train_dataset = FERDataset(data_train, transform=train_transforms)\n",
    "    val_dataset = FERDataset(data_val, transform=test_transforms)\n",
    "    test_dataset = FERDataset(data_test, transform=test_transforms)\n",
    "    return train_dataset, val_dataset, test_dataset\n",
    "\n",
    "def create_dataloaders(train_dataset, val_dataset, test_dataset):\n",
    "    train_loader = DataLoader(train_dataset, batch_size=BATCH_SIZE, shuffle=True,\n",
    "                             generator=torch.Generator().manual_seed(SEED))\n",
    "    val_loader = DataLoader(val_dataset, batch_size=BATCH_SIZE, shuffle=False, \n",
    "                           generator=torch.Generator().manual_seed(SEED))\n",
    "    test_loader = DataLoader(test_dataset, batch_size=BATCH_SIZE, shuffle=False, \n",
    "                            generator=torch.Generator().manual_seed(SEED))\n",
    "    return train_loader, val_loader, test_loader\n",
    "\n",
    "class TokenPooling(nn.Module):\n",
    "    def __init__(self, keep_tokens: int, use_weighted: bool = True):\n",
    "        \"\"\"\n",
    "        Token Pooling GPU-only: approximate clustering via top-k token selection.\n",
    "\n",
    "        Args:\n",
    "            keep_tokens (int): Jumlah token yang ingin dipertahankan (tanpa CLS).\n",
    "            use_weighted (bool): Gunakan skor penting token untuk seleksi top-k.\n",
    "        \"\"\"\n",
    "        super().__init__()\n",
    "        self.keep_tokens = keep_tokens\n",
    "        self.use_weighted = use_weighted\n",
    "\n",
    "    def forward(self, x: torch.Tensor, significance: torch.Tensor = None) -> torch.Tensor:\n",
    "        \"\"\"\n",
    "        Args:\n",
    "            x (torch.Tensor): Input shape (B, N+1, D), token + CLS\n",
    "            significance (torch.Tensor, optional): Skor penting token (B, N), tanpa CLS.\n",
    "\n",
    "        Returns:\n",
    "            torch.Tensor: Output shape (B, keep_tokens + 1, D)\n",
    "        \"\"\"\n",
    "        B, N_plus_1, D = x.shape\n",
    "        cls_token, tokens = x[:, :1, :], x[:, 1:, :]  # (B, 1, D), (B, N, D)\n",
    "\n",
    "        if self.keep_tokens >= tokens.shape[1]:\n",
    "            return x  # tidak perlu pooling\n",
    "\n",
    "        if self.use_weighted:\n",
    "            if significance is None:\n",
    "                # fallback: L2 norm tiap token sebagai skor\n",
    "                significance = torch.norm(tokens, dim=-1)  # (B, N)\n",
    "        else:\n",
    "            significance = torch.ones(tokens.shape[:2], device=x.device)\n",
    "\n",
    "        # Ambil top-k token berdasarkan skor\n",
    "        topk_scores, topk_indices = torch.topk(significance, self.keep_tokens, dim=1)  # (B, K)\n",
    "\n",
    "        # Ambil token berdasarkan indeks top-k\n",
    "        B_idx = torch.arange(B, device=x.device).unsqueeze(1).expand(-1, self.keep_tokens)  # (B, K)\n",
    "        pooled_tokens = tokens[B_idx, topk_indices]  # (B, K, D)\n",
    "\n",
    "        return torch.cat([cls_token, pooled_tokens], dim=1)  # (B, K+1, D)\n",
    "\n",
    "class MultiheadSelfAttentionBlock(nn.Module):\n",
    "    def __init__(self,\n",
    "                 embedding_dim:int=768,\n",
    "                 num_heads:int=12,\n",
    "                 attn_dropout:float=0.):\n",
    "        super().__init__()\n",
    "        self.multihead_attn = nn.MultiheadAttention(embed_dim=embedding_dim,\n",
    "                                                    num_heads=num_heads,\n",
    "                                                    dropout=attn_dropout,\n",
    "                                                    batch_first=True)\n",
    "        self.attn_weights = None\n",
    "    def forward(self, x):\n",
    "        attn_output, attn_weights = self.multihead_attn(query=x,\n",
    "                                             key=x,\n",
    "                                             value=x,\n",
    "                                             need_weights=True,\n",
    "                                             average_attn_weights=False)\n",
    "        self.attn_weights = attn_weights\n",
    "        return attn_output, attn_weights\n",
    "    \n",
    "class MLPBlock(nn.Module):\n",
    "    def __init__(self,\n",
    "                 embedding_dim:int=768,\n",
    "                 mlp_size:int=3072,\n",
    "                 dropout:float=0.):\n",
    "        super().__init__()\n",
    "        self.mlp = nn.Sequential(\n",
    "            nn.Linear(in_features=embedding_dim,\n",
    "                      out_features=mlp_size),\n",
    "            nn.GELU(),\n",
    "            nn.Dropout(p=dropout),\n",
    "            nn.Linear(in_features=mlp_size,\n",
    "                      out_features=embedding_dim),\n",
    "            nn.Dropout(p=dropout)\n",
    "        )\n",
    "    def forward(self, x):\n",
    "        x = self.mlp(x)\n",
    "        return x\n",
    "\n",
    "class TransformerEncoderBlock(nn.Module):\n",
    "    def __init__(self,\n",
    "                 embedding_dim:int=768,\n",
    "                 num_heads:int=12,\n",
    "                 mlp_size:int=3072,\n",
    "                 mlp_dropout:float=0.,\n",
    "                 attn_dropout:float=0.):\n",
    "        super().__init__()\n",
    "        self.layer_norm1 = nn.LayerNorm(normalized_shape=embedding_dim, eps=1e-6)\n",
    "        \n",
    "        self.msa_block = MultiheadSelfAttentionBlock(embedding_dim=embedding_dim,\n",
    "                                                     num_heads=num_heads,\n",
    "                                                     attn_dropout=attn_dropout)\n",
    "        \n",
    "        self.layer_norm2 = nn.LayerNorm(normalized_shape=embedding_dim, eps=1e-6)\n",
    "        \n",
    "        self.mlp_block =  MLPBlock(embedding_dim=embedding_dim,\n",
    "                                   mlp_size=mlp_size,\n",
    "                                   dropout=mlp_dropout)\n",
    "    def forward(self, x):\n",
    "        x_attn, attn_weights = self.msa_block(self.layer_norm1(x))\n",
    "        x = x_attn + x\n",
    "        \n",
    "        x = self.mlp_block(self.layer_norm2(x)) + x \n",
    "        \n",
    "        return x, attn_weights\n",
    "\n",
    "class ViTMobilenet(nn.Module):\n",
    "    def __init__(self,\n",
    "                 img_size:int=224, # Training resolution from Table 3 in ViT paper\n",
    "                 in_channels:int=3, # Number of channels in input image\n",
    "                 patch_size:int=16, # Patch size\n",
    "                 num_transformer_layers:int=12, # Layers from Table 1 for ViT-Base\n",
    "                 embedding_dim:int=768, # Hidden size D from Table 1 for ViT-Base\n",
    "                 mlp_size:int=3072, # MLP size from Table 1 for ViT-Base\n",
    "                 num_heads:int=12, # Heads from Table 1 for ViT-Base\n",
    "                 attn_dropout:float=0., # Dropout for attention projection\n",
    "                 mlp_dropout:float=0., # Dropout for dense/MLP layers \n",
    "                 embedding_dropout:float=0., # Dropout for patch and position embeddings\n",
    "                 num_classes:int=1000): # Default for ImageNet but can customize this\n",
    "        super().__init__()\n",
    "         \n",
    "        assert img_size % 32 == 0, f\"Image size must be divisible by 32, image size: {img_size}\"\n",
    "        \n",
    "        self.mobilenet = mobilenet_v3_large(pretrained=True).features\n",
    "        \n",
    "        self.projection = nn.Conv2d(in_channels=960, \n",
    "                                    out_channels=embedding_dim,\n",
    "                                    kernel_size=1)\n",
    "                 \n",
    "        self.class_embedding = nn.Parameter(data=torch.randn(1, 1, embedding_dim),\n",
    "                                            requires_grad=True)\n",
    "\n",
    "        self.num_patches = (img_size // 32) ** 2  # MobileNet reduces spatial size by 32x\n",
    "        \n",
    "        self.position_embedding = nn.Parameter(data=torch.randn(1, self.num_patches+1, embedding_dim),\n",
    "                                               requires_grad=True)\n",
    "                \n",
    "        self.embedding_dropout = nn.Dropout(p=embedding_dropout)\n",
    "        \n",
    "        self.transformer_encoder = nn.Sequential(*[TransformerEncoderBlock(embedding_dim=embedding_dim,\n",
    "                                                                            num_heads=num_heads,\n",
    "                                                                            mlp_size=mlp_size,\n",
    "                                                                            mlp_dropout=mlp_dropout) for _ in range(num_transformer_layers)])\n",
    "        \n",
    "        self.keep_tokens = [49, 35, 35, 35, 26, 26, 20, 20, 20, 12, 12, 12]\n",
    "        # Tambahkan TokenPooling per layer (jumlah token disesuaikan)\n",
    "        self.token_pools = nn.ModuleList([\n",
    "            TokenPooling(keep_tokens=k, use_weighted=True) for k in self.keep_tokens\n",
    "        ])\n",
    "       \n",
    "        self.norm = nn.LayerNorm(normalized_shape=embedding_dim, eps=1e-6)\n",
    "        self.head = nn.Linear(in_features=embedding_dim, out_features=num_classes)\n",
    "    \n",
    "    def forward(self, pixel_values, labels=None):\n",
    "        \n",
    "        batch_size = pixel_values.shape[0]\n",
    "\n",
    "        # Extract features using MobileNet\n",
    "        features = self.mobilenet(pixel_values)  # Output shape: (batch_size, 1280, H', W')\n",
    "        features = self.projection(features)  # Project to embedding_dim: (batch_size, embedding_dim, H', W')\n",
    "\n",
    "        # Flatten the feature maps into a sequence of tokens\n",
    "        features = features.flatten(2).transpose(1, 2)  # Shape: (batch_size, num_patches, embedding_dim)\n",
    "        \n",
    "        class_token = self.class_embedding.expand(batch_size, -1, -1)\n",
    "\n",
    "        x = torch.cat((class_token, features), dim=1)  # Shape: (batch_size, num_patches + 1, embedding_dim)\n",
    "\n",
    "        x = x + self.position_embedding\n",
    "\n",
    "        x = self.embedding_dropout(x)\n",
    "        \n",
    "        significance_scores = []\n",
    "\n",
    "        for i, block in enumerate(self.transformer_encoder):\n",
    "            x, attn_weights = block(x)\n",
    "            \n",
    "            # Hitung significance score: total attention yang diterima setiap token\n",
    "            score = attn_weights.sum(dim=1).sum(dim=1)[:, 1:]  # shape: (B, N-1)\n",
    "            \n",
    "            significance_scores.append(score)\n",
    "            \n",
    "            if self.token_pools[i].keep_tokens > 0:\n",
    "                x = self.token_pools[i](x, significance=score)\n",
    "            else:\n",
    "                x = x[:, :1, :]  # hanya CLS token\n",
    "\n",
    "        x = self.norm(x)\n",
    "        \n",
    "        cls_token_final = x[:, 0]\n",
    "\n",
    "        logits = self.head(cls_token_final)\n",
    "\n",
    "        return logits\n",
    "\n",
    "class EarlyStopping:\n",
    "    def __init__(self, patience=10, min_delta=0):\n",
    "        self.patience = patience\n",
    "        self.min_delta = min_delta\n",
    "        self.best_loss = float('inf')\n",
    "        self.epochs_no_improve = 0\n",
    "        self.early_stop = False\n",
    "\n",
    "    def __call__(self, val_loss):\n",
    "        if val_loss < self.best_loss - self.min_delta:\n",
    "            self.best_loss = val_loss\n",
    "            self.epochs_no_improve = 0\n",
    "        else:\n",
    "            self.epochs_no_improve += 1\n",
    "\n",
    "        if self.epochs_no_improve >= self.patience:\n",
    "            self.early_stop = True\n",
    "\n",
    "        return self.early_stop\n",
    "    \n",
    "    \n",
    "def train_model(model, train_loader, val_loader, idx):\n",
    "    # Initialize training utilities\n",
    "    optimizer = optim.AdamW(model.parameters(), lr=LEARNING_RATE)\n",
    "    criterion = nn.CrossEntropyLoss()\n",
    "    scheduler = ReduceLROnPlateau(optimizer, mode='min', factor=0.1, patience=5)\n",
    "    early_stopping = EarlyStopping(patience=10, min_delta=0)\n",
    "\n",
    "    # Define path\n",
    "    SAVE_PATH = \"E://Kuliah//UPI//SEMESTER 8//coba coba//freeze\"\n",
    "    os.makedirs(SAVE_PATH, exist_ok=True)\n",
    "\n",
    "    # Initialize lists to store training and validation metrics\n",
    "    train_losses = []\n",
    "    val_losses = []\n",
    "    train_accuracies = []\n",
    "    val_accuracies = []\n",
    "\n",
    "    # Initialize the best metric for model saving\n",
    "    best_val_accuracy = -float('inf')\n",
    "\n",
    "    for epoch in range(EPOCHS):\n",
    "        model.train()\n",
    "        train_loss = 0.0\n",
    "        correct = 0\n",
    "        total = 0\n",
    "\n",
    "        # Training\n",
    "        pbar = tqdm(train_loader, desc=f\"Epoch {epoch + 1}/{EPOCHS}\")\n",
    "        for batch_idx, (inputs, targets) in enumerate(pbar):\n",
    "            inputs, targets = inputs.to(DEVICE), targets.to(DEVICE)\n",
    "\n",
    "            # Zero the gradients\n",
    "            optimizer.zero_grad()\n",
    "\n",
    "            # Forward pass\n",
    "            outputs = model(inputs)\n",
    "            loss = criterion(outputs, targets)\n",
    "\n",
    "            # Backward pass and optimize\n",
    "            loss.backward()\n",
    "            optimizer.step()\n",
    "\n",
    "            # Update statistics\n",
    "            train_loss += loss.item()\n",
    "            _, predicted = outputs.max(1)\n",
    "            total += targets.size(0)\n",
    "            correct += predicted.eq(targets).sum().item()\n",
    "\n",
    "            # Update progress bar\n",
    "            pbar.set_postfix({\n",
    "                \"Loss\": f\"{train_loss / (batch_idx + 1):.4f}\",\n",
    "                \"Acc\": f\"{correct / total:.4f}\"\n",
    "            })\n",
    "\n",
    "        # Calculate training accuracy and loss\n",
    "        train_accuracy = correct / total\n",
    "        avg_train_loss = train_loss / len(train_loader)\n",
    "        train_losses.append(avg_train_loss)\n",
    "        train_accuracies.append(train_accuracy)\n",
    "\n",
    "        # Print training summary\n",
    "        print(f\"Epoch {epoch + 1}/{EPOCHS}: \"\n",
    "              f\"Train Loss: {avg_train_loss:.4f}, \"\n",
    "              f\"Train Acc: {train_accuracy:.4f}\")\n",
    "\n",
    "        # Validation\n",
    "        model.eval()\n",
    "        val_loss = 0.0\n",
    "        val_correct = 0\n",
    "        val_total = 0\n",
    "        all_targets = []\n",
    "        all_predicted = []\n",
    "\n",
    "        with torch.no_grad():  # Disable gradient computation\n",
    "            pbar = tqdm(val_loader, desc=f\"Epoch {epoch + 1}/{EPOCHS} (Validation)\")\n",
    "            for batch_idx, (inputs, targets) in enumerate(pbar):\n",
    "                inputs, targets = inputs.to(DEVICE), targets.to(DEVICE)\n",
    "\n",
    "                # Forward pass\n",
    "                outputs = model(inputs)\n",
    "                loss = criterion(outputs, targets)\n",
    "\n",
    "                # Update statistics\n",
    "                val_loss += loss.item()\n",
    "                _, predicted = outputs.max(1)\n",
    "                val_total += targets.size(0)\n",
    "                val_correct += predicted.eq(targets).sum().item()\n",
    "\n",
    "                # Collect all targets and predictions for F1-score\n",
    "                all_targets.extend(targets.cpu().numpy())\n",
    "                all_predicted.extend(predicted.cpu().numpy())\n",
    "\n",
    "                # Update progress bar\n",
    "                pbar.set_postfix({\n",
    "                    \"Loss\": f\"{val_loss / (batch_idx + 1):.4f}\",\n",
    "                    \"Acc\": f\"{val_correct / val_total:.4f}\"\n",
    "                })\n",
    "\n",
    "        # Calculate validation accuracy, loss, and F1-score\n",
    "        val_accuracy = val_correct / val_total\n",
    "        avg_val_loss = val_loss / len(val_loader)\n",
    "        val_f1 = f1_score(all_targets, all_predicted, average=\"weighted\")\n",
    "        val_losses.append(avg_val_loss)\n",
    "        val_accuracies.append(val_accuracy)\n",
    "\n",
    "        # Print validation summary\n",
    "        print(f\"Epoch {epoch + 1}/{EPOCHS}: \"\n",
    "              f\"Val Loss: {avg_val_loss:.4f}, \"\n",
    "              f\"Val Acc: {val_accuracy:.4f}, \"\n",
    "              f\"Val F1: {val_f1:.4f}\")\n",
    "\n",
    "        # Step the learning rate scheduler based on validation loss\n",
    "        scheduler.step(avg_val_loss)\n",
    "\n",
    "        # Print the current learning rate\n",
    "        current_lr = optimizer.param_groups[0]['lr']\n",
    "        print(f\"Current Learning Rate: {current_lr}\")\n",
    "\n",
    "        # Save the best model based on validation accuracy\n",
    "        if val_accuracy > best_val_accuracy:\n",
    "            best_val_accuracy = val_accuracy\n",
    "            model_path = os.path.join(SAVE_PATH, f\"hybrid_mobilenet_vit_freeze{idx}_best.pt\")\n",
    "            torch.save({\n",
    "                \"model_state_dict\": model.state_dict()\n",
    "            }, model_path)\n",
    "    #         torch.save(model.state_dict(), model_path)\n",
    "            print(f\"Best model saved at {model_path} with val accuracy: {best_val_accuracy:.4f}\")\n",
    "\n",
    "        # Save loss and accuracy plots\n",
    "        plt.figure(figsize=(10, 5))\n",
    "        plt.plot(range(1, len(train_losses) + 1), train_losses, label=\"Training Loss\", marker='o')\n",
    "        plt.plot(range(1, len(val_losses) + 1), val_losses, label=\"Validation Loss\", marker='o')\n",
    "        plt.title(\"Loss per Epoch\")\n",
    "        plt.xlabel(\"Epoch\")\n",
    "        plt.ylabel(\"Loss\")\n",
    "        plt.legend()\n",
    "        plt.grid(True)\n",
    "        loss_plot_path = os.path.join(SAVE_PATH, f\"hybrid_mobilenet_vit_freeze{idx}_loss.png\")\n",
    "        plt.savefig(loss_plot_path)\n",
    "        plt.close()\n",
    "\n",
    "        plt.figure(figsize=(10, 5))\n",
    "        plt.plot(range(1, len(train_accuracies) + 1), train_accuracies, label=\"Training Accuracy\", marker='o')\n",
    "        plt.plot(range(1, len(val_accuracies) + 1), val_accuracies, label=\"Validation Accuracy\", marker='o')\n",
    "        plt.title(\"Accuracy per Epoch\")\n",
    "        plt.xlabel(\"Epoch\")\n",
    "        plt.ylabel(\"Accuracy\")\n",
    "        plt.legend()\n",
    "        plt.grid(True)\n",
    "        accuracy_plot_path = os.path.join(SAVE_PATH, f\"hybrid_mobilenet_vit_freeze{idx}_accuracy.png\")\n",
    "        plt.savefig(accuracy_plot_path)\n",
    "        plt.close()\n",
    "        \n",
    "        if early_stopping(avg_val_loss):\n",
    "            print(f\"Early stopping triggered at epoch {epoch + 1}!\")\n",
    "            break\n",
    "    \n",
    "    # Clear GPU memory after each configuration\n",
    "    del model, optimizer, scheduler\n",
    "    torch.cuda.empty_cache()\n",
    "    gc.collect()\n",
    "\n",
    "def evaluate_model(best_model, test_loader):\n",
    "    criterion = nn.CrossEntropyLoss()\n",
    "    best_model.eval()\n",
    "    test_loss = 0.0\n",
    "    test_correct = 0\n",
    "    test_total = 0\n",
    "    all_targets = []\n",
    "    all_predicted = []\n",
    "\n",
    "    with torch.no_grad():  # Disable gradient computation\n",
    "        pbar = tqdm(test_loader, desc=\"Testing\")\n",
    "        for batch_idx, (inputs, targets) in enumerate(pbar):\n",
    "            inputs, targets = inputs.to(DEVICE), targets.to(DEVICE)\n",
    "\n",
    "            # Forward pass\n",
    "            outputs = best_model(inputs)\n",
    "            loss = criterion(outputs, targets)\n",
    "\n",
    "            # Update statistics\n",
    "            test_loss += loss.item()\n",
    "            _, predicted = outputs.max(1)\n",
    "            test_total += targets.size(0)\n",
    "            test_correct += predicted.eq(targets).sum().item()\n",
    "\n",
    "            # Collect all targets and predictions\n",
    "            all_targets.extend(targets.cpu().numpy())\n",
    "            all_predicted.extend(predicted.cpu().numpy())\n",
    "\n",
    "            # Update progress bar\n",
    "            pbar.set_postfix({\n",
    "                \"Loss\": f\"{test_loss / (batch_idx + 1):.4f}\",\n",
    "                \"Acc\": f\"{test_correct / test_total:.4f}\"\n",
    "            })\n",
    "\n",
    "    # Calculate test accuracy, loss, and F1-score\n",
    "    test_accuracy = test_correct / test_total\n",
    "    avg_test_loss = test_loss / len(test_loader)\n",
    "    test_f1 = f1_score(all_targets, all_predicted, average=\"weighted\")\n",
    "\n",
    "    # Calculate per-class accuracy\n",
    "    conf_matrix = confusion_matrix(all_targets, all_predicted)\n",
    "    per_class_accuracy = conf_matrix.diagonal() / conf_matrix.sum(axis=1)\n",
    "\n",
    "    # Calculate classification report (includes precision, recall, F1-score, and support)\n",
    "    class_report = classification_report(all_targets, all_predicted, target_names=[f\"Class {i}\" for i in range(NUM_CLASSES)])\n",
    "\n",
    "    # Print test summary\n",
    "    print(f\"Test Loss: {avg_test_loss:.4f}, \"\n",
    "          f\"Test Acc: {test_accuracy:.4f},\"\n",
    "          f\"Test F1: {test_f1:.4f}\")\n",
    "\n",
    "    # Print per-class accuracy\n",
    "    print(\"\\nPer-Class Accuracy:\")\n",
    "    for i, acc in enumerate(per_class_accuracy):\n",
    "        print(f\"Class {i}: {acc:.4f}\")\n",
    "\n",
    "    # Print classification report\n",
    "    print(\"\\nClassification Report:\")\n",
    "    print(class_report)\n",
    "    \n",
    "    normalized_conf_matrix = conf_matrix / conf_matrix.sum(axis=1, keepdims=True)\n",
    "    emotion_dict = {\n",
    "        0: \"Angry\", 1: \"Disgust\", 2: \"Fear\",\n",
    "        3: \"Happy\", 4: \"Neutral\", 5: \"Sad\", 6: \"Surprise\"\n",
    "    }\n",
    "    emotion_labels = [emotion_dict[i] for i in range(len(emotion_dict))]\n",
    "\n",
    "    plt.figure(figsize=(10, 8))\n",
    "    sns.heatmap(normalized_conf_matrix, annot=True, fmt='.2f', cmap='Blues',\n",
    "                xticklabels=emotion_labels,\n",
    "                yticklabels=emotion_labels)\n",
    "    plt.title(\"Confusion Matrix\")\n",
    "    plt.xlabel(\"Predicted Label\")\n",
    "    plt.ylabel(\"True Label\")\n",
    "    plt.tight_layout()\n",
    "    plt.show()\n",
    "    \n",
    "    # Clear GPU memory after each configuration\n",
    "    del best_model\n",
    "    torch.cuda.empty_cache()\n",
    "    gc.collect()\n",
    "\n",
    "def main():\n",
    "    set_seed()\n",
    "    print(f\"Using device: {DEVICE}\")\n",
    "    print(f\"PyTorch version: {torch.__version__}\")\n",
    "\n",
    "    # Data preparation\n",
    "    train_transforms, test_transforms = create_transforms()\n",
    "    data_train, data_val, data_test = load_and_split_data(\"E://Kuliah//UPI//SEMESTER 8//dataset skripsi//fer2013v2_clean.csv\")\n",
    "    train_dataset, val_dataset, test_dataset = create_datasets(data_train, data_val, data_test, train_transforms, test_transforms)\n",
    "    \n",
    "    train_loader, val_loader, test_loader = create_dataloaders(train_dataset, val_dataset, test_dataset)\n",
    "\n",
    "    class_names = ['Angry', 'Disgust', 'Fear', 'Happy', 'Sad', 'Surprise', 'Neutral']\n",
    "    \n",
    "    for i in range(4):\n",
    "        set_seed()\n",
    "        model = ViTMobilenet(num_classes=len(class_names), \n",
    "                    in_channels=3, \n",
    "                    num_heads=12, \n",
    "                    embedding_dim=768, \n",
    "                    num_transformer_layers=12,\n",
    "                    mlp_size=3072)\n",
    "        \n",
    "        if i == 0:\n",
    "            print(\"Freeze semua\")\n",
    "            for param in model.mobilenet.parameters():\n",
    "                param.requires_grad = False\n",
    "        if i == 1:\n",
    "            print(\"Unfreeze 6 blok terakhir\")\n",
    "            for param in model.mobilenet.parameters():\n",
    "                param.requires_grad = False\n",
    "\n",
    "            # Unfreeze 6 blok terakhir\n",
    "            for layer in [model.mobilenet[6], model.mobilenet[7], model.mobilenet[8], model.mobilenet[9], \n",
    "                          model.mobilenet[10], model.mobilenet[11], model.mobilenet[12]]:\n",
    "                for param in layer.parameters():\n",
    "                    param.requires_grad = True\n",
    "        if i == 2:\n",
    "            print(\"Unfreeze 3 blok terakhir\")\n",
    "            for param in model.mobilenet.parameters():\n",
    "                param.requires_grad = False\n",
    "\n",
    "            # Unfreeze 3 blok terakhir\n",
    "            for layer in [model.mobilenet[9], model.mobilenet[10], model.mobilenet[11], model.mobilenet[12]]:\n",
    "                for param in layer.parameters():\n",
    "                    param.requires_grad = True\n",
    "        if i == 3:\n",
    "            print(\"Unfreeze semua\")\n",
    "        \n",
    "        model.to(DEVICE)\n",
    "\n",
    "        train_model(model, train_loader, val_loader, i)\n",
    "\n",
    "        best_model = ViTMobilenet(num_classes=len(class_names), \n",
    "                         in_channels=3,  \n",
    "                         num_heads=12, \n",
    "                         embedding_dim=768, \n",
    "                         num_transformer_layers=12,\n",
    "                         mlp_size=3072)\n",
    "        best_model = best_model.to(DEVICE)\n",
    "\n",
    "        checkpoint = torch.load(f\"E://Kuliah//UPI//SEMESTER 8//coba coba//freeze//hybrid_mobilenet_vit_freeze{i}_best.pt\")\n",
    "        best_model.load_state_dict(checkpoint[\"model_state_dict\"])\n",
    "\n",
    "        evaluate_model(best_model, test_loader)\n",
    "\n",
    "if __name__ == \"__main__\":\n",
    "    main()"
   ]
  },
  {
   "cell_type": "code",
   "execution_count": null,
   "id": "e0f93fac",
   "metadata": {},
   "outputs": [],
   "source": []
  }
 ],
 "metadata": {
  "kernelspec": {
   "display_name": "Python 3 (ipykernel)",
   "language": "python",
   "name": "python3"
  },
  "language_info": {
   "codemirror_mode": {
    "name": "ipython",
    "version": 3
   },
   "file_extension": ".py",
   "mimetype": "text/x-python",
   "name": "python",
   "nbconvert_exporter": "python",
   "pygments_lexer": "ipython3",
   "version": "3.9.12"
  }
 },
 "nbformat": 4,
 "nbformat_minor": 5
}
